{
 "cells": [
  {
   "cell_type": "markdown",
   "metadata": {},
   "source": [
    "# Earnings Management: Modified Jones Model\n",
    "\n",
    "###### Author: \n",
    "\n",
    "[Varun Ganti](https://github.com/varunganti33)\n",
    "\n",
    "\n",
    "##### Note- All modifications to the Jones Model is made by the author. All credit must be given to the author"
   ]
  },
  {
   "cell_type": "markdown",
   "metadata": {},
   "source": [
    "## Table of Contents\n",
    "\n",
    "- [Problem Statement](#Problem-Statemet)\n",
    "- [Executive Summary](#Executive-Summary)\n",
    "- [Data Dictionary](#Data-Dictionary)\n",
    "- [Loading Data](#Loading-Data)\n",
    "- [Data Cleaning](#Data-Cleaning)\n",
    "- [Feature Engineering](#Feature-Engineering)\n",
    "- [EDA](#EDA)\n",
    "- [Model Preparation](#Model-Preparation)\n",
    "- [Model Selection](#Model-Selection)\n",
    "- [Model Evaluation](#Model-Selection)\n",
    "- [Conclusion](#Model-Selection)\n",
    "- [Recommendations](#Reccomendations)\n",
    "- [Resources](#Resources)\n",
    "\n"
   ]
  },
  {
   "cell_type": "markdown",
   "metadata": {},
   "source": [
    "## Problem Statement"
   ]
  },
  {
   "cell_type": "markdown",
   "metadata": {},
   "source": [
    "During election time, we see the amount of restatements on accruals go up for company, Accrual accounting is required by GAAP and companies have to spend loads of money to adapt to these standards. Our team wants to create various predictive models, such as linear regression, ridge, knn, decision trees, bagging, boosting, and random forests to predict the amount of discretionary accruals for a company, so we can plan the audit process accordingly. The metric to determine which model we deploy during our audit is R2, which will show how much our models explain the variance in the data. We chose to mirror the Jones Model is in order to predict the total net accruals for a company. This model is going to input variables from 2016 Q1-Q4 data into the regression model. After We create the model, we are going to train the model on a prior period data. After choosing the model with the highest r2, we are going to use the model to validate the model on the next period(2017 Q3).\n"
   ]
  },
  {
   "cell_type": "markdown",
   "metadata": {},
   "source": [
    "## Executive Summary\n",
    "\n",
    "Our team found that the data is readily avaliable on the SEC website with published quarterly financial statments. From our previous audit process, we hypothesized that the difference between the change in revenue and the change in recievables, and the book value of property plant and equipment variables would have the most influence over predicting total accruals. The difference of revenue and recievables will show the amount of income recieved by a company that is not based on recievables(cash). The abundance of variables, forced me to dive deeper into the data in order to find the most optimal combinations in order to find the highest scoring model. We want a high majority of the data to be explained by our model. \n",
    "\n",
    "\n",
    "EDA helped our team drastically not only set up a preprocessing plan for our model, but helped us understand the health of the data One example was that “NetCashOperating” showed up high on the correlation heat map, meaning that this variable will be useful in predicting total net accruals. For preprocessing, we chose to drop all null values with na, assuming that those values actually reperesented none of that type. Most of our eda consisted of examining the financial statmenets, and engineer features accordingly to fit our model. We decided to log all numeric columns to normalize the distributions. Furthermore, we had to create lagged variables in order to find the differences of sales and recievables from the prior quarter. On top of that, we needed to engineer our target variable based on the difference between net income and net cash from operating activities. The way companies transition from cash to accrual basis is to find the differences between assets and liabilities and either add that to cash income or subtract from accruals.  \n",
    "\n",
    "|Model|Type|Train R2|Testing R2|\n",
    "|---|---|---|---|\n",
    "|**Model 1**|*Linear*|0.947|0.547| \n",
    "\n",
    "\n",
    "Our approach to picking the best model, is by assessing the R2 Score and the cross validation score on the whole data set. We decided to deploy our linear model into the the audit process because of the ability to examine coeficients and continously improve our model. Once given more time, we can examine non cash activites such as depreciation to see how that can affect accruals"
   ]
  },
  {
   "cell_type": "markdown",
   "metadata": {},
   "source": [
    "## Data Dictionary\n",
    "\n",
    "Refer to Sec for Data Description\n",
    "\n",
    "- [Description of SEC Data](file:///Users/varunganti/Downloads/2017q1/readme.htm)"
   ]
  },
  {
   "cell_type": "markdown",
   "metadata": {},
   "source": [
    "## Loading Data"
   ]
  },
  {
   "cell_type": "code",
   "execution_count": 1,
   "metadata": {},
   "outputs": [],
   "source": [
    "import pandas as pd\n",
    "from sklearn import linear_model\n",
    "import numpy as np\n",
    "import matplotlib.pyplot as plt\n",
    "import statsmodels.api as sm\n",
    "import warnings\n",
    "warnings.filterwarnings(\"ignore\") # Shhhh\n",
    "from sklearn.linear_model import LinearRegression, Ridge, Lasso\n",
    "from sklearn.model_selection import train_test_split, cross_val_score, GridSearchCV\n",
    "from sklearn.metrics import mean_squared_error\n",
    "import seaborn as sns\n",
    "from sklearn.metrics import r2_score, mean_squared_error\n",
    "from sklearn.preprocessing import StandardScaler, PolynomialFeatures\n",
    "from math import sqrt\n",
    "from sklearn.linear_model import LinearRegression\n",
    "from sklearn.neighbors import KNeighborsRegressor\n",
    "from sklearn.tree import DecisionTreeRegressor\n",
    "from sklearn.preprocessing import StandardScaler\n",
    "from sklearn.ensemble import BaggingRegressor, RandomForestRegressor, AdaBoostRegressor\n",
    "from sklearn.metrics import mean_squared_error, f1_score\n",
    "from sklearn import svm\n",
    "from sklearn.linear_model import RidgeCV\n",
    "from sklearn.linear_model import LassoCV\n",
    "from sklearn.pipeline import Pipeline\n",
    "from sklearn.dummy import DummyRegressor\n",
    "from sklearn.preprocessing import MinMaxScaler\n",
    "RANDOM_STATE = 42\n",
    "%matplotlib inline"
   ]
  },
  {
   "cell_type": "markdown",
   "metadata": {},
   "source": [
    " SEC given Data          \n",
    "          \n",
    "          SUB – Submission data set; this includes one record for each XBRL submission. The set includes fields of information pertinent to the submission and the filing entity. Information is extracted from the SEC’s EDGAR system and the filings submitted to the SEC by registrants.\n",
    "\n",
    "    ·     NUM – Number data set; this includes one row for each distinct amount from each submission included in the SUB data set. The Number data set includes, for every submission, for each primary financial statement as it is rendered by the SEC Viewer/Previewer, all line item values.\n",
    "\n",
    "    ·     TAG – Tag data set; includes defining information about each tag.  Information includes tag descriptions (documentation labels), taxonomy version information and other tag attributes.\n",
    "\n",
    "    ·     PRE – Presentation data set; this provides information about how the tags and numbers were presented in the primary financial statements."
   ]
  },
  {
   "cell_type": "code",
   "execution_count": 4,
   "metadata": {},
   "outputs": [],
   "source": [
    "##read csv function\n",
    "\n",
    "num1 =  pd.read_csv('../data/2016q1/num.txt', sep = '\\t', encoding=\"latin-1\")\n",
    "tag1 =  pd.read_csv('../data/2016q1/tag.txt', sep = '\\t', encoding=\"latin-1\")\n",
    "pre1 =  pd.read_csv('../data/2016q1/pre.txt', sep = '\\t', encoding=\"latin-1\")\n",
    "sub1 =  pd.read_csv('../data/2016q1/sub.txt', sep = '\\t', encoding=\"latin-1\")"
   ]
  },
  {
   "cell_type": "markdown",
   "metadata": {},
   "source": [
    "## Data Cleaning"
   ]
  },
  {
   "cell_type": "markdown",
   "metadata": {},
   "source": [
    "1.SUB is identifies all the EDGAR submissions in the data set, with each row having the unique (primary) key adsh,  a 20 character EDGAR Accession Number with dashes in positions 11 and 14.\n",
    "\n",
    "2.TAG is a data set of all tags used in the submissions, both standard and custom.  A unique key of each row is a combination of these fields:\n",
    "\n",
    "     1)    tag – tag used by the filer\n",
    "\n",
    "     2)    version – if a standard tag, the taxonomy of origin, otherwise equal to adsh.\n",
    "\n",
    "\n",
    "3.NUM is a data set of all numeric XBRL facts presented on the primary financial statements. A unique key of each row is a combination of the following fields:\n",
    "\n",
    "     1)    adsh- EDGAR accession number\n",
    "\n",
    "     2)    tag – tag used by the filer\n",
    "    \n",
    "     3)    version – if a standard tag, the taxonomy of origin, otherwise equal to adsh.\n",
    "\n",
    "     4)    ddate - period end date\n",
    "\n",
    "     5)    qtrs - duration in number of quarters\n",
    "\n",
    "     6)    uom - unit of measure\n",
    "    \n",
    "     7)    coreg - coregistrant of the parent company registrant (if applicable)\n",
    "\n",
    "\n",
    "4.PRE is a data set that provides the text assigned by the filer to each line item in the primary financial statements, the order in which the line item appeared, and the tag assigned to it.  A unique key of each row is a combination of the following fields:\n",
    "\n",
    "      1)    adsh – EDGAR accession number\n",
    "\n",
    "      2)    report – sequential number of report within the statements\n",
    "\n",
    "      3)    line – sequential number of line within a report.\n",
    "      \n",
    "We will merge based on the unique identifiers listed above"
   ]
  },
  {
   "cell_type": "code",
   "execution_count": 5,
   "metadata": {},
   "outputs": [],
   "source": [
    "##merge dataframes with pandas\n",
    "df_pre_sub = pd.merge(pre1, sub1, how = \"left\", on=['adsh'])   #left merge\n",
    "df_tag = pd.merge(df_pre_sub, tag1, how= \"left\", on =['tag', 'version'])\n",
    "df_num = pd.merge(df_tag, num1, how = \"left\", on =['adsh', 'tag', 'version'])\n",
    "sec_table2015 = df_num[['cik','adsh' , 'afs' , 'qtrs' , 'fy' , 'fp', 'tag', 'version', 'value' , 'ddate']].sort_values(['cik'])"
   ]
  },
  {
   "cell_type": "markdown",
   "metadata": {},
   "source": [
    "Create a function that can extract all the tags that are unique and want for our analysis. In this case we want net income, net cash, sales revenue, assets, accounts rec, and property plant eq. These financial tags will help us set up our equation to fit the model"
   ]
  },
  {
   "cell_type": "code",
   "execution_count": 6,
   "metadata": {},
   "outputs": [],
   "source": [
    "def get_tags(df,tag1,tag2,tag3,tag4,tag5,tag6):\n",
    "    '''\n",
    "    This function can takes in a data frame and filters out by tags. \n",
    "    This function can be modified to fit any amount of tags. For the purposes of this project we have 6 defined tags\n",
    "    for simplicity purposes\n",
    "\n",
    "    '''\n",
    "    Regression_2015 = df[(df.tag == tag1)\n",
    "                        | (df.tag == tag2)\n",
    "                        | (df.tag == tag3)\n",
    "                        | (df.tag == tag4)\n",
    "                        | (df.tag == tag5)\n",
    "                        | (df.tag == tag6)]\n",
    "    return Regression_2015"
   ]
  },
  {
   "cell_type": "code",
   "execution_count": 7,
   "metadata": {},
   "outputs": [],
   "source": [
    "##calls function get tags\n",
    "Regression_2015 = get_tags(sec_table2015,'NetIncomeLoss','NetCashProvidedByUsedInOperatingActivities','SalesRevenueNet','Assets',\n",
    "'AccountsReceivableNetCurrent','PropertyPlantAndEquipmentNet')"
   ]
  },
  {
   "cell_type": "markdown",
   "metadata": {},
   "source": [
    "Create a pivot table based on the amount of quarters to see where the values are listed"
   ]
  },
  {
   "cell_type": "code",
   "execution_count": 8,
   "metadata": {},
   "outputs": [
    {
     "data": {
      "text/html": [
       "<div>\n",
       "<style scoped>\n",
       "    .dataframe tbody tr th:only-of-type {\n",
       "        vertical-align: middle;\n",
       "    }\n",
       "\n",
       "    .dataframe tbody tr th {\n",
       "        vertical-align: top;\n",
       "    }\n",
       "\n",
       "    .dataframe thead th {\n",
       "        text-align: right;\n",
       "    }\n",
       "</style>\n",
       "<table border=\"1\" class=\"dataframe\">\n",
       "  <thead>\n",
       "    <tr style=\"text-align: right;\">\n",
       "      <th></th>\n",
       "      <th></th>\n",
       "      <th></th>\n",
       "      <th>qtrs</th>\n",
       "      <th>0.0</th>\n",
       "      <th>1.0</th>\n",
       "      <th>2.0</th>\n",
       "      <th>3.0</th>\n",
       "      <th>4.0</th>\n",
       "      <th>5.0</th>\n",
       "      <th>6.0</th>\n",
       "      <th>8.0</th>\n",
       "      <th>9.0</th>\n",
       "      <th>10.0</th>\n",
       "      <th>...</th>\n",
       "      <th>46.0</th>\n",
       "      <th>47.0</th>\n",
       "      <th>48.0</th>\n",
       "      <th>53.0</th>\n",
       "      <th>60.0</th>\n",
       "      <th>69.0</th>\n",
       "      <th>70.0</th>\n",
       "      <th>112.0</th>\n",
       "      <th>146.0</th>\n",
       "      <th>154.0</th>\n",
       "    </tr>\n",
       "    <tr>\n",
       "      <th>tag</th>\n",
       "      <th>adsh</th>\n",
       "      <th>cik</th>\n",
       "      <th>ddate</th>\n",
       "      <th></th>\n",
       "      <th></th>\n",
       "      <th></th>\n",
       "      <th></th>\n",
       "      <th></th>\n",
       "      <th></th>\n",
       "      <th></th>\n",
       "      <th></th>\n",
       "      <th></th>\n",
       "      <th></th>\n",
       "      <th></th>\n",
       "      <th></th>\n",
       "      <th></th>\n",
       "      <th></th>\n",
       "      <th></th>\n",
       "      <th></th>\n",
       "      <th></th>\n",
       "      <th></th>\n",
       "      <th></th>\n",
       "      <th></th>\n",
       "      <th></th>\n",
       "    </tr>\n",
       "  </thead>\n",
       "  <tbody>\n",
       "    <tr>\n",
       "      <th rowspan=\"5\" valign=\"top\">AccountsReceivableNetCurrent</th>\n",
       "      <th rowspan=\"2\" valign=\"top\">0000002178-16-000064</th>\n",
       "      <th rowspan=\"2\" valign=\"top\">2178</th>\n",
       "      <th>20141231.0</th>\n",
       "      <td>144434000.0</td>\n",
       "      <td>NaN</td>\n",
       "      <td>NaN</td>\n",
       "      <td>NaN</td>\n",
       "      <td>NaN</td>\n",
       "      <td>NaN</td>\n",
       "      <td>NaN</td>\n",
       "      <td>NaN</td>\n",
       "      <td>NaN</td>\n",
       "      <td>NaN</td>\n",
       "      <td>...</td>\n",
       "      <td>NaN</td>\n",
       "      <td>NaN</td>\n",
       "      <td>NaN</td>\n",
       "      <td>NaN</td>\n",
       "      <td>NaN</td>\n",
       "      <td>NaN</td>\n",
       "      <td>NaN</td>\n",
       "      <td>NaN</td>\n",
       "      <td>NaN</td>\n",
       "      <td>NaN</td>\n",
       "    </tr>\n",
       "    <tr>\n",
       "      <th>20151231.0</th>\n",
       "      <td>71813000.0</td>\n",
       "      <td>NaN</td>\n",
       "      <td>NaN</td>\n",
       "      <td>NaN</td>\n",
       "      <td>NaN</td>\n",
       "      <td>NaN</td>\n",
       "      <td>NaN</td>\n",
       "      <td>NaN</td>\n",
       "      <td>NaN</td>\n",
       "      <td>NaN</td>\n",
       "      <td>...</td>\n",
       "      <td>NaN</td>\n",
       "      <td>NaN</td>\n",
       "      <td>NaN</td>\n",
       "      <td>NaN</td>\n",
       "      <td>NaN</td>\n",
       "      <td>NaN</td>\n",
       "      <td>NaN</td>\n",
       "      <td>NaN</td>\n",
       "      <td>NaN</td>\n",
       "      <td>NaN</td>\n",
       "    </tr>\n",
       "    <tr>\n",
       "      <th rowspan=\"2\" valign=\"top\">0000002488-16-000111</th>\n",
       "      <th rowspan=\"2\" valign=\"top\">2488</th>\n",
       "      <th>20141231.0</th>\n",
       "      <td>818000000.0</td>\n",
       "      <td>NaN</td>\n",
       "      <td>NaN</td>\n",
       "      <td>NaN</td>\n",
       "      <td>NaN</td>\n",
       "      <td>NaN</td>\n",
       "      <td>NaN</td>\n",
       "      <td>NaN</td>\n",
       "      <td>NaN</td>\n",
       "      <td>NaN</td>\n",
       "      <td>...</td>\n",
       "      <td>NaN</td>\n",
       "      <td>NaN</td>\n",
       "      <td>NaN</td>\n",
       "      <td>NaN</td>\n",
       "      <td>NaN</td>\n",
       "      <td>NaN</td>\n",
       "      <td>NaN</td>\n",
       "      <td>NaN</td>\n",
       "      <td>NaN</td>\n",
       "      <td>NaN</td>\n",
       "    </tr>\n",
       "    <tr>\n",
       "      <th>20151231.0</th>\n",
       "      <td>533000000.0</td>\n",
       "      <td>NaN</td>\n",
       "      <td>NaN</td>\n",
       "      <td>NaN</td>\n",
       "      <td>NaN</td>\n",
       "      <td>NaN</td>\n",
       "      <td>NaN</td>\n",
       "      <td>NaN</td>\n",
       "      <td>NaN</td>\n",
       "      <td>NaN</td>\n",
       "      <td>...</td>\n",
       "      <td>NaN</td>\n",
       "      <td>NaN</td>\n",
       "      <td>NaN</td>\n",
       "      <td>NaN</td>\n",
       "      <td>NaN</td>\n",
       "      <td>NaN</td>\n",
       "      <td>NaN</td>\n",
       "      <td>NaN</td>\n",
       "      <td>NaN</td>\n",
       "      <td>NaN</td>\n",
       "    </tr>\n",
       "    <tr>\n",
       "      <th>0000003545-16-000130</th>\n",
       "      <th>3545</th>\n",
       "      <th>20150930.0</th>\n",
       "      <td>3137000.0</td>\n",
       "      <td>NaN</td>\n",
       "      <td>NaN</td>\n",
       "      <td>NaN</td>\n",
       "      <td>NaN</td>\n",
       "      <td>NaN</td>\n",
       "      <td>NaN</td>\n",
       "      <td>NaN</td>\n",
       "      <td>NaN</td>\n",
       "      <td>NaN</td>\n",
       "      <td>...</td>\n",
       "      <td>NaN</td>\n",
       "      <td>NaN</td>\n",
       "      <td>NaN</td>\n",
       "      <td>NaN</td>\n",
       "      <td>NaN</td>\n",
       "      <td>NaN</td>\n",
       "      <td>NaN</td>\n",
       "      <td>NaN</td>\n",
       "      <td>NaN</td>\n",
       "      <td>NaN</td>\n",
       "    </tr>\n",
       "    <tr>\n",
       "      <th>...</th>\n",
       "      <th>...</th>\n",
       "      <th>...</th>\n",
       "      <th>...</th>\n",
       "      <td>...</td>\n",
       "      <td>...</td>\n",
       "      <td>...</td>\n",
       "      <td>...</td>\n",
       "      <td>...</td>\n",
       "      <td>...</td>\n",
       "      <td>...</td>\n",
       "      <td>...</td>\n",
       "      <td>...</td>\n",
       "      <td>...</td>\n",
       "      <td>...</td>\n",
       "      <td>...</td>\n",
       "      <td>...</td>\n",
       "      <td>...</td>\n",
       "      <td>...</td>\n",
       "      <td>...</td>\n",
       "      <td>...</td>\n",
       "      <td>...</td>\n",
       "      <td>...</td>\n",
       "      <td>...</td>\n",
       "      <td>...</td>\n",
       "    </tr>\n",
       "    <tr>\n",
       "      <th rowspan=\"5\" valign=\"top\">SalesRevenueNet</th>\n",
       "      <th>0001391609-16-000415</th>\n",
       "      <th>1223533</th>\n",
       "      <th>20151231.0</th>\n",
       "      <td>NaN</td>\n",
       "      <td>NaN</td>\n",
       "      <td>NaN</td>\n",
       "      <td>NaN</td>\n",
       "      <td>0.0</td>\n",
       "      <td>NaN</td>\n",
       "      <td>NaN</td>\n",
       "      <td>NaN</td>\n",
       "      <td>NaN</td>\n",
       "      <td>NaN</td>\n",
       "      <td>...</td>\n",
       "      <td>NaN</td>\n",
       "      <td>NaN</td>\n",
       "      <td>NaN</td>\n",
       "      <td>NaN</td>\n",
       "      <td>NaN</td>\n",
       "      <td>NaN</td>\n",
       "      <td>NaN</td>\n",
       "      <td>NaN</td>\n",
       "      <td>NaN</td>\n",
       "      <td>NaN</td>\n",
       "    </tr>\n",
       "    <tr>\n",
       "      <th rowspan=\"4\" valign=\"top\">0001437749-16-028714</th>\n",
       "      <th rowspan=\"4\" valign=\"top\">1322439</th>\n",
       "      <th>20150331.0</th>\n",
       "      <td>NaN</td>\n",
       "      <td>26331166.0</td>\n",
       "      <td>NaN</td>\n",
       "      <td>NaN</td>\n",
       "      <td>NaN</td>\n",
       "      <td>NaN</td>\n",
       "      <td>NaN</td>\n",
       "      <td>NaN</td>\n",
       "      <td>NaN</td>\n",
       "      <td>NaN</td>\n",
       "      <td>...</td>\n",
       "      <td>NaN</td>\n",
       "      <td>NaN</td>\n",
       "      <td>NaN</td>\n",
       "      <td>NaN</td>\n",
       "      <td>NaN</td>\n",
       "      <td>NaN</td>\n",
       "      <td>NaN</td>\n",
       "      <td>NaN</td>\n",
       "      <td>NaN</td>\n",
       "      <td>NaN</td>\n",
       "    </tr>\n",
       "    <tr>\n",
       "      <th>20150630.0</th>\n",
       "      <td>NaN</td>\n",
       "      <td>22657372.0</td>\n",
       "      <td>NaN</td>\n",
       "      <td>NaN</td>\n",
       "      <td>NaN</td>\n",
       "      <td>NaN</td>\n",
       "      <td>NaN</td>\n",
       "      <td>NaN</td>\n",
       "      <td>NaN</td>\n",
       "      <td>NaN</td>\n",
       "      <td>...</td>\n",
       "      <td>NaN</td>\n",
       "      <td>NaN</td>\n",
       "      <td>NaN</td>\n",
       "      <td>NaN</td>\n",
       "      <td>NaN</td>\n",
       "      <td>NaN</td>\n",
       "      <td>NaN</td>\n",
       "      <td>NaN</td>\n",
       "      <td>NaN</td>\n",
       "      <td>NaN</td>\n",
       "    </tr>\n",
       "    <tr>\n",
       "      <th>20150930.0</th>\n",
       "      <td>NaN</td>\n",
       "      <td>29127482.0</td>\n",
       "      <td>NaN</td>\n",
       "      <td>NaN</td>\n",
       "      <td>NaN</td>\n",
       "      <td>NaN</td>\n",
       "      <td>NaN</td>\n",
       "      <td>NaN</td>\n",
       "      <td>NaN</td>\n",
       "      <td>NaN</td>\n",
       "      <td>...</td>\n",
       "      <td>NaN</td>\n",
       "      <td>NaN</td>\n",
       "      <td>NaN</td>\n",
       "      <td>NaN</td>\n",
       "      <td>NaN</td>\n",
       "      <td>NaN</td>\n",
       "      <td>NaN</td>\n",
       "      <td>NaN</td>\n",
       "      <td>NaN</td>\n",
       "      <td>NaN</td>\n",
       "    </tr>\n",
       "    <tr>\n",
       "      <th>20151231.0</th>\n",
       "      <td>NaN</td>\n",
       "      <td>25740856.0</td>\n",
       "      <td>NaN</td>\n",
       "      <td>NaN</td>\n",
       "      <td>NaN</td>\n",
       "      <td>NaN</td>\n",
       "      <td>NaN</td>\n",
       "      <td>NaN</td>\n",
       "      <td>NaN</td>\n",
       "      <td>NaN</td>\n",
       "      <td>...</td>\n",
       "      <td>NaN</td>\n",
       "      <td>NaN</td>\n",
       "      <td>NaN</td>\n",
       "      <td>NaN</td>\n",
       "      <td>NaN</td>\n",
       "      <td>NaN</td>\n",
       "      <td>NaN</td>\n",
       "      <td>NaN</td>\n",
       "      <td>NaN</td>\n",
       "      <td>NaN</td>\n",
       "    </tr>\n",
       "  </tbody>\n",
       "</table>\n",
       "<p>77491 rows × 42 columns</p>\n",
       "</div>"
      ],
      "text/plain": [
       "qtrs                                                                        0.0    \\\n",
       "tag                          adsh                 cik     ddate                     \n",
       "AccountsReceivableNetCurrent 0000002178-16-000064 2178    20141231.0  144434000.0   \n",
       "                                                          20151231.0   71813000.0   \n",
       "                             0000002488-16-000111 2488    20141231.0  818000000.0   \n",
       "                                                          20151231.0  533000000.0   \n",
       "                             0000003545-16-000130 3545    20150930.0    3137000.0   \n",
       "...                                                                           ...   \n",
       "SalesRevenueNet              0001391609-16-000415 1223533 20151231.0          NaN   \n",
       "                             0001437749-16-028714 1322439 20150331.0          NaN   \n",
       "                                                          20150630.0          NaN   \n",
       "                                                          20150930.0          NaN   \n",
       "                                                          20151231.0          NaN   \n",
       "\n",
       "qtrs                                                                       1.0    \\\n",
       "tag                          adsh                 cik     ddate                    \n",
       "AccountsReceivableNetCurrent 0000002178-16-000064 2178    20141231.0         NaN   \n",
       "                                                          20151231.0         NaN   \n",
       "                             0000002488-16-000111 2488    20141231.0         NaN   \n",
       "                                                          20151231.0         NaN   \n",
       "                             0000003545-16-000130 3545    20150930.0         NaN   \n",
       "...                                                                          ...   \n",
       "SalesRevenueNet              0001391609-16-000415 1223533 20151231.0         NaN   \n",
       "                             0001437749-16-028714 1322439 20150331.0  26331166.0   \n",
       "                                                          20150630.0  22657372.0   \n",
       "                                                          20150930.0  29127482.0   \n",
       "                                                          20151231.0  25740856.0   \n",
       "\n",
       "qtrs                                                                  2.0    \\\n",
       "tag                          adsh                 cik     ddate               \n",
       "AccountsReceivableNetCurrent 0000002178-16-000064 2178    20141231.0    NaN   \n",
       "                                                          20151231.0    NaN   \n",
       "                             0000002488-16-000111 2488    20141231.0    NaN   \n",
       "                                                          20151231.0    NaN   \n",
       "                             0000003545-16-000130 3545    20150930.0    NaN   \n",
       "...                                                                     ...   \n",
       "SalesRevenueNet              0001391609-16-000415 1223533 20151231.0    NaN   \n",
       "                             0001437749-16-028714 1322439 20150331.0    NaN   \n",
       "                                                          20150630.0    NaN   \n",
       "                                                          20150930.0    NaN   \n",
       "                                                          20151231.0    NaN   \n",
       "\n",
       "qtrs                                                                  3.0    \\\n",
       "tag                          adsh                 cik     ddate               \n",
       "AccountsReceivableNetCurrent 0000002178-16-000064 2178    20141231.0    NaN   \n",
       "                                                          20151231.0    NaN   \n",
       "                             0000002488-16-000111 2488    20141231.0    NaN   \n",
       "                                                          20151231.0    NaN   \n",
       "                             0000003545-16-000130 3545    20150930.0    NaN   \n",
       "...                                                                     ...   \n",
       "SalesRevenueNet              0001391609-16-000415 1223533 20151231.0    NaN   \n",
       "                             0001437749-16-028714 1322439 20150331.0    NaN   \n",
       "                                                          20150630.0    NaN   \n",
       "                                                          20150930.0    NaN   \n",
       "                                                          20151231.0    NaN   \n",
       "\n",
       "qtrs                                                                  4.0    \\\n",
       "tag                          adsh                 cik     ddate               \n",
       "AccountsReceivableNetCurrent 0000002178-16-000064 2178    20141231.0    NaN   \n",
       "                                                          20151231.0    NaN   \n",
       "                             0000002488-16-000111 2488    20141231.0    NaN   \n",
       "                                                          20151231.0    NaN   \n",
       "                             0000003545-16-000130 3545    20150930.0    NaN   \n",
       "...                                                                     ...   \n",
       "SalesRevenueNet              0001391609-16-000415 1223533 20151231.0    0.0   \n",
       "                             0001437749-16-028714 1322439 20150331.0    NaN   \n",
       "                                                          20150630.0    NaN   \n",
       "                                                          20150930.0    NaN   \n",
       "                                                          20151231.0    NaN   \n",
       "\n",
       "qtrs                                                                  5.0    \\\n",
       "tag                          adsh                 cik     ddate               \n",
       "AccountsReceivableNetCurrent 0000002178-16-000064 2178    20141231.0    NaN   \n",
       "                                                          20151231.0    NaN   \n",
       "                             0000002488-16-000111 2488    20141231.0    NaN   \n",
       "                                                          20151231.0    NaN   \n",
       "                             0000003545-16-000130 3545    20150930.0    NaN   \n",
       "...                                                                     ...   \n",
       "SalesRevenueNet              0001391609-16-000415 1223533 20151231.0    NaN   \n",
       "                             0001437749-16-028714 1322439 20150331.0    NaN   \n",
       "                                                          20150630.0    NaN   \n",
       "                                                          20150930.0    NaN   \n",
       "                                                          20151231.0    NaN   \n",
       "\n",
       "qtrs                                                                  6.0    \\\n",
       "tag                          adsh                 cik     ddate               \n",
       "AccountsReceivableNetCurrent 0000002178-16-000064 2178    20141231.0    NaN   \n",
       "                                                          20151231.0    NaN   \n",
       "                             0000002488-16-000111 2488    20141231.0    NaN   \n",
       "                                                          20151231.0    NaN   \n",
       "                             0000003545-16-000130 3545    20150930.0    NaN   \n",
       "...                                                                     ...   \n",
       "SalesRevenueNet              0001391609-16-000415 1223533 20151231.0    NaN   \n",
       "                             0001437749-16-028714 1322439 20150331.0    NaN   \n",
       "                                                          20150630.0    NaN   \n",
       "                                                          20150930.0    NaN   \n",
       "                                                          20151231.0    NaN   \n",
       "\n",
       "qtrs                                                                  8.0    \\\n",
       "tag                          adsh                 cik     ddate               \n",
       "AccountsReceivableNetCurrent 0000002178-16-000064 2178    20141231.0    NaN   \n",
       "                                                          20151231.0    NaN   \n",
       "                             0000002488-16-000111 2488    20141231.0    NaN   \n",
       "                                                          20151231.0    NaN   \n",
       "                             0000003545-16-000130 3545    20150930.0    NaN   \n",
       "...                                                                     ...   \n",
       "SalesRevenueNet              0001391609-16-000415 1223533 20151231.0    NaN   \n",
       "                             0001437749-16-028714 1322439 20150331.0    NaN   \n",
       "                                                          20150630.0    NaN   \n",
       "                                                          20150930.0    NaN   \n",
       "                                                          20151231.0    NaN   \n",
       "\n",
       "qtrs                                                                  9.0    \\\n",
       "tag                          adsh                 cik     ddate               \n",
       "AccountsReceivableNetCurrent 0000002178-16-000064 2178    20141231.0    NaN   \n",
       "                                                          20151231.0    NaN   \n",
       "                             0000002488-16-000111 2488    20141231.0    NaN   \n",
       "                                                          20151231.0    NaN   \n",
       "                             0000003545-16-000130 3545    20150930.0    NaN   \n",
       "...                                                                     ...   \n",
       "SalesRevenueNet              0001391609-16-000415 1223533 20151231.0    NaN   \n",
       "                             0001437749-16-028714 1322439 20150331.0    NaN   \n",
       "                                                          20150630.0    NaN   \n",
       "                                                          20150930.0    NaN   \n",
       "                                                          20151231.0    NaN   \n",
       "\n",
       "qtrs                                                                  10.0   \\\n",
       "tag                          adsh                 cik     ddate               \n",
       "AccountsReceivableNetCurrent 0000002178-16-000064 2178    20141231.0    NaN   \n",
       "                                                          20151231.0    NaN   \n",
       "                             0000002488-16-000111 2488    20141231.0    NaN   \n",
       "                                                          20151231.0    NaN   \n",
       "                             0000003545-16-000130 3545    20150930.0    NaN   \n",
       "...                                                                     ...   \n",
       "SalesRevenueNet              0001391609-16-000415 1223533 20151231.0    NaN   \n",
       "                             0001437749-16-028714 1322439 20150331.0    NaN   \n",
       "                                                          20150630.0    NaN   \n",
       "                                                          20150930.0    NaN   \n",
       "                                                          20151231.0    NaN   \n",
       "\n",
       "qtrs                                                                  ...  \\\n",
       "tag                          adsh                 cik     ddate       ...   \n",
       "AccountsReceivableNetCurrent 0000002178-16-000064 2178    20141231.0  ...   \n",
       "                                                          20151231.0  ...   \n",
       "                             0000002488-16-000111 2488    20141231.0  ...   \n",
       "                                                          20151231.0  ...   \n",
       "                             0000003545-16-000130 3545    20150930.0  ...   \n",
       "...                                                                   ...   \n",
       "SalesRevenueNet              0001391609-16-000415 1223533 20151231.0  ...   \n",
       "                             0001437749-16-028714 1322439 20150331.0  ...   \n",
       "                                                          20150630.0  ...   \n",
       "                                                          20150930.0  ...   \n",
       "                                                          20151231.0  ...   \n",
       "\n",
       "qtrs                                                                  46.0   \\\n",
       "tag                          adsh                 cik     ddate               \n",
       "AccountsReceivableNetCurrent 0000002178-16-000064 2178    20141231.0    NaN   \n",
       "                                                          20151231.0    NaN   \n",
       "                             0000002488-16-000111 2488    20141231.0    NaN   \n",
       "                                                          20151231.0    NaN   \n",
       "                             0000003545-16-000130 3545    20150930.0    NaN   \n",
       "...                                                                     ...   \n",
       "SalesRevenueNet              0001391609-16-000415 1223533 20151231.0    NaN   \n",
       "                             0001437749-16-028714 1322439 20150331.0    NaN   \n",
       "                                                          20150630.0    NaN   \n",
       "                                                          20150930.0    NaN   \n",
       "                                                          20151231.0    NaN   \n",
       "\n",
       "qtrs                                                                  47.0   \\\n",
       "tag                          adsh                 cik     ddate               \n",
       "AccountsReceivableNetCurrent 0000002178-16-000064 2178    20141231.0    NaN   \n",
       "                                                          20151231.0    NaN   \n",
       "                             0000002488-16-000111 2488    20141231.0    NaN   \n",
       "                                                          20151231.0    NaN   \n",
       "                             0000003545-16-000130 3545    20150930.0    NaN   \n",
       "...                                                                     ...   \n",
       "SalesRevenueNet              0001391609-16-000415 1223533 20151231.0    NaN   \n",
       "                             0001437749-16-028714 1322439 20150331.0    NaN   \n",
       "                                                          20150630.0    NaN   \n",
       "                                                          20150930.0    NaN   \n",
       "                                                          20151231.0    NaN   \n",
       "\n",
       "qtrs                                                                  48.0   \\\n",
       "tag                          adsh                 cik     ddate               \n",
       "AccountsReceivableNetCurrent 0000002178-16-000064 2178    20141231.0    NaN   \n",
       "                                                          20151231.0    NaN   \n",
       "                             0000002488-16-000111 2488    20141231.0    NaN   \n",
       "                                                          20151231.0    NaN   \n",
       "                             0000003545-16-000130 3545    20150930.0    NaN   \n",
       "...                                                                     ...   \n",
       "SalesRevenueNet              0001391609-16-000415 1223533 20151231.0    NaN   \n",
       "                             0001437749-16-028714 1322439 20150331.0    NaN   \n",
       "                                                          20150630.0    NaN   \n",
       "                                                          20150930.0    NaN   \n",
       "                                                          20151231.0    NaN   \n",
       "\n",
       "qtrs                                                                  53.0   \\\n",
       "tag                          adsh                 cik     ddate               \n",
       "AccountsReceivableNetCurrent 0000002178-16-000064 2178    20141231.0    NaN   \n",
       "                                                          20151231.0    NaN   \n",
       "                             0000002488-16-000111 2488    20141231.0    NaN   \n",
       "                                                          20151231.0    NaN   \n",
       "                             0000003545-16-000130 3545    20150930.0    NaN   \n",
       "...                                                                     ...   \n",
       "SalesRevenueNet              0001391609-16-000415 1223533 20151231.0    NaN   \n",
       "                             0001437749-16-028714 1322439 20150331.0    NaN   \n",
       "                                                          20150630.0    NaN   \n",
       "                                                          20150930.0    NaN   \n",
       "                                                          20151231.0    NaN   \n",
       "\n",
       "qtrs                                                                  60.0   \\\n",
       "tag                          adsh                 cik     ddate               \n",
       "AccountsReceivableNetCurrent 0000002178-16-000064 2178    20141231.0    NaN   \n",
       "                                                          20151231.0    NaN   \n",
       "                             0000002488-16-000111 2488    20141231.0    NaN   \n",
       "                                                          20151231.0    NaN   \n",
       "                             0000003545-16-000130 3545    20150930.0    NaN   \n",
       "...                                                                     ...   \n",
       "SalesRevenueNet              0001391609-16-000415 1223533 20151231.0    NaN   \n",
       "                             0001437749-16-028714 1322439 20150331.0    NaN   \n",
       "                                                          20150630.0    NaN   \n",
       "                                                          20150930.0    NaN   \n",
       "                                                          20151231.0    NaN   \n",
       "\n",
       "qtrs                                                                  69.0   \\\n",
       "tag                          adsh                 cik     ddate               \n",
       "AccountsReceivableNetCurrent 0000002178-16-000064 2178    20141231.0    NaN   \n",
       "                                                          20151231.0    NaN   \n",
       "                             0000002488-16-000111 2488    20141231.0    NaN   \n",
       "                                                          20151231.0    NaN   \n",
       "                             0000003545-16-000130 3545    20150930.0    NaN   \n",
       "...                                                                     ...   \n",
       "SalesRevenueNet              0001391609-16-000415 1223533 20151231.0    NaN   \n",
       "                             0001437749-16-028714 1322439 20150331.0    NaN   \n",
       "                                                          20150630.0    NaN   \n",
       "                                                          20150930.0    NaN   \n",
       "                                                          20151231.0    NaN   \n",
       "\n",
       "qtrs                                                                  70.0   \\\n",
       "tag                          adsh                 cik     ddate               \n",
       "AccountsReceivableNetCurrent 0000002178-16-000064 2178    20141231.0    NaN   \n",
       "                                                          20151231.0    NaN   \n",
       "                             0000002488-16-000111 2488    20141231.0    NaN   \n",
       "                                                          20151231.0    NaN   \n",
       "                             0000003545-16-000130 3545    20150930.0    NaN   \n",
       "...                                                                     ...   \n",
       "SalesRevenueNet              0001391609-16-000415 1223533 20151231.0    NaN   \n",
       "                             0001437749-16-028714 1322439 20150331.0    NaN   \n",
       "                                                          20150630.0    NaN   \n",
       "                                                          20150930.0    NaN   \n",
       "                                                          20151231.0    NaN   \n",
       "\n",
       "qtrs                                                                  112.0  \\\n",
       "tag                          adsh                 cik     ddate               \n",
       "AccountsReceivableNetCurrent 0000002178-16-000064 2178    20141231.0    NaN   \n",
       "                                                          20151231.0    NaN   \n",
       "                             0000002488-16-000111 2488    20141231.0    NaN   \n",
       "                                                          20151231.0    NaN   \n",
       "                             0000003545-16-000130 3545    20150930.0    NaN   \n",
       "...                                                                     ...   \n",
       "SalesRevenueNet              0001391609-16-000415 1223533 20151231.0    NaN   \n",
       "                             0001437749-16-028714 1322439 20150331.0    NaN   \n",
       "                                                          20150630.0    NaN   \n",
       "                                                          20150930.0    NaN   \n",
       "                                                          20151231.0    NaN   \n",
       "\n",
       "qtrs                                                                  146.0  \\\n",
       "tag                          adsh                 cik     ddate               \n",
       "AccountsReceivableNetCurrent 0000002178-16-000064 2178    20141231.0    NaN   \n",
       "                                                          20151231.0    NaN   \n",
       "                             0000002488-16-000111 2488    20141231.0    NaN   \n",
       "                                                          20151231.0    NaN   \n",
       "                             0000003545-16-000130 3545    20150930.0    NaN   \n",
       "...                                                                     ...   \n",
       "SalesRevenueNet              0001391609-16-000415 1223533 20151231.0    NaN   \n",
       "                             0001437749-16-028714 1322439 20150331.0    NaN   \n",
       "                                                          20150630.0    NaN   \n",
       "                                                          20150930.0    NaN   \n",
       "                                                          20151231.0    NaN   \n",
       "\n",
       "qtrs                                                                  154.0  \n",
       "tag                          adsh                 cik     ddate              \n",
       "AccountsReceivableNetCurrent 0000002178-16-000064 2178    20141231.0    NaN  \n",
       "                                                          20151231.0    NaN  \n",
       "                             0000002488-16-000111 2488    20141231.0    NaN  \n",
       "                                                          20151231.0    NaN  \n",
       "                             0000003545-16-000130 3545    20150930.0    NaN  \n",
       "...                                                                     ...  \n",
       "SalesRevenueNet              0001391609-16-000415 1223533 20151231.0    NaN  \n",
       "                             0001437749-16-028714 1322439 20150331.0    NaN  \n",
       "                                                          20150630.0    NaN  \n",
       "                                                          20150930.0    NaN  \n",
       "                                                          20151231.0    NaN  \n",
       "\n",
       "[77491 rows x 42 columns]"
      ]
     },
     "execution_count": 8,
     "metadata": {},
     "output_type": "execute_result"
    }
   ],
   "source": [
    "##convert dataframe into pivot table\n",
    "Regression_2015.pivot_table(values='value', index=['tag', 'adsh','cik','ddate'], columns=['qtrs'])"
   ]
  },
  {
   "cell_type": "markdown",
   "metadata": {},
   "source": [
    "## Feature Engineering"
   ]
  },
  {
   "cell_type": "markdown",
   "metadata": {},
   "source": [
    "#### Jones Model Modified Equation:\n",
    "\n",
    "$$\n",
    "\\begin{eqnarray}\n",
    "Y(Total Net Accruals) &=& \\beta_0 + \n",
    "\\beta_1((Change in Rev - Change in AR))+  \n",
    "\\beta_2(Property Plant Equipment) +\n",
    "\\beta_3(Assets) + \\beta_4(Revenue) +\n",
    "\\beta_5(NetCashProvidedByUsedInOperatingActivitiesPresent) +\\varepsilon\\\\\n",
    "\\end{eqnarray}\n",
    "$$"
   ]
  },
  {
   "cell_type": "markdown",
   "metadata": {},
   "source": [
    "Create a function to engineer tags in order to fit equation above. We can multiply through average total assets, but its is useful to engineer a lag variable for assets. Total Net Accruals will equal net income - net cash. Net Cash present will be used in the model as a modification. The original jones model is just the first two items up until property plant eq. I decided to modify it slightly and add assets and revenue as I believed this is a huge part of determining Accruals. To find the change of revenue and change in AR we have to use lag variables and the subtract the current from the prior. Once we accomplish that we can create the change in sales- change in accounts rec column for our equation. We dont need to engineer PP&E as the value on the quarterly statement is in the book value"
   ]
  },
  {
   "cell_type": "code",
   "execution_count": 14,
   "metadata": {},
   "outputs": [],
   "source": [
    "def engineer_tags(df, datepresent, dateprior):\n",
    "    '''\n",
    "    This function takes in the parameters dataframe object, data present and date prior variables from the data frame\n",
    "    This function is designed to extract specific dates and engineer features for the given model. This can be used\n",
    "    and will be used on the validation set\n",
    "\n",
    "    '''\n",
    "    data_set = df[(df.ddate == datepresent)\n",
    "                   | (df.ddate == dateprior)]\n",
    "    data_table = pd.pivot_table(data_set,\n",
    "                             values = 'value',\n",
    "                             index = ['cik','ddate'],\n",
    "                             columns = 'tag',\n",
    "                             dropna = True)\n",
    "    data_table['TotalNetAccruals'] =  data_table['NetIncomeLoss'] - data_table['NetCashProvidedByUsedInOperatingActivities']\n",
    "    Q_Regression = data_table.dropna(axis = 0)\n",
    "    Q_Regression['AssetsPrior']=Q_Regression.groupby('cik').Assets.shift()\n",
    "    Q_Regression['RevPrior'] = Q_Regression.groupby('cik').SalesRevenueNet.shift()\n",
    "    Q_Regression['ArPrior'] = Q_Regression.groupby('cik').AccountsReceivableNetCurrent.shift()\n",
    "    Q_Regression['RevChange'] = Q_Regression['SalesRevenueNet'] - Q_Regression['RevPrior']\n",
    "    Q_Regression['ARChange'] = Q_Regression['AccountsReceivableNetCurrent'] - Q_Regression['ArPrior']\n",
    "    Q_Regression['ROA'] = Q_Regression['NetIncomeLoss'] / Q_Regression['Assets']\n",
    "    Q_Regression['ChangeSalesRec'] = Q_Regression['RevChange'] - Q_Regression['ARChange']\n",
    "    Regression_Q = Q_Regression.dropna(axis = 0)\n",
    "    return Regression_Q"
   ]
  },
  {
   "cell_type": "markdown",
   "metadata": {},
   "source": [
    "Call function for all quarters that we want. In this case its Q4,Q3, and Q2. We need to filter out based on date. To note, the engineered function is used only on our modified jones model equation. To generalize a function for all financial statements we can use a tag parameter to be specific"
   ]
  },
  {
   "cell_type": "code",
   "execution_count": 15,
   "metadata": {},
   "outputs": [],
   "source": [
    "##calls engineer tags function\n",
    "Regression_Q42015 = engineer_tags(Regression_2015, 20151231,20141231)"
   ]
  },
  {
   "cell_type": "code",
   "execution_count": 16,
   "metadata": {},
   "outputs": [],
   "source": [
    "Regression_Q32015 = engineer_tags(Regression_2015, 20150930,20140930)"
   ]
  },
  {
   "cell_type": "code",
   "execution_count": 17,
   "metadata": {},
   "outputs": [],
   "source": [
    "Regression_Q22015 = engineer_tags(Regression_2015,20150630, 20140630)"
   ]
  },
  {
   "cell_type": "markdown",
   "metadata": {},
   "source": [
    "Concat all dataframes to make one data frame for the model. Make sure there are no nans and ensure that we have 410 full observations"
   ]
  },
  {
   "cell_type": "code",
   "execution_count": 18,
   "metadata": {},
   "outputs": [
    {
     "data": {
      "text/html": [
       "<div>\n",
       "<style scoped>\n",
       "    .dataframe tbody tr th:only-of-type {\n",
       "        vertical-align: middle;\n",
       "    }\n",
       "\n",
       "    .dataframe tbody tr th {\n",
       "        vertical-align: top;\n",
       "    }\n",
       "\n",
       "    .dataframe thead th {\n",
       "        text-align: right;\n",
       "    }\n",
       "</style>\n",
       "<table border=\"1\" class=\"dataframe\">\n",
       "  <thead>\n",
       "    <tr style=\"text-align: right;\">\n",
       "      <th></th>\n",
       "      <th>tag</th>\n",
       "      <th>AccountsReceivableNetCurrent</th>\n",
       "      <th>Assets</th>\n",
       "      <th>NetCashProvidedByUsedInOperatingActivities</th>\n",
       "      <th>NetIncomeLoss</th>\n",
       "      <th>PropertyPlantAndEquipmentNet</th>\n",
       "      <th>SalesRevenueNet</th>\n",
       "      <th>TotalNetAccruals</th>\n",
       "      <th>AssetsPrior</th>\n",
       "      <th>RevPrior</th>\n",
       "      <th>ArPrior</th>\n",
       "      <th>RevChange</th>\n",
       "      <th>ARChange</th>\n",
       "      <th>ROA</th>\n",
       "      <th>ChangeSalesRec</th>\n",
       "    </tr>\n",
       "    <tr>\n",
       "      <th>cik</th>\n",
       "      <th>ddate</th>\n",
       "      <th></th>\n",
       "      <th></th>\n",
       "      <th></th>\n",
       "      <th></th>\n",
       "      <th></th>\n",
       "      <th></th>\n",
       "      <th></th>\n",
       "      <th></th>\n",
       "      <th></th>\n",
       "      <th></th>\n",
       "      <th></th>\n",
       "      <th></th>\n",
       "      <th></th>\n",
       "      <th></th>\n",
       "    </tr>\n",
       "  </thead>\n",
       "  <tbody>\n",
       "    <tr>\n",
       "      <th>1800</th>\n",
       "      <th>20151231.0</th>\n",
       "      <td>3.418000e+09</td>\n",
       "      <td>4.124700e+10</td>\n",
       "      <td>2.966000e+09</td>\n",
       "      <td>2.595000e+09</td>\n",
       "      <td>5.730000e+09</td>\n",
       "      <td>1.279650e+10</td>\n",
       "      <td>-371000000.0</td>\n",
       "      <td>4.120700e+10</td>\n",
       "      <td>1.280150e+10</td>\n",
       "      <td>3.586000e+09</td>\n",
       "      <td>-5.000000e+06</td>\n",
       "      <td>-1.680000e+08</td>\n",
       "      <td>0.062914</td>\n",
       "      <td>1.630000e+08</td>\n",
       "    </tr>\n",
       "    <tr>\n",
       "      <th>2488</th>\n",
       "      <th>20151231.0</th>\n",
       "      <td>5.330000e+08</td>\n",
       "      <td>3.109000e+09</td>\n",
       "      <td>-2.260000e+08</td>\n",
       "      <td>-3.810000e+08</td>\n",
       "      <td>1.880000e+08</td>\n",
       "      <td>3.991000e+09</td>\n",
       "      <td>-155000000.0</td>\n",
       "      <td>3.767000e+09</td>\n",
       "      <td>5.506000e+09</td>\n",
       "      <td>8.180000e+08</td>\n",
       "      <td>-1.515000e+09</td>\n",
       "      <td>-2.850000e+08</td>\n",
       "      <td>-0.122547</td>\n",
       "      <td>-1.230000e+09</td>\n",
       "    </tr>\n",
       "    <tr>\n",
       "      <th>7536</th>\n",
       "      <th>20151231.0</th>\n",
       "      <td>6.161418e+09</td>\n",
       "      <td>1.302193e+10</td>\n",
       "      <td>6.550790e+08</td>\n",
       "      <td>3.281090e+08</td>\n",
       "      <td>7.001780e+08</td>\n",
       "      <td>1.501668e+10</td>\n",
       "      <td>-326970000.0</td>\n",
       "      <td>1.243530e+10</td>\n",
       "      <td>1.458278e+10</td>\n",
       "      <td>6.043850e+09</td>\n",
       "      <td>4.339045e+08</td>\n",
       "      <td>1.175680e+08</td>\n",
       "      <td>0.025197</td>\n",
       "      <td>3.163365e+08</td>\n",
       "    </tr>\n",
       "    <tr>\n",
       "      <th>9092</th>\n",
       "      <th>20151231.0</th>\n",
       "      <td>5.664300e+07</td>\n",
       "      <td>3.554800e+08</td>\n",
       "      <td>3.583100e+07</td>\n",
       "      <td>1.571050e+07</td>\n",
       "      <td>9.092000e+07</td>\n",
       "      <td>2.367340e+08</td>\n",
       "      <td>-20120500.0</td>\n",
       "      <td>3.411580e+08</td>\n",
       "      <td>2.270535e+08</td>\n",
       "      <td>5.396700e+07</td>\n",
       "      <td>9.680500e+06</td>\n",
       "      <td>2.676000e+06</td>\n",
       "      <td>0.044195</td>\n",
       "      <td>7.004500e+06</td>\n",
       "    </tr>\n",
       "    <tr>\n",
       "      <th>12208</th>\n",
       "      <th>20151231.0</th>\n",
       "      <td>3.914850e+08</td>\n",
       "      <td>3.711542e+09</td>\n",
       "      <td>1.862100e+08</td>\n",
       "      <td>8.129650e+07</td>\n",
       "      <td>4.376900e+08</td>\n",
       "      <td>1.295020e+09</td>\n",
       "      <td>-104913500.0</td>\n",
       "      <td>3.341278e+09</td>\n",
       "      <td>1.386622e+09</td>\n",
       "      <td>3.776400e+08</td>\n",
       "      <td>-9.160150e+07</td>\n",
       "      <td>1.384500e+07</td>\n",
       "      <td>0.021904</td>\n",
       "      <td>-1.054465e+08</td>\n",
       "    </tr>\n",
       "    <tr>\n",
       "      <th>...</th>\n",
       "      <th>...</th>\n",
       "      <td>...</td>\n",
       "      <td>...</td>\n",
       "      <td>...</td>\n",
       "      <td>...</td>\n",
       "      <td>...</td>\n",
       "      <td>...</td>\n",
       "      <td>...</td>\n",
       "      <td>...</td>\n",
       "      <td>...</td>\n",
       "      <td>...</td>\n",
       "      <td>...</td>\n",
       "      <td>...</td>\n",
       "      <td>...</td>\n",
       "      <td>...</td>\n",
       "    </tr>\n",
       "    <tr>\n",
       "      <th>47307</th>\n",
       "      <th>20150930.0</th>\n",
       "      <td>1.101554e+06</td>\n",
       "      <td>3.866575e+06</td>\n",
       "      <td>1.997200e+04</td>\n",
       "      <td>9.646700e+04</td>\n",
       "      <td>3.752340e+05</td>\n",
       "      <td>3.823917e+06</td>\n",
       "      <td>76495.0</td>\n",
       "      <td>3.699657e+06</td>\n",
       "      <td>4.157276e+06</td>\n",
       "      <td>1.172268e+06</td>\n",
       "      <td>-3.333585e+05</td>\n",
       "      <td>-7.071400e+04</td>\n",
       "      <td>0.024949</td>\n",
       "      <td>-2.626445e+05</td>\n",
       "    </tr>\n",
       "    <tr>\n",
       "      <th>53669</th>\n",
       "      <th>20150930.0</th>\n",
       "      <td>5.751000e+09</td>\n",
       "      <td>2.959500e+10</td>\n",
       "      <td>1.600000e+09</td>\n",
       "      <td>1.563000e+09</td>\n",
       "      <td>5.870000e+09</td>\n",
       "      <td>3.717900e+10</td>\n",
       "      <td>-37000000.0</td>\n",
       "      <td>3.278500e+10</td>\n",
       "      <td>3.874900e+10</td>\n",
       "      <td>5.871000e+09</td>\n",
       "      <td>-1.570000e+09</td>\n",
       "      <td>-1.200000e+08</td>\n",
       "      <td>0.052813</td>\n",
       "      <td>-1.450000e+09</td>\n",
       "    </tr>\n",
       "    <tr>\n",
       "      <th>1117171</th>\n",
       "      <th>20150930.0</th>\n",
       "      <td>4.771958e+06</td>\n",
       "      <td>6.336723e+07</td>\n",
       "      <td>-2.037122e+06</td>\n",
       "      <td>1.587393e+07</td>\n",
       "      <td>2.227482e+07</td>\n",
       "      <td>1.390441e+07</td>\n",
       "      <td>17911048.0</td>\n",
       "      <td>4.396818e+07</td>\n",
       "      <td>1.230141e+08</td>\n",
       "      <td>1.013641e+06</td>\n",
       "      <td>-1.091097e+08</td>\n",
       "      <td>3.758317e+06</td>\n",
       "      <td>0.250507</td>\n",
       "      <td>-1.128680e+08</td>\n",
       "    </tr>\n",
       "    <tr>\n",
       "      <th>1124941</th>\n",
       "      <th>20150930.0</th>\n",
       "      <td>1.816964e+08</td>\n",
       "      <td>7.007895e+08</td>\n",
       "      <td>4.373600e+07</td>\n",
       "      <td>2.491080e+07</td>\n",
       "      <td>4.109318e+07</td>\n",
       "      <td>1.006068e+09</td>\n",
       "      <td>-18825200.0</td>\n",
       "      <td>5.725608e+08</td>\n",
       "      <td>9.307620e+08</td>\n",
       "      <td>1.443208e+08</td>\n",
       "      <td>7.530560e+07</td>\n",
       "      <td>3.737556e+07</td>\n",
       "      <td>0.035547</td>\n",
       "      <td>3.793004e+07</td>\n",
       "    </tr>\n",
       "    <tr>\n",
       "      <th>1205181</th>\n",
       "      <th>20150630.0</th>\n",
       "      <td>1.250000e+03</td>\n",
       "      <td>9.263300e+04</td>\n",
       "      <td>-2.264810e+05</td>\n",
       "      <td>-5.539320e+05</td>\n",
       "      <td>2.547300e+04</td>\n",
       "      <td>9.112950e+04</td>\n",
       "      <td>-327451.0</td>\n",
       "      <td>3.890600e+04</td>\n",
       "      <td>2.280050e+05</td>\n",
       "      <td>2.204000e+04</td>\n",
       "      <td>-1.368755e+05</td>\n",
       "      <td>-2.079000e+04</td>\n",
       "      <td>-5.979856</td>\n",
       "      <td>-1.160855e+05</td>\n",
       "    </tr>\n",
       "  </tbody>\n",
       "</table>\n",
       "<p>410 rows × 14 columns</p>\n",
       "</div>"
      ],
      "text/plain": [
       "tag                 AccountsReceivableNetCurrent        Assets  \\\n",
       "cik     ddate                                                    \n",
       "1800    20151231.0                  3.418000e+09  4.124700e+10   \n",
       "2488    20151231.0                  5.330000e+08  3.109000e+09   \n",
       "7536    20151231.0                  6.161418e+09  1.302193e+10   \n",
       "9092    20151231.0                  5.664300e+07  3.554800e+08   \n",
       "12208   20151231.0                  3.914850e+08  3.711542e+09   \n",
       "...                                          ...           ...   \n",
       "47307   20150930.0                  1.101554e+06  3.866575e+06   \n",
       "53669   20150930.0                  5.751000e+09  2.959500e+10   \n",
       "1117171 20150930.0                  4.771958e+06  6.336723e+07   \n",
       "1124941 20150930.0                  1.816964e+08  7.007895e+08   \n",
       "1205181 20150630.0                  1.250000e+03  9.263300e+04   \n",
       "\n",
       "tag                 NetCashProvidedByUsedInOperatingActivities  NetIncomeLoss  \\\n",
       "cik     ddate                                                                   \n",
       "1800    20151231.0                                2.966000e+09   2.595000e+09   \n",
       "2488    20151231.0                               -2.260000e+08  -3.810000e+08   \n",
       "7536    20151231.0                                6.550790e+08   3.281090e+08   \n",
       "9092    20151231.0                                3.583100e+07   1.571050e+07   \n",
       "12208   20151231.0                                1.862100e+08   8.129650e+07   \n",
       "...                                                        ...            ...   \n",
       "47307   20150930.0                                1.997200e+04   9.646700e+04   \n",
       "53669   20150930.0                                1.600000e+09   1.563000e+09   \n",
       "1117171 20150930.0                               -2.037122e+06   1.587393e+07   \n",
       "1124941 20150930.0                                4.373600e+07   2.491080e+07   \n",
       "1205181 20150630.0                               -2.264810e+05  -5.539320e+05   \n",
       "\n",
       "tag                 PropertyPlantAndEquipmentNet  SalesRevenueNet  \\\n",
       "cik     ddate                                                       \n",
       "1800    20151231.0                  5.730000e+09     1.279650e+10   \n",
       "2488    20151231.0                  1.880000e+08     3.991000e+09   \n",
       "7536    20151231.0                  7.001780e+08     1.501668e+10   \n",
       "9092    20151231.0                  9.092000e+07     2.367340e+08   \n",
       "12208   20151231.0                  4.376900e+08     1.295020e+09   \n",
       "...                                          ...              ...   \n",
       "47307   20150930.0                  3.752340e+05     3.823917e+06   \n",
       "53669   20150930.0                  5.870000e+09     3.717900e+10   \n",
       "1117171 20150930.0                  2.227482e+07     1.390441e+07   \n",
       "1124941 20150930.0                  4.109318e+07     1.006068e+09   \n",
       "1205181 20150630.0                  2.547300e+04     9.112950e+04   \n",
       "\n",
       "tag                 TotalNetAccruals   AssetsPrior      RevPrior  \\\n",
       "cik     ddate                                                      \n",
       "1800    20151231.0      -371000000.0  4.120700e+10  1.280150e+10   \n",
       "2488    20151231.0      -155000000.0  3.767000e+09  5.506000e+09   \n",
       "7536    20151231.0      -326970000.0  1.243530e+10  1.458278e+10   \n",
       "9092    20151231.0       -20120500.0  3.411580e+08  2.270535e+08   \n",
       "12208   20151231.0      -104913500.0  3.341278e+09  1.386622e+09   \n",
       "...                              ...           ...           ...   \n",
       "47307   20150930.0           76495.0  3.699657e+06  4.157276e+06   \n",
       "53669   20150930.0       -37000000.0  3.278500e+10  3.874900e+10   \n",
       "1117171 20150930.0        17911048.0  4.396818e+07  1.230141e+08   \n",
       "1124941 20150930.0       -18825200.0  5.725608e+08  9.307620e+08   \n",
       "1205181 20150630.0         -327451.0  3.890600e+04  2.280050e+05   \n",
       "\n",
       "tag                      ArPrior     RevChange      ARChange       ROA  \\\n",
       "cik     ddate                                                            \n",
       "1800    20151231.0  3.586000e+09 -5.000000e+06 -1.680000e+08  0.062914   \n",
       "2488    20151231.0  8.180000e+08 -1.515000e+09 -2.850000e+08 -0.122547   \n",
       "7536    20151231.0  6.043850e+09  4.339045e+08  1.175680e+08  0.025197   \n",
       "9092    20151231.0  5.396700e+07  9.680500e+06  2.676000e+06  0.044195   \n",
       "12208   20151231.0  3.776400e+08 -9.160150e+07  1.384500e+07  0.021904   \n",
       "...                          ...           ...           ...       ...   \n",
       "47307   20150930.0  1.172268e+06 -3.333585e+05 -7.071400e+04  0.024949   \n",
       "53669   20150930.0  5.871000e+09 -1.570000e+09 -1.200000e+08  0.052813   \n",
       "1117171 20150930.0  1.013641e+06 -1.091097e+08  3.758317e+06  0.250507   \n",
       "1124941 20150930.0  1.443208e+08  7.530560e+07  3.737556e+07  0.035547   \n",
       "1205181 20150630.0  2.204000e+04 -1.368755e+05 -2.079000e+04 -5.979856   \n",
       "\n",
       "tag                 ChangeSalesRec  \n",
       "cik     ddate                       \n",
       "1800    20151231.0    1.630000e+08  \n",
       "2488    20151231.0   -1.230000e+09  \n",
       "7536    20151231.0    3.163365e+08  \n",
       "9092    20151231.0    7.004500e+06  \n",
       "12208   20151231.0   -1.054465e+08  \n",
       "...                            ...  \n",
       "47307   20150930.0   -2.626445e+05  \n",
       "53669   20150930.0   -1.450000e+09  \n",
       "1117171 20150930.0   -1.128680e+08  \n",
       "1124941 20150930.0    3.793004e+07  \n",
       "1205181 20150630.0   -1.160855e+05  \n",
       "\n",
       "[410 rows x 14 columns]"
      ]
     },
     "execution_count": 18,
     "metadata": {},
     "output_type": "execute_result"
    }
   ],
   "source": [
    "##concat with pandas to put all dataframes together\n",
    "df = pd.concat([Regression_Q42015,Regression_Q32015,Regression_Q22015])\n",
    "df"
   ]
  },
  {
   "cell_type": "markdown",
   "metadata": {},
   "source": [
    "## EDA"
   ]
  },
  {
   "cell_type": "markdown",
   "metadata": {},
   "source": [
    "Describe each numeric column and its descriptive stats"
   ]
  },
  {
   "cell_type": "code",
   "execution_count": 19,
   "metadata": {},
   "outputs": [
    {
     "data": {
      "text/html": [
       "<div>\n",
       "<style scoped>\n",
       "    .dataframe tbody tr th:only-of-type {\n",
       "        vertical-align: middle;\n",
       "    }\n",
       "\n",
       "    .dataframe tbody tr th {\n",
       "        vertical-align: top;\n",
       "    }\n",
       "\n",
       "    .dataframe thead th {\n",
       "        text-align: right;\n",
       "    }\n",
       "</style>\n",
       "<table border=\"1\" class=\"dataframe\">\n",
       "  <thead>\n",
       "    <tr style=\"text-align: right;\">\n",
       "      <th></th>\n",
       "      <th>count</th>\n",
       "      <th>mean</th>\n",
       "      <th>std</th>\n",
       "      <th>min</th>\n",
       "      <th>25%</th>\n",
       "      <th>50%</th>\n",
       "      <th>75%</th>\n",
       "      <th>max</th>\n",
       "    </tr>\n",
       "    <tr>\n",
       "      <th>tag</th>\n",
       "      <th></th>\n",
       "      <th></th>\n",
       "      <th></th>\n",
       "      <th></th>\n",
       "      <th></th>\n",
       "      <th></th>\n",
       "      <th></th>\n",
       "      <th></th>\n",
       "    </tr>\n",
       "  </thead>\n",
       "  <tbody>\n",
       "    <tr>\n",
       "      <th>AccountsReceivableNetCurrent</th>\n",
       "      <td>410.0</td>\n",
       "      <td>3.505436e+08</td>\n",
       "      <td>8.977213e+08</td>\n",
       "      <td>0.000000e+00</td>\n",
       "      <td>8.937700e+06</td>\n",
       "      <td>6.307350e+07</td>\n",
       "      <td>2.551132e+08</td>\n",
       "      <td>6.423000e+09</td>\n",
       "    </tr>\n",
       "    <tr>\n",
       "      <th>Assets</th>\n",
       "      <td>410.0</td>\n",
       "      <td>4.102572e+09</td>\n",
       "      <td>1.095470e+10</td>\n",
       "      <td>9.263300e+04</td>\n",
       "      <td>1.178199e+08</td>\n",
       "      <td>6.236960e+08</td>\n",
       "      <td>2.518572e+09</td>\n",
       "      <td>8.170300e+10</td>\n",
       "    </tr>\n",
       "    <tr>\n",
       "      <th>NetCashProvidedByUsedInOperatingActivities</th>\n",
       "      <td>410.0</td>\n",
       "      <td>4.151233e+08</td>\n",
       "      <td>1.526400e+09</td>\n",
       "      <td>-7.898840e+08</td>\n",
       "      <td>8.320448e+05</td>\n",
       "      <td>4.118150e+07</td>\n",
       "      <td>2.013768e+08</td>\n",
       "      <td>2.032900e+10</td>\n",
       "    </tr>\n",
       "    <tr>\n",
       "      <th>NetIncomeLoss</th>\n",
       "      <td>410.0</td>\n",
       "      <td>1.302900e+08</td>\n",
       "      <td>9.138933e+08</td>\n",
       "      <td>-7.829000e+09</td>\n",
       "      <td>-7.894000e+06</td>\n",
       "      <td>7.356000e+06</td>\n",
       "      <td>7.773400e+07</td>\n",
       "      <td>1.139550e+10</td>\n",
       "    </tr>\n",
       "    <tr>\n",
       "      <th>PropertyPlantAndEquipmentNet</th>\n",
       "      <td>410.0</td>\n",
       "      <td>1.346942e+09</td>\n",
       "      <td>5.818129e+09</td>\n",
       "      <td>4.530000e+03</td>\n",
       "      <td>8.986007e+06</td>\n",
       "      <td>8.840950e+07</td>\n",
       "      <td>5.383000e+08</td>\n",
       "      <td>5.951000e+10</td>\n",
       "    </tr>\n",
       "    <tr>\n",
       "      <th>SalesRevenueNet</th>\n",
       "      <td>410.0</td>\n",
       "      <td>2.139220e+09</td>\n",
       "      <td>6.448746e+09</td>\n",
       "      <td>2.527700e+04</td>\n",
       "      <td>7.235975e+07</td>\n",
       "      <td>3.747610e+08</td>\n",
       "      <td>1.317214e+09</td>\n",
       "      <td>7.137650e+10</td>\n",
       "    </tr>\n",
       "    <tr>\n",
       "      <th>TotalNetAccruals</th>\n",
       "      <td>410.0</td>\n",
       "      <td>-2.848332e+08</td>\n",
       "      <td>1.111460e+09</td>\n",
       "      <td>-1.138100e+10</td>\n",
       "      <td>-1.428844e+08</td>\n",
       "      <td>-2.803375e+07</td>\n",
       "      <td>-1.905370e+06</td>\n",
       "      <td>1.896800e+09</td>\n",
       "    </tr>\n",
       "    <tr>\n",
       "      <th>AssetsPrior</th>\n",
       "      <td>410.0</td>\n",
       "      <td>3.899279e+09</td>\n",
       "      <td>1.040256e+10</td>\n",
       "      <td>3.890600e+04</td>\n",
       "      <td>1.049255e+08</td>\n",
       "      <td>5.733129e+08</td>\n",
       "      <td>2.276154e+09</td>\n",
       "      <td>7.812700e+10</td>\n",
       "    </tr>\n",
       "    <tr>\n",
       "      <th>RevPrior</th>\n",
       "      <td>410.0</td>\n",
       "      <td>2.206297e+09</td>\n",
       "      <td>6.647287e+09</td>\n",
       "      <td>-1.289950e+05</td>\n",
       "      <td>6.180688e+07</td>\n",
       "      <td>3.603220e+08</td>\n",
       "      <td>1.362438e+09</td>\n",
       "      <td>5.915800e+10</td>\n",
       "    </tr>\n",
       "    <tr>\n",
       "      <th>ArPrior</th>\n",
       "      <td>410.0</td>\n",
       "      <td>3.608187e+08</td>\n",
       "      <td>9.287361e+08</td>\n",
       "      <td>0.000000e+00</td>\n",
       "      <td>8.787170e+06</td>\n",
       "      <td>6.310600e+07</td>\n",
       "      <td>2.383622e+08</td>\n",
       "      <td>6.115328e+09</td>\n",
       "    </tr>\n",
       "    <tr>\n",
       "      <th>RevChange</th>\n",
       "      <td>410.0</td>\n",
       "      <td>-6.707695e+07</td>\n",
       "      <td>1.144372e+09</td>\n",
       "      <td>-9.389000e+09</td>\n",
       "      <td>-2.294750e+07</td>\n",
       "      <td>2.690375e+05</td>\n",
       "      <td>3.245512e+07</td>\n",
       "      <td>1.221850e+10</td>\n",
       "    </tr>\n",
       "    <tr>\n",
       "      <th>ARChange</th>\n",
       "      <td>410.0</td>\n",
       "      <td>-1.027514e+07</td>\n",
       "      <td>1.859963e+08</td>\n",
       "      <td>-2.201000e+09</td>\n",
       "      <td>-4.583000e+06</td>\n",
       "      <td>2.825000e+05</td>\n",
       "      <td>7.480116e+06</td>\n",
       "      <td>1.219000e+09</td>\n",
       "    </tr>\n",
       "    <tr>\n",
       "      <th>ROA</th>\n",
       "      <td>410.0</td>\n",
       "      <td>-1.086193e-01</td>\n",
       "      <td>5.833201e-01</td>\n",
       "      <td>-7.166245e+00</td>\n",
       "      <td>-6.671612e-02</td>\n",
       "      <td>2.043987e-02</td>\n",
       "      <td>5.230088e-02</td>\n",
       "      <td>4.094121e-01</td>\n",
       "    </tr>\n",
       "    <tr>\n",
       "      <th>ChangeSalesRec</th>\n",
       "      <td>410.0</td>\n",
       "      <td>-5.680181e+07</td>\n",
       "      <td>1.012735e+09</td>\n",
       "      <td>-8.782000e+09</td>\n",
       "      <td>-2.301825e+07</td>\n",
       "      <td>6.213375e+05</td>\n",
       "      <td>2.727812e+07</td>\n",
       "      <td>1.140750e+10</td>\n",
       "    </tr>\n",
       "  </tbody>\n",
       "</table>\n",
       "</div>"
      ],
      "text/plain": [
       "                                            count          mean           std  \\\n",
       "tag                                                                             \n",
       "AccountsReceivableNetCurrent                410.0  3.505436e+08  8.977213e+08   \n",
       "Assets                                      410.0  4.102572e+09  1.095470e+10   \n",
       "NetCashProvidedByUsedInOperatingActivities  410.0  4.151233e+08  1.526400e+09   \n",
       "NetIncomeLoss                               410.0  1.302900e+08  9.138933e+08   \n",
       "PropertyPlantAndEquipmentNet                410.0  1.346942e+09  5.818129e+09   \n",
       "SalesRevenueNet                             410.0  2.139220e+09  6.448746e+09   \n",
       "TotalNetAccruals                            410.0 -2.848332e+08  1.111460e+09   \n",
       "AssetsPrior                                 410.0  3.899279e+09  1.040256e+10   \n",
       "RevPrior                                    410.0  2.206297e+09  6.647287e+09   \n",
       "ArPrior                                     410.0  3.608187e+08  9.287361e+08   \n",
       "RevChange                                   410.0 -6.707695e+07  1.144372e+09   \n",
       "ARChange                                    410.0 -1.027514e+07  1.859963e+08   \n",
       "ROA                                         410.0 -1.086193e-01  5.833201e-01   \n",
       "ChangeSalesRec                              410.0 -5.680181e+07  1.012735e+09   \n",
       "\n",
       "                                                     min           25%  \\\n",
       "tag                                                                      \n",
       "AccountsReceivableNetCurrent                0.000000e+00  8.937700e+06   \n",
       "Assets                                      9.263300e+04  1.178199e+08   \n",
       "NetCashProvidedByUsedInOperatingActivities -7.898840e+08  8.320448e+05   \n",
       "NetIncomeLoss                              -7.829000e+09 -7.894000e+06   \n",
       "PropertyPlantAndEquipmentNet                4.530000e+03  8.986007e+06   \n",
       "SalesRevenueNet                             2.527700e+04  7.235975e+07   \n",
       "TotalNetAccruals                           -1.138100e+10 -1.428844e+08   \n",
       "AssetsPrior                                 3.890600e+04  1.049255e+08   \n",
       "RevPrior                                   -1.289950e+05  6.180688e+07   \n",
       "ArPrior                                     0.000000e+00  8.787170e+06   \n",
       "RevChange                                  -9.389000e+09 -2.294750e+07   \n",
       "ARChange                                   -2.201000e+09 -4.583000e+06   \n",
       "ROA                                        -7.166245e+00 -6.671612e-02   \n",
       "ChangeSalesRec                             -8.782000e+09 -2.301825e+07   \n",
       "\n",
       "                                                     50%           75%  \\\n",
       "tag                                                                      \n",
       "AccountsReceivableNetCurrent                6.307350e+07  2.551132e+08   \n",
       "Assets                                      6.236960e+08  2.518572e+09   \n",
       "NetCashProvidedByUsedInOperatingActivities  4.118150e+07  2.013768e+08   \n",
       "NetIncomeLoss                               7.356000e+06  7.773400e+07   \n",
       "PropertyPlantAndEquipmentNet                8.840950e+07  5.383000e+08   \n",
       "SalesRevenueNet                             3.747610e+08  1.317214e+09   \n",
       "TotalNetAccruals                           -2.803375e+07 -1.905370e+06   \n",
       "AssetsPrior                                 5.733129e+08  2.276154e+09   \n",
       "RevPrior                                    3.603220e+08  1.362438e+09   \n",
       "ArPrior                                     6.310600e+07  2.383622e+08   \n",
       "RevChange                                   2.690375e+05  3.245512e+07   \n",
       "ARChange                                    2.825000e+05  7.480116e+06   \n",
       "ROA                                         2.043987e-02  5.230088e-02   \n",
       "ChangeSalesRec                              6.213375e+05  2.727812e+07   \n",
       "\n",
       "                                                     max  \n",
       "tag                                                       \n",
       "AccountsReceivableNetCurrent                6.423000e+09  \n",
       "Assets                                      8.170300e+10  \n",
       "NetCashProvidedByUsedInOperatingActivities  2.032900e+10  \n",
       "NetIncomeLoss                               1.139550e+10  \n",
       "PropertyPlantAndEquipmentNet                5.951000e+10  \n",
       "SalesRevenueNet                             7.137650e+10  \n",
       "TotalNetAccruals                            1.896800e+09  \n",
       "AssetsPrior                                 7.812700e+10  \n",
       "RevPrior                                    5.915800e+10  \n",
       "ArPrior                                     6.115328e+09  \n",
       "RevChange                                   1.221850e+10  \n",
       "ARChange                                    1.219000e+09  \n",
       "ROA                                         4.094121e-01  \n",
       "ChangeSalesRec                              1.140750e+10  "
      ]
     },
     "execution_count": 19,
     "metadata": {},
     "output_type": "execute_result"
    }
   ],
   "source": [
    "##.describe data frame to show descriptive statistics\n",
    "df.describe().T"
   ]
  },
  {
   "cell_type": "markdown",
   "metadata": {},
   "source": [
    "One balance sheet item that stuck out to our audit team, is that the min AR is 0 for a company. This means that the company with $0 has no recievables on its books. For a big public company, to not have any recievables on their book is very unique and must mean that all of their revenue comes in cash. This could be a high inventory company who sells its inventory for cash. "
   ]
  },
  {
   "cell_type": "code",
   "execution_count": 20,
   "metadata": {
    "scrolled": true
   },
   "outputs": [
    {
     "data": {
      "text/plain": [
       "<matplotlib.axes._subplots.AxesSubplot at 0x1c1e582c50>"
      ]
     },
     "execution_count": 20,
     "metadata": {},
     "output_type": "execute_result"
    },
    {
     "data": {
      "image/png": "[encoded data removed]",
      "text/plain": [
       "<Figure size 864x864 with 2 Axes>"
      ]
     },
     "metadata": {
      "needs_background": "light"
     },
     "output_type": "display_data"
    }
   ],
   "source": [
    "##sns package for correlation heat map\n",
    "plt.figure(figsize= (12,12))\n",
    "plt.title(\"Correlation Matrix\")\n",
    "sns.heatmap(df.corr()[['TotalNetAccruals']].sort_values('TotalNetAccruals', ascending = False), \n",
    "            annot = True, cmap = \"coolwarm\", vmax = 1, vmin = -1, xticklabels = ['Total Net Accruals'],\n",
    "           yticklabels =[\n",
    "               'Total Net Accruals',\n",
    "               'Accounts Rec Change',\n",
    "               'Return on Assets',\n",
    "               'Revenue Change',\n",
    "               'Net Income/Loss',\n",
    "               'Change Sales and Rec',\n",
    "               'Prior Year Revenue',\n",
    "               'Accounts Rec Current',\n",
    "               'Prior Year Accounts Rec',\n",
    "               'Net Sales Revenue',\n",
    "               'PP&E',\n",
    "               'Assets',\n",
    "               'Prior Year Assets',\n",
    "               \"Net Cash Present\"\n",
    "           ])"
   ]
  },
  {
   "cell_type": "markdown",
   "metadata": {},
   "source": [
    "- Net Cash- High negative correlation with Accruals. Makes sense as the amount of cash sales increase then the amount of accruals decrease\n",
    "\n",
    "\n",
    "- Change Sales Rec- Newly Engineered feature. As the differnece of sales and recievables become larger and larger it shows that more sales are in cash. Makes sense a negative correlation with Total Accruals\n",
    "\n",
    "\n",
    "- PPE- As the book value for the equipment increases it makes sense that total accruals decrease because depreciation increases which makes expenses more than income. We capatilize ppe as assets, but once we use the equipment it becomes an expense on the books. \n",
    "\n",
    "\n",
    "- Assets - As the amount of assets increase, the amount of net accruals decrease. Has an inverse relationship with Accruals. Makes sense as liabilities increase Total Net Accruals\n",
    "\n",
    "\n",
    "- Net Sales Revenue- As the amount of revenue increase, the amount of net accruals decrease. Has an inverse relationship with Accruals. Interesting to see this relationship as this could be due to the fact that cash sales increase\n",
    "\n",
    "These variables are going to be crucial in learning total accruals. We always want to see the relationships prior to fitting the modekl"
   ]
  },
  {
   "cell_type": "markdown",
   "metadata": {},
   "source": [
    "Create a function that takes the histogram of all numeric columns in our data set"
   ]
  },
  {
   "cell_type": "code",
   "execution_count": 21,
   "metadata": {},
   "outputs": [],
   "source": [
    "def inital_hist(df, tag, xlabel,title):\n",
    "    \n",
    "    '''\n",
    "    This function is designed to take in a data frame object and return a histogram. Will use histogram on all \n",
    "    numeric columns\n",
    "    '''\n",
    "    ax = df[tag].plot(kind = 'hist', title = title\n",
    "                           , y = \"Frequency(units)\", bins = 5)\n",
    "    ax.set_xlabel(xlabel)"
   ]
  },
  {
   "cell_type": "markdown",
   "metadata": {},
   "source": [
    "We want to see the distribution of Total Accruals in millions."
   ]
  },
  {
   "cell_type": "code",
   "execution_count": 22,
   "metadata": {},
   "outputs": [
    {
     "data": {
      "image/png": "[encoded data removed]",
      "text/plain": [
       "<Figure size 432x288 with 1 Axes>"
      ]
     },
     "metadata": {
      "needs_background": "light"
     },
     "output_type": "display_data"
    }
   ],
   "source": [
    "##calls function histogram\n",
    "inital_hist(df, 'TotalNetAccruals', \"Accruals($)\", \"Distribution of Net Accruals\")"
   ]
  },
  {
   "cell_type": "markdown",
   "metadata": {},
   "source": [
    "We can see that the distribution is rather skewed, so we should try logging all numeric columns to normalize the distribution of our y variable\n"
   ]
  },
  {
   "cell_type": "markdown",
   "metadata": {},
   "source": [
    "Create a function that logs all numeric columns and plots them to show normalized distribution"
   ]
  },
  {
   "cell_type": "code",
   "execution_count": 23,
   "metadata": {},
   "outputs": [],
   "source": [
    "def take_log(x):\n",
    "    \n",
    "    '''\n",
    "    This function takes the log and adds the minimum to make all negative numbers positive.\n",
    "    '''\n",
    "    \n",
    "    log = np.log(x + abs(min(x)) + 1)\n",
    "    \n",
    "    return log\n",
    "    "
   ]
  },
  {
   "cell_type": "code",
   "execution_count": 24,
   "metadata": {},
   "outputs": [],
   "source": [
    "def log_numeric_column(df, tag, new_column, title, xlabel):\n",
    "    '''\n",
    "    This function is defined to log all numeric columns and plot the histogram related to that function\n",
    "    '''\n",
    "    df[new_column] = take_log(df[tag])\n",
    "    ax= df[new_column].plot(kind = 'hist', title = title ,bins = 5)\n",
    "    ax.set_xlabel(xlabel)"
   ]
  },
  {
   "cell_type": "code",
   "execution_count": 25,
   "metadata": {},
   "outputs": [
    {
     "data": {
      "image/png": "[encoded data removed]",
      "text/plain": [
       "<Figure size 432x288 with 1 Axes>"
      ]
     },
     "metadata": {
      "needs_background": "light"
     },
     "output_type": "display_data"
    }
   ],
   "source": [
    "##call log function\n",
    "log_numeric_column(df, \"TotalNetAccruals\", 'TotalAccrualslog', \n",
    "                   \"Log Distribution of Total Accruals\", \"Log of Accruals($)\")"
   ]
  },
  {
   "cell_type": "markdown",
   "metadata": {},
   "source": [
    "Our distribution did not normalize so we will be ignoring the log."
   ]
  },
  {
   "cell_type": "markdown",
   "metadata": {},
   "source": [
    "We want to do the same for all numeric columns(x variables)"
   ]
  },
  {
   "cell_type": "code",
   "execution_count": 27,
   "metadata": {},
   "outputs": [
    {
     "data": {
      "image/png": "[encoded data removed]",
      "text/plain": [
       "<Figure size 432x288 with 1 Axes>"
      ]
     },
     "metadata": {
      "needs_background": "light"
     },
     "output_type": "display_data"
    }
   ],
   "source": [
    "##calls inital hist function\n",
    "inital_hist(df, 'ChangeSalesRec', \"Change in Sales vs. Receivables($)\",\"Distribution of Change in Sales Rec\")"
   ]
  },
  {
   "cell_type": "code",
   "execution_count": 50,
   "metadata": {},
   "outputs": [
    {
     "data": {
      "image/png": "[encoded data removed]",
      "text/plain": [
       "<Figure size 432x288 with 1 Axes>"
      ]
     },
     "metadata": {
      "needs_background": "light"
     },
     "output_type": "display_data"
    }
   ],
   "source": [
    "##calls log features\n",
    "log_numeric_column(df, 'ChangeSalesRec', 'ChangeInSalesRecLog', \n",
    "                   \"Log Distribution of Change in Sales vs Receivables\", \"Log Change Sales vs Receivables($)\")"
   ]
  },
  {
   "cell_type": "markdown",
   "metadata": {},
   "source": [
    "Our distribution did not normalize and we will be using the original."
   ]
  },
  {
   "cell_type": "code",
   "execution_count": 49,
   "metadata": {},
   "outputs": [
    {
     "data": {
      "image/png": "[encoded data removed]",
      "text/plain": [
       "<Figure size 432x288 with 1 Axes>"
      ]
     },
     "metadata": {
      "needs_background": "light"
     },
     "output_type": "display_data"
    }
   ],
   "source": [
    "inital_hist(df, 'PropertyPlantAndEquipmentNet', \n",
    "            \"Book Value of PPE($)\",\"Distribution of PPE\")"
   ]
  },
  {
   "cell_type": "code",
   "execution_count": 30,
   "metadata": {},
   "outputs": [
    {
     "data": {
      "image/png": "[encoded data removed]",
      "text/plain": [
       "<Figure size 432x288 with 1 Axes>"
      ]
     },
     "metadata": {
      "needs_background": "light"
     },
     "output_type": "display_data"
    }
   ],
   "source": [
    "log_numeric_column(df, 'PropertyPlantAndEquipmentNet', 'LogPPE', \n",
    "                   \"Log Distribution of Book Value of PPE\", \"Log PPE($)\")"
   ]
  },
  {
   "cell_type": "markdown",
   "metadata": {},
   "source": [
    "Our distribution normalized and this will be our x variable"
   ]
  },
  {
   "cell_type": "code",
   "execution_count": 47,
   "metadata": {},
   "outputs": [
    {
     "data": {
      "image/png": "[encoded data removed]",
      "text/plain": [
       "<Figure size 432x288 with 1 Axes>"
      ]
     },
     "metadata": {
      "needs_background": "light"
     },
     "output_type": "display_data"
    }
   ],
   "source": [
    "inital_hist(df, 'NetIncomeLoss', \n",
    "            \"Book Value of Net Income($)\",\"Distribution of Net Income\")"
   ]
  },
  {
   "cell_type": "code",
   "execution_count": 46,
   "metadata": {},
   "outputs": [
    {
     "data": {
      "image/png": "[encoded data removed]",
      "text/plain": [
       "<Figure size 432x288 with 1 Axes>"
      ]
     },
     "metadata": {
      "needs_background": "light"
     },
     "output_type": "display_data"
    }
   ],
   "source": [
    "log_numeric_column(df, 'NetIncomeLoss', 'LogNetIncome', \n",
    "                   \"Log Distribution of Net Income\" , \"Log Net Income($)\")"
   ]
  },
  {
   "cell_type": "markdown",
   "metadata": {},
   "source": [
    "Our distribution became skewed and we will be using the orginial"
   ]
  },
  {
   "cell_type": "code",
   "execution_count": 45,
   "metadata": {},
   "outputs": [
    {
     "data": {
      "image/png": "[encoded data removed]",
      "text/plain": [
       "<Figure size 432x288 with 1 Axes>"
      ]
     },
     "metadata": {
      "needs_background": "light"
     },
     "output_type": "display_data"
    }
   ],
   "source": [
    "inital_hist(df, 'NetCashProvidedByUsedInOperatingActivities', \n",
    "            \"Book Value of Net Cash($)\",\"Distribution of Net Cash\")"
   ]
  },
  {
   "cell_type": "code",
   "execution_count": 44,
   "metadata": {},
   "outputs": [
    {
     "data": {
      "image/png": "[encoded data removed]",
      "text/plain": [
       "<Figure size 432x288 with 1 Axes>"
      ]
     },
     "metadata": {
      "needs_background": "light"
     },
     "output_type": "display_data"
    }
   ],
   "source": [
    "log_numeric_column(df, 'NetCashProvidedByUsedInOperatingActivities', 'LogNetCash', \n",
    "                   \"Log Distribution of Net Cash\" , \"Log Net Cash($)\")"
   ]
  },
  {
   "cell_type": "markdown",
   "metadata": {},
   "source": [
    "After logging net cash the distribution skew just went opposite. We will be keeping original"
   ]
  },
  {
   "cell_type": "code",
   "execution_count": 35,
   "metadata": {},
   "outputs": [
    {
     "data": {
      "image/png": "[encoded data removed]",
      "text/plain": [
       "<Figure size 432x288 with 1 Axes>"
      ]
     },
     "metadata": {
      "needs_background": "light"
     },
     "output_type": "display_data"
    }
   ],
   "source": [
    "inital_hist(df, 'SalesRevenueNet', \n",
    "            \"Book Value of Revenue($)\",\"Distribution of Rev\")"
   ]
  },
  {
   "cell_type": "code",
   "execution_count": 42,
   "metadata": {},
   "outputs": [
    {
     "data": {
      "image/png": "[encoded data removed]",
      "text/plain": [
       "<Figure size 432x288 with 1 Axes>"
      ]
     },
     "metadata": {
      "needs_background": "light"
     },
     "output_type": "display_data"
    }
   ],
   "source": [
    "log_numeric_column(df, 'SalesRevenueNet', 'LogRev', \n",
    "                   \"Log Distribution of NetRev\" , \"Log Net Revenue($)\")"
   ]
  },
  {
   "cell_type": "markdown",
   "metadata": {},
   "source": [
    "Our distribution normalized and this will be our x variable"
   ]
  },
  {
   "cell_type": "code",
   "execution_count": 37,
   "metadata": {},
   "outputs": [
    {
     "data": {
      "image/png": "[encoded data removed]",
      "text/plain": [
       "<Figure size 432x288 with 1 Axes>"
      ]
     },
     "metadata": {
      "needs_background": "light"
     },
     "output_type": "display_data"
    }
   ],
   "source": [
    "inital_hist(df, 'Assets', \n",
    "            \"Book Value of Assets($)\",\"Distribution of Assets\")"
   ]
  },
  {
   "cell_type": "code",
   "execution_count": 38,
   "metadata": {},
   "outputs": [
    {
     "data": {
      "image/png": "[encoded data removed]",
      "text/plain": [
       "<Figure size 432x288 with 1 Axes>"
      ]
     },
     "metadata": {
      "needs_background": "light"
     },
     "output_type": "display_data"
    }
   ],
   "source": [
    "log_numeric_column(df, 'Assets', 'LogAssets', \n",
    "                   \"Log Distribution of Assets\" , \"Log Assets($)\")"
   ]
  },
  {
   "cell_type": "markdown",
   "metadata": {},
   "source": [
    "Our distribution normalized and this will be our x variable"
   ]
  },
  {
   "cell_type": "code",
   "execution_count": 40,
   "metadata": {},
   "outputs": [
    {
     "data": {
      "image/png": "[encoded data removed]",
      "text/plain": [
       "<Figure size 432x288 with 1 Axes>"
      ]
     },
     "metadata": {
      "needs_background": "light"
     },
     "output_type": "display_data"
    }
   ],
   "source": [
    "inital_hist(df, 'AssetsPrior', \n",
    "            \"Book Value of Assets Prior($)\",\"Distribution of AssetsPrior\")"
   ]
  },
  {
   "cell_type": "code",
   "execution_count": 41,
   "metadata": {},
   "outputs": [
    {
     "data": {
      "image/png": "[encoded data removed]",
      "text/plain": [
       "<Figure size 432x288 with 1 Axes>"
      ]
     },
     "metadata": {
      "needs_background": "light"
     },
     "output_type": "display_data"
    }
   ],
   "source": [
    "log_numeric_column(df, 'AssetsPrior', 'LogAssetsPrior', \n",
    "                   \"Log Distribution of Assets Prior\" , \"Log Assets($)\")"
   ]
  },
  {
   "cell_type": "markdown",
   "metadata": {},
   "source": [
    "Our distribution normalized and this will be one of our x variables"
   ]
  },
  {
   "cell_type": "markdown",
   "metadata": {},
   "source": [
    "We want to see the relationships with the log of all x variables to the log of the y variables after engineering the features. We hope to see a positive relationship with all varaibles"
   ]
  },
  {
   "cell_type": "code",
   "execution_count": 51,
   "metadata": {},
   "outputs": [],
   "source": [
    "##create a data frame with all the features we want for the model\n",
    "df_feature_model = df[['ChangeSalesRec', 'LogPPE',\n",
    "            \"NetIncomeLoss\", \"NetCashProvidedByUsedInOperatingActivities\"\n",
    "            ,\"TotalNetAccruals\"]]\n"
   ]
  },
  {
   "cell_type": "code",
   "execution_count": 58,
   "metadata": {},
   "outputs": [
    {
     "data": {
      "image/png": "[encoded data removed]",
      "text/plain": [
       "<Figure size 720x180 with 4 Axes>"
      ]
     },
     "metadata": {
      "needs_background": "light"
     },
     "output_type": "display_data"
    }
   ],
   "source": [
    "##sns pairplot\n",
    "ax = sns.pairplot(df_feature_model, x_vars =['ChangeSalesRec', 'LogPPE',\n",
    "            \"NetIncomeLoss\", \"NetCashProvidedByUsedInOperatingActivities\"], \n",
    "             y_vars = ['TotalNetAccruals'] )\n",
    "\n",
    "ax.set(ylabel='Total Net Accruals')\n",
    "plt.show()"
   ]
  },
  {
   "cell_type": "markdown",
   "metadata": {},
   "source": [
    " We can see that change in sales and net cash of these variables repersent a negative linear trend in the relationship with total accruals. PPE and net income show a slight negative relationship with accruals. We want to test depreciation and see the relationship with accruals"
   ]
  },
  {
   "cell_type": "code",
   "execution_count": 59,
   "metadata": {},
   "outputs": [
    {
     "data": {
      "text/plain": [
       "Series([], dtype: int64)"
      ]
     },
     "execution_count": 59,
     "metadata": {},
     "output_type": "execute_result"
    }
   ],
   "source": [
    "##check for all nan values\n",
    "all_nan_values = df.isnull().sum()[df.isnull().sum()  > 0].sort_values(ascending = False)\n",
    "all_nan_values"
   ]
  },
  {
   "cell_type": "markdown",
   "metadata": {},
   "source": [
    "Ensure our data has no null values prior to model preparation"
   ]
  },
  {
   "cell_type": "markdown",
   "metadata": {},
   "source": [
    "### Model Preparation\n",
    "\n"
   ]
  },
  {
   "cell_type": "markdown",
   "metadata": {},
   "source": [
    "#### Jones Theory:\n",
    "\n",
    "$$\n",
    "\\begin{eqnarray}\n",
    "Y(Total Net Accruals) &=& \\beta_0 +  \n",
    "\\beta_1((Change in Rev - Change in AR))+  \n",
    "\\beta_2(Property Plant Equipment)\n",
    "+\\varepsilon\\\\\n",
    "\\end{eqnarray}\n",
    "$$\n",
    "\n",
    "\n",
    "#### Varun's Modified Jones Equation\n",
    "$$\n",
    "\\begin{eqnarray}\n",
    "Y(Total Net Accruals) &=& \\beta_0 +  \n",
    "\\beta_1((Change in Rev - Change in AR))+  \n",
    "\\beta_2(Property Plant Equipment) +\n",
    "\\beta_3(Assets) + \\beta_4(Revenue) +\n",
    "\\beta_5(NetCashProvidedByUsedInOperatingActivitiesPresent) +\\varepsilon\\\\\n",
    "\\end{eqnarray}\n",
    "$$\n",
    "\n",
    "\n",
    "We are choosing the features based on the equation in the feature engineering section. We chose to generate a new feature matrix consisting of all polynomial combinations of the features with degree less than or equal to the specified degree. Polynomial features provides the best approximation of the relationship between dependent and independent variable. The error term indicates potential earnings management by companies\n",
    "\n",
    "At first I used Polynomial Features to further captures extreme data. After creating the polynomial features, I lost interpretibility within the model so I decided to remove the polynomial features. This improved the cross val scores a lot and probably did so poorly because of the junk data created by polynomial featuers"
   ]
  },
  {
   "cell_type": "code",
   "execution_count": 124,
   "metadata": {},
   "outputs": [],
   "source": [
    "##list for features\n",
    "features = ['ChangeSalesRec', 'LogPPE', \"LogRev\", 'NetCashProvidedByUsedInOperatingActivities', \n",
    "            'LogAssets']"
   ]
  },
  {
   "cell_type": "code",
   "execution_count": 125,
   "metadata": {},
   "outputs": [],
   "source": [
    "##train test split\n",
    "X = df[features]\n",
    "y = df['TotalNetAccruals']\n",
    "X_train, X_test, y_train, y_test = train_test_split(X, y, test_size = .40,\n",
    "                                                    random_state = 410)"
   ]
  },
  {
   "cell_type": "markdown",
   "metadata": {},
   "source": [
    "### Modeling"
   ]
  },
  {
   "cell_type": "markdown",
   "metadata": {},
   "source": [
    "#### Baseline Model"
   ]
  },
  {
   "cell_type": "code",
   "execution_count": 126,
   "metadata": {},
   "outputs": [
    {
     "data": {
      "text/plain": [
       "-0.009507406266767271"
      ]
     },
     "execution_count": 126,
     "metadata": {},
     "output_type": "execute_result"
    }
   ],
   "source": [
    "##dummy regressor method\n",
    "dummy = DummyRegressor(strategy = \"mean\")\n",
    "dummy.fit(X_train, y_train)\n",
    "dummy.predict(X_test)\n",
    "\n",
    "dummy.score(X_test, y_test)"
   ]
  },
  {
   "cell_type": "markdown",
   "metadata": {},
   "source": [
    "The dummy regressor will predict the mean of total accruals. This R2 score shows that -.9% of the variance of testing data can be explained by the baseline model"
   ]
  },
  {
   "cell_type": "markdown",
   "metadata": {},
   "source": [
    "#### Linear  Model 1\n",
    "\n"
   ]
  },
  {
   "cell_type": "code",
   "execution_count": 127,
   "metadata": {},
   "outputs": [
    {
     "data": {
      "text/plain": [
       "LinearRegression(copy_X=True, fit_intercept=True, n_jobs=None, normalize=False)"
      ]
     },
     "execution_count": 127,
     "metadata": {},
     "output_type": "execute_result"
    }
   ],
   "source": [
    "##fit linear method\n",
    "lr = LinearRegression()\n",
    "lr.fit(X_train, y_train)"
   ]
  },
  {
   "cell_type": "code",
   "execution_count": 128,
   "metadata": {},
   "outputs": [
    {
     "name": "stdout",
     "output_type": "stream",
     "text": [
      "Training Set R^2 Score is: 0.875\n",
      "Testing Set R^2 Score is: 0.532\n"
     ]
    }
   ],
   "source": [
    "##lr.predict\n",
    "pred_train = lr.predict(X_train) \n",
    "                                      \n",
    "pred_test = lr.predict(X_test)   \n",
    "\n",
    "# Score it and round to 3 dp\n",
    "print(\"Training Set R^2 Score is:\", np.round(lr.score(X_train, y_train),3))\n",
    "print(\"Testing Set R^2 Score is:\", np.round(lr.score(X_test, y_test),3))"
   ]
  },
  {
   "cell_type": "code",
   "execution_count": 129,
   "metadata": {},
   "outputs": [
    {
     "data": {
      "text/plain": [
       "0.5501701271115331"
      ]
     },
     "execution_count": 129,
     "metadata": {},
     "output_type": "execute_result"
    }
   ],
   "source": [
    "##crosval score\n",
    "cross_val_score(lr, X, y, cv= 5).mean()"
   ]
  },
  {
   "cell_type": "markdown",
   "metadata": {},
   "source": [
    "It seems that 87.5% of the varaince of the data can be explained by the training model. And 53.2% of the variance of the data can be explained by the testing set. The limitation of this model is that it repersents slight overfitting. This could be due to the train test split and how the model is being trained. Note: The cross validation score improved tremendously after changing random state and removing polynomial features. The cross validation score is good indicator if the test score is valid or not. The cross val score is .55 which is close to the testing score Due to the inherent limitations of the model, this is the basic jones model. If given more time, I would add non cash activities such as gains/losses, retirement expense, and depreciation.The census around the basic jones model in the accounting space is that it does not do a great job at predicting accruals and modifications must be made for non financing activities. Lets see if we can run some ensemble models to get better scores "
   ]
  },
  {
   "cell_type": "markdown",
   "metadata": {},
   "source": [
    "#### Model 2: Ridge Model"
   ]
  },
  {
   "cell_type": "code",
   "execution_count": 130,
   "metadata": {},
   "outputs": [],
   "source": [
    "r_alphas = np.logspace(0, 5, 100)\n",
    "# Generates 100 values equally between 0 and 5,\n",
    "# then converts them to alphas between 10^0 and 10^5.\n",
    "\n",
    "# Cross-validate over our list of ridge alphas.\n",
    "ridge_model = RidgeCV(alphas=r_alphas, scoring='r2', cv=5)\n",
    "\n",
    "# Fit model using best ridge alpha!\n",
    "ridge_model = ridge_model.fit(X_train, y_train)"
   ]
  },
  {
   "cell_type": "code",
   "execution_count": 131,
   "metadata": {},
   "outputs": [
    {
     "data": {
      "text/plain": [
       "1.0"
      ]
     },
     "execution_count": 131,
     "metadata": {},
     "output_type": "execute_result"
    }
   ],
   "source": [
    "##check alphas\n",
    "ridge_model.alpha_"
   ]
  },
  {
   "cell_type": "code",
   "execution_count": 132,
   "metadata": {},
   "outputs": [
    {
     "name": "stdout",
     "output_type": "stream",
     "text": [
      "Train Set R^2 Score is: 0.8747272438740292\n",
      "Testing Set R^2 Score is: 0.5315906590152242\n"
     ]
    }
   ],
   "source": [
    "##print test and train score\n",
    "print(\"Train Set R^2 Score is:\", ridge_model.score(X_train, y_train))\n",
    "print(\"Testing Set R^2 Score is:\", ridge_model.score(X_test, y_test))"
   ]
  },
  {
   "cell_type": "code",
   "execution_count": 133,
   "metadata": {},
   "outputs": [
    {
     "data": {
      "text/plain": [
       "0.5452014036560382"
      ]
     },
     "execution_count": 133,
     "metadata": {},
     "output_type": "execute_result"
    }
   ],
   "source": [
    "##cross val score\n",
    "cross_val_score(ridge_model, X, y, cv= 5).mean()"
   ]
  },
  {
   "cell_type": "code",
   "execution_count": 134,
   "metadata": {},
   "outputs": [
    {
     "data": {
      "text/plain": [
       "array([-6.14016334e-02, -2.47335270e+07,  4.16060218e+07, -4.75803207e-01,\n",
       "       -4.01741425e+07])"
      ]
     },
     "execution_count": 134,
     "metadata": {},
     "output_type": "execute_result"
    }
   ],
   "source": [
    "##check coeficients\n",
    "ridge_model.coef_"
   ]
  },
  {
   "cell_type": "code",
   "execution_count": 135,
   "metadata": {},
   "outputs": [
    {
     "data": {
      "text/plain": [
       "[(-40174142.51345432, 'LogAssets'),\n",
       " (-24733526.970968474, 'LogPPE'),\n",
       " (-0.47580320664380393, 'NetCashProvidedByUsedInOperatingActivities'),\n",
       " (-0.06140163340142639, 'ChangeSalesRec'),\n",
       " (41606021.80024175, 'LogRev')]"
      ]
     },
     "execution_count": 135,
     "metadata": {},
     "output_type": "execute_result"
    }
   ],
   "source": [
    "##check best_features\n",
    "best_features = [tup for tup in list(zip(ridge_model.coef_,X_test.columns)) if tup[0] != 0]\n",
    "best_features.sort(reverse=False) #descending order\n",
    "best_features"
   ]
  },
  {
   "cell_type": "markdown",
   "metadata": {},
   "source": [
    "It seems that 87.4% of the varaince of the data can be explained by the training model. And 53.15% of the variance of the data can be explained by the testing set. The limitation of this model is that it repersents slight overfitting. The ridge model reperesents not zero out coeficients but it shows that some of the polynomial features are not zero. This could be due to the train test split and how the model is being trained. In addition the cross val score of .545 improved significantly after removing polynomial features. The cross val score is used to validate the testing score and in this case the cross val score is close to the testing score."
   ]
  },
  {
   "cell_type": "markdown",
   "metadata": {},
   "source": [
    "#### Model 3: KNN Regressor"
   ]
  },
  {
   "cell_type": "code",
   "execution_count": 136,
   "metadata": {},
   "outputs": [],
   "source": [
    "##set up gridsearch\n",
    "pipe_knn = Pipeline([\n",
    "    ('sc', StandardScaler(with_mean = False)),\n",
    "    ('model', KNeighborsRegressor())\n",
    "])\n",
    "\n",
    "knn_params = {\n",
    "    'model__n_neighbors': range(1,10),\n",
    "    'model__metric': ['euclidean', 'manhattan', 'cosine']\n",
    "}"
   ]
  },
  {
   "cell_type": "code",
   "execution_count": 137,
   "metadata": {},
   "outputs": [],
   "source": [
    "##set up pipeline\n",
    "pipe_knn_gridsearch = GridSearchCV(pipe_knn,\n",
    "                                knn_params ,\n",
    "                                cv = 5,\n",
    "                                scoring='r2',\n",
    "                                verbose=1)"
   ]
  },
  {
   "cell_type": "code",
   "execution_count": 138,
   "metadata": {},
   "outputs": [
    {
     "name": "stdout",
     "output_type": "stream",
     "text": [
      "Fitting 5 folds for each of 27 candidates, totalling 135 fits\n"
     ]
    },
    {
     "name": "stderr",
     "output_type": "stream",
     "text": [
      "[Parallel(n_jobs=1)]: Using backend SequentialBackend with 1 concurrent workers.\n",
      "[Parallel(n_jobs=1)]: Done 135 out of 135 | elapsed:    0.6s finished\n"
     ]
    }
   ],
   "source": [
    "##fit model\n",
    "results_knn = pipe_knn_gridsearch.fit(X_train, y_train);"
   ]
  },
  {
   "cell_type": "code",
   "execution_count": 139,
   "metadata": {},
   "outputs": [
    {
     "data": {
      "text/plain": [
       "{'model__metric': 'cosine', 'model__n_neighbors': 3}"
      ]
     },
     "execution_count": 139,
     "metadata": {},
     "output_type": "execute_result"
    }
   ],
   "source": [
    "##best params\n",
    "pipe_knn_gridsearch.best_params_"
   ]
  },
  {
   "cell_type": "code",
   "execution_count": 140,
   "metadata": {},
   "outputs": [
    {
     "name": "stdout",
     "output_type": "stream",
     "text": [
      "Best TRAIN set R^2: 0.6619\n",
      "Best TEST set R^2: 0.4833\n"
     ]
    }
   ],
   "source": [
    "##check best score method\n",
    "train_score = pipe_knn_gridsearch.best_score_\n",
    "print('Best TRAIN set R^2: {:.4f}'.format(train_score))\n",
    "test_score = pipe_knn_gridsearch.score(X_test, y_test)\n",
    "print('Best TEST set R^2: {:.4f}'.format(test_score))"
   ]
  },
  {
   "cell_type": "code",
   "execution_count": 141,
   "metadata": {},
   "outputs": [
    {
     "data": {
      "text/plain": [
       "0.527871818090194"
      ]
     },
     "execution_count": 141,
     "metadata": {},
     "output_type": "execute_result"
    }
   ],
   "source": [
    "##cross val score\n",
    "cross_val_score(pipe_knn_gridsearch.best_estimator_, X, y, cv= 5).mean()"
   ]
  },
  {
   "cell_type": "markdown",
   "metadata": {},
   "source": [
    "A simple implementation of KNN regression is to calculate the average of the numerical target of the K nearest neighbors.  Another approach uses an inverse distance weighted average of the K nearest neighbors. KNN regression uses the same distance functions as KNN classification. It seems that 66.19% of the varaince of the data can be explained by the training model and 48.33% of the variance of the data can be explained by the testing set. The limitation of this model is that it repersents slight overfitting. In addition the cross val score .53, which is close to the testing R^2"
   ]
  },
  {
   "cell_type": "markdown",
   "metadata": {},
   "source": [
    "#### Model 4:  Decision Tree"
   ]
  },
  {
   "cell_type": "code",
   "execution_count": 256,
   "metadata": {},
   "outputs": [],
   "source": [
    "##set up pipeline\n",
    "pipe_dt = Pipeline([\n",
    "    ('sc', StandardScaler(with_mean = False)),\n",
    "    ('model', DecisionTreeRegressor(random_state = RANDOM_STATE))\n",
    "])\n",
    "\n",
    "dt_params = {\n",
    "   'model__max_depth': [1,3,10,20],\n",
    "   'model__max_features': [1,3,5],\n",
    "   'model__min_samples_leaf' : [2, 3, 5]\n",
    "    \n",
    "    \n",
    "}"
   ]
  },
  {
   "cell_type": "code",
   "execution_count": 257,
   "metadata": {},
   "outputs": [],
   "source": [
    "##set up gridsearch\n",
    "pipe_dt_gridsearch = GridSearchCV(pipe_dt,\n",
    "                                dt_params ,\n",
    "                                cv = 5,\n",
    "                                scoring='r2',\n",
    "                                verbose=1)"
   ]
  },
  {
   "cell_type": "code",
   "execution_count": 258,
   "metadata": {},
   "outputs": [
    {
     "name": "stdout",
     "output_type": "stream",
     "text": [
      "Fitting 5 folds for each of 36 candidates, totalling 180 fits\n"
     ]
    },
    {
     "name": "stderr",
     "output_type": "stream",
     "text": [
      "[Parallel(n_jobs=1)]: Using backend SequentialBackend with 1 concurrent workers.\n",
      "[Parallel(n_jobs=1)]: Done 180 out of 180 | elapsed:    0.8s finished\n"
     ]
    }
   ],
   "source": [
    "##fit model\n",
    "results_decision = pipe_dt_gridsearch.fit(X_train, y_train)"
   ]
  },
  {
   "cell_type": "code",
   "execution_count": 259,
   "metadata": {},
   "outputs": [
    {
     "name": "stdout",
     "output_type": "stream",
     "text": [
      "Best TRAIN R^2: 0.3204\n",
      "Best TEST R^2: 0.4462\n"
     ]
    }
   ],
   "source": [
    "##set up best score\n",
    "train_score_dec = results_decision.best_score_\n",
    "print('Best TRAIN R^2: {:.4f}'.format(train_score_dec))\n",
    "test_score_dec = results_decision.score(X_test, y_test)\n",
    "print('Best TEST R^2: {:.4f}'.format(test_score_dec))"
   ]
  },
  {
   "cell_type": "code",
   "execution_count": 260,
   "metadata": {},
   "outputs": [
    {
     "data": {
      "text/plain": [
       "0.3009525118517688"
      ]
     },
     "execution_count": 260,
     "metadata": {},
     "output_type": "execute_result"
    }
   ],
   "source": [
    "##set up cross val score\n",
    "cross_val_score(pipe_dt_gridsearch.best_estimator_, X, y, cv= 5).mean()"
   ]
  },
  {
   "cell_type": "markdown",
   "metadata": {},
   "source": [
    "Our decision tree model does a worse job in determining total accruals based on depth of our trees. As seen in the model the r2 of this model tremendously decreased compared to that of the linear regression and the knn. The cross validation scores are not good and the testing scores on the full dataset cannot be trusted. The model does a worse job on determining the split off points for important features and does not do too well on the testing set. The model does not perform well on the full dataset, looking at our cross val score, and its easily interpretable. We will test further trees to determine if we can achieve a better cross val score."
   ]
  },
  {
   "cell_type": "markdown",
   "metadata": {},
   "source": [
    "#### Model 5:  Bagged Decision Tree¶"
   ]
  },
  {
   "cell_type": "code",
   "execution_count": 273,
   "metadata": {},
   "outputs": [],
   "source": [
    "##set up pipeline\n",
    "pipe_bg = Pipeline([\n",
    "    ('sc', StandardScaler(with_mean = False)),\n",
    "    ('model', BaggingRegressor(random_state = 50))\n",
    "])\n",
    "\n",
    "bg_params = {\n",
    "   'model__n_estimators': range(10, 100, 10),\n",
    "   'model__max_samples' : [0.5, 0.7, 1],\n",
    "   'model__max_features' : [1, 3, 5]\n",
    "}\n",
    "\n",
    "pipe_bg_gridsearch = GridSearchCV(pipe_bg,\n",
    "                                bg_params ,\n",
    "                                cv = 5,\n",
    "                                scoring='r2',\n",
    "                                verbose=1)"
   ]
  },
  {
   "cell_type": "code",
   "execution_count": 274,
   "metadata": {},
   "outputs": [
    {
     "name": "stdout",
     "output_type": "stream",
     "text": [
      "Fitting 5 folds for each of 81 candidates, totalling 405 fits\n"
     ]
    },
    {
     "name": "stderr",
     "output_type": "stream",
     "text": [
      "[Parallel(n_jobs=1)]: Using backend SequentialBackend with 1 concurrent workers.\n",
      "[Parallel(n_jobs=1)]: Done 405 out of 405 | elapsed:   23.0s finished\n"
     ]
    }
   ],
   "source": [
    "##set up fit model\n",
    "results_bagging = pipe_bg_gridsearch.fit(X_train, y_train)"
   ]
  },
  {
   "cell_type": "code",
   "execution_count": 275,
   "metadata": {},
   "outputs": [
    {
     "name": "stdout",
     "output_type": "stream",
     "text": [
      "Best TRAIN R^2: 0.5946\n",
      "Best TEST set R^2: 0.5493\n"
     ]
    }
   ],
   "source": [
    "##best score\n",
    "train_score_bag = results_bagging.best_score_\n",
    "print('Best TRAIN R^2: {:.4f}'.format(train_score_bag))\n",
    "test_score_bag = results_bagging.score(X_test, y_test)\n",
    "print('Best TEST set R^2: {:.4f}'.format(test_score_bag))"
   ]
  },
  {
   "cell_type": "code",
   "execution_count": 276,
   "metadata": {},
   "outputs": [
    {
     "data": {
      "text/plain": [
       "0.4981263624539524"
      ]
     },
     "execution_count": 276,
     "metadata": {},
     "output_type": "execute_result"
    }
   ],
   "source": [
    "cross_val_score(pipe_bg_gridsearch.best_estimator_, X, y, cv= 5).mean()"
   ]
  },
  {
   "cell_type": "markdown",
   "metadata": {},
   "source": [
    "Our bagging model does a better job in determining total accruals based on depth of our trees. As seen in the model the r2 of this model slightly decreased compared to that of the linear regression and the knn, but increased against decision trees. The model performs better on the full dataset than decision trees,looking at our cross val score,the model explains 50% of the variance of the data on the full dataset.We will test further trees to determine if we can achieve a better cross val score. "
   ]
  },
  {
   "cell_type": "markdown",
   "metadata": {},
   "source": [
    "#### Model 6: Random Forests¶"
   ]
  },
  {
   "cell_type": "code",
   "execution_count": 279,
   "metadata": {},
   "outputs": [],
   "source": [
    "##set up pipeline with scaled data\n",
    "pipe_rf = Pipeline(steps = [ ('sc', StandardScaler()),\n",
    "                          ('rf', RandomForestRegressor())\n",
    "                         \n",
    "                        ])    \n",
    "\n",
    "# Construct Grid Parameters\n",
    "hyperparams = {\n",
    "              'rf__n_estimators': [100, 150, 200],\n",
    "              'rf__max_depth': [None, 1, 2, 3, 4, 5],\n",
    "             'rf__min_samples_leaf' : [2, 3, 5],\n",
    "             'rf__max_features' : [1,3,5],\n",
    "            'rf__min_impurity_decrease' : [0.0, 0.1]\n",
    "    \n",
    "}\n",
    "                \n",
    "              \n",
    "\n",
    " # Perform Grid Search\n",
    "gs_rf = GridSearchCV(pipe_rf, # pipeline object replaces what we usually had as empty model class\n",
    "                 param_grid=hyperparams,\n",
    "                 cv = 5,\n",
    "                 scoring = 'r2')\n"
   ]
  },
  {
   "cell_type": "code",
   "execution_count": 280,
   "metadata": {},
   "outputs": [],
   "source": [
    "##fit data\n",
    "results_rf= gs_rf.fit(X_train, y_train)"
   ]
  },
  {
   "cell_type": "code",
   "execution_count": 281,
   "metadata": {},
   "outputs": [
    {
     "name": "stdout",
     "output_type": "stream",
     "text": [
      "Best TRAIN R^2: 0.5626\n",
      "Best TEST set R^2: 0.4976\n"
     ]
    }
   ],
   "source": [
    "##best score\n",
    "train_score_rf = results_rf.best_score_\n",
    "print('Best TRAIN R^2: {:.4f}'.format(train_score_rf))\n",
    "test_score_rf = results_rf.score(X_test, y_test)\n",
    "print('Best TEST set R^2: {:.4f}'.format(test_score_rf))"
   ]
  },
  {
   "cell_type": "code",
   "execution_count": 282,
   "metadata": {},
   "outputs": [
    {
     "data": {
      "text/plain": [
       "0.3485292290072276"
      ]
     },
     "execution_count": 282,
     "metadata": {},
     "output_type": "execute_result"
    }
   ],
   "source": [
    "cross_val_score(gs_rf.best_estimator_, X, y, cv= 5).mean()"
   ]
  },
  {
   "cell_type": "markdown",
   "metadata": {},
   "source": [
    "##### Analysis of Model 6\n",
    "\n",
    "We decided to test random forest. As the r2 score was slightly higher than bagging and decision trees, the model also did better on the full data set. This model does not compare to linear regression and we will not be using the random forest. The cross vals score seem to do better compared to the linear regression, so we can use this as a predictive model. "
   ]
  },
  {
   "cell_type": "markdown",
   "metadata": {},
   "source": [
    "#### Model 7: Ada Boost Model"
   ]
  },
  {
   "cell_type": "code",
   "execution_count": 307,
   "metadata": {},
   "outputs": [],
   "source": [
    "##set up pipeline\n",
    "pipe_ab = Pipeline(steps = [ ('sc', StandardScaler()),\n",
    "                         ('ab',AdaBoostRegressor(base_estimator=DecisionTreeRegressor(random_state = 50)))\n",
    "                         \n",
    "                        ])    \n",
    "\n",
    "# Construct Grid Parameters\n",
    "hyperparams = {\n",
    "                'ab__base_estimator__max_depth': [1,2,5],\n",
    "               'ab__learning_rate': [.5, 1,1.2],\n",
    "               'ab__loss' : ['linear', 'square', 'exponential']\n",
    "}\n",
    "                \n",
    "              \n",
    "\n",
    " # Perform Grid Search\n",
    "gs_ab = GridSearchCV(pipe_ab, # pipeline object replaces what we usually had as empty model class\n",
    "                 param_grid=hyperparams,\n",
    "                 cv = 3,\n",
    "                 scoring = 'r2')\n"
   ]
  },
  {
   "cell_type": "code",
   "execution_count": 308,
   "metadata": {},
   "outputs": [
    {
     "name": "stdout",
     "output_type": "stream",
     "text": [
      "Best TRAIN R^2: 0.7024\n",
      "Best TEST set R^2: 0.4469\n"
     ]
    }
   ],
   "source": [
    "results_ab = gs_ab.fit(X_train, y_train)\n",
    "train_score_ab = results_ab.best_score_\n",
    "print('Best TRAIN R^2: {:.4f}'.format(train_score_ab))\n",
    "test_score_ab = results_ab.score(X_test, y_test)\n",
    "print('Best TEST set R^2: {:.4f}'.format(test_score_ab))\n"
   ]
  },
  {
   "cell_type": "code",
   "execution_count": 309,
   "metadata": {},
   "outputs": [
    {
     "data": {
      "text/plain": [
       "0.16969422327069653"
      ]
     },
     "execution_count": 309,
     "metadata": {},
     "output_type": "execute_result"
    }
   ],
   "source": [
    "cross_val_score(gs_ab.best_estimator_, X, y, cv= 5).mean()"
   ]
  },
  {
   "cell_type": "markdown",
   "metadata": {},
   "source": [
    "##### Analysis of Model 7\n",
    "\n",
    "We decided to test ada boost. The cross val scores do not validate the testing score and we will further test SVR"
   ]
  },
  {
   "cell_type": "markdown",
   "metadata": {},
   "source": [
    "#### Model 8: Support Vector Machine¶"
   ]
  },
  {
   "cell_type": "code",
   "execution_count": 310,
   "metadata": {},
   "outputs": [],
   "source": [
    "##set up pipeline for svr\n",
    "pipe_svm = Pipeline([\n",
    "    ('sc', StandardScaler(with_mean = False)),\n",
    "    ('model', svm.SVR())\n",
    "])\n",
    "\n",
    "svm_params = {\n",
    "   'model__C': [1,3,10,100],\n",
    "   'model__epsilon' : range(0,1),\n",
    "   'model__gamma' : ['scale'],\n",
    "   'model__degree' : [2, 3, 4],\n",
    "   'model__kernel' : ['linear', 'poly', 'rbf']\n",
    "}\n",
    "\n",
    "gs_svm = GridSearchCV(pipe_svm, # pipeline object replaces what we usually had as empty model class\n",
    "                 param_grid=svm_params,\n",
    "                 cv = 3,\n",
    "                 scoring = 'r2')"
   ]
  },
  {
   "cell_type": "code",
   "execution_count": 311,
   "metadata": {},
   "outputs": [
    {
     "name": "stdout",
     "output_type": "stream",
     "text": [
      "Best TRAIN R^2: -0.0723\n",
      "Best TEST set R^2: 0.4469\n"
     ]
    }
   ],
   "source": [
    "results_svm = gs_svm.fit(X_train, y_train)\n",
    "train_score_svm = results_svm.best_score_\n",
    "print('Best TRAIN R^2: {:.4f}'.format(train_score_svm))\n",
    "test_score_svm = results_ab.score(X_test, y_test)\n",
    "print('Best TEST set R^2: {:.4f}'.format(test_score_svm))"
   ]
  },
  {
   "cell_type": "code",
   "execution_count": 312,
   "metadata": {},
   "outputs": [
    {
     "data": {
      "text/plain": [
       "-0.06831694955538925"
      ]
     },
     "execution_count": 312,
     "metadata": {},
     "output_type": "execute_result"
    }
   ],
   "source": [
    "cross_val_score(gs_svm.best_estimator_, X, y, cv= 5).mean()"
   ]
  },
  {
   "cell_type": "markdown",
   "metadata": {},
   "source": [
    "We decided to test ada svr. The r2 score performed really well on the train set, but it did not on the test set. This model shows too. much variation with train and test. The model's cross val score does the best on the whole data set compared to all the models. The Linear Model is much easier to interpret as the SVR is a black box model. This model performed as good as the baseline model, so we will revert back to the baseline\n"
   ]
  },
  {
   "cell_type": "markdown",
   "metadata": {},
   "source": [
    "## Model Selection\n",
    "\n",
    "|Model|Type|Train R2|Testing R2|\n",
    "|---|---|---|---|\n",
    "|**Model 1**|*Linear*|0.875|0.532| \n",
    "|**Model 2**|*Ridge*|0.874|0.531|\n",
    "|**Model 4**|*KNN Regressor*|0.662|0.483|\n",
    "|**Model 5**|*Decision Trees*|0.320|0.446|\n",
    "|**Model 6**|*Bagged Decision Trees*|0.595|0.503|\n",
    "|**Model 7**|*Random Forrest Trees*|0.563|0.497|\n",
    "|**Model 8**|*SVM*|-0.072|0.447|\n",
    "\n",
    "\n",
    "\n",
    "\n",
    "\n",
    "Based on R2 scores listed above, We have decided to choose model 1 to deliver to our audit team in predicting total net accruals. This model will be best suited for our auditors to prepare for year end audit planning in the for the 2016 audit during election time. Model 1 does the best in predicting total accrual prices, and more of the variance in the data can be explained by our model. We want to deliver high level tax solutions to our clients with the least amount of residuals."
   ]
  },
  {
   "cell_type": "markdown",
   "metadata": {},
   "source": [
    "## Model Evaluation"
   ]
  },
  {
   "cell_type": "markdown",
   "metadata": {},
   "source": [
    "### Linear Stats Model: Interpetation of Pvalues and Coeficients"
   ]
  },
  {
   "cell_type": "code",
   "execution_count": 313,
   "metadata": {
    "scrolled": true
   },
   "outputs": [
    {
     "data": {
      "text/html": [
       "<table class=\"simpletable\">\n",
       "<caption>OLS Regression Results</caption>\n",
       "<tr>\n",
       "  <th>Dep. Variable:</th>    <td>TotalNetAccruals</td> <th>  R-squared:         </th> <td>   0.665</td> \n",
       "</tr>\n",
       "<tr>\n",
       "  <th>Model:</th>                   <td>OLS</td>       <th>  Adj. R-squared:    </th> <td>   0.661</td> \n",
       "</tr>\n",
       "<tr>\n",
       "  <th>Method:</th>             <td>Least Squares</td>  <th>  F-statistic:       </th> <td>   160.5</td> \n",
       "</tr>\n",
       "<tr>\n",
       "  <th>Date:</th>             <td>Mon, 16 Mar 2020</td> <th>  Prob (F-statistic):</th> <td>1.28e-93</td> \n",
       "</tr>\n",
       "<tr>\n",
       "  <th>Time:</th>                 <td>17:42:34</td>     <th>  Log-Likelihood:    </th> <td> -8896.9</td> \n",
       "</tr>\n",
       "<tr>\n",
       "  <th>No. Observations:</th>      <td>   410</td>      <th>  AIC:               </th> <td>1.781e+04</td>\n",
       "</tr>\n",
       "<tr>\n",
       "  <th>Df Residuals:</th>          <td>   404</td>      <th>  BIC:               </th> <td>1.783e+04</td>\n",
       "</tr>\n",
       "<tr>\n",
       "  <th>Df Model:</th>              <td>     5</td>      <th>                     </th>     <td> </td>    \n",
       "</tr>\n",
       "<tr>\n",
       "  <th>Covariance Type:</th>      <td>nonrobust</td>    <th>                     </th>     <td> </td>    \n",
       "</tr>\n",
       "</table>\n",
       "<table class=\"simpletable\">\n",
       "<tr>\n",
       "                       <td></td>                         <th>coef</th>     <th>std err</th>      <th>t</th>      <th>P>|t|</th>  <th>[0.025</th>    <th>0.975]</th>  \n",
       "</tr>\n",
       "<tr>\n",
       "  <th>const</th>                                      <td> 2.001e+08</td> <td> 3.22e+08</td> <td>    0.621</td> <td> 0.535</td> <td>-4.34e+08</td> <td> 8.34e+08</td>\n",
       "</tr>\n",
       "<tr>\n",
       "  <th>ChangeSalesRec</th>                             <td>   -0.1056</td> <td>    0.032</td> <td>   -3.297</td> <td> 0.001</td> <td>   -0.169</td> <td>   -0.043</td>\n",
       "</tr>\n",
       "<tr>\n",
       "  <th>LogPPE</th>                                     <td>-7.118e+07</td> <td> 2.67e+07</td> <td>   -2.663</td> <td> 0.008</td> <td>-1.24e+08</td> <td>-1.86e+07</td>\n",
       "</tr>\n",
       "<tr>\n",
       "  <th>LogRev</th>                                     <td> 5.242e+07</td> <td> 3.74e+07</td> <td>    1.403</td> <td> 0.161</td> <td> -2.1e+07</td> <td> 1.26e+08</td>\n",
       "</tr>\n",
       "<tr>\n",
       "  <th>NetCashProvidedByUsedInOperatingActivities</th> <td>   -0.5595</td> <td>    0.023</td> <td>  -23.931</td> <td> 0.000</td> <td>   -0.605</td> <td>   -0.514</td>\n",
       "</tr>\n",
       "<tr>\n",
       "  <th>LogAssets</th>                                  <td>-5.447e+04</td> <td> 4.36e+07</td> <td>   -0.001</td> <td> 0.999</td> <td>-8.59e+07</td> <td> 8.58e+07</td>\n",
       "</tr>\n",
       "</table>\n",
       "<table class=\"simpletable\">\n",
       "<tr>\n",
       "  <th>Omnibus:</th>       <td>636.454</td> <th>  Durbin-Watson:     </th>  <td>   1.728</td> \n",
       "</tr>\n",
       "<tr>\n",
       "  <th>Prob(Omnibus):</th> <td> 0.000</td>  <th>  Jarque-Bera (JB):  </th> <td>274762.674</td>\n",
       "</tr>\n",
       "<tr>\n",
       "  <th>Skew:</th>          <td>-8.123</td>  <th>  Prob(JB):          </th>  <td>    0.00</td> \n",
       "</tr>\n",
       "<tr>\n",
       "  <th>Kurtosis:</th>      <td>128.776</td> <th>  Cond. No.          </th>  <td>1.60e+10</td> \n",
       "</tr>\n",
       "</table><br/><br/>Warnings:<br/>[1] Standard Errors assume that the covariance matrix of the errors is correctly specified.<br/>[2] The condition number is large, 1.6e+10. This might indicate that there are<br/>strong multicollinearity or other numerical problems."
      ],
      "text/plain": [
       "<class 'statsmodels.iolib.summary.Summary'>\n",
       "\"\"\"\n",
       "                            OLS Regression Results                            \n",
       "==============================================================================\n",
       "Dep. Variable:       TotalNetAccruals   R-squared:                       0.665\n",
       "Model:                            OLS   Adj. R-squared:                  0.661\n",
       "Method:                 Least Squares   F-statistic:                     160.5\n",
       "Date:                Mon, 16 Mar 2020   Prob (F-statistic):           1.28e-93\n",
       "Time:                        17:42:34   Log-Likelihood:                -8896.9\n",
       "No. Observations:                 410   AIC:                         1.781e+04\n",
       "Df Residuals:                     404   BIC:                         1.783e+04\n",
       "Df Model:                           5                                         \n",
       "Covariance Type:            nonrobust                                         \n",
       "==============================================================================================================\n",
       "                                                 coef    std err          t      P>|t|      [0.025      0.975]\n",
       "--------------------------------------------------------------------------------------------------------------\n",
       "const                                       2.001e+08   3.22e+08      0.621      0.535   -4.34e+08    8.34e+08\n",
       "ChangeSalesRec                                -0.1056      0.032     -3.297      0.001      -0.169      -0.043\n",
       "LogPPE                                     -7.118e+07   2.67e+07     -2.663      0.008   -1.24e+08   -1.86e+07\n",
       "LogRev                                      5.242e+07   3.74e+07      1.403      0.161    -2.1e+07    1.26e+08\n",
       "NetCashProvidedByUsedInOperatingActivities    -0.5595      0.023    -23.931      0.000      -0.605      -0.514\n",
       "LogAssets                                  -5.447e+04   4.36e+07     -0.001      0.999   -8.59e+07    8.58e+07\n",
       "==============================================================================\n",
       "Omnibus:                      636.454   Durbin-Watson:                   1.728\n",
       "Prob(Omnibus):                  0.000   Jarque-Bera (JB):           274762.674\n",
       "Skew:                          -8.123   Prob(JB):                         0.00\n",
       "Kurtosis:                     128.776   Cond. No.                     1.60e+10\n",
       "==============================================================================\n",
       "\n",
       "Warnings:\n",
       "[1] Standard Errors assume that the covariance matrix of the errors is correctly specified.\n",
       "[2] The condition number is large, 1.6e+10. This might indicate that there are\n",
       "strong multicollinearity or other numerical problems.\n",
       "\"\"\""
      ]
     },
     "execution_count": 313,
     "metadata": {},
     "output_type": "execute_result"
    }
   ],
   "source": [
    "##stats model for linear interpretation\n",
    "model_accruals = linear_model.LinearRegression(fit_intercept = True)\n",
    "TotalNetAccruals = df['TotalNetAccruals']\n",
    "x = df[features]\n",
    "x_constant = sm.add_constant(x)\n",
    "model_accruals = sm.OLS(TotalNetAccruals, x_constant).fit()\n",
    "model_accruals.summary()"
   ]
  },
  {
   "cell_type": "markdown",
   "metadata": {},
   "source": [
    "### Results\n",
    "I created the regression model based off the 2016 We trained this model to find a goodness of fit and coefficients to show the relationships between total accruals to the 5 variables used in both models. \n",
    "\n",
    "2016 actual model analysis: We use a Regression Analysis to see how closley related independent variables are to dependent variables. \"The result of pulling discretionary accrual amounts from the total accrual amount is a metric that reflects accruals that are due to management's choices alone; in other words, there appears to be no business reason for these accruals. So, discretionary accruals are a better proxy for earnings quality.\" We want to predict total net accruals(non discretionary) for companies based off certain independent variables. To estimate non discretionary accrual amounts, we use a time series analysis. We look at data over a period of time. This model is created based off the 2016 period and the lagged variables are the prior period. An error term is a variable that shows a misrepresentation in the relationship between the independent and dependent variable. An error term in this case is represeneted by discretionary accruals. The higher the discretionary accruals the lower the quality of earnings. Inputs Variables: Dependent Variables: Total NET ACCRUALS The Dependent variable is the variable that is being tested. We are creating our model based of 410 observations in 2016 Independent Variables: ChangeinSalesRecLog, LogPPE, LogRev, NetCashPresent, LogAssets\n",
    "\n",
    "As you can see from above we use lag variables to find the prior year assets\n",
    "\n",
    "Created a regression model to test total net accruals, based off 4 variables; ChangeinSalesRecLog, LogPPE, LogRev,  NetCashPresent, LogAssets. We want to use this model to predict total net accruals for firms and check the error rate to see managements decisions on accruals. The adjusted R squared value in this model is .665. R squared is the fraction of variation in your predicted variable in relation to your independent variable. That means that the closer the model is to 100%, explains that all the variablity is around the average. Based off these 410 observations, the model shows that 66.5 percent of the variance data is explained by this model . As you see from, the predictions based off the model shows that the predicted total net accruals are closley related to the actual net accruals. \n",
    "\n",
    "Regression coefficients represents the mean change in the response variable for one unit of change in the independent variable. Net Cash has a coefficient of -0.5595, which indicates that for every additional net cash operating you can expect Total Net Accruals log to decrease by an average of .56 dollars. Change in sales vs receivables had a coeficient of -0.1056 which means that for every unit of change in sales vs rec you can expect total accruals to decrease by .10 dollars. This makes sense because as change in sales vs rec increases that means more sales are made on cash, therefore less accruals. \n"
   ]
  },
  {
   "cell_type": "markdown",
   "metadata": {},
   "source": [
    "### Goodness of Fit:\n",
    "\n",
    "As you can see from the r squared, of .665, that the explained variation/total variation is approx 66.50 percent. The actual model had 410 observations, which could be an explanation behind the 66.50 r squared value. The closer to 100%, the less variation in the model. As you can see from the predicted observations from above, I compared the first 4 of the predicted observations to the actual observations to see the realibility of the model. The first 4 predicted net accrual amount are:\n",
    "\n",
    "You can see there are variations between the predicted observations and actual observations, but thats due to the fact that the model only explains 66.50% of the variations.\n",
    "\n",
    "The first observation that I found is the return on assets coefficient value. To get a better r squared value, I did different variations of the jones model and I dropped the ones with the lowest coeficients. Return on assets is a f/s ratio that I used in the model that I dropped due to the lack of predictive power. I initially added ROA as a component of the modified jones model but I ended up dropping this. \n",
    "\n",
    "The second observation that I found is the signifcance of the p values in both models. The higher the p value, represents the changes in the predictor is not responsive. The common alpha value is .05 and if it is greater than .05 indicates that the variable is not statistically significant. A predictor that has a low p value represents greater responsivness between changes in the tested variable. All variables, but LogRev and Log Assets showed perfect responsivness to total accruals and should be used predict the model. If given more time I would love to test depreciation expense, gains and losses from disp of assets, and retirement expense\n",
    "\n",
    "Based off the p values and the change in r squared I decided to not make any changes to the model for further testing, due to time constraints. Assets and Revenue could be dropped, but I want keep them as they are part of the modifications to the basic jones model. I will test total net accruals based off the variables that have low p values. If given more time, I would test depreciation and gains and losses to see its affect on Total Net Accruals.The model is going to be used to test future net accruals in the 2017 quarter 3 periods. We are going to look at if the predicted values are too high, too low, or equal to the actual observations."
   ]
  },
  {
   "cell_type": "code",
   "execution_count": 359,
   "metadata": {},
   "outputs": [],
   "source": [
    "\n",
    "def plot_predictions(model_name, y_train_pred ,y_train_actual):\n",
    "    '''\n",
    "    This function plots the model of choirce trained predictions vs actual. This is a good way to see the line of\n",
    "    best fit. Also takes the axises and makes them in non scientific form. Paramets y_train predictions and y _train\n",
    "    actual and the model object\n",
    "    '''\n",
    "    plt.figure(figsize= (12,12))\n",
    "    plt.scatter(y_train_actual, y_train_pred, c = \"blue\", marker = \"s\", label = \"Testing Data\")\n",
    "    plt.title(\"Predicted vs Actual Accruals\", fontsize = 24)\n",
    "    plt.xlabel(\"$\\hat{y}$ = Actual Total Accruals($ in trillions)\", fontsize = 20)\n",
    "    plt.ylabel(\"$y$ = Predicted Accruals($ in trillions)\", fontsize = 20)\n",
    "    plt.legend(loc = \"upper left\")\n",
    "    ##plt.gcf().axes[0].yaxis.get_major_formatter().set_scientific(False)\n",
    "    ##plt.gcf().axes[0].xaxis.get_major_formatter().set_scientific(False)\n",
    "    plt.plot([y_train_actual.min(), y_train_actual.max()], [y_train_actual.min(), y_train_actual.max()], c='red')\n",
    "    plt.tight_layout()"
   ]
  },
  {
   "cell_type": "code",
   "execution_count": 360,
   "metadata": {},
   "outputs": [
    {
     "data": {
      "image/png": "[encoded data removed]",
      "text/plain": [
       "<Figure size 864x864 with 1 Axes>"
      ]
     },
     "metadata": {
      "needs_background": "light"
     },
     "output_type": "display_data"
    }
   ],
   "source": [
    "##call plot predictions\n",
    "plot_predictions(lr,pred_test, y_test)"
   ]
  },
  {
   "cell_type": "markdown",
   "metadata": {},
   "source": [
    "The graph shows that many of the values are represented by the line of best fit(actual = predicted). One observation we made from this graph is that the model is unable to predict at higher accrual values. This could be due to the fact that we dont have a good sense of non cash activites and doesnt take into account changing GAAP laws. Those high earning companies could also be taking part into aggressive earnings management and our model is only capturing those smaller companies who are not. Our audit team does not want to remove outliers as we want to keep the full score of the data"
   ]
  },
  {
   "cell_type": "code",
   "execution_count": 316,
   "metadata": {},
   "outputs": [],
   "source": [
    "##calculate residuals\n",
    "residuals_1 = (y_test)- (pred_test)"
   ]
  },
  {
   "cell_type": "code",
   "execution_count": 366,
   "metadata": {},
   "outputs": [
    {
     "data": {
      "text/plain": [
       "Text(0.5, 1.0, 'Model 1 Residuals by Total Accruals')"
      ]
     },
     "execution_count": 366,
     "metadata": {},
     "output_type": "execute_result"
    },
    {
     "data": {
      "image/png": "[encoded data removed]",
      "text/plain": [
       "<Figure size 432x288 with 1 Axes>"
      ]
     },
     "metadata": {
      "needs_background": "light"
     },
     "output_type": "display_data"
    }
   ],
   "source": [
    "##create residual plot\n",
    "plt.scatter(range(len(residuals_1)), residuals_1)\n",
    "plt.axhline(0,color = 'red')\n",
    "plt.xlabel(\"Index of Residuals\", fontsize = 20)\n",
    "plt.ylabel(\"Residuals($ in trillions): $y$\", fontsize = 14)\n",
    "##plt.gcf().axes[0].yaxis.get_major_formatter().set_scientific(False)\n",
    "plt.title('Model 1 Residuals by Total Accruals', fontsize = 14)"
   ]
  },
  {
   "cell_type": "markdown",
   "metadata": {},
   "source": [
    "In this plot each point is predicted accruals where the prediction made by the model is on the x-axis, and the accuracy of the prediction is on the y-axis. The distance from the line at 0 is how bad the prediction was for that value. Residuals is derived by taking the observed minus predicted. This confirms that there is more variability at super low and high accrual values. This model could be better at predicting extremes with more non cash activities. If we had more time, we would extract each company by industry and see how well the model performs on each industry"
   ]
  },
  {
   "cell_type": "code",
   "execution_count": 367,
   "metadata": {
    "scrolled": true
   },
   "outputs": [
    {
     "data": {
      "image/png": "[encoded data removed]",
      "text/plain": [
       "<Figure size 576x432 with 1 Axes>"
      ]
     },
     "metadata": {
      "needs_background": "light"
     },
     "output_type": "display_data"
    }
   ],
   "source": [
    "plt.figure(figsize=(8, 6))\n",
    "plt.title('Distribution of Residuals', fontsize=14)\n",
    "sns.distplot(residuals_1, kde=False)\n",
    "plt.xlabel(\"Total Net Accruals(trillions ($))\")\n",
    "plt.axvline(x=residuals_1.mean(), color='black');"
   ]
  },
  {
   "cell_type": "markdown",
   "metadata": {},
   "source": [
    "The residuals roughly follow a slight normal distribution, and has a mean of 0 (indicated by the horizontal black line). The residual histogram also indicates that there are some outliers in the model that are throwing off predictions away from the mean of residuals"
   ]
  },
  {
   "cell_type": "markdown",
   "metadata": {},
   "source": [
    "### Linear Model: Validate Predictions on 2017 Q3 DataSet\n"
   ]
  },
  {
   "cell_type": "markdown",
   "metadata": {},
   "source": [
    "Do the same as the training set to validation set"
   ]
  },
  {
   "cell_type": "code",
   "execution_count": 329,
   "metadata": {},
   "outputs": [],
   "source": [
    "##pandas read function\n",
    "num4 =  pd.read_csv('../data/2017q3/num.txt', sep = '\\t', encoding=\"latin-1\")\n",
    "tag4 =  pd.read_csv('../data/2017q3/tag.txt', sep = '\\t', encoding=\"latin-1\")\n",
    "pre4 =  pd.read_csv('../data/2017q3/pre.txt', sep = '\\t', encoding=\"latin-1\")\n",
    "sub4 =  pd.read_csv('../data/2017q3/sub.txt', sep = '\\t', encoding=\"latin-1\")"
   ]
  },
  {
   "cell_type": "markdown",
   "metadata": {},
   "source": [
    "Merge on same unique identifiers"
   ]
  },
  {
   "cell_type": "code",
   "execution_count": 331,
   "metadata": {},
   "outputs": [],
   "source": [
    "##pandas merge function\n",
    "df_pre_2017 = pd.merge(pre4, sub4, how = \"left\", on=['adsh'])   #left merge\n",
    "df_tag_2017 = pd.merge(df_pre_2017, tag4, how= \"inner\", on =['tag', 'version'])\n",
    "df_num_2017 = pd.merge(df_tag_2017, num4, how = \"inner\", on =['adsh', 'tag', 'version'])\n",
    "sec_data2017 = df_num_2017[['cik','adsh' , 'afs' , 'qtrs' , 'fy' , 'fp', 'tag', 'version', 'value' , 'ddate']].sort_values(['cik'])"
   ]
  },
  {
   "cell_type": "markdown",
   "metadata": {},
   "source": [
    "Call get tags function created earlier. Great function for generalization"
   ]
  },
  {
   "cell_type": "code",
   "execution_count": 332,
   "metadata": {},
   "outputs": [],
   "source": [
    "##call get_tags function\n",
    "Regression_2017 = get_tags(sec_data2017,'NetIncomeLoss','NetCashProvidedByUsedInOperatingActivities','SalesRevenueNet','Assets',\n",
    "'AccountsReceivableNetCurrent','PropertyPlantAndEquipmentNet')"
   ]
  },
  {
   "cell_type": "markdown",
   "metadata": {},
   "source": [
    "Call Engineer Function to filter out by 3q"
   ]
  },
  {
   "cell_type": "code",
   "execution_count": 333,
   "metadata": {},
   "outputs": [
    {
     "data": {
      "text/html": [
       "<div>\n",
       "<style scoped>\n",
       "    .dataframe tbody tr th:only-of-type {\n",
       "        vertical-align: middle;\n",
       "    }\n",
       "\n",
       "    .dataframe tbody tr th {\n",
       "        vertical-align: top;\n",
       "    }\n",
       "\n",
       "    .dataframe thead th {\n",
       "        text-align: right;\n",
       "    }\n",
       "</style>\n",
       "<table border=\"1\" class=\"dataframe\">\n",
       "  <thead>\n",
       "    <tr style=\"text-align: right;\">\n",
       "      <th></th>\n",
       "      <th>tag</th>\n",
       "      <th>AccountsReceivableNetCurrent</th>\n",
       "      <th>Assets</th>\n",
       "      <th>NetCashProvidedByUsedInOperatingActivities</th>\n",
       "      <th>NetIncomeLoss</th>\n",
       "      <th>PropertyPlantAndEquipmentNet</th>\n",
       "      <th>SalesRevenueNet</th>\n",
       "      <th>TotalNetAccruals</th>\n",
       "      <th>AssetsPrior</th>\n",
       "      <th>RevPrior</th>\n",
       "      <th>ArPrior</th>\n",
       "      <th>RevChange</th>\n",
       "      <th>ARChange</th>\n",
       "      <th>ROA</th>\n",
       "      <th>ChangeSalesRec</th>\n",
       "    </tr>\n",
       "    <tr>\n",
       "      <th>cik</th>\n",
       "      <th>ddate</th>\n",
       "      <th></th>\n",
       "      <th></th>\n",
       "      <th></th>\n",
       "      <th></th>\n",
       "      <th></th>\n",
       "      <th></th>\n",
       "      <th></th>\n",
       "      <th></th>\n",
       "      <th></th>\n",
       "      <th></th>\n",
       "      <th></th>\n",
       "      <th></th>\n",
       "      <th></th>\n",
       "      <th></th>\n",
       "    </tr>\n",
       "  </thead>\n",
       "  <tbody>\n",
       "    <tr>\n",
       "      <th>8670</th>\n",
       "      <th>20170630</th>\n",
       "      <td>1.703600e+09</td>\n",
       "      <td>3.718000e+10</td>\n",
       "      <td>2.125900e+09</td>\n",
       "      <td>9.996000e+08</td>\n",
       "      <td>7.799000e+08</td>\n",
       "      <td>8.518100e+09</td>\n",
       "      <td>-1.126300e+09</td>\n",
       "      <td>4.367000e+10</td>\n",
       "      <td>8.234000e+09</td>\n",
       "      <td>1.742800e+09</td>\n",
       "      <td>2.841000e+08</td>\n",
       "      <td>-39200000.0</td>\n",
       "      <td>0.026885</td>\n",
       "      <td>3.233000e+08</td>\n",
       "    </tr>\n",
       "    <tr>\n",
       "      <th>14195</th>\n",
       "      <th>20170630</th>\n",
       "      <td>2.300110e+08</td>\n",
       "      <td>1.450979e+09</td>\n",
       "      <td>9.034400e+07</td>\n",
       "      <td>5.665000e+07</td>\n",
       "      <td>3.648800e+08</td>\n",
       "      <td>1.786103e+09</td>\n",
       "      <td>-3.369400e+07</td>\n",
       "      <td>1.456667e+09</td>\n",
       "      <td>1.808778e+09</td>\n",
       "      <td>1.916780e+08</td>\n",
       "      <td>-2.267500e+07</td>\n",
       "      <td>38333000.0</td>\n",
       "      <td>0.039043</td>\n",
       "      <td>-6.100800e+07</td>\n",
       "    </tr>\n",
       "    <tr>\n",
       "      <th>37472</th>\n",
       "      <th>20170630</th>\n",
       "      <td>4.236200e+07</td>\n",
       "      <td>2.700450e+08</td>\n",
       "      <td>2.638800e+07</td>\n",
       "      <td>1.490350e+07</td>\n",
       "      <td>7.066100e+07</td>\n",
       "      <td>2.930990e+08</td>\n",
       "      <td>-1.148450e+07</td>\n",
       "      <td>2.468960e+08</td>\n",
       "      <td>3.114350e+08</td>\n",
       "      <td>4.461800e+07</td>\n",
       "      <td>-1.833600e+07</td>\n",
       "      <td>-2256000.0</td>\n",
       "      <td>0.055189</td>\n",
       "      <td>-1.608000e+07</td>\n",
       "    </tr>\n",
       "    <tr>\n",
       "      <th>50471</th>\n",
       "      <th>20170630</th>\n",
       "      <td>4.009127e+06</td>\n",
       "      <td>4.591248e+07</td>\n",
       "      <td>2.257138e+06</td>\n",
       "      <td>3.777532e+06</td>\n",
       "      <td>2.115277e+06</td>\n",
       "      <td>1.893926e+07</td>\n",
       "      <td>1.520394e+06</td>\n",
       "      <td>3.858989e+07</td>\n",
       "      <td>1.401069e+07</td>\n",
       "      <td>3.048774e+06</td>\n",
       "      <td>4.928570e+06</td>\n",
       "      <td>960353.0</td>\n",
       "      <td>0.082277</td>\n",
       "      <td>3.968217e+06</td>\n",
       "    </tr>\n",
       "    <tr>\n",
       "      <th>55242</th>\n",
       "      <th>20170630</th>\n",
       "      <td>3.804250e+08</td>\n",
       "      <td>2.415496e+09</td>\n",
       "      <td>1.922020e+08</td>\n",
       "      <td>3.689050e+07</td>\n",
       "      <td>7.443880e+08</td>\n",
       "      <td>1.311696e+09</td>\n",
       "      <td>-1.553115e+08</td>\n",
       "      <td>2.362783e+09</td>\n",
       "      <td>1.309830e+09</td>\n",
       "      <td>3.709160e+08</td>\n",
       "      <td>1.866500e+06</td>\n",
       "      <td>9509000.0</td>\n",
       "      <td>0.015272</td>\n",
       "      <td>-7.642500e+06</td>\n",
       "    </tr>\n",
       "    <tr>\n",
       "      <th>80424</th>\n",
       "      <th>20170630</th>\n",
       "      <td>4.594000e+09</td>\n",
       "      <td>1.204060e+11</td>\n",
       "      <td>1.275300e+10</td>\n",
       "      <td>8.770500e+09</td>\n",
       "      <td>1.989300e+10</td>\n",
       "      <td>4.056850e+10</td>\n",
       "      <td>-3.982500e+09</td>\n",
       "      <td>1.271360e+11</td>\n",
       "      <td>4.070050e+10</td>\n",
       "      <td>4.373000e+09</td>\n",
       "      <td>-1.320000e+08</td>\n",
       "      <td>221000000.0</td>\n",
       "      <td>0.072841</td>\n",
       "      <td>-3.530000e+08</td>\n",
       "    </tr>\n",
       "    <tr>\n",
       "      <th>89800</th>\n",
       "      <th>20170630</th>\n",
       "      <td>2.377874e+09</td>\n",
       "      <td>2.071740e+10</td>\n",
       "      <td>5.861330e+08</td>\n",
       "      <td>4.386870e+08</td>\n",
       "      <td>1.889917e+09</td>\n",
       "      <td>5.116510e+09</td>\n",
       "      <td>-1.474460e+08</td>\n",
       "      <td>6.665677e+09</td>\n",
       "      <td>4.506537e+09</td>\n",
       "      <td>1.473078e+09</td>\n",
       "      <td>6.099735e+08</td>\n",
       "      <td>904796000.0</td>\n",
       "      <td>0.021175</td>\n",
       "      <td>-2.948225e+08</td>\n",
       "    </tr>\n",
       "    <tr>\n",
       "      <th>92679</th>\n",
       "      <th>20170630</th>\n",
       "      <td>4.534700e+07</td>\n",
       "      <td>2.171430e+08</td>\n",
       "      <td>3.146800e+07</td>\n",
       "      <td>1.502000e+06</td>\n",
       "      <td>3.445500e+07</td>\n",
       "      <td>2.509740e+08</td>\n",
       "      <td>-2.996600e+07</td>\n",
       "      <td>2.459980e+08</td>\n",
       "      <td>2.631645e+08</td>\n",
       "      <td>4.675900e+07</td>\n",
       "      <td>-1.219050e+07</td>\n",
       "      <td>-1412000.0</td>\n",
       "      <td>0.006917</td>\n",
       "      <td>-1.077850e+07</td>\n",
       "    </tr>\n",
       "    <tr>\n",
       "      <th>100548</th>\n",
       "      <th>20170630</th>\n",
       "      <td>6.924600e+07</td>\n",
       "      <td>2.904532e+09</td>\n",
       "      <td>2.366010e+08</td>\n",
       "      <td>6.539200e+07</td>\n",
       "      <td>2.174609e+09</td>\n",
       "      <td>4.573685e+08</td>\n",
       "      <td>-1.712090e+08</td>\n",
       "      <td>2.697301e+09</td>\n",
       "      <td>4.002975e+08</td>\n",
       "      <td>5.930100e+07</td>\n",
       "      <td>5.707100e+07</td>\n",
       "      <td>9945000.0</td>\n",
       "      <td>0.022514</td>\n",
       "      <td>4.712600e+07</td>\n",
       "    </tr>\n",
       "    <tr>\n",
       "      <th>102037</th>\n",
       "      <th>20170630</th>\n",
       "      <td>2.093210e+08</td>\n",
       "      <td>2.104988e+09</td>\n",
       "      <td>-1.170790e+08</td>\n",
       "      <td>3.577000e+06</td>\n",
       "      <td>3.160730e+08</td>\n",
       "      <td>2.846220e+08</td>\n",
       "      <td>1.206560e+08</td>\n",
       "      <td>2.213884e+09</td>\n",
       "      <td>2.954750e+08</td>\n",
       "      <td>2.186650e+08</td>\n",
       "      <td>-1.085300e+07</td>\n",
       "      <td>-9344000.0</td>\n",
       "      <td>0.001699</td>\n",
       "      <td>-1.509000e+06</td>\n",
       "    </tr>\n",
       "    <tr>\n",
       "      <th>103379</th>\n",
       "      <th>20170630</th>\n",
       "      <td>1.155674e+09</td>\n",
       "      <td>9.173728e+09</td>\n",
       "      <td>-4.546000e+06</td>\n",
       "      <td>2.144705e+08</td>\n",
       "      <td>9.189750e+08</td>\n",
       "      <td>3.611134e+09</td>\n",
       "      <td>2.190165e+08</td>\n",
       "      <td>9.674108e+09</td>\n",
       "      <td>3.598253e+09</td>\n",
       "      <td>1.121053e+09</td>\n",
       "      <td>1.288150e+07</td>\n",
       "      <td>34621000.0</td>\n",
       "      <td>0.023379</td>\n",
       "      <td>-2.173950e+07</td>\n",
       "    </tr>\n",
       "    <tr>\n",
       "      <th>109563</th>\n",
       "      <th>20170630</th>\n",
       "      <td>3.909310e+08</td>\n",
       "      <td>1.387595e+09</td>\n",
       "      <td>1.646190e+08</td>\n",
       "      <td>1.339100e+08</td>\n",
       "      <td>1.080680e+08</td>\n",
       "      <td>2.593746e+09</td>\n",
       "      <td>-3.070900e+07</td>\n",
       "      <td>1.312025e+09</td>\n",
       "      <td>2.519428e+09</td>\n",
       "      <td>3.478570e+08</td>\n",
       "      <td>7.431800e+07</td>\n",
       "      <td>43074000.0</td>\n",
       "      <td>0.096505</td>\n",
       "      <td>3.124400e+07</td>\n",
       "    </tr>\n",
       "    <tr>\n",
       "      <th>310354</th>\n",
       "      <th>20170630</th>\n",
       "      <td>1.270600e+08</td>\n",
       "      <td>8.676760e+08</td>\n",
       "      <td>6.343900e+07</td>\n",
       "      <td>3.033800e+07</td>\n",
       "      <td>1.331600e+08</td>\n",
       "      <td>4.861735e+08</td>\n",
       "      <td>-3.310100e+07</td>\n",
       "      <td>6.904570e+08</td>\n",
       "      <td>4.726805e+08</td>\n",
       "      <td>1.039740e+08</td>\n",
       "      <td>1.349300e+07</td>\n",
       "      <td>23086000.0</td>\n",
       "      <td>0.034965</td>\n",
       "      <td>-9.593000e+06</td>\n",
       "    </tr>\n",
       "    <tr>\n",
       "      <th>319201</th>\n",
       "      <th>20170630</th>\n",
       "      <td>5.711170e+08</td>\n",
       "      <td>5.532173e+09</td>\n",
       "      <td>1.079665e+09</td>\n",
       "      <td>5.911190e+08</td>\n",
       "      <td>2.839750e+08</td>\n",
       "      <td>2.209330e+09</td>\n",
       "      <td>-4.885460e+08</td>\n",
       "      <td>4.962432e+09</td>\n",
       "      <td>1.951832e+09</td>\n",
       "      <td>6.132330e+08</td>\n",
       "      <td>2.574985e+08</td>\n",
       "      <td>-42116000.0</td>\n",
       "      <td>0.106851</td>\n",
       "      <td>2.996145e+08</td>\n",
       "    </tr>\n",
       "    <tr>\n",
       "      <th>716643</th>\n",
       "      <th>20170630</th>\n",
       "      <td>2.347500e+07</td>\n",
       "      <td>1.011488e+09</td>\n",
       "      <td>6.005500e+07</td>\n",
       "      <td>-7.443500e+06</td>\n",
       "      <td>1.469940e+08</td>\n",
       "      <td>1.058044e+09</td>\n",
       "      <td>-6.749850e+07</td>\n",
       "      <td>1.035932e+09</td>\n",
       "      <td>1.119288e+09</td>\n",
       "      <td>2.469100e+07</td>\n",
       "      <td>-6.124400e+07</td>\n",
       "      <td>-1216000.0</td>\n",
       "      <td>-0.007359</td>\n",
       "      <td>-6.002800e+07</td>\n",
       "    </tr>\n",
       "    <tr>\n",
       "      <th>720875</th>\n",
       "      <th>20170630</th>\n",
       "      <td>5.281348e+06</td>\n",
       "      <td>2.606388e+07</td>\n",
       "      <td>-1.528328e+06</td>\n",
       "      <td>-1.866395e+06</td>\n",
       "      <td>4.973477e+06</td>\n",
       "      <td>3.575833e+07</td>\n",
       "      <td>-3.380670e+05</td>\n",
       "      <td>1.527270e+07</td>\n",
       "      <td>3.041176e+07</td>\n",
       "      <td>3.523731e+06</td>\n",
       "      <td>5.346573e+06</td>\n",
       "      <td>1757617.0</td>\n",
       "      <td>-0.071608</td>\n",
       "      <td>3.588956e+06</td>\n",
       "    </tr>\n",
       "    <tr>\n",
       "      <th>722830</th>\n",
       "      <th>20170630</th>\n",
       "      <td>4.887230e+05</td>\n",
       "      <td>1.625734e+08</td>\n",
       "      <td>-6.225014e+07</td>\n",
       "      <td>-1.032305e+08</td>\n",
       "      <td>5.245230e+06</td>\n",
       "      <td>1.866625e+06</td>\n",
       "      <td>-4.098033e+07</td>\n",
       "      <td>5.695027e+07</td>\n",
       "      <td>2.082624e+06</td>\n",
       "      <td>5.139920e+05</td>\n",
       "      <td>-2.159985e+05</td>\n",
       "      <td>-25269.0</td>\n",
       "      <td>-0.634978</td>\n",
       "      <td>-1.907295e+05</td>\n",
       "    </tr>\n",
       "    <tr>\n",
       "      <th>730464</th>\n",
       "      <th>20170630</th>\n",
       "      <td>1.733620e+08</td>\n",
       "      <td>2.314035e+09</td>\n",
       "      <td>2.279640e+08</td>\n",
       "      <td>8.257100e+07</td>\n",
       "      <td>4.888260e+08</td>\n",
       "      <td>1.130634e+09</td>\n",
       "      <td>-1.453930e+08</td>\n",
       "      <td>2.096996e+09</td>\n",
       "      <td>1.157618e+09</td>\n",
       "      <td>1.623890e+08</td>\n",
       "      <td>-2.698400e+07</td>\n",
       "      <td>10973000.0</td>\n",
       "      <td>0.035683</td>\n",
       "      <td>-3.795700e+07</td>\n",
       "    </tr>\n",
       "    <tr>\n",
       "      <th>732026</th>\n",
       "      <th>20170630</th>\n",
       "      <td>9.009000e+06</td>\n",
       "      <td>3.349800e+07</td>\n",
       "      <td>3.953000e+06</td>\n",
       "      <td>1.316000e+06</td>\n",
       "      <td>1.129100e+07</td>\n",
       "      <td>3.853800e+07</td>\n",
       "      <td>-2.637000e+06</td>\n",
       "      <td>3.221900e+07</td>\n",
       "      <td>3.445400e+07</td>\n",
       "      <td>8.826000e+06</td>\n",
       "      <td>4.084000e+06</td>\n",
       "      <td>183000.0</td>\n",
       "      <td>0.039286</td>\n",
       "      <td>3.901000e+06</td>\n",
       "    </tr>\n",
       "    <tr>\n",
       "      <th>788920</th>\n",
       "      <th>20170630</th>\n",
       "      <td>3.538000e+06</td>\n",
       "      <td>1.635100e+07</td>\n",
       "      <td>3.235000e+06</td>\n",
       "      <td>5.084000e+06</td>\n",
       "      <td>1.429000e+06</td>\n",
       "      <td>2.194300e+07</td>\n",
       "      <td>1.849000e+06</td>\n",
       "      <td>1.114700e+07</td>\n",
       "      <td>1.918900e+07</td>\n",
       "      <td>1.469000e+06</td>\n",
       "      <td>2.754000e+06</td>\n",
       "      <td>2069000.0</td>\n",
       "      <td>0.310929</td>\n",
       "      <td>6.850000e+05</td>\n",
       "    </tr>\n",
       "    <tr>\n",
       "      <th>811212</th>\n",
       "      <th>20170630</th>\n",
       "      <td>3.701000e+06</td>\n",
       "      <td>4.693200e+07</td>\n",
       "      <td>-7.215000e+06</td>\n",
       "      <td>-2.909500e+07</td>\n",
       "      <td>2.330000e+06</td>\n",
       "      <td>1.452500e+07</td>\n",
       "      <td>-2.188000e+07</td>\n",
       "      <td>4.989900e+07</td>\n",
       "      <td>1.192900e+07</td>\n",
       "      <td>3.169000e+06</td>\n",
       "      <td>2.596000e+06</td>\n",
       "      <td>532000.0</td>\n",
       "      <td>-0.619939</td>\n",
       "      <td>2.064000e+06</td>\n",
       "    </tr>\n",
       "    <tr>\n",
       "      <th>811532</th>\n",
       "      <th>20170630</th>\n",
       "      <td>1.799768e+08</td>\n",
       "      <td>1.321335e+09</td>\n",
       "      <td>3.519780e+07</td>\n",
       "      <td>7.036300e+06</td>\n",
       "      <td>6.434504e+08</td>\n",
       "      <td>1.928140e+08</td>\n",
       "      <td>-2.816150e+07</td>\n",
       "      <td>1.333401e+09</td>\n",
       "      <td>1.964774e+08</td>\n",
       "      <td>1.341662e+08</td>\n",
       "      <td>-3.663400e+06</td>\n",
       "      <td>45810600.0</td>\n",
       "      <td>0.005325</td>\n",
       "      <td>-4.947400e+07</td>\n",
       "    </tr>\n",
       "    <tr>\n",
       "      <th>825542</th>\n",
       "      <th>20170630</th>\n",
       "      <td>4.743000e+08</td>\n",
       "      <td>3.347500e+09</td>\n",
       "      <td>8.240000e+07</td>\n",
       "      <td>2.018500e+08</td>\n",
       "      <td>4.608000e+08</td>\n",
       "      <td>1.803100e+09</td>\n",
       "      <td>1.194500e+08</td>\n",
       "      <td>3.253500e+09</td>\n",
       "      <td>1.713950e+09</td>\n",
       "      <td>3.597000e+08</td>\n",
       "      <td>8.915000e+07</td>\n",
       "      <td>114600000.0</td>\n",
       "      <td>0.060299</td>\n",
       "      <td>-2.545000e+07</td>\n",
       "    </tr>\n",
       "    <tr>\n",
       "      <th>826326</th>\n",
       "      <th>20170630</th>\n",
       "      <td>1.048800e+07</td>\n",
       "      <td>9.962300e+07</td>\n",
       "      <td>2.850000e+06</td>\n",
       "      <td>-1.019900e+07</td>\n",
       "      <td>4.134900e+07</td>\n",
       "      <td>9.906900e+07</td>\n",
       "      <td>-1.304900e+07</td>\n",
       "      <td>1.205120e+08</td>\n",
       "      <td>9.412400e+07</td>\n",
       "      <td>1.367700e+07</td>\n",
       "      <td>4.945000e+06</td>\n",
       "      <td>-3189000.0</td>\n",
       "      <td>-0.102376</td>\n",
       "      <td>8.134000e+06</td>\n",
       "    </tr>\n",
       "    <tr>\n",
       "      <th>849146</th>\n",
       "      <th>20170630</th>\n",
       "      <td>1.334000e+06</td>\n",
       "      <td>4.524900e+07</td>\n",
       "      <td>6.597000e+06</td>\n",
       "      <td>8.460000e+05</td>\n",
       "      <td>3.127000e+06</td>\n",
       "      <td>1.250650e+08</td>\n",
       "      <td>-5.751000e+06</td>\n",
       "      <td>5.085500e+07</td>\n",
       "      <td>1.297865e+08</td>\n",
       "      <td>1.552000e+06</td>\n",
       "      <td>-4.721500e+06</td>\n",
       "      <td>-218000.0</td>\n",
       "      <td>0.018697</td>\n",
       "      <td>-4.503500e+06</td>\n",
       "    </tr>\n",
       "    <tr>\n",
       "      <th>884614</th>\n",
       "      <th>20170630</th>\n",
       "      <td>6.282000e+08</td>\n",
       "      <td>1.124640e+10</td>\n",
       "      <td>8.460000e+08</td>\n",
       "      <td>2.063000e+08</td>\n",
       "      <td>5.422100e+09</td>\n",
       "      <td>3.080150e+09</td>\n",
       "      <td>-6.397000e+08</td>\n",
       "      <td>1.110390e+10</td>\n",
       "      <td>2.920150e+09</td>\n",
       "      <td>6.070000e+08</td>\n",
       "      <td>1.600000e+08</td>\n",
       "      <td>21200000.0</td>\n",
       "      <td>0.018344</td>\n",
       "      <td>1.388000e+08</td>\n",
       "    </tr>\n",
       "    <tr>\n",
       "      <th>887733</th>\n",
       "      <th>20170630</th>\n",
       "      <td>2.795040e+08</td>\n",
       "      <td>1.351747e+09</td>\n",
       "      <td>4.264800e+07</td>\n",
       "      <td>5.340850e+07</td>\n",
       "      <td>1.777840e+08</td>\n",
       "      <td>1.069303e+09</td>\n",
       "      <td>1.076050e+07</td>\n",
       "      <td>1.216907e+09</td>\n",
       "      <td>9.650745e+08</td>\n",
       "      <td>2.419540e+08</td>\n",
       "      <td>1.042285e+08</td>\n",
       "      <td>37550000.0</td>\n",
       "      <td>0.039511</td>\n",
       "      <td>6.667850e+07</td>\n",
       "    </tr>\n",
       "    <tr>\n",
       "      <th>895456</th>\n",
       "      <th>20170630</th>\n",
       "      <td>3.995204e+07</td>\n",
       "      <td>1.808953e+08</td>\n",
       "      <td>7.756041e+06</td>\n",
       "      <td>2.955124e+06</td>\n",
       "      <td>2.561093e+07</td>\n",
       "      <td>8.999143e+07</td>\n",
       "      <td>-4.800917e+06</td>\n",
       "      <td>2.024930e+08</td>\n",
       "      <td>9.132507e+07</td>\n",
       "      <td>4.218860e+07</td>\n",
       "      <td>-1.333636e+06</td>\n",
       "      <td>-2236563.0</td>\n",
       "      <td>0.016336</td>\n",
       "      <td>9.029270e+05</td>\n",
       "    </tr>\n",
       "    <tr>\n",
       "      <th>896429</th>\n",
       "      <th>20170630</th>\n",
       "      <td>7.193000e+06</td>\n",
       "      <td>9.769100e+07</td>\n",
       "      <td>-6.771000e+06</td>\n",
       "      <td>-8.045000e+05</td>\n",
       "      <td>1.211100e+07</td>\n",
       "      <td>6.919100e+07</td>\n",
       "      <td>5.966500e+06</td>\n",
       "      <td>8.483300e+07</td>\n",
       "      <td>4.967600e+07</td>\n",
       "      <td>4.899000e+06</td>\n",
       "      <td>1.951500e+07</td>\n",
       "      <td>2294000.0</td>\n",
       "      <td>-0.008235</td>\n",
       "      <td>1.722100e+07</td>\n",
       "    </tr>\n",
       "    <tr>\n",
       "      <th>898770</th>\n",
       "      <th>20170630</th>\n",
       "      <td>7.553000e+06</td>\n",
       "      <td>3.446400e+07</td>\n",
       "      <td>-5.780000e+05</td>\n",
       "      <td>-3.620000e+05</td>\n",
       "      <td>6.543000e+06</td>\n",
       "      <td>2.427500e+07</td>\n",
       "      <td>2.160000e+05</td>\n",
       "      <td>3.014700e+07</td>\n",
       "      <td>2.112650e+07</td>\n",
       "      <td>5.814000e+06</td>\n",
       "      <td>3.148500e+06</td>\n",
       "      <td>1739000.0</td>\n",
       "      <td>-0.010504</td>\n",
       "      <td>1.409500e+06</td>\n",
       "    </tr>\n",
       "    <tr>\n",
       "      <th>910406</th>\n",
       "      <th>20170630</th>\n",
       "      <td>2.484360e+08</td>\n",
       "      <td>2.931104e+09</td>\n",
       "      <td>2.166240e+08</td>\n",
       "      <td>3.387150e+07</td>\n",
       "      <td>3.705110e+08</td>\n",
       "      <td>1.789098e+09</td>\n",
       "      <td>-1.827525e+08</td>\n",
       "      <td>3.008080e+09</td>\n",
       "      <td>1.811460e+09</td>\n",
       "      <td>2.789330e+08</td>\n",
       "      <td>-2.236250e+07</td>\n",
       "      <td>-30497000.0</td>\n",
       "      <td>0.011556</td>\n",
       "      <td>8.134500e+06</td>\n",
       "    </tr>\n",
       "    <tr>\n",
       "      <th>912093</th>\n",
       "      <th>20170630</th>\n",
       "      <td>1.204000e+08</td>\n",
       "      <td>2.110500e+09</td>\n",
       "      <td>8.000000e+07</td>\n",
       "      <td>9.030000e+07</td>\n",
       "      <td>1.369000e+08</td>\n",
       "      <td>5.047500e+08</td>\n",
       "      <td>1.030000e+07</td>\n",
       "      <td>1.678100e+09</td>\n",
       "      <td>5.652000e+08</td>\n",
       "      <td>1.484000e+08</td>\n",
       "      <td>-6.045000e+07</td>\n",
       "      <td>-28000000.0</td>\n",
       "      <td>0.042786</td>\n",
       "      <td>-3.245000e+07</td>\n",
       "    </tr>\n",
       "    <tr>\n",
       "      <th>912767</th>\n",
       "      <th>20170630</th>\n",
       "      <td>3.985290e+08</td>\n",
       "      <td>1.482039e+09</td>\n",
       "      <td>1.521100e+07</td>\n",
       "      <td>4.417300e+07</td>\n",
       "      <td>3.159560e+08</td>\n",
       "      <td>1.495440e+09</td>\n",
       "      <td>2.896200e+07</td>\n",
       "      <td>1.194506e+09</td>\n",
       "      <td>1.213168e+09</td>\n",
       "      <td>3.185050e+08</td>\n",
       "      <td>2.822715e+08</td>\n",
       "      <td>80024000.0</td>\n",
       "      <td>0.029806</td>\n",
       "      <td>2.022475e+08</td>\n",
       "    </tr>\n",
       "    <tr>\n",
       "      <th>918965</th>\n",
       "      <th>20170630</th>\n",
       "      <td>6.372930e+08</td>\n",
       "      <td>1.718303e+09</td>\n",
       "      <td>9.487600e+07</td>\n",
       "      <td>6.924600e+07</td>\n",
       "      <td>5.656600e+07</td>\n",
       "      <td>3.568186e+09</td>\n",
       "      <td>-2.563000e+07</td>\n",
       "      <td>1.491185e+09</td>\n",
       "      <td>3.540226e+09</td>\n",
       "      <td>5.595570e+08</td>\n",
       "      <td>2.796000e+07</td>\n",
       "      <td>77736000.0</td>\n",
       "      <td>0.040299</td>\n",
       "      <td>-4.977600e+07</td>\n",
       "    </tr>\n",
       "    <tr>\n",
       "      <th>932628</th>\n",
       "      <th>20170630</th>\n",
       "      <td>2.050390e+08</td>\n",
       "      <td>4.037974e+09</td>\n",
       "      <td>2.884880e+08</td>\n",
       "      <td>6.676900e+07</td>\n",
       "      <td>1.231653e+09</td>\n",
       "      <td>1.237909e+09</td>\n",
       "      <td>-2.217190e+08</td>\n",
       "      <td>4.366759e+09</td>\n",
       "      <td>1.182476e+09</td>\n",
       "      <td>1.875510e+08</td>\n",
       "      <td>5.543250e+07</td>\n",
       "      <td>17488000.0</td>\n",
       "      <td>0.016535</td>\n",
       "      <td>3.794450e+07</td>\n",
       "    </tr>\n",
       "    <tr>\n",
       "      <th>939930</th>\n",
       "      <th>20170630</th>\n",
       "      <td>2.005830e+08</td>\n",
       "      <td>1.975002e+09</td>\n",
       "      <td>-2.262910e+08</td>\n",
       "      <td>-3.254300e+07</td>\n",
       "      <td>2.528850e+08</td>\n",
       "      <td>2.769930e+08</td>\n",
       "      <td>1.937480e+08</td>\n",
       "      <td>1.918698e+09</td>\n",
       "      <td>2.611010e+08</td>\n",
       "      <td>1.256820e+08</td>\n",
       "      <td>1.589200e+07</td>\n",
       "      <td>74901000.0</td>\n",
       "      <td>-0.016477</td>\n",
       "      <td>-5.900900e+07</td>\n",
       "    </tr>\n",
       "    <tr>\n",
       "      <th>945828</th>\n",
       "      <th>20170630</th>\n",
       "      <td>2.840040e+05</td>\n",
       "      <td>1.981303e+06</td>\n",
       "      <td>1.225000e+05</td>\n",
       "      <td>3.332100e+04</td>\n",
       "      <td>2.731290e+05</td>\n",
       "      <td>3.628566e+06</td>\n",
       "      <td>-8.917900e+04</td>\n",
       "      <td>1.878231e+06</td>\n",
       "      <td>3.781199e+06</td>\n",
       "      <td>2.933580e+05</td>\n",
       "      <td>-1.526330e+05</td>\n",
       "      <td>-9354.0</td>\n",
       "      <td>0.016818</td>\n",
       "      <td>-1.432790e+05</td>\n",
       "    </tr>\n",
       "    <tr>\n",
       "      <th>1078271</th>\n",
       "      <th>20170630</th>\n",
       "      <td>1.207700e+08</td>\n",
       "      <td>4.833460e+08</td>\n",
       "      <td>5.928300e+07</td>\n",
       "      <td>-8.517000e+06</td>\n",
       "      <td>3.024000e+07</td>\n",
       "      <td>5.981180e+08</td>\n",
       "      <td>-6.780000e+07</td>\n",
       "      <td>3.744230e+08</td>\n",
       "      <td>5.283890e+08</td>\n",
       "      <td>8.141900e+07</td>\n",
       "      <td>6.972900e+07</td>\n",
       "      <td>39351000.0</td>\n",
       "      <td>-0.017621</td>\n",
       "      <td>3.037800e+07</td>\n",
       "    </tr>\n",
       "    <tr>\n",
       "      <th>1089143</th>\n",
       "      <th>20170630</th>\n",
       "      <td>3.615000e+06</td>\n",
       "      <td>2.860900e+07</td>\n",
       "      <td>1.218400e+07</td>\n",
       "      <td>4.776000e+06</td>\n",
       "      <td>3.163000e+06</td>\n",
       "      <td>4.405500e+07</td>\n",
       "      <td>-7.408000e+06</td>\n",
       "      <td>2.819000e+07</td>\n",
       "      <td>3.866250e+07</td>\n",
       "      <td>3.883000e+06</td>\n",
       "      <td>5.392500e+06</td>\n",
       "      <td>-268000.0</td>\n",
       "      <td>0.166940</td>\n",
       "      <td>5.660500e+06</td>\n",
       "    </tr>\n",
       "    <tr>\n",
       "      <th>1116132</th>\n",
       "      <th>20170630</th>\n",
       "      <td>2.680000e+08</td>\n",
       "      <td>5.831600e+09</td>\n",
       "      <td>8.538000e+08</td>\n",
       "      <td>3.713500e+08</td>\n",
       "      <td>6.914000e+08</td>\n",
       "      <td>2.811050e+09</td>\n",
       "      <td>-4.824500e+08</td>\n",
       "      <td>4.892700e+09</td>\n",
       "      <td>1.910267e+09</td>\n",
       "      <td>2.452000e+08</td>\n",
       "      <td>9.007833e+08</td>\n",
       "      <td>22800000.0</td>\n",
       "      <td>0.063679</td>\n",
       "      <td>8.779833e+08</td>\n",
       "    </tr>\n",
       "    <tr>\n",
       "      <th>1137789</th>\n",
       "      <th>20170630</th>\n",
       "      <td>1.199000e+09</td>\n",
       "      <td>9.268000e+09</td>\n",
       "      <td>1.916000e+09</td>\n",
       "      <td>7.720000e+08</td>\n",
       "      <td>1.875000e+09</td>\n",
       "      <td>1.077100e+10</td>\n",
       "      <td>-1.144000e+09</td>\n",
       "      <td>8.213000e+09</td>\n",
       "      <td>1.116000e+10</td>\n",
       "      <td>1.318000e+09</td>\n",
       "      <td>-3.890000e+08</td>\n",
       "      <td>-119000000.0</td>\n",
       "      <td>0.083297</td>\n",
       "      <td>-2.700000e+08</td>\n",
       "    </tr>\n",
       "    <tr>\n",
       "      <th>1140310</th>\n",
       "      <th>20170630</th>\n",
       "      <td>4.699060e+05</td>\n",
       "      <td>2.181426e+07</td>\n",
       "      <td>-7.214500e+06</td>\n",
       "      <td>-4.089536e+06</td>\n",
       "      <td>3.446253e+06</td>\n",
       "      <td>1.249418e+07</td>\n",
       "      <td>3.124964e+06</td>\n",
       "      <td>3.427197e+07</td>\n",
       "      <td>2.100023e+06</td>\n",
       "      <td>1.726330e+05</td>\n",
       "      <td>1.039416e+07</td>\n",
       "      <td>297273.0</td>\n",
       "      <td>-0.187471</td>\n",
       "      <td>1.009689e+07</td>\n",
       "    </tr>\n",
       "    <tr>\n",
       "      <th>1262976</th>\n",
       "      <th>20170630</th>\n",
       "      <td>4.863000e+07</td>\n",
       "      <td>1.679869e+09</td>\n",
       "      <td>1.567360e+08</td>\n",
       "      <td>-5.320650e+07</td>\n",
       "      <td>5.119470e+08</td>\n",
       "      <td>1.349830e+09</td>\n",
       "      <td>-2.099425e+08</td>\n",
       "      <td>1.463869e+09</td>\n",
       "      <td>1.133624e+09</td>\n",
       "      <td>3.232700e+07</td>\n",
       "      <td>2.162060e+08</td>\n",
       "      <td>16303000.0</td>\n",
       "      <td>-0.031673</td>\n",
       "      <td>1.999030e+08</td>\n",
       "    </tr>\n",
       "    <tr>\n",
       "      <th>1336917</th>\n",
       "      <th>20170630</th>\n",
       "      <td>6.027950e+08</td>\n",
       "      <td>3.894244e+09</td>\n",
       "      <td>-6.276900e+07</td>\n",
       "      <td>-1.344450e+07</td>\n",
       "      <td>8.750050e+08</td>\n",
       "      <td>1.646910e+09</td>\n",
       "      <td>4.932450e+07</td>\n",
       "      <td>3.426924e+09</td>\n",
       "      <td>1.524634e+09</td>\n",
       "      <td>4.609550e+08</td>\n",
       "      <td>1.222765e+08</td>\n",
       "      <td>141840000.0</td>\n",
       "      <td>-0.003452</td>\n",
       "      <td>-1.956350e+07</td>\n",
       "    </tr>\n",
       "    <tr>\n",
       "      <th>1377789</th>\n",
       "      <th>20170630</th>\n",
       "      <td>4.594500e+07</td>\n",
       "      <td>1.525760e+08</td>\n",
       "      <td>9.405000e+06</td>\n",
       "      <td>-1.148000e+06</td>\n",
       "      <td>1.640600e+07</td>\n",
       "      <td>1.491525e+08</td>\n",
       "      <td>-1.055300e+07</td>\n",
       "      <td>1.661110e+08</td>\n",
       "      <td>1.634710e+08</td>\n",
       "      <td>6.344900e+07</td>\n",
       "      <td>-1.431850e+07</td>\n",
       "      <td>-17504000.0</td>\n",
       "      <td>-0.007524</td>\n",
       "      <td>3.185500e+06</td>\n",
       "    </tr>\n",
       "    <tr>\n",
       "      <th>1388133</th>\n",
       "      <th>20170630</th>\n",
       "      <td>3.139300e+07</td>\n",
       "      <td>3.394520e+08</td>\n",
       "      <td>1.643300e+07</td>\n",
       "      <td>-6.699500e+06</td>\n",
       "      <td>1.906600e+07</td>\n",
       "      <td>2.267400e+08</td>\n",
       "      <td>-2.313250e+07</td>\n",
       "      <td>3.423380e+08</td>\n",
       "      <td>2.274380e+08</td>\n",
       "      <td>3.290200e+07</td>\n",
       "      <td>-6.980000e+05</td>\n",
       "      <td>-1509000.0</td>\n",
       "      <td>-0.019736</td>\n",
       "      <td>8.110000e+05</td>\n",
       "    </tr>\n",
       "    <tr>\n",
       "      <th>1474439</th>\n",
       "      <th>20170630</th>\n",
       "      <td>5.783400e+07</td>\n",
       "      <td>2.595600e+08</td>\n",
       "      <td>-9.452000e+06</td>\n",
       "      <td>-3.003600e+07</td>\n",
       "      <td>4.658000e+06</td>\n",
       "      <td>1.049375e+08</td>\n",
       "      <td>-2.058400e+07</td>\n",
       "      <td>2.182470e+08</td>\n",
       "      <td>1.155500e+08</td>\n",
       "      <td>4.221600e+07</td>\n",
       "      <td>-1.061250e+07</td>\n",
       "      <td>15618000.0</td>\n",
       "      <td>-0.115719</td>\n",
       "      <td>-2.623050e+07</td>\n",
       "    </tr>\n",
       "    <tr>\n",
       "      <th>1511737</th>\n",
       "      <th>20170630</th>\n",
       "      <td>1.405610e+08</td>\n",
       "      <td>9.727110e+08</td>\n",
       "      <td>1.120360e+08</td>\n",
       "      <td>1.590920e+08</td>\n",
       "      <td>1.291600e+07</td>\n",
       "      <td>5.469420e+08</td>\n",
       "      <td>4.705600e+07</td>\n",
       "      <td>7.471080e+08</td>\n",
       "      <td>4.260355e+08</td>\n",
       "      <td>8.279000e+07</td>\n",
       "      <td>1.209065e+08</td>\n",
       "      <td>57771000.0</td>\n",
       "      <td>0.163555</td>\n",
       "      <td>6.313550e+07</td>\n",
       "    </tr>\n",
       "    <tr>\n",
       "      <th>1564708</th>\n",
       "      <th>20170630</th>\n",
       "      <td>1.276000e+09</td>\n",
       "      <td>1.455200e+10</td>\n",
       "      <td>4.940000e+08</td>\n",
       "      <td>-5.835000e+08</td>\n",
       "      <td>1.624000e+09</td>\n",
       "      <td>5.109500e+09</td>\n",
       "      <td>-1.077500e+09</td>\n",
       "      <td>1.548300e+10</td>\n",
       "      <td>5.259000e+09</td>\n",
       "      <td>1.229000e+09</td>\n",
       "      <td>-1.495000e+08</td>\n",
       "      <td>47000000.0</td>\n",
       "      <td>-0.040098</td>\n",
       "      <td>-1.965000e+08</td>\n",
       "    </tr>\n",
       "    <tr>\n",
       "      <th>1596783</th>\n",
       "      <th>20170630</th>\n",
       "      <td>4.888000e+08</td>\n",
       "      <td>3.454300e+09</td>\n",
       "      <td>2.995000e+08</td>\n",
       "      <td>8.580000e+07</td>\n",
       "      <td>9.959000e+08</td>\n",
       "      <td>1.346150e+09</td>\n",
       "      <td>-2.137000e+08</td>\n",
       "      <td>3.091100e+09</td>\n",
       "      <td>1.190150e+09</td>\n",
       "      <td>4.148000e+08</td>\n",
       "      <td>1.560000e+08</td>\n",
       "      <td>74000000.0</td>\n",
       "      <td>0.024839</td>\n",
       "      <td>8.200000e+07</td>\n",
       "    </tr>\n",
       "    <tr>\n",
       "      <th>1609702</th>\n",
       "      <th>20170630</th>\n",
       "      <td>3.721000e+08</td>\n",
       "      <td>2.883100e+09</td>\n",
       "      <td>4.310000e+08</td>\n",
       "      <td>1.771500e+08</td>\n",
       "      <td>1.350000e+08</td>\n",
       "      <td>1.392800e+09</td>\n",
       "      <td>-2.538500e+08</td>\n",
       "      <td>2.365000e+09</td>\n",
       "      <td>1.328400e+09</td>\n",
       "      <td>3.655000e+08</td>\n",
       "      <td>6.440000e+07</td>\n",
       "      <td>6600000.0</td>\n",
       "      <td>0.061444</td>\n",
       "      <td>5.780000e+07</td>\n",
       "    </tr>\n",
       "    <tr>\n",
       "      <th>1633978</th>\n",
       "      <th>20170630</th>\n",
       "      <td>1.663000e+08</td>\n",
       "      <td>1.232900e+09</td>\n",
       "      <td>8.500000e+07</td>\n",
       "      <td>-7.870000e+07</td>\n",
       "      <td>2.735000e+08</td>\n",
       "      <td>6.121500e+08</td>\n",
       "      <td>-1.637000e+08</td>\n",
       "      <td>7.263000e+08</td>\n",
       "      <td>5.723500e+08</td>\n",
       "      <td>1.705000e+08</td>\n",
       "      <td>3.980000e+07</td>\n",
       "      <td>-4200000.0</td>\n",
       "      <td>-0.063833</td>\n",
       "      <td>4.400000e+07</td>\n",
       "    </tr>\n",
       "    <tr>\n",
       "      <th>1638290</th>\n",
       "      <th>20170630</th>\n",
       "      <td>3.500000e+06</td>\n",
       "      <td>8.332100e+07</td>\n",
       "      <td>2.623200e+07</td>\n",
       "      <td>1.294250e+07</td>\n",
       "      <td>1.482700e+07</td>\n",
       "      <td>1.434795e+08</td>\n",
       "      <td>-1.328950e+07</td>\n",
       "      <td>8.253300e+07</td>\n",
       "      <td>1.374930e+08</td>\n",
       "      <td>2.966000e+06</td>\n",
       "      <td>5.986500e+06</td>\n",
       "      <td>534000.0</td>\n",
       "      <td>0.155333</td>\n",
       "      <td>5.452500e+06</td>\n",
       "    </tr>\n",
       "  </tbody>\n",
       "</table>\n",
       "</div>"
      ],
      "text/plain": [
       "tag               AccountsReceivableNetCurrent        Assets  \\\n",
       "cik     ddate                                                  \n",
       "8670    20170630                  1.703600e+09  3.718000e+10   \n",
       "14195   20170630                  2.300110e+08  1.450979e+09   \n",
       "37472   20170630                  4.236200e+07  2.700450e+08   \n",
       "50471   20170630                  4.009127e+06  4.591248e+07   \n",
       "55242   20170630                  3.804250e+08  2.415496e+09   \n",
       "80424   20170630                  4.594000e+09  1.204060e+11   \n",
       "89800   20170630                  2.377874e+09  2.071740e+10   \n",
       "92679   20170630                  4.534700e+07  2.171430e+08   \n",
       "100548  20170630                  6.924600e+07  2.904532e+09   \n",
       "102037  20170630                  2.093210e+08  2.104988e+09   \n",
       "103379  20170630                  1.155674e+09  9.173728e+09   \n",
       "109563  20170630                  3.909310e+08  1.387595e+09   \n",
       "310354  20170630                  1.270600e+08  8.676760e+08   \n",
       "319201  20170630                  5.711170e+08  5.532173e+09   \n",
       "716643  20170630                  2.347500e+07  1.011488e+09   \n",
       "720875  20170630                  5.281348e+06  2.606388e+07   \n",
       "722830  20170630                  4.887230e+05  1.625734e+08   \n",
       "730464  20170630                  1.733620e+08  2.314035e+09   \n",
       "732026  20170630                  9.009000e+06  3.349800e+07   \n",
       "788920  20170630                  3.538000e+06  1.635100e+07   \n",
       "811212  20170630                  3.701000e+06  4.693200e+07   \n",
       "811532  20170630                  1.799768e+08  1.321335e+09   \n",
       "825542  20170630                  4.743000e+08  3.347500e+09   \n",
       "826326  20170630                  1.048800e+07  9.962300e+07   \n",
       "849146  20170630                  1.334000e+06  4.524900e+07   \n",
       "884614  20170630                  6.282000e+08  1.124640e+10   \n",
       "887733  20170630                  2.795040e+08  1.351747e+09   \n",
       "895456  20170630                  3.995204e+07  1.808953e+08   \n",
       "896429  20170630                  7.193000e+06  9.769100e+07   \n",
       "898770  20170630                  7.553000e+06  3.446400e+07   \n",
       "910406  20170630                  2.484360e+08  2.931104e+09   \n",
       "912093  20170630                  1.204000e+08  2.110500e+09   \n",
       "912767  20170630                  3.985290e+08  1.482039e+09   \n",
       "918965  20170630                  6.372930e+08  1.718303e+09   \n",
       "932628  20170630                  2.050390e+08  4.037974e+09   \n",
       "939930  20170630                  2.005830e+08  1.975002e+09   \n",
       "945828  20170630                  2.840040e+05  1.981303e+06   \n",
       "1078271 20170630                  1.207700e+08  4.833460e+08   \n",
       "1089143 20170630                  3.615000e+06  2.860900e+07   \n",
       "1116132 20170630                  2.680000e+08  5.831600e+09   \n",
       "1137789 20170630                  1.199000e+09  9.268000e+09   \n",
       "1140310 20170630                  4.699060e+05  2.181426e+07   \n",
       "1262976 20170630                  4.863000e+07  1.679869e+09   \n",
       "1336917 20170630                  6.027950e+08  3.894244e+09   \n",
       "1377789 20170630                  4.594500e+07  1.525760e+08   \n",
       "1388133 20170630                  3.139300e+07  3.394520e+08   \n",
       "1474439 20170630                  5.783400e+07  2.595600e+08   \n",
       "1511737 20170630                  1.405610e+08  9.727110e+08   \n",
       "1564708 20170630                  1.276000e+09  1.455200e+10   \n",
       "1596783 20170630                  4.888000e+08  3.454300e+09   \n",
       "1609702 20170630                  3.721000e+08  2.883100e+09   \n",
       "1633978 20170630                  1.663000e+08  1.232900e+09   \n",
       "1638290 20170630                  3.500000e+06  8.332100e+07   \n",
       "\n",
       "tag               NetCashProvidedByUsedInOperatingActivities  NetIncomeLoss  \\\n",
       "cik     ddate                                                                 \n",
       "8670    20170630                                2.125900e+09   9.996000e+08   \n",
       "14195   20170630                                9.034400e+07   5.665000e+07   \n",
       "37472   20170630                                2.638800e+07   1.490350e+07   \n",
       "50471   20170630                                2.257138e+06   3.777532e+06   \n",
       "55242   20170630                                1.922020e+08   3.689050e+07   \n",
       "80424   20170630                                1.275300e+10   8.770500e+09   \n",
       "89800   20170630                                5.861330e+08   4.386870e+08   \n",
       "92679   20170630                                3.146800e+07   1.502000e+06   \n",
       "100548  20170630                                2.366010e+08   6.539200e+07   \n",
       "102037  20170630                               -1.170790e+08   3.577000e+06   \n",
       "103379  20170630                               -4.546000e+06   2.144705e+08   \n",
       "109563  20170630                                1.646190e+08   1.339100e+08   \n",
       "310354  20170630                                6.343900e+07   3.033800e+07   \n",
       "319201  20170630                                1.079665e+09   5.911190e+08   \n",
       "716643  20170630                                6.005500e+07  -7.443500e+06   \n",
       "720875  20170630                               -1.528328e+06  -1.866395e+06   \n",
       "722830  20170630                               -6.225014e+07  -1.032305e+08   \n",
       "730464  20170630                                2.279640e+08   8.257100e+07   \n",
       "732026  20170630                                3.953000e+06   1.316000e+06   \n",
       "788920  20170630                                3.235000e+06   5.084000e+06   \n",
       "811212  20170630                               -7.215000e+06  -2.909500e+07   \n",
       "811532  20170630                                3.519780e+07   7.036300e+06   \n",
       "825542  20170630                                8.240000e+07   2.018500e+08   \n",
       "826326  20170630                                2.850000e+06  -1.019900e+07   \n",
       "849146  20170630                                6.597000e+06   8.460000e+05   \n",
       "884614  20170630                                8.460000e+08   2.063000e+08   \n",
       "887733  20170630                                4.264800e+07   5.340850e+07   \n",
       "895456  20170630                                7.756041e+06   2.955124e+06   \n",
       "896429  20170630                               -6.771000e+06  -8.045000e+05   \n",
       "898770  20170630                               -5.780000e+05  -3.620000e+05   \n",
       "910406  20170630                                2.166240e+08   3.387150e+07   \n",
       "912093  20170630                                8.000000e+07   9.030000e+07   \n",
       "912767  20170630                                1.521100e+07   4.417300e+07   \n",
       "918965  20170630                                9.487600e+07   6.924600e+07   \n",
       "932628  20170630                                2.884880e+08   6.676900e+07   \n",
       "939930  20170630                               -2.262910e+08  -3.254300e+07   \n",
       "945828  20170630                                1.225000e+05   3.332100e+04   \n",
       "1078271 20170630                                5.928300e+07  -8.517000e+06   \n",
       "1089143 20170630                                1.218400e+07   4.776000e+06   \n",
       "1116132 20170630                                8.538000e+08   3.713500e+08   \n",
       "1137789 20170630                                1.916000e+09   7.720000e+08   \n",
       "1140310 20170630                               -7.214500e+06  -4.089536e+06   \n",
       "1262976 20170630                                1.567360e+08  -5.320650e+07   \n",
       "1336917 20170630                               -6.276900e+07  -1.344450e+07   \n",
       "1377789 20170630                                9.405000e+06  -1.148000e+06   \n",
       "1388133 20170630                                1.643300e+07  -6.699500e+06   \n",
       "1474439 20170630                               -9.452000e+06  -3.003600e+07   \n",
       "1511737 20170630                                1.120360e+08   1.590920e+08   \n",
       "1564708 20170630                                4.940000e+08  -5.835000e+08   \n",
       "1596783 20170630                                2.995000e+08   8.580000e+07   \n",
       "1609702 20170630                                4.310000e+08   1.771500e+08   \n",
       "1633978 20170630                                8.500000e+07  -7.870000e+07   \n",
       "1638290 20170630                                2.623200e+07   1.294250e+07   \n",
       "\n",
       "tag               PropertyPlantAndEquipmentNet  SalesRevenueNet  \\\n",
       "cik     ddate                                                     \n",
       "8670    20170630                  7.799000e+08     8.518100e+09   \n",
       "14195   20170630                  3.648800e+08     1.786103e+09   \n",
       "37472   20170630                  7.066100e+07     2.930990e+08   \n",
       "50471   20170630                  2.115277e+06     1.893926e+07   \n",
       "55242   20170630                  7.443880e+08     1.311696e+09   \n",
       "80424   20170630                  1.989300e+10     4.056850e+10   \n",
       "89800   20170630                  1.889917e+09     5.116510e+09   \n",
       "92679   20170630                  3.445500e+07     2.509740e+08   \n",
       "100548  20170630                  2.174609e+09     4.573685e+08   \n",
       "102037  20170630                  3.160730e+08     2.846220e+08   \n",
       "103379  20170630                  9.189750e+08     3.611134e+09   \n",
       "109563  20170630                  1.080680e+08     2.593746e+09   \n",
       "310354  20170630                  1.331600e+08     4.861735e+08   \n",
       "319201  20170630                  2.839750e+08     2.209330e+09   \n",
       "716643  20170630                  1.469940e+08     1.058044e+09   \n",
       "720875  20170630                  4.973477e+06     3.575833e+07   \n",
       "722830  20170630                  5.245230e+06     1.866625e+06   \n",
       "730464  20170630                  4.888260e+08     1.130634e+09   \n",
       "732026  20170630                  1.129100e+07     3.853800e+07   \n",
       "788920  20170630                  1.429000e+06     2.194300e+07   \n",
       "811212  20170630                  2.330000e+06     1.452500e+07   \n",
       "811532  20170630                  6.434504e+08     1.928140e+08   \n",
       "825542  20170630                  4.608000e+08     1.803100e+09   \n",
       "826326  20170630                  4.134900e+07     9.906900e+07   \n",
       "849146  20170630                  3.127000e+06     1.250650e+08   \n",
       "884614  20170630                  5.422100e+09     3.080150e+09   \n",
       "887733  20170630                  1.777840e+08     1.069303e+09   \n",
       "895456  20170630                  2.561093e+07     8.999143e+07   \n",
       "896429  20170630                  1.211100e+07     6.919100e+07   \n",
       "898770  20170630                  6.543000e+06     2.427500e+07   \n",
       "910406  20170630                  3.705110e+08     1.789098e+09   \n",
       "912093  20170630                  1.369000e+08     5.047500e+08   \n",
       "912767  20170630                  3.159560e+08     1.495440e+09   \n",
       "918965  20170630                  5.656600e+07     3.568186e+09   \n",
       "932628  20170630                  1.231653e+09     1.237909e+09   \n",
       "939930  20170630                  2.528850e+08     2.769930e+08   \n",
       "945828  20170630                  2.731290e+05     3.628566e+06   \n",
       "1078271 20170630                  3.024000e+07     5.981180e+08   \n",
       "1089143 20170630                  3.163000e+06     4.405500e+07   \n",
       "1116132 20170630                  6.914000e+08     2.811050e+09   \n",
       "1137789 20170630                  1.875000e+09     1.077100e+10   \n",
       "1140310 20170630                  3.446253e+06     1.249418e+07   \n",
       "1262976 20170630                  5.119470e+08     1.349830e+09   \n",
       "1336917 20170630                  8.750050e+08     1.646910e+09   \n",
       "1377789 20170630                  1.640600e+07     1.491525e+08   \n",
       "1388133 20170630                  1.906600e+07     2.267400e+08   \n",
       "1474439 20170630                  4.658000e+06     1.049375e+08   \n",
       "1511737 20170630                  1.291600e+07     5.469420e+08   \n",
       "1564708 20170630                  1.624000e+09     5.109500e+09   \n",
       "1596783 20170630                  9.959000e+08     1.346150e+09   \n",
       "1609702 20170630                  1.350000e+08     1.392800e+09   \n",
       "1633978 20170630                  2.735000e+08     6.121500e+08   \n",
       "1638290 20170630                  1.482700e+07     1.434795e+08   \n",
       "\n",
       "tag               TotalNetAccruals   AssetsPrior      RevPrior       ArPrior  \\\n",
       "cik     ddate                                                                  \n",
       "8670    20170630     -1.126300e+09  4.367000e+10  8.234000e+09  1.742800e+09   \n",
       "14195   20170630     -3.369400e+07  1.456667e+09  1.808778e+09  1.916780e+08   \n",
       "37472   20170630     -1.148450e+07  2.468960e+08  3.114350e+08  4.461800e+07   \n",
       "50471   20170630      1.520394e+06  3.858989e+07  1.401069e+07  3.048774e+06   \n",
       "55242   20170630     -1.553115e+08  2.362783e+09  1.309830e+09  3.709160e+08   \n",
       "80424   20170630     -3.982500e+09  1.271360e+11  4.070050e+10  4.373000e+09   \n",
       "89800   20170630     -1.474460e+08  6.665677e+09  4.506537e+09  1.473078e+09   \n",
       "92679   20170630     -2.996600e+07  2.459980e+08  2.631645e+08  4.675900e+07   \n",
       "100548  20170630     -1.712090e+08  2.697301e+09  4.002975e+08  5.930100e+07   \n",
       "102037  20170630      1.206560e+08  2.213884e+09  2.954750e+08  2.186650e+08   \n",
       "103379  20170630      2.190165e+08  9.674108e+09  3.598253e+09  1.121053e+09   \n",
       "109563  20170630     -3.070900e+07  1.312025e+09  2.519428e+09  3.478570e+08   \n",
       "310354  20170630     -3.310100e+07  6.904570e+08  4.726805e+08  1.039740e+08   \n",
       "319201  20170630     -4.885460e+08  4.962432e+09  1.951832e+09  6.132330e+08   \n",
       "716643  20170630     -6.749850e+07  1.035932e+09  1.119288e+09  2.469100e+07   \n",
       "720875  20170630     -3.380670e+05  1.527270e+07  3.041176e+07  3.523731e+06   \n",
       "722830  20170630     -4.098033e+07  5.695027e+07  2.082624e+06  5.139920e+05   \n",
       "730464  20170630     -1.453930e+08  2.096996e+09  1.157618e+09  1.623890e+08   \n",
       "732026  20170630     -2.637000e+06  3.221900e+07  3.445400e+07  8.826000e+06   \n",
       "788920  20170630      1.849000e+06  1.114700e+07  1.918900e+07  1.469000e+06   \n",
       "811212  20170630     -2.188000e+07  4.989900e+07  1.192900e+07  3.169000e+06   \n",
       "811532  20170630     -2.816150e+07  1.333401e+09  1.964774e+08  1.341662e+08   \n",
       "825542  20170630      1.194500e+08  3.253500e+09  1.713950e+09  3.597000e+08   \n",
       "826326  20170630     -1.304900e+07  1.205120e+08  9.412400e+07  1.367700e+07   \n",
       "849146  20170630     -5.751000e+06  5.085500e+07  1.297865e+08  1.552000e+06   \n",
       "884614  20170630     -6.397000e+08  1.110390e+10  2.920150e+09  6.070000e+08   \n",
       "887733  20170630      1.076050e+07  1.216907e+09  9.650745e+08  2.419540e+08   \n",
       "895456  20170630     -4.800917e+06  2.024930e+08  9.132507e+07  4.218860e+07   \n",
       "896429  20170630      5.966500e+06  8.483300e+07  4.967600e+07  4.899000e+06   \n",
       "898770  20170630      2.160000e+05  3.014700e+07  2.112650e+07  5.814000e+06   \n",
       "910406  20170630     -1.827525e+08  3.008080e+09  1.811460e+09  2.789330e+08   \n",
       "912093  20170630      1.030000e+07  1.678100e+09  5.652000e+08  1.484000e+08   \n",
       "912767  20170630      2.896200e+07  1.194506e+09  1.213168e+09  3.185050e+08   \n",
       "918965  20170630     -2.563000e+07  1.491185e+09  3.540226e+09  5.595570e+08   \n",
       "932628  20170630     -2.217190e+08  4.366759e+09  1.182476e+09  1.875510e+08   \n",
       "939930  20170630      1.937480e+08  1.918698e+09  2.611010e+08  1.256820e+08   \n",
       "945828  20170630     -8.917900e+04  1.878231e+06  3.781199e+06  2.933580e+05   \n",
       "1078271 20170630     -6.780000e+07  3.744230e+08  5.283890e+08  8.141900e+07   \n",
       "1089143 20170630     -7.408000e+06  2.819000e+07  3.866250e+07  3.883000e+06   \n",
       "1116132 20170630     -4.824500e+08  4.892700e+09  1.910267e+09  2.452000e+08   \n",
       "1137789 20170630     -1.144000e+09  8.213000e+09  1.116000e+10  1.318000e+09   \n",
       "1140310 20170630      3.124964e+06  3.427197e+07  2.100023e+06  1.726330e+05   \n",
       "1262976 20170630     -2.099425e+08  1.463869e+09  1.133624e+09  3.232700e+07   \n",
       "1336917 20170630      4.932450e+07  3.426924e+09  1.524634e+09  4.609550e+08   \n",
       "1377789 20170630     -1.055300e+07  1.661110e+08  1.634710e+08  6.344900e+07   \n",
       "1388133 20170630     -2.313250e+07  3.423380e+08  2.274380e+08  3.290200e+07   \n",
       "1474439 20170630     -2.058400e+07  2.182470e+08  1.155500e+08  4.221600e+07   \n",
       "1511737 20170630      4.705600e+07  7.471080e+08  4.260355e+08  8.279000e+07   \n",
       "1564708 20170630     -1.077500e+09  1.548300e+10  5.259000e+09  1.229000e+09   \n",
       "1596783 20170630     -2.137000e+08  3.091100e+09  1.190150e+09  4.148000e+08   \n",
       "1609702 20170630     -2.538500e+08  2.365000e+09  1.328400e+09  3.655000e+08   \n",
       "1633978 20170630     -1.637000e+08  7.263000e+08  5.723500e+08  1.705000e+08   \n",
       "1638290 20170630     -1.328950e+07  8.253300e+07  1.374930e+08  2.966000e+06   \n",
       "\n",
       "tag                  RevChange     ARChange       ROA  ChangeSalesRec  \n",
       "cik     ddate                                                          \n",
       "8670    20170630  2.841000e+08  -39200000.0  0.026885    3.233000e+08  \n",
       "14195   20170630 -2.267500e+07   38333000.0  0.039043   -6.100800e+07  \n",
       "37472   20170630 -1.833600e+07   -2256000.0  0.055189   -1.608000e+07  \n",
       "50471   20170630  4.928570e+06     960353.0  0.082277    3.968217e+06  \n",
       "55242   20170630  1.866500e+06    9509000.0  0.015272   -7.642500e+06  \n",
       "80424   20170630 -1.320000e+08  221000000.0  0.072841   -3.530000e+08  \n",
       "89800   20170630  6.099735e+08  904796000.0  0.021175   -2.948225e+08  \n",
       "92679   20170630 -1.219050e+07   -1412000.0  0.006917   -1.077850e+07  \n",
       "100548  20170630  5.707100e+07    9945000.0  0.022514    4.712600e+07  \n",
       "102037  20170630 -1.085300e+07   -9344000.0  0.001699   -1.509000e+06  \n",
       "103379  20170630  1.288150e+07   34621000.0  0.023379   -2.173950e+07  \n",
       "109563  20170630  7.431800e+07   43074000.0  0.096505    3.124400e+07  \n",
       "310354  20170630  1.349300e+07   23086000.0  0.034965   -9.593000e+06  \n",
       "319201  20170630  2.574985e+08  -42116000.0  0.106851    2.996145e+08  \n",
       "716643  20170630 -6.124400e+07   -1216000.0 -0.007359   -6.002800e+07  \n",
       "720875  20170630  5.346573e+06    1757617.0 -0.071608    3.588956e+06  \n",
       "722830  20170630 -2.159985e+05     -25269.0 -0.634978   -1.907295e+05  \n",
       "730464  20170630 -2.698400e+07   10973000.0  0.035683   -3.795700e+07  \n",
       "732026  20170630  4.084000e+06     183000.0  0.039286    3.901000e+06  \n",
       "788920  20170630  2.754000e+06    2069000.0  0.310929    6.850000e+05  \n",
       "811212  20170630  2.596000e+06     532000.0 -0.619939    2.064000e+06  \n",
       "811532  20170630 -3.663400e+06   45810600.0  0.005325   -4.947400e+07  \n",
       "825542  20170630  8.915000e+07  114600000.0  0.060299   -2.545000e+07  \n",
       "826326  20170630  4.945000e+06   -3189000.0 -0.102376    8.134000e+06  \n",
       "849146  20170630 -4.721500e+06    -218000.0  0.018697   -4.503500e+06  \n",
       "884614  20170630  1.600000e+08   21200000.0  0.018344    1.388000e+08  \n",
       "887733  20170630  1.042285e+08   37550000.0  0.039511    6.667850e+07  \n",
       "895456  20170630 -1.333636e+06   -2236563.0  0.016336    9.029270e+05  \n",
       "896429  20170630  1.951500e+07    2294000.0 -0.008235    1.722100e+07  \n",
       "898770  20170630  3.148500e+06    1739000.0 -0.010504    1.409500e+06  \n",
       "910406  20170630 -2.236250e+07  -30497000.0  0.011556    8.134500e+06  \n",
       "912093  20170630 -6.045000e+07  -28000000.0  0.042786   -3.245000e+07  \n",
       "912767  20170630  2.822715e+08   80024000.0  0.029806    2.022475e+08  \n",
       "918965  20170630  2.796000e+07   77736000.0  0.040299   -4.977600e+07  \n",
       "932628  20170630  5.543250e+07   17488000.0  0.016535    3.794450e+07  \n",
       "939930  20170630  1.589200e+07   74901000.0 -0.016477   -5.900900e+07  \n",
       "945828  20170630 -1.526330e+05      -9354.0  0.016818   -1.432790e+05  \n",
       "1078271 20170630  6.972900e+07   39351000.0 -0.017621    3.037800e+07  \n",
       "1089143 20170630  5.392500e+06    -268000.0  0.166940    5.660500e+06  \n",
       "1116132 20170630  9.007833e+08   22800000.0  0.063679    8.779833e+08  \n",
       "1137789 20170630 -3.890000e+08 -119000000.0  0.083297   -2.700000e+08  \n",
       "1140310 20170630  1.039416e+07     297273.0 -0.187471    1.009689e+07  \n",
       "1262976 20170630  2.162060e+08   16303000.0 -0.031673    1.999030e+08  \n",
       "1336917 20170630  1.222765e+08  141840000.0 -0.003452   -1.956350e+07  \n",
       "1377789 20170630 -1.431850e+07  -17504000.0 -0.007524    3.185500e+06  \n",
       "1388133 20170630 -6.980000e+05   -1509000.0 -0.019736    8.110000e+05  \n",
       "1474439 20170630 -1.061250e+07   15618000.0 -0.115719   -2.623050e+07  \n",
       "1511737 20170630  1.209065e+08   57771000.0  0.163555    6.313550e+07  \n",
       "1564708 20170630 -1.495000e+08   47000000.0 -0.040098   -1.965000e+08  \n",
       "1596783 20170630  1.560000e+08   74000000.0  0.024839    8.200000e+07  \n",
       "1609702 20170630  6.440000e+07    6600000.0  0.061444    5.780000e+07  \n",
       "1633978 20170630  3.980000e+07   -4200000.0 -0.063833    4.400000e+07  \n",
       "1638290 20170630  5.986500e+06     534000.0  0.155333    5.452500e+06  "
      ]
     },
     "execution_count": 333,
     "metadata": {},
     "output_type": "execute_result"
    }
   ],
   "source": [
    "##calls engineer tags\n",
    "Regression_Q317 = engineer_tags(Regression_2017, 20170630, 20160630)"
   ]
  },
  {
   "cell_type": "markdown",
   "metadata": {},
   "source": [
    "Make sure to log all features like training set"
   ]
  },
  {
   "cell_type": "code",
   "execution_count": 334,
   "metadata": {},
   "outputs": [
    {
     "data": {
      "image/png": "[encoded data removed]",
      "text/plain": [
       "<Figure size 432x288 with 1 Axes>"
      ]
     },
     "metadata": {
      "needs_background": "light"
     },
     "output_type": "display_data"
    }
   ],
   "source": [
    "##calls log numeric column\n",
    "log_numeric_column(Regression_Q317, \"TotalNetAccruals\", 'TotalAccrualslog', \n",
    "                   \"Log Distribution of Total Accruals\", \"Log Accruals($)\")"
   ]
  },
  {
   "cell_type": "markdown",
   "metadata": {},
   "source": [
    "Logging Accruals did not do anything to validation set"
   ]
  },
  {
   "cell_type": "code",
   "execution_count": 335,
   "metadata": {},
   "outputs": [
    {
     "data": {
      "image/png": "[encoded data removed]",
      "text/plain": [
       "<Figure size 432x288 with 1 Axes>"
      ]
     },
     "metadata": {
      "needs_background": "light"
     },
     "output_type": "display_data"
    }
   ],
   "source": [
    "##calls log numeric column\n",
    "log_numeric_column(Regression_Q317, 'ChangeSalesRec', 'ChangeInSalesRecLog', \n",
    "                   \"Log Distribution of Change in Sales Rec\", \"Log ChangeSalesRec($)\")"
   ]
  },
  {
   "cell_type": "markdown",
   "metadata": {},
   "source": [
    "Logging change in Sales to recievables did not do anything to validation set"
   ]
  },
  {
   "cell_type": "code",
   "execution_count": 336,
   "metadata": {},
   "outputs": [
    {
     "data": {
      "image/png": "[encoded data removed]",
      "text/plain": [
       "<Figure size 432x288 with 1 Axes>"
      ]
     },
     "metadata": {
      "needs_background": "light"
     },
     "output_type": "display_data"
    }
   ],
   "source": [
    "##calls log numeric column\n",
    "log_numeric_column(Regression_Q317, 'PropertyPlantAndEquipmentNet', 'LogPPE', \n",
    "                   \"Log Distribution of Book Value of PPE\", \"Log PPE($)\")"
   ]
  },
  {
   "cell_type": "code",
   "execution_count": 337,
   "metadata": {},
   "outputs": [
    {
     "data": {
      "image/png": "[encoded data removed]",
      "text/plain": [
       "<Figure size 432x288 with 1 Axes>"
      ]
     },
     "metadata": {
      "needs_background": "light"
     },
     "output_type": "display_data"
    }
   ],
   "source": [
    "##calls log numeric column\n",
    "log_numeric_column(Regression_Q317, 'NetIncomeLoss', 'LogNetIncome', \n",
    "                   \"Log Distribution of NetIncome\" , \"Log NetIncome($)\")"
   ]
  },
  {
   "cell_type": "markdown",
   "metadata": {},
   "source": [
    "Logging change in Net Income did not do anything to validation set"
   ]
  },
  {
   "cell_type": "code",
   "execution_count": 338,
   "metadata": {},
   "outputs": [
    {
     "data": {
      "image/png": "[encoded data removed]",
      "text/plain": [
       "<Figure size 432x288 with 1 Axes>"
      ]
     },
     "metadata": {
      "needs_background": "light"
     },
     "output_type": "display_data"
    }
   ],
   "source": [
    "##calls log numeric column\n",
    "log_numeric_column(Regression_Q317, 'NetCashProvidedByUsedInOperatingActivities', 'LogNetCash', \n",
    "                   \"Log Distribution of NetCash\" , \"Log NetCash($)\")"
   ]
  },
  {
   "cell_type": "code",
   "execution_count": 339,
   "metadata": {},
   "outputs": [
    {
     "data": {
      "image/png": "[encoded data removed]",
      "text/plain": [
       "<Figure size 432x288 with 1 Axes>"
      ]
     },
     "metadata": {
      "needs_background": "light"
     },
     "output_type": "display_data"
    }
   ],
   "source": [
    "log_numeric_column(Regression_Q317, 'Assets', 'LogAssets', \n",
    "                   \"Log Distribution of Assets\" , \"Log Assets($)\")"
   ]
  },
  {
   "cell_type": "code",
   "execution_count": 340,
   "metadata": {},
   "outputs": [
    {
     "data": {
      "image/png": "[encoded data removed]",
      "text/plain": [
       "<Figure size 432x288 with 1 Axes>"
      ]
     },
     "metadata": {
      "needs_background": "light"
     },
     "output_type": "display_data"
    }
   ],
   "source": [
    "log_numeric_column(Regression_Q317, 'SalesRevenueNet', 'LogRev', \n",
    "                   \"Log Distribution of NetRev\" , \"Log NetRev($)\")"
   ]
  },
  {
   "cell_type": "markdown",
   "metadata": {},
   "source": [
    "Normalize Distribution of X Variables"
   ]
  },
  {
   "cell_type": "markdown",
   "metadata": {},
   "source": [
    "Make sure to create poly features just like training set."
   ]
  },
  {
   "cell_type": "code",
   "execution_count": 341,
   "metadata": {},
   "outputs": [],
   "source": [
    "##features list\n",
    "features = ['ChangeSalesRec', 'LogPPE', \"LogRev\", 'NetCashProvidedByUsedInOperatingActivities', \n",
    "            'LogAssets']"
   ]
  },
  {
   "cell_type": "markdown",
   "metadata": {},
   "source": [
    "### Predict on Validation set from Linear Model"
   ]
  },
  {
   "cell_type": "code",
   "execution_count": 342,
   "metadata": {},
   "outputs": [],
   "source": [
    "##call model.predict\n",
    "linear_val= lr.predict((Regression_Q317[features]))\n",
    "\n"
   ]
  },
  {
   "cell_type": "markdown",
   "metadata": {},
   "source": [
    "Create Data frame of variance, expected average, and predicted accruals vs actual accruals"
   ]
  },
  {
   "cell_type": "code",
   "execution_count": 357,
   "metadata": {},
   "outputs": [
    {
     "data": {
      "text/html": [
       "<div>\n",
       "<style scoped>\n",
       "    .dataframe tbody tr th:only-of-type {\n",
       "        vertical-align: middle;\n",
       "    }\n",
       "\n",
       "    .dataframe tbody tr th {\n",
       "        vertical-align: top;\n",
       "    }\n",
       "\n",
       "    .dataframe thead th {\n",
       "        text-align: right;\n",
       "    }\n",
       "</style>\n",
       "<table border=\"1\" class=\"dataframe\">\n",
       "  <thead>\n",
       "    <tr style=\"text-align: right;\">\n",
       "      <th></th>\n",
       "      <th>Predicted2017Q3Accruals</th>\n",
       "      <th>TotalAccruals</th>\n",
       "      <th>Variance</th>\n",
       "      <th>ExpectedAverage(%)</th>\n",
       "    </tr>\n",
       "  </thead>\n",
       "  <tbody>\n",
       "    <tr>\n",
       "      <th>5</th>\n",
       "      <td>-6265374453.833</td>\n",
       "      <td>-3982500000.000</td>\n",
       "      <td>-2282874453.833</td>\n",
       "      <td>36.436</td>\n",
       "    </tr>\n",
       "    <tr>\n",
       "      <th>10</th>\n",
       "      <td>-136985370.975</td>\n",
       "      <td>219016500.000</td>\n",
       "      <td>-356001870.975</td>\n",
       "      <td>259.883</td>\n",
       "    </tr>\n",
       "    <tr>\n",
       "      <th>6</th>\n",
       "      <td>-437560037.885</td>\n",
       "      <td>-147446000.000</td>\n",
       "      <td>-290114037.885</td>\n",
       "      <td>66.303</td>\n",
       "    </tr>\n",
       "    <tr>\n",
       "      <th>22</th>\n",
       "      <td>-149284072.168</td>\n",
       "      <td>119450000.000</td>\n",
       "      <td>-268734072.168</td>\n",
       "      <td>180.015</td>\n",
       "    </tr>\n",
       "    <tr>\n",
       "      <th>35</th>\n",
       "      <td>-42722380.714</td>\n",
       "      <td>193748000.000</td>\n",
       "      <td>-236470380.714</td>\n",
       "      <td>553.505</td>\n",
       "    </tr>\n",
       "  </tbody>\n",
       "</table>\n",
       "</div>"
      ],
      "text/plain": [
       "    Predicted2017Q3Accruals   TotalAccruals        Variance  \\\n",
       "5           -6265374453.833 -3982500000.000 -2282874453.833   \n",
       "10           -136985370.975   219016500.000  -356001870.975   \n",
       "6            -437560037.885  -147446000.000  -290114037.885   \n",
       "22           -149284072.168   119450000.000  -268734072.168   \n",
       "35            -42722380.714   193748000.000  -236470380.714   \n",
       "\n",
       "    ExpectedAverage(%)  \n",
       "5               36.436  \n",
       "10             259.883  \n",
       "6               66.303  \n",
       "22             180.015  \n",
       "35             553.505  "
      ]
     },
     "execution_count": 357,
     "metadata": {},
     "output_type": "execute_result"
    }
   ],
   "source": [
    "##create data frame for accruals\n",
    "df_linear= pd.DataFrame(linear_val, columns = ['Predicted2017Q3Accruals'])\n",
    "df_linear['TotalAccruals'] = list(Regression_Q317['TotalNetAccruals'])\n",
    "df_linear['Variance'] = df_linear['Predicted2017Q3Accruals'] - df_linear['TotalAccruals']\n",
    "df_linear['ExpectedAverage(%)'] = df_linear['Variance']/ df_linear['Predicted2017Q3Accruals']  * 100\n",
    "df_linear = df_linear.sort_values(by = 'Variance', ascending = True)\n",
    "df_linear.head()"
   ]
  },
  {
   "cell_type": "code",
   "execution_count": 347,
   "metadata": {},
   "outputs": [
    {
     "name": "stdout",
     "output_type": "stream",
     "text": [
      "Percentages lower than -40% of the data 4\n"
     ]
    }
   ],
   "source": [
    "##find high variance\n",
    "high_variance = df_linear[(df_linear['ExpectedAverage(%)'] < -40)]\n",
    "print('Percentages lower than -40% of the data' , len(high_variance))"
   ]
  },
  {
   "cell_type": "markdown",
   "metadata": {},
   "source": [
    "See which values were greater than the actual"
   ]
  },
  {
   "cell_type": "code",
   "execution_count": 348,
   "metadata": {},
   "outputs": [
    {
     "data": {
      "text/html": [
       "<div>\n",
       "<style scoped>\n",
       "    .dataframe tbody tr th:only-of-type {\n",
       "        vertical-align: middle;\n",
       "    }\n",
       "\n",
       "    .dataframe tbody tr th {\n",
       "        vertical-align: top;\n",
       "    }\n",
       "\n",
       "    .dataframe thead th {\n",
       "        text-align: right;\n",
       "    }\n",
       "</style>\n",
       "<table border=\"1\" class=\"dataframe\">\n",
       "  <thead>\n",
       "    <tr style=\"text-align: right;\">\n",
       "      <th></th>\n",
       "      <th>Predicted2017Q3Accruals</th>\n",
       "      <th>TotalAccruals</th>\n",
       "      <th>Variance</th>\n",
       "      <th>ExpectedAverage(%)</th>\n",
       "    </tr>\n",
       "  </thead>\n",
       "  <tbody>\n",
       "    <tr>\n",
       "      <th>3</th>\n",
       "      <td>2039461.933</td>\n",
       "      <td>1520394.000</td>\n",
       "      <td>519067.933</td>\n",
       "      <td>25.451</td>\n",
       "    </tr>\n",
       "    <tr>\n",
       "      <th>41</th>\n",
       "      <td>8077082.896</td>\n",
       "      <td>3124964.000</td>\n",
       "      <td>4952118.896</td>\n",
       "      <td>61.311</td>\n",
       "    </tr>\n",
       "    <tr>\n",
       "      <th>18</th>\n",
       "      <td>2410791.730</td>\n",
       "      <td>-2637000.000</td>\n",
       "      <td>5047791.730</td>\n",
       "      <td>209.383</td>\n",
       "    </tr>\n",
       "    <tr>\n",
       "      <th>46</th>\n",
       "      <td>-8658586.519</td>\n",
       "      <td>-20584000.000</td>\n",
       "      <td>11925413.481</td>\n",
       "      <td>-137.729</td>\n",
       "    </tr>\n",
       "    <tr>\n",
       "      <th>20</th>\n",
       "      <td>-6363197.524</td>\n",
       "      <td>-21880000.000</td>\n",
       "      <td>15516802.476</td>\n",
       "      <td>-243.852</td>\n",
       "    </tr>\n",
       "  </tbody>\n",
       "</table>\n",
       "</div>"
      ],
      "text/plain": [
       "    Predicted2017Q3Accruals  TotalAccruals     Variance  ExpectedAverage(%)\n",
       "3               2039461.933    1520394.000   519067.933              25.451\n",
       "41              8077082.896    3124964.000  4952118.896              61.311\n",
       "18              2410791.730   -2637000.000  5047791.730             209.383\n",
       "46             -8658586.519  -20584000.000 11925413.481            -137.729\n",
       "20             -6363197.524  -21880000.000 15516802.476            -243.852"
      ]
     },
     "execution_count": 348,
     "metadata": {},
     "output_type": "execute_result"
    }
   ],
   "source": [
    "##filter high amount\n",
    "high_amount = df_linear[(df_linear['Variance'] > 0)]\n",
    "high_amount.head()"
   ]
  },
  {
   "cell_type": "markdown",
   "metadata": {},
   "source": [
    "See which values are lower than the actual"
   ]
  },
  {
   "cell_type": "code",
   "execution_count": 349,
   "metadata": {},
   "outputs": [
    {
     "data": {
      "text/html": [
       "<div>\n",
       "<style scoped>\n",
       "    .dataframe tbody tr th:only-of-type {\n",
       "        vertical-align: middle;\n",
       "    }\n",
       "\n",
       "    .dataframe tbody tr th {\n",
       "        vertical-align: top;\n",
       "    }\n",
       "\n",
       "    .dataframe thead th {\n",
       "        text-align: right;\n",
       "    }\n",
       "</style>\n",
       "<table border=\"1\" class=\"dataframe\">\n",
       "  <thead>\n",
       "    <tr style=\"text-align: right;\">\n",
       "      <th></th>\n",
       "      <th>Predicted2017Q3Accruals</th>\n",
       "      <th>TotalAccruals</th>\n",
       "      <th>Variance</th>\n",
       "      <th>ExpectedAverage(%)</th>\n",
       "    </tr>\n",
       "  </thead>\n",
       "  <tbody>\n",
       "    <tr>\n",
       "      <th>5</th>\n",
       "      <td>-6265374453.833</td>\n",
       "      <td>-3982500000.000</td>\n",
       "      <td>-2282874453.833</td>\n",
       "      <td>36.436</td>\n",
       "    </tr>\n",
       "    <tr>\n",
       "      <th>10</th>\n",
       "      <td>-136985370.975</td>\n",
       "      <td>219016500.000</td>\n",
       "      <td>-356001870.975</td>\n",
       "      <td>259.883</td>\n",
       "    </tr>\n",
       "    <tr>\n",
       "      <th>6</th>\n",
       "      <td>-437560037.885</td>\n",
       "      <td>-147446000.000</td>\n",
       "      <td>-290114037.885</td>\n",
       "      <td>66.303</td>\n",
       "    </tr>\n",
       "    <tr>\n",
       "      <th>22</th>\n",
       "      <td>-149284072.168</td>\n",
       "      <td>119450000.000</td>\n",
       "      <td>-268734072.168</td>\n",
       "      <td>180.015</td>\n",
       "    </tr>\n",
       "    <tr>\n",
       "      <th>35</th>\n",
       "      <td>-42722380.714</td>\n",
       "      <td>193748000.000</td>\n",
       "      <td>-236470380.714</td>\n",
       "      <td>553.505</td>\n",
       "    </tr>\n",
       "  </tbody>\n",
       "</table>\n",
       "</div>"
      ],
      "text/plain": [
       "    Predicted2017Q3Accruals   TotalAccruals        Variance  \\\n",
       "5           -6265374453.833 -3982500000.000 -2282874453.833   \n",
       "10           -136985370.975   219016500.000  -356001870.975   \n",
       "6            -437560037.885  -147446000.000  -290114037.885   \n",
       "22           -149284072.168   119450000.000  -268734072.168   \n",
       "35            -42722380.714   193748000.000  -236470380.714   \n",
       "\n",
       "    ExpectedAverage(%)  \n",
       "5               36.436  \n",
       "10             259.883  \n",
       "6               66.303  \n",
       "22             180.015  \n",
       "35             553.505  "
      ]
     },
     "execution_count": 349,
     "metadata": {},
     "output_type": "execute_result"
    }
   ],
   "source": [
    "##filter low amount\n",
    "low_amount = df_linear[(df_linear['Variance'] < 0)]\n",
    "low_amount.head()"
   ]
  },
  {
   "cell_type": "code",
   "execution_count": 350,
   "metadata": {},
   "outputs": [],
   "source": [
    "##filter by exact amount\n",
    "exact_amount = df_linear[(df_linear['Variance'] == 0)]"
   ]
  },
  {
   "cell_type": "markdown",
   "metadata": {},
   "source": [
    "We did not predict one company correctly. We are in the ballpark for some companies. The purpose of audits is to provide reasonable assurance that companies are stating its accruals with the fair representation of its financial statements."
   ]
  },
  {
   "cell_type": "markdown",
   "metadata": {},
   "source": [
    "We took the percentage of the varaince over the actual amounts to compare and see how close the percentage change is to 0. I took -40% as a threshold to see how many percentages fall below 40%. We found that 10 of the 54 of the observations fell below this threshold, which shows that over 85% of the data shows a high amount of variance. When there is a high level of variance in a model in the model, it shows that new variables should be implemented to better test total accruals. The validation set is great for explicitly showing the deployment of our model in the audit process. The fact that most values are within 6 figures shows that we can deploy our model for certain companies. I want to examine the 3 averages closer to 0 and the 3 averages farthest from 0 to see which types of companies are throwing off our model. "
   ]
  },
  {
   "cell_type": "markdown",
   "metadata": {},
   "source": [
    "##### Validate with Bagging\n",
    "\n",
    "I want to see how the predictions would do with bagging. I want to compare with how it will do with linear predictions."
   ]
  },
  {
   "cell_type": "code",
   "execution_count": 351,
   "metadata": {},
   "outputs": [],
   "source": [
    "bagging_val = results_bagging.predict(Regression_Q317[features])"
   ]
  },
  {
   "cell_type": "code",
   "execution_count": 358,
   "metadata": {},
   "outputs": [
    {
     "data": {
      "text/html": [
       "<div>\n",
       "<style scoped>\n",
       "    .dataframe tbody tr th:only-of-type {\n",
       "        vertical-align: middle;\n",
       "    }\n",
       "\n",
       "    .dataframe tbody tr th {\n",
       "        vertical-align: top;\n",
       "    }\n",
       "\n",
       "    .dataframe thead th {\n",
       "        text-align: right;\n",
       "    }\n",
       "</style>\n",
       "<table border=\"1\" class=\"dataframe\">\n",
       "  <thead>\n",
       "    <tr style=\"text-align: right;\">\n",
       "      <th></th>\n",
       "      <th>Predicted2017Q3Accruals</th>\n",
       "      <th>TotalAccruals</th>\n",
       "      <th>Variance</th>\n",
       "      <th>ExpectedAverage(%)</th>\n",
       "    </tr>\n",
       "  </thead>\n",
       "  <tbody>\n",
       "    <tr>\n",
       "      <th>0</th>\n",
       "      <td>-1741078900.000</td>\n",
       "      <td>-1126300000.000</td>\n",
       "      <td>-614778900.000</td>\n",
       "      <td>35.310</td>\n",
       "    </tr>\n",
       "    <tr>\n",
       "      <th>5</th>\n",
       "      <td>-4359939800.000</td>\n",
       "      <td>-3982500000.000</td>\n",
       "      <td>-377439800.000</td>\n",
       "      <td>8.657</td>\n",
       "    </tr>\n",
       "    <tr>\n",
       "      <th>10</th>\n",
       "      <td>-55055831.111</td>\n",
       "      <td>219016500.000</td>\n",
       "      <td>-274072331.111</td>\n",
       "      <td>497.808</td>\n",
       "    </tr>\n",
       "    <tr>\n",
       "      <th>6</th>\n",
       "      <td>-335746306.667</td>\n",
       "      <td>-147446000.000</td>\n",
       "      <td>-188300306.667</td>\n",
       "      <td>56.084</td>\n",
       "    </tr>\n",
       "    <tr>\n",
       "      <th>22</th>\n",
       "      <td>-54275308.889</td>\n",
       "      <td>119450000.000</td>\n",
       "      <td>-173725308.889</td>\n",
       "      <td>320.082</td>\n",
       "    </tr>\n",
       "  </tbody>\n",
       "</table>\n",
       "</div>"
      ],
      "text/plain": [
       "    Predicted2017Q3Accruals   TotalAccruals       Variance  ExpectedAverage(%)\n",
       "0           -1741078900.000 -1126300000.000 -614778900.000              35.310\n",
       "5           -4359939800.000 -3982500000.000 -377439800.000               8.657\n",
       "10            -55055831.111   219016500.000 -274072331.111             497.808\n",
       "6            -335746306.667  -147446000.000 -188300306.667              56.084\n",
       "22            -54275308.889   119450000.000 -173725308.889             320.082"
      ]
     },
     "execution_count": 358,
     "metadata": {},
     "output_type": "execute_result"
    }
   ],
   "source": [
    "##create data frame for accruals\n",
    "df_bag_val = pd.DataFrame(bagging_val, columns = ['Predicted2017Q3Accruals'])\n",
    "df_bag_val['TotalAccruals'] = list(Regression_Q317['TotalNetAccruals'])\n",
    "df_bag_val['Variance'] = df_bag_val['Predicted2017Q3Accruals'] - df_bag_val['TotalAccruals']\n",
    "df_bag_val['ExpectedAverage(%)'] = df_bag_val['Variance']/ df_bag_val['Predicted2017Q3Accruals']  * 100\n",
    "df_bag_val = df_bag_val.sort_values(by = 'Variance', ascending = True)\n",
    "df_bag_val.head()"
   ]
  },
  {
   "cell_type": "code",
   "execution_count": 353,
   "metadata": {},
   "outputs": [
    {
     "name": "stdout",
     "output_type": "stream",
     "text": [
      "Percentages lower than -40% of the data 4\n"
     ]
    }
   ],
   "source": [
    "##find high variance\n",
    "high_variance_bag = df_bag_val[(df_bag_val['ExpectedAverage(%)'] < -40)]\n",
    "print('Percentages lower than -40% of the data' , len(high_variance))"
   ]
  },
  {
   "cell_type": "markdown",
   "metadata": {},
   "source": [
    "See which values were greater than the actual"
   ]
  },
  {
   "cell_type": "code",
   "execution_count": 354,
   "metadata": {},
   "outputs": [
    {
     "data": {
      "text/html": [
       "<div>\n",
       "<style scoped>\n",
       "    .dataframe tbody tr th:only-of-type {\n",
       "        vertical-align: middle;\n",
       "    }\n",
       "\n",
       "    .dataframe tbody tr th {\n",
       "        vertical-align: top;\n",
       "    }\n",
       "\n",
       "    .dataframe thead th {\n",
       "        text-align: right;\n",
       "    }\n",
       "</style>\n",
       "<table border=\"1\" class=\"dataframe\">\n",
       "  <thead>\n",
       "    <tr style=\"text-align: right;\">\n",
       "      <th></th>\n",
       "      <th>Predicted2017Q3Accruals</th>\n",
       "      <th>TotalAccruals</th>\n",
       "      <th>Variance</th>\n",
       "      <th>ExpectedAverage(%)</th>\n",
       "    </tr>\n",
       "  </thead>\n",
       "  <tbody>\n",
       "    <tr>\n",
       "      <th>44</th>\n",
       "      <td>-10352022.900</td>\n",
       "      <td>-10553000.000</td>\n",
       "      <td>200977.100</td>\n",
       "      <td>-1.941</td>\n",
       "    </tr>\n",
       "    <tr>\n",
       "      <th>18</th>\n",
       "      <td>-2159384.100</td>\n",
       "      <td>-2637000.000</td>\n",
       "      <td>477615.900</td>\n",
       "      <td>-22.118</td>\n",
       "    </tr>\n",
       "    <tr>\n",
       "      <th>24</th>\n",
       "      <td>-4826158.433</td>\n",
       "      <td>-5751000.000</td>\n",
       "      <td>924841.567</td>\n",
       "      <td>-19.163</td>\n",
       "    </tr>\n",
       "    <tr>\n",
       "      <th>52</th>\n",
       "      <td>-10899076.750</td>\n",
       "      <td>-13289500.000</td>\n",
       "      <td>2390423.250</td>\n",
       "      <td>-21.932</td>\n",
       "    </tr>\n",
       "    <tr>\n",
       "      <th>38</th>\n",
       "      <td>-3783652.783</td>\n",
       "      <td>-7408000.000</td>\n",
       "      <td>3624347.217</td>\n",
       "      <td>-95.790</td>\n",
       "    </tr>\n",
       "  </tbody>\n",
       "</table>\n",
       "</div>"
      ],
      "text/plain": [
       "    Predicted2017Q3Accruals  TotalAccruals    Variance  ExpectedAverage(%)\n",
       "44            -10352022.900  -10553000.000  200977.100              -1.941\n",
       "18             -2159384.100   -2637000.000  477615.900             -22.118\n",
       "24             -4826158.433   -5751000.000  924841.567             -19.163\n",
       "52            -10899076.750  -13289500.000 2390423.250             -21.932\n",
       "38             -3783652.783   -7408000.000 3624347.217             -95.790"
      ]
     },
     "execution_count": 354,
     "metadata": {},
     "output_type": "execute_result"
    }
   ],
   "source": [
    "##filter high amount\n",
    "high_amount_bag = df_bag_val[(df_bag_val['Variance'] > 0)]\n",
    "high_amount_bag.head()"
   ]
  },
  {
   "cell_type": "markdown",
   "metadata": {},
   "source": [
    "See which values are lower than the actual"
   ]
  },
  {
   "cell_type": "code",
   "execution_count": 355,
   "metadata": {},
   "outputs": [
    {
     "data": {
      "text/html": [
       "<div>\n",
       "<style scoped>\n",
       "    .dataframe tbody tr th:only-of-type {\n",
       "        vertical-align: middle;\n",
       "    }\n",
       "\n",
       "    .dataframe tbody tr th {\n",
       "        vertical-align: top;\n",
       "    }\n",
       "\n",
       "    .dataframe thead th {\n",
       "        text-align: right;\n",
       "    }\n",
       "</style>\n",
       "<table border=\"1\" class=\"dataframe\">\n",
       "  <thead>\n",
       "    <tr style=\"text-align: right;\">\n",
       "      <th></th>\n",
       "      <th>Predicted2017Q3Accruals</th>\n",
       "      <th>TotalAccruals</th>\n",
       "      <th>Variance</th>\n",
       "      <th>ExpectedAverage(%)</th>\n",
       "    </tr>\n",
       "  </thead>\n",
       "  <tbody>\n",
       "    <tr>\n",
       "      <th>0</th>\n",
       "      <td>-1741078900.000</td>\n",
       "      <td>-1126300000.000</td>\n",
       "      <td>-614778900.000</td>\n",
       "      <td>35.310</td>\n",
       "    </tr>\n",
       "    <tr>\n",
       "      <th>5</th>\n",
       "      <td>-4359939800.000</td>\n",
       "      <td>-3982500000.000</td>\n",
       "      <td>-377439800.000</td>\n",
       "      <td>8.657</td>\n",
       "    </tr>\n",
       "    <tr>\n",
       "      <th>10</th>\n",
       "      <td>-55055831.111</td>\n",
       "      <td>219016500.000</td>\n",
       "      <td>-274072331.111</td>\n",
       "      <td>497.808</td>\n",
       "    </tr>\n",
       "    <tr>\n",
       "      <th>6</th>\n",
       "      <td>-335746306.667</td>\n",
       "      <td>-147446000.000</td>\n",
       "      <td>-188300306.667</td>\n",
       "      <td>56.084</td>\n",
       "    </tr>\n",
       "    <tr>\n",
       "      <th>22</th>\n",
       "      <td>-54275308.889</td>\n",
       "      <td>119450000.000</td>\n",
       "      <td>-173725308.889</td>\n",
       "      <td>320.082</td>\n",
       "    </tr>\n",
       "  </tbody>\n",
       "</table>\n",
       "</div>"
      ],
      "text/plain": [
       "    Predicted2017Q3Accruals   TotalAccruals       Variance  ExpectedAverage(%)\n",
       "0           -1741078900.000 -1126300000.000 -614778900.000              35.310\n",
       "5           -4359939800.000 -3982500000.000 -377439800.000               8.657\n",
       "10            -55055831.111   219016500.000 -274072331.111             497.808\n",
       "6            -335746306.667  -147446000.000 -188300306.667              56.084\n",
       "22            -54275308.889   119450000.000 -173725308.889             320.082"
      ]
     },
     "execution_count": 355,
     "metadata": {},
     "output_type": "execute_result"
    }
   ],
   "source": [
    "##filter low amount\n",
    "low_amount_bag = df_bag_val[(df_bag_val['Variance'] < 0)]\n",
    "low_amount_bag.head()"
   ]
  },
  {
   "cell_type": "code",
   "execution_count": 356,
   "metadata": {},
   "outputs": [],
   "source": [
    "##filter by exact amount\n",
    "exact_amount_bag = df_bag_val[(df_bag_val['Variance'] == 0)]"
   ]
  },
  {
   "cell_type": "markdown",
   "metadata": {},
   "source": [
    "We did not predict one company correctly. We are in the ballpark for some companies. The purpose of audits is to provide reasonable assurance that companies are stating its accruals with the fair representation of its financial statements."
   ]
  },
  {
   "cell_type": "markdown",
   "metadata": {},
   "source": [
    "### Analysis of Bagging Model on Validation Set\n",
    "\n",
    "We took the percentage of the varaince over the actual amounts to compare and see how close the percentage change is to 0. I took -40% as a threshold to see how many percentages fall below 40%. We found that 10 of the 54 of the observations fell below this threshold, which shows that over 85% of the data shows a high amount of variance. When there is a high level of variance in a model in the model, it shows that new variables should be implemented to better test total accruals. Looking at the comparision, the bagging model has closer predictions to 0 variance, but the predictions that are farther are way farther then the linear. Our team would love to understand which industry each company is a part of and see if that effects the predictions The validation set is great for explicitly showing the deployment of our model in the audit process. The fact that most values are within 6 figures shows that we can deploy our model for certain companies. I want to examine the 3 averages closer to 0 and the 3 averages farthest from 0 to see which types of companies are throwing off our model. "
   ]
  },
  {
   "cell_type": "markdown",
   "metadata": {},
   "source": [
    "## Conclusion\n",
    "In conclusion, the jones model is a way for companies to predict non discretionary accruals across firms using time series data. The basic theory of jones model(Change in sales + PPE) to predict accruals gave me such a low r2 that adding revenue, assets and present cash flow increased the explained variance of the data. The basic jones model does not cover certain non financing activites that have an huge impact on total accruals. To further my outside research, \"The inclusion of few factors such as revenue, depreciation expenses, retirement benefit expenses, asset disposal gains/losses with the modified model was very effective in detecting earning management\" . Due to time constraints, I made simple modifications by adding assets and revenue to the model but adding non cash activities would help improve the model drastically. Now that we have created generalized functions and complex models, we can make simple modifications to the cleaning and engineering of the data to deploy the modifications of the jones model. Being able to extract industry wide financial data, and predict future companys amounts based off multiple regression. We want to be able to find relationships between relationships, and create models to help conclude on hypothesis and test variables that are in interest of management. If we were to audit big companies, we could use financial data for individual customers to predict certain financial information based off prior data. Although, our model has a lot of variance, that comes to show that we have to continue to find new variables to test to find the least amount of variance. We can look at p values that are lower than .05 which will show the level of responsivness for certain variables. We saw, on average, that the change in revenues and change in accounts recievables have the biggest effect on the change in accruals. We see in many fraud cases, that trends in recievables and sales can be examined to see any overstatements in receivables and revenue. If given more time as our busy season is starting, we want to add non cash financing activites, like depreciation, as variables into the model to see if there is any relationship to accruals. Many companies have different ways to identify tags in the database, so it is useful to extract data from the sec taxonomy to see the most frequent tags used in the industry. This will allow us analysts to find more relationships in accruals across the industry. "
   ]
  },
  {
   "cell_type": "markdown",
   "metadata": {},
   "source": [
    "## Recommendations\n",
    "\n",
    "The Recommendations to improve the model is to add more non cash financing activities such as depreciation, ammortization, and ppe gains and losses. When fitting the model, we are using X features without taking into account GAAP laws and other factors that effect earnings managmenet. Predicting Accruals is a great way to get a deep understanding of what we can expect in the following year. Our audit team will use professional skepticsm in determining high volume accounts. We want to highlight what affects accruals, and how we can predict accruals in order to give a proper scope to our audit team. \"The inclusion of few factors such as revenue, depreciation expenses, retirement benefit expenses, asset disposal gains/losses with the modified model was very effective in detecting earning management in the context of Bangladesh.\" If our team had more time, we can substantially improve the model by adding non cash activities. The additional steps needed for this is to extract the custom tags and map them to the standard tags, to generalize the tagging process and then extract those tags to engineer features for the modified model. Change in Revenue to Recievables and PPE does not explain Total Accruals as much as non cash activites do in the context of earnings management."
   ]
  },
  {
   "cell_type": "markdown",
   "metadata": {},
   "source": [
    "## Refrences"
   ]
  },
  {
   "cell_type": "markdown",
   "metadata": {},
   "source": [
    "[Jones Formula](http://www.studyland.nl/materials/Pdf/EN%20Formulas%20Modified%20Jones%20Model.pdf)\n",
    "\n",
    "[Modification](https://www.researchgate.net/publication/228429634_Is_Modified_Jones_Model_Effective_in_Detecting_Earnings_Management_Evidence_from_A_Developing_Economy)\n",
    "\n",
    "[Accounting Reporting Association on Jones Model](http://lib.cufe.edu.cn/upload_files/other/4_20140516025030_9.pdf)"
   ]
  }
 ],
 "metadata": {
  "kernelspec": {
   "display_name": "Python 3",
   "language": "python",
   "name": "python3"
  },
  "language_info": {
   "codemirror_mode": {
    "name": "ipython",
    "version": 3
   },
   "file_extension": ".py",
   "mimetype": "text/x-python",
   "name": "python",
   "nbconvert_exporter": "python",
   "pygments_lexer": "ipython3",
   "version": "3.7.4"
  }
 },
 "nbformat": 4,
 "nbformat_minor": 2
}
