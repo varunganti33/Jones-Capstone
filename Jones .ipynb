{
 "cells": [
  {
   "cell_type": "markdown",
   "metadata": {},
   "source": [
    "## Financial Statement Audit: Discretionary Total Accruals\n",
    "\n",
    "By Varun Ganti"
   ]
  },
  {
   "cell_type": "markdown",
   "metadata": {},
   "source": [
    "## Table of Contents\n",
    "\n",
    "- [Problem Statement](#Problem-Statemet)\n",
    "- [Executive Summary](#Executive-Summary)\n",
    "- [Data Dictionary](#Data-Dictionary)\n",
    "- [Loading Data](#Loading-Data)\n",
    "- [Data Cleaning](#Data-Cleaning)\n",
    "- [Feature Engineering](#Feature-Engineering)\n",
    "- [EDA](#EDA)\n",
    "- [Model Preparation](#Model-Preparation)\n",
    "- [Model Selection](#Model-Selection)\n",
    "-\n",
    "- [Conclusion](#Model-Selection)\n",
    "- [Recommendations](#Reccomendations)\n",
    "- [Resources](#Resources)\n",
    "\n"
   ]
  },
  {
   "cell_type": "markdown",
   "metadata": {},
   "source": [
    "## Problem Statement"
   ]
  },
  {
   "cell_type": "markdown",
   "metadata": {},
   "source": [
    "During election time, we see the amount of restatements on accruals go up for company, Accrual accounting is required by GAAP and companies have to spend loads of money to adapt to these standards. Our team wants to create various predictive models, such as linear regression, ridge, knn, decision trees, bagging, boosting, and random forests to predict the amount of discretionary accruals for a company, so we can plan the audit process accordingly. The metric to determine which model we deploy during our audit is R2, which will show how much our models explain the variance in the data. We chose to mirror the Jones Model is in order to predict the total net accruals for a company. This model is going to input variables from 2016 Q1-Q4 data into the regression model. After We create the model, we are going to train the model on a prior period data. After choosing the model with the highest r2, we are going to use the model to validate the model on the next period(2017 Q3).\n"
   ]
  },
  {
   "cell_type": "markdown",
   "metadata": {},
   "source": [
    "# Executive Summary\n",
    "\n",
    "Our team found that the data is readily avaliable on the SEC website with published quarterly financial statments. From our previous audit process, we hypothesized that the difference between the change in revenue and the change in recievables, and the book value of property plant and equipment variables would have the most influence over predicting total accruals. The difference of revenue and recievables will show the amount of income recieved by a company that is not based on recievables(cash). The abundance of variables, forced me to dive deeper into the data in order to find the most optimal combinations in order to find the highest scoring model. We want a high majority of the data to be explained by our model. \n",
    "\n",
    "\n",
    "EDA helped our team drastically not only set up a preprocessing plan for our model, but helped us understand the health of the data One example was that “NetCashOperating” showed up high on the correlation heat map, meaning that this variable will be useful in predicting total net accruals. For preprocessing, we chose to drop all null values with na, assuming that those values actually reperesented none of that type. Most of our eda consisted of examining the financial statmenets, and engineer features accordingly to fit our model. We decided to log all numeric columns to normalize the distributions. Furthermore, we had to create lagged variables in order to find the differences of sales and recievables from the prior quarter. On top of that, we needed to engineer our target variable based on the difference between net income and net cash from operating activities. The way companies transition from cash to accrual basis is to find the differences between assets and liabilities and either add that to cash income or subtract from accruals.  \n",
    "\n",
    "|Model|Type|Train R2|Testing R2|\n",
    "|---|---|---|---|\n",
    "|**Model 1**|*Linear*|0.886|0.762| \n",
    "|**Model 2**|*Ridge*|.883|0.757|\n",
    "|**Model 4**|*KNN Regressor*|.0.816|.712|\n",
    "|**Model 5**|*Decision Trees*|.0.772|.677|\n",
    "|**Model 6**|*Bagged Decision Trees*|.816|.708|\n",
    "|**Model 7**|*Random Forrest Trees*|.812|.719|\n",
    "|**Model 8**|*SVM*|.8251|.5878|\n",
    "\n",
    "Our approach to picking the best model, is by assessing the R2 Score and the cross validation score on the whole data set. We decided to deploy our linear model into the the audit process because of the ability to examine coeficients and continously improve our model. Once given more time, we can examine non cash activites such as depreciation to see how that can affect accruals"
   ]
  },
  {
   "cell_type": "markdown",
   "metadata": {},
   "source": [
    "## Data Dictionary\n",
    "\n",
    "Refer to Sec for Data Description\n",
    "\n",
    "- [Description of SEC Data](file:///Users/varunganti/Downloads/2017q1/readme.htm)"
   ]
  },
  {
   "cell_type": "markdown",
   "metadata": {},
   "source": [
    "## Loading Data"
   ]
  },
  {
   "cell_type": "code",
   "execution_count": 615,
   "metadata": {},
   "outputs": [],
   "source": [
    "import pandas as pd\n",
    "from sklearn import linear_model\n",
    "import numpy as np\n",
    "import matplotlib.pyplot as plt\n",
    "import statsmodels.api as sm\n",
    "import warnings\n",
    "warnings.filterwarnings(\"ignore\") # Shhhh\n",
    "from sklearn.linear_model import LinearRegression, Ridge, Lasso\n",
    "from sklearn.model_selection import train_test_split, cross_val_score, GridSearchCV\n",
    "from sklearn.metrics import mean_squared_error\n",
    "import seaborn as sns\n",
    "from sklearn.metrics import r2_score, mean_squared_error\n",
    "from sklearn.preprocessing import StandardScaler, PolynomialFeatures\n",
    "from math import sqrt\n",
    "from sklearn.linear_model import LinearRegression\n",
    "from sklearn.neighbors import KNeighborsRegressor\n",
    "from sklearn.tree import DecisionTreeRegressor\n",
    "from sklearn.preprocessing import StandardScaler\n",
    "from sklearn.ensemble import BaggingRegressor, RandomForestRegressor, AdaBoostRegressor\n",
    "from sklearn.metrics import mean_squared_error, f1_score\n",
    "from sklearn import svm\n",
    "from sklearn.linear_model import RidgeCV\n",
    "from sklearn.linear_model import LassoCV\n",
    "from sklearn.pipeline import Pipeline\n",
    "from sklearn.dummy import DummyRegressor\n",
    "%matplotlib inline"
   ]
  },
  {
   "cell_type": "markdown",
   "metadata": {},
   "source": [
    "#### SEC given Data          \n",
    "          \n",
    "          SUB – Submission data set; this includes one record for each XBRL submission. The set includes fields of information pertinent to the submission and the filing entity. Information is extracted from the SEC’s EDGAR system and the filings submitted to the SEC by registrants.\n",
    "\n",
    "    ·     NUM – Number data set; this includes one row for each distinct amount from each submission included in the SUB data set. The Number data set includes, for every submission, for each primary financial statement as it is rendered by the SEC Viewer/Previewer, all line item values.\n",
    "\n",
    "    ·     TAG – Tag data set; includes defining information about each tag.  Information includes tag descriptions (documentation labels), taxonomy version information and other tag attributes.\n",
    "\n",
    "    ·     PRE – Presentation data set; this provides information about how the tags and numbers were presented in the primary financial statements."
   ]
  },
  {
   "cell_type": "code",
   "execution_count": 316,
   "metadata": {},
   "outputs": [],
   "source": [
    "num1 =  pd.read_csv('./data/2016q1/num.txt', sep = '\\t', encoding=\"latin-1\")\n",
    "tag1 =  pd.read_csv('./data/2016q1/tag.txt', sep = '\\t', encoding=\"latin-1\")\n",
    "pre1 =  pd.read_csv('./data/2016q1/pre.txt', sep = '\\t', encoding=\"latin-1\")\n",
    "sub1 =  pd.read_csv('./data/2016q1/sub.txt', sep = '\\t', encoding=\"latin-1\")"
   ]
  },
  {
   "cell_type": "markdown",
   "metadata": {},
   "source": [
    "## Data Cleaning"
   ]
  },
  {
   "cell_type": "markdown",
   "metadata": {},
   "source": [
    "#### Understanding our data. Part of Audit Planning\n",
    "\n",
    "\n",
    "1.SUB is identifies all the EDGAR submissions in the data set, with each row having the unique (primary) key adsh,  a 20 character EDGAR Accession Number with dashes in positions 11 and 14.\n",
    "\n",
    "2.TAG is a data set of all tags used in the submissions, both standard and custom.  A unique key of each row is a combination of these fields:\n",
    "\n",
    "     1)    tag – tag used by the filer\n",
    "\n",
    "     2)    version – if a standard tag, the taxonomy of origin, otherwise equal to adsh.\n",
    "\n",
    "\n",
    "3.NUM is a data set of all numeric XBRL facts presented on the primary financial statements. A unique key of each row is a combination of the following fields:\n",
    "\n",
    "     1)    adsh- EDGAR accession number\n",
    "\n",
    "     2)    tag – tag used by the filer\n",
    "    \n",
    "     3)    version – if a standard tag, the taxonomy of origin, otherwise equal to adsh.\n",
    "\n",
    "     4)    ddate - period end date\n",
    "\n",
    "     5)    qtrs - duration in number of quarters\n",
    "\n",
    "     6)    uom - unit of measure\n",
    "    \n",
    "     7)    coreg - coregistrant of the parent company registrant (if applicable)\n",
    "\n",
    "\n",
    "4.PRE is a data set that provides the text assigned by the filer to each line item in the primary financial statements, the order in which the line item appeared, and the tag assigned to it.  A unique key of each row is a combination of the following fields:\n",
    "\n",
    "      1)    adsh – EDGAR accession number\n",
    "\n",
    "      2)    report – sequential number of report within the statements\n",
    "\n",
    "      3)    line – sequential number of line within a report.\n",
    "      \n",
    "We will merge based on the unique identifiers listed above"
   ]
  },
  {
   "cell_type": "code",
   "execution_count": 317,
   "metadata": {},
   "outputs": [],
   "source": [
    "firstmerge1 = pd.merge(pre1, sub1, how = \"left\", on=['adsh'])   #left merge\n",
    "secondmerge1 = pd.merge(firstmerge1, tag1, how= \"left\", on =['tag', 'version'])\n",
    "thirdmerge1 = pd.merge(secondmerge1, num1, how = \"left\", on =['adsh', 'tag', 'version'])\n",
    "sec_table2015 = thirdmerge1[['cik','adsh' , 'afs' , 'qtrs' , 'fy' , 'fp', 'tag', 'version', 'value' , 'ddate']].sort_values(['cik'])"
   ]
  },
  {
   "cell_type": "markdown",
   "metadata": {},
   "source": [
    "Create a function that can extract all the tags that are unique and want for our analysis. In this case we want net income, net cash, sales revenue, assets, accounts rec, and property plant eq. These financial tags will help us set up our equation to fit the model"
   ]
  },
  {
   "cell_type": "code",
   "execution_count": 318,
   "metadata": {},
   "outputs": [],
   "source": [
    "def get_tags(df,tag1,tag2,tag3,tag4,tag5,tag6):\n",
    "\n",
    "    Regression_2015 = df[(df.tag == tag1)\n",
    "                        | (df.tag == tag2)\n",
    "                        | (df.tag == tag3)\n",
    "                        | (df.tag == tag4)\n",
    "                        | (df.tag == tag5)\n",
    "                        | (df.tag == tag6)]\n",
    "    return Regression_2015"
   ]
  },
  {
   "cell_type": "code",
   "execution_count": 319,
   "metadata": {},
   "outputs": [],
   "source": [
    "Regression_2015 = get_tags(sec_table2015,'NetIncomeLoss','NetCashProvidedByUsedInOperatingActivities','SalesRevenueNet','Assets',\n",
    "'AccountsReceivableNetCurrent','PropertyPlantAndEquipmentNet')"
   ]
  },
  {
   "cell_type": "markdown",
   "metadata": {},
   "source": [
    "Create a pivot table based on the amount of quarters to see where the values are listed"
   ]
  },
  {
   "cell_type": "code",
   "execution_count": 320,
   "metadata": {},
   "outputs": [
    {
     "data": {
      "text/html": [
       "<div>\n",
       "<style scoped>\n",
       "    .dataframe tbody tr th:only-of-type {\n",
       "        vertical-align: middle;\n",
       "    }\n",
       "\n",
       "    .dataframe tbody tr th {\n",
       "        vertical-align: top;\n",
       "    }\n",
       "\n",
       "    .dataframe thead th {\n",
       "        text-align: right;\n",
       "    }\n",
       "</style>\n",
       "<table border=\"1\" class=\"dataframe\">\n",
       "  <thead>\n",
       "    <tr style=\"text-align: right;\">\n",
       "      <th></th>\n",
       "      <th></th>\n",
       "      <th></th>\n",
       "      <th>qtrs</th>\n",
       "      <th>0.0</th>\n",
       "      <th>1.0</th>\n",
       "      <th>2.0</th>\n",
       "      <th>3.0</th>\n",
       "      <th>4.0</th>\n",
       "      <th>5.0</th>\n",
       "      <th>6.0</th>\n",
       "      <th>8.0</th>\n",
       "      <th>9.0</th>\n",
       "      <th>10.0</th>\n",
       "      <th>...</th>\n",
       "      <th>46.0</th>\n",
       "      <th>47.0</th>\n",
       "      <th>48.0</th>\n",
       "      <th>53.0</th>\n",
       "      <th>60.0</th>\n",
       "      <th>69.0</th>\n",
       "      <th>70.0</th>\n",
       "      <th>112.0</th>\n",
       "      <th>146.0</th>\n",
       "      <th>154.0</th>\n",
       "    </tr>\n",
       "    <tr>\n",
       "      <th>tag</th>\n",
       "      <th>adsh</th>\n",
       "      <th>cik</th>\n",
       "      <th>ddate</th>\n",
       "      <th></th>\n",
       "      <th></th>\n",
       "      <th></th>\n",
       "      <th></th>\n",
       "      <th></th>\n",
       "      <th></th>\n",
       "      <th></th>\n",
       "      <th></th>\n",
       "      <th></th>\n",
       "      <th></th>\n",
       "      <th></th>\n",
       "      <th></th>\n",
       "      <th></th>\n",
       "      <th></th>\n",
       "      <th></th>\n",
       "      <th></th>\n",
       "      <th></th>\n",
       "      <th></th>\n",
       "      <th></th>\n",
       "      <th></th>\n",
       "      <th></th>\n",
       "    </tr>\n",
       "  </thead>\n",
       "  <tbody>\n",
       "    <tr>\n",
       "      <th rowspan=\"5\" valign=\"top\">AccountsReceivableNetCurrent</th>\n",
       "      <th rowspan=\"2\" valign=\"top\">0000002178-16-000064</th>\n",
       "      <th rowspan=\"2\" valign=\"top\">2178</th>\n",
       "      <th>20141231.0</th>\n",
       "      <td>144434000.0</td>\n",
       "      <td>NaN</td>\n",
       "      <td>NaN</td>\n",
       "      <td>NaN</td>\n",
       "      <td>NaN</td>\n",
       "      <td>NaN</td>\n",
       "      <td>NaN</td>\n",
       "      <td>NaN</td>\n",
       "      <td>NaN</td>\n",
       "      <td>NaN</td>\n",
       "      <td>...</td>\n",
       "      <td>NaN</td>\n",
       "      <td>NaN</td>\n",
       "      <td>NaN</td>\n",
       "      <td>NaN</td>\n",
       "      <td>NaN</td>\n",
       "      <td>NaN</td>\n",
       "      <td>NaN</td>\n",
       "      <td>NaN</td>\n",
       "      <td>NaN</td>\n",
       "      <td>NaN</td>\n",
       "    </tr>\n",
       "    <tr>\n",
       "      <th>20151231.0</th>\n",
       "      <td>71813000.0</td>\n",
       "      <td>NaN</td>\n",
       "      <td>NaN</td>\n",
       "      <td>NaN</td>\n",
       "      <td>NaN</td>\n",
       "      <td>NaN</td>\n",
       "      <td>NaN</td>\n",
       "      <td>NaN</td>\n",
       "      <td>NaN</td>\n",
       "      <td>NaN</td>\n",
       "      <td>...</td>\n",
       "      <td>NaN</td>\n",
       "      <td>NaN</td>\n",
       "      <td>NaN</td>\n",
       "      <td>NaN</td>\n",
       "      <td>NaN</td>\n",
       "      <td>NaN</td>\n",
       "      <td>NaN</td>\n",
       "      <td>NaN</td>\n",
       "      <td>NaN</td>\n",
       "      <td>NaN</td>\n",
       "    </tr>\n",
       "    <tr>\n",
       "      <th rowspan=\"2\" valign=\"top\">0000002488-16-000111</th>\n",
       "      <th rowspan=\"2\" valign=\"top\">2488</th>\n",
       "      <th>20141231.0</th>\n",
       "      <td>818000000.0</td>\n",
       "      <td>NaN</td>\n",
       "      <td>NaN</td>\n",
       "      <td>NaN</td>\n",
       "      <td>NaN</td>\n",
       "      <td>NaN</td>\n",
       "      <td>NaN</td>\n",
       "      <td>NaN</td>\n",
       "      <td>NaN</td>\n",
       "      <td>NaN</td>\n",
       "      <td>...</td>\n",
       "      <td>NaN</td>\n",
       "      <td>NaN</td>\n",
       "      <td>NaN</td>\n",
       "      <td>NaN</td>\n",
       "      <td>NaN</td>\n",
       "      <td>NaN</td>\n",
       "      <td>NaN</td>\n",
       "      <td>NaN</td>\n",
       "      <td>NaN</td>\n",
       "      <td>NaN</td>\n",
       "    </tr>\n",
       "    <tr>\n",
       "      <th>20151231.0</th>\n",
       "      <td>533000000.0</td>\n",
       "      <td>NaN</td>\n",
       "      <td>NaN</td>\n",
       "      <td>NaN</td>\n",
       "      <td>NaN</td>\n",
       "      <td>NaN</td>\n",
       "      <td>NaN</td>\n",
       "      <td>NaN</td>\n",
       "      <td>NaN</td>\n",
       "      <td>NaN</td>\n",
       "      <td>...</td>\n",
       "      <td>NaN</td>\n",
       "      <td>NaN</td>\n",
       "      <td>NaN</td>\n",
       "      <td>NaN</td>\n",
       "      <td>NaN</td>\n",
       "      <td>NaN</td>\n",
       "      <td>NaN</td>\n",
       "      <td>NaN</td>\n",
       "      <td>NaN</td>\n",
       "      <td>NaN</td>\n",
       "    </tr>\n",
       "    <tr>\n",
       "      <th>0000003545-16-000130</th>\n",
       "      <th>3545</th>\n",
       "      <th>20150930.0</th>\n",
       "      <td>3137000.0</td>\n",
       "      <td>NaN</td>\n",
       "      <td>NaN</td>\n",
       "      <td>NaN</td>\n",
       "      <td>NaN</td>\n",
       "      <td>NaN</td>\n",
       "      <td>NaN</td>\n",
       "      <td>NaN</td>\n",
       "      <td>NaN</td>\n",
       "      <td>NaN</td>\n",
       "      <td>...</td>\n",
       "      <td>NaN</td>\n",
       "      <td>NaN</td>\n",
       "      <td>NaN</td>\n",
       "      <td>NaN</td>\n",
       "      <td>NaN</td>\n",
       "      <td>NaN</td>\n",
       "      <td>NaN</td>\n",
       "      <td>NaN</td>\n",
       "      <td>NaN</td>\n",
       "      <td>NaN</td>\n",
       "    </tr>\n",
       "    <tr>\n",
       "      <th>...</th>\n",
       "      <th>...</th>\n",
       "      <th>...</th>\n",
       "      <th>...</th>\n",
       "      <td>...</td>\n",
       "      <td>...</td>\n",
       "      <td>...</td>\n",
       "      <td>...</td>\n",
       "      <td>...</td>\n",
       "      <td>...</td>\n",
       "      <td>...</td>\n",
       "      <td>...</td>\n",
       "      <td>...</td>\n",
       "      <td>...</td>\n",
       "      <td>...</td>\n",
       "      <td>...</td>\n",
       "      <td>...</td>\n",
       "      <td>...</td>\n",
       "      <td>...</td>\n",
       "      <td>...</td>\n",
       "      <td>...</td>\n",
       "      <td>...</td>\n",
       "      <td>...</td>\n",
       "      <td>...</td>\n",
       "      <td>...</td>\n",
       "    </tr>\n",
       "    <tr>\n",
       "      <th rowspan=\"5\" valign=\"top\">SalesRevenueNet</th>\n",
       "      <th>0001391609-16-000415</th>\n",
       "      <th>1223533</th>\n",
       "      <th>20151231.0</th>\n",
       "      <td>NaN</td>\n",
       "      <td>NaN</td>\n",
       "      <td>NaN</td>\n",
       "      <td>NaN</td>\n",
       "      <td>0.0</td>\n",
       "      <td>NaN</td>\n",
       "      <td>NaN</td>\n",
       "      <td>NaN</td>\n",
       "      <td>NaN</td>\n",
       "      <td>NaN</td>\n",
       "      <td>...</td>\n",
       "      <td>NaN</td>\n",
       "      <td>NaN</td>\n",
       "      <td>NaN</td>\n",
       "      <td>NaN</td>\n",
       "      <td>NaN</td>\n",
       "      <td>NaN</td>\n",
       "      <td>NaN</td>\n",
       "      <td>NaN</td>\n",
       "      <td>NaN</td>\n",
       "      <td>NaN</td>\n",
       "    </tr>\n",
       "    <tr>\n",
       "      <th rowspan=\"4\" valign=\"top\">0001437749-16-028714</th>\n",
       "      <th rowspan=\"4\" valign=\"top\">1322439</th>\n",
       "      <th>20150331.0</th>\n",
       "      <td>NaN</td>\n",
       "      <td>26331166.0</td>\n",
       "      <td>NaN</td>\n",
       "      <td>NaN</td>\n",
       "      <td>NaN</td>\n",
       "      <td>NaN</td>\n",
       "      <td>NaN</td>\n",
       "      <td>NaN</td>\n",
       "      <td>NaN</td>\n",
       "      <td>NaN</td>\n",
       "      <td>...</td>\n",
       "      <td>NaN</td>\n",
       "      <td>NaN</td>\n",
       "      <td>NaN</td>\n",
       "      <td>NaN</td>\n",
       "      <td>NaN</td>\n",
       "      <td>NaN</td>\n",
       "      <td>NaN</td>\n",
       "      <td>NaN</td>\n",
       "      <td>NaN</td>\n",
       "      <td>NaN</td>\n",
       "    </tr>\n",
       "    <tr>\n",
       "      <th>20150630.0</th>\n",
       "      <td>NaN</td>\n",
       "      <td>22657372.0</td>\n",
       "      <td>NaN</td>\n",
       "      <td>NaN</td>\n",
       "      <td>NaN</td>\n",
       "      <td>NaN</td>\n",
       "      <td>NaN</td>\n",
       "      <td>NaN</td>\n",
       "      <td>NaN</td>\n",
       "      <td>NaN</td>\n",
       "      <td>...</td>\n",
       "      <td>NaN</td>\n",
       "      <td>NaN</td>\n",
       "      <td>NaN</td>\n",
       "      <td>NaN</td>\n",
       "      <td>NaN</td>\n",
       "      <td>NaN</td>\n",
       "      <td>NaN</td>\n",
       "      <td>NaN</td>\n",
       "      <td>NaN</td>\n",
       "      <td>NaN</td>\n",
       "    </tr>\n",
       "    <tr>\n",
       "      <th>20150930.0</th>\n",
       "      <td>NaN</td>\n",
       "      <td>29127482.0</td>\n",
       "      <td>NaN</td>\n",
       "      <td>NaN</td>\n",
       "      <td>NaN</td>\n",
       "      <td>NaN</td>\n",
       "      <td>NaN</td>\n",
       "      <td>NaN</td>\n",
       "      <td>NaN</td>\n",
       "      <td>NaN</td>\n",
       "      <td>...</td>\n",
       "      <td>NaN</td>\n",
       "      <td>NaN</td>\n",
       "      <td>NaN</td>\n",
       "      <td>NaN</td>\n",
       "      <td>NaN</td>\n",
       "      <td>NaN</td>\n",
       "      <td>NaN</td>\n",
       "      <td>NaN</td>\n",
       "      <td>NaN</td>\n",
       "      <td>NaN</td>\n",
       "    </tr>\n",
       "    <tr>\n",
       "      <th>20151231.0</th>\n",
       "      <td>NaN</td>\n",
       "      <td>25740856.0</td>\n",
       "      <td>NaN</td>\n",
       "      <td>NaN</td>\n",
       "      <td>NaN</td>\n",
       "      <td>NaN</td>\n",
       "      <td>NaN</td>\n",
       "      <td>NaN</td>\n",
       "      <td>NaN</td>\n",
       "      <td>NaN</td>\n",
       "      <td>...</td>\n",
       "      <td>NaN</td>\n",
       "      <td>NaN</td>\n",
       "      <td>NaN</td>\n",
       "      <td>NaN</td>\n",
       "      <td>NaN</td>\n",
       "      <td>NaN</td>\n",
       "      <td>NaN</td>\n",
       "      <td>NaN</td>\n",
       "      <td>NaN</td>\n",
       "      <td>NaN</td>\n",
       "    </tr>\n",
       "  </tbody>\n",
       "</table>\n",
       "<p>77491 rows × 42 columns</p>\n",
       "</div>"
      ],
      "text/plain": [
       "qtrs                                                                        0.0    \\\n",
       "tag                          adsh                 cik     ddate                     \n",
       "AccountsReceivableNetCurrent 0000002178-16-000064 2178    20141231.0  144434000.0   \n",
       "                                                          20151231.0   71813000.0   \n",
       "                             0000002488-16-000111 2488    20141231.0  818000000.0   \n",
       "                                                          20151231.0  533000000.0   \n",
       "                             0000003545-16-000130 3545    20150930.0    3137000.0   \n",
       "...                                                                           ...   \n",
       "SalesRevenueNet              0001391609-16-000415 1223533 20151231.0          NaN   \n",
       "                             0001437749-16-028714 1322439 20150331.0          NaN   \n",
       "                                                          20150630.0          NaN   \n",
       "                                                          20150930.0          NaN   \n",
       "                                                          20151231.0          NaN   \n",
       "\n",
       "qtrs                                                                       1.0    \\\n",
       "tag                          adsh                 cik     ddate                    \n",
       "AccountsReceivableNetCurrent 0000002178-16-000064 2178    20141231.0         NaN   \n",
       "                                                          20151231.0         NaN   \n",
       "                             0000002488-16-000111 2488    20141231.0         NaN   \n",
       "                                                          20151231.0         NaN   \n",
       "                             0000003545-16-000130 3545    20150930.0         NaN   \n",
       "...                                                                          ...   \n",
       "SalesRevenueNet              0001391609-16-000415 1223533 20151231.0         NaN   \n",
       "                             0001437749-16-028714 1322439 20150331.0  26331166.0   \n",
       "                                                          20150630.0  22657372.0   \n",
       "                                                          20150930.0  29127482.0   \n",
       "                                                          20151231.0  25740856.0   \n",
       "\n",
       "qtrs                                                                  2.0    \\\n",
       "tag                          adsh                 cik     ddate               \n",
       "AccountsReceivableNetCurrent 0000002178-16-000064 2178    20141231.0    NaN   \n",
       "                                                          20151231.0    NaN   \n",
       "                             0000002488-16-000111 2488    20141231.0    NaN   \n",
       "                                                          20151231.0    NaN   \n",
       "                             0000003545-16-000130 3545    20150930.0    NaN   \n",
       "...                                                                     ...   \n",
       "SalesRevenueNet              0001391609-16-000415 1223533 20151231.0    NaN   \n",
       "                             0001437749-16-028714 1322439 20150331.0    NaN   \n",
       "                                                          20150630.0    NaN   \n",
       "                                                          20150930.0    NaN   \n",
       "                                                          20151231.0    NaN   \n",
       "\n",
       "qtrs                                                                  3.0    \\\n",
       "tag                          adsh                 cik     ddate               \n",
       "AccountsReceivableNetCurrent 0000002178-16-000064 2178    20141231.0    NaN   \n",
       "                                                          20151231.0    NaN   \n",
       "                             0000002488-16-000111 2488    20141231.0    NaN   \n",
       "                                                          20151231.0    NaN   \n",
       "                             0000003545-16-000130 3545    20150930.0    NaN   \n",
       "...                                                                     ...   \n",
       "SalesRevenueNet              0001391609-16-000415 1223533 20151231.0    NaN   \n",
       "                             0001437749-16-028714 1322439 20150331.0    NaN   \n",
       "                                                          20150630.0    NaN   \n",
       "                                                          20150930.0    NaN   \n",
       "                                                          20151231.0    NaN   \n",
       "\n",
       "qtrs                                                                  4.0    \\\n",
       "tag                          adsh                 cik     ddate               \n",
       "AccountsReceivableNetCurrent 0000002178-16-000064 2178    20141231.0    NaN   \n",
       "                                                          20151231.0    NaN   \n",
       "                             0000002488-16-000111 2488    20141231.0    NaN   \n",
       "                                                          20151231.0    NaN   \n",
       "                             0000003545-16-000130 3545    20150930.0    NaN   \n",
       "...                                                                     ...   \n",
       "SalesRevenueNet              0001391609-16-000415 1223533 20151231.0    0.0   \n",
       "                             0001437749-16-028714 1322439 20150331.0    NaN   \n",
       "                                                          20150630.0    NaN   \n",
       "                                                          20150930.0    NaN   \n",
       "                                                          20151231.0    NaN   \n",
       "\n",
       "qtrs                                                                  5.0    \\\n",
       "tag                          adsh                 cik     ddate               \n",
       "AccountsReceivableNetCurrent 0000002178-16-000064 2178    20141231.0    NaN   \n",
       "                                                          20151231.0    NaN   \n",
       "                             0000002488-16-000111 2488    20141231.0    NaN   \n",
       "                                                          20151231.0    NaN   \n",
       "                             0000003545-16-000130 3545    20150930.0    NaN   \n",
       "...                                                                     ...   \n",
       "SalesRevenueNet              0001391609-16-000415 1223533 20151231.0    NaN   \n",
       "                             0001437749-16-028714 1322439 20150331.0    NaN   \n",
       "                                                          20150630.0    NaN   \n",
       "                                                          20150930.0    NaN   \n",
       "                                                          20151231.0    NaN   \n",
       "\n",
       "qtrs                                                                  6.0    \\\n",
       "tag                          adsh                 cik     ddate               \n",
       "AccountsReceivableNetCurrent 0000002178-16-000064 2178    20141231.0    NaN   \n",
       "                                                          20151231.0    NaN   \n",
       "                             0000002488-16-000111 2488    20141231.0    NaN   \n",
       "                                                          20151231.0    NaN   \n",
       "                             0000003545-16-000130 3545    20150930.0    NaN   \n",
       "...                                                                     ...   \n",
       "SalesRevenueNet              0001391609-16-000415 1223533 20151231.0    NaN   \n",
       "                             0001437749-16-028714 1322439 20150331.0    NaN   \n",
       "                                                          20150630.0    NaN   \n",
       "                                                          20150930.0    NaN   \n",
       "                                                          20151231.0    NaN   \n",
       "\n",
       "qtrs                                                                  8.0    \\\n",
       "tag                          adsh                 cik     ddate               \n",
       "AccountsReceivableNetCurrent 0000002178-16-000064 2178    20141231.0    NaN   \n",
       "                                                          20151231.0    NaN   \n",
       "                             0000002488-16-000111 2488    20141231.0    NaN   \n",
       "                                                          20151231.0    NaN   \n",
       "                             0000003545-16-000130 3545    20150930.0    NaN   \n",
       "...                                                                     ...   \n",
       "SalesRevenueNet              0001391609-16-000415 1223533 20151231.0    NaN   \n",
       "                             0001437749-16-028714 1322439 20150331.0    NaN   \n",
       "                                                          20150630.0    NaN   \n",
       "                                                          20150930.0    NaN   \n",
       "                                                          20151231.0    NaN   \n",
       "\n",
       "qtrs                                                                  9.0    \\\n",
       "tag                          adsh                 cik     ddate               \n",
       "AccountsReceivableNetCurrent 0000002178-16-000064 2178    20141231.0    NaN   \n",
       "                                                          20151231.0    NaN   \n",
       "                             0000002488-16-000111 2488    20141231.0    NaN   \n",
       "                                                          20151231.0    NaN   \n",
       "                             0000003545-16-000130 3545    20150930.0    NaN   \n",
       "...                                                                     ...   \n",
       "SalesRevenueNet              0001391609-16-000415 1223533 20151231.0    NaN   \n",
       "                             0001437749-16-028714 1322439 20150331.0    NaN   \n",
       "                                                          20150630.0    NaN   \n",
       "                                                          20150930.0    NaN   \n",
       "                                                          20151231.0    NaN   \n",
       "\n",
       "qtrs                                                                  10.0   \\\n",
       "tag                          adsh                 cik     ddate               \n",
       "AccountsReceivableNetCurrent 0000002178-16-000064 2178    20141231.0    NaN   \n",
       "                                                          20151231.0    NaN   \n",
       "                             0000002488-16-000111 2488    20141231.0    NaN   \n",
       "                                                          20151231.0    NaN   \n",
       "                             0000003545-16-000130 3545    20150930.0    NaN   \n",
       "...                                                                     ...   \n",
       "SalesRevenueNet              0001391609-16-000415 1223533 20151231.0    NaN   \n",
       "                             0001437749-16-028714 1322439 20150331.0    NaN   \n",
       "                                                          20150630.0    NaN   \n",
       "                                                          20150930.0    NaN   \n",
       "                                                          20151231.0    NaN   \n",
       "\n",
       "qtrs                                                                  ...  \\\n",
       "tag                          adsh                 cik     ddate       ...   \n",
       "AccountsReceivableNetCurrent 0000002178-16-000064 2178    20141231.0  ...   \n",
       "                                                          20151231.0  ...   \n",
       "                             0000002488-16-000111 2488    20141231.0  ...   \n",
       "                                                          20151231.0  ...   \n",
       "                             0000003545-16-000130 3545    20150930.0  ...   \n",
       "...                                                                   ...   \n",
       "SalesRevenueNet              0001391609-16-000415 1223533 20151231.0  ...   \n",
       "                             0001437749-16-028714 1322439 20150331.0  ...   \n",
       "                                                          20150630.0  ...   \n",
       "                                                          20150930.0  ...   \n",
       "                                                          20151231.0  ...   \n",
       "\n",
       "qtrs                                                                  46.0   \\\n",
       "tag                          adsh                 cik     ddate               \n",
       "AccountsReceivableNetCurrent 0000002178-16-000064 2178    20141231.0    NaN   \n",
       "                                                          20151231.0    NaN   \n",
       "                             0000002488-16-000111 2488    20141231.0    NaN   \n",
       "                                                          20151231.0    NaN   \n",
       "                             0000003545-16-000130 3545    20150930.0    NaN   \n",
       "...                                                                     ...   \n",
       "SalesRevenueNet              0001391609-16-000415 1223533 20151231.0    NaN   \n",
       "                             0001437749-16-028714 1322439 20150331.0    NaN   \n",
       "                                                          20150630.0    NaN   \n",
       "                                                          20150930.0    NaN   \n",
       "                                                          20151231.0    NaN   \n",
       "\n",
       "qtrs                                                                  47.0   \\\n",
       "tag                          adsh                 cik     ddate               \n",
       "AccountsReceivableNetCurrent 0000002178-16-000064 2178    20141231.0    NaN   \n",
       "                                                          20151231.0    NaN   \n",
       "                             0000002488-16-000111 2488    20141231.0    NaN   \n",
       "                                                          20151231.0    NaN   \n",
       "                             0000003545-16-000130 3545    20150930.0    NaN   \n",
       "...                                                                     ...   \n",
       "SalesRevenueNet              0001391609-16-000415 1223533 20151231.0    NaN   \n",
       "                             0001437749-16-028714 1322439 20150331.0    NaN   \n",
       "                                                          20150630.0    NaN   \n",
       "                                                          20150930.0    NaN   \n",
       "                                                          20151231.0    NaN   \n",
       "\n",
       "qtrs                                                                  48.0   \\\n",
       "tag                          adsh                 cik     ddate               \n",
       "AccountsReceivableNetCurrent 0000002178-16-000064 2178    20141231.0    NaN   \n",
       "                                                          20151231.0    NaN   \n",
       "                             0000002488-16-000111 2488    20141231.0    NaN   \n",
       "                                                          20151231.0    NaN   \n",
       "                             0000003545-16-000130 3545    20150930.0    NaN   \n",
       "...                                                                     ...   \n",
       "SalesRevenueNet              0001391609-16-000415 1223533 20151231.0    NaN   \n",
       "                             0001437749-16-028714 1322439 20150331.0    NaN   \n",
       "                                                          20150630.0    NaN   \n",
       "                                                          20150930.0    NaN   \n",
       "                                                          20151231.0    NaN   \n",
       "\n",
       "qtrs                                                                  53.0   \\\n",
       "tag                          adsh                 cik     ddate               \n",
       "AccountsReceivableNetCurrent 0000002178-16-000064 2178    20141231.0    NaN   \n",
       "                                                          20151231.0    NaN   \n",
       "                             0000002488-16-000111 2488    20141231.0    NaN   \n",
       "                                                          20151231.0    NaN   \n",
       "                             0000003545-16-000130 3545    20150930.0    NaN   \n",
       "...                                                                     ...   \n",
       "SalesRevenueNet              0001391609-16-000415 1223533 20151231.0    NaN   \n",
       "                             0001437749-16-028714 1322439 20150331.0    NaN   \n",
       "                                                          20150630.0    NaN   \n",
       "                                                          20150930.0    NaN   \n",
       "                                                          20151231.0    NaN   \n",
       "\n",
       "qtrs                                                                  60.0   \\\n",
       "tag                          adsh                 cik     ddate               \n",
       "AccountsReceivableNetCurrent 0000002178-16-000064 2178    20141231.0    NaN   \n",
       "                                                          20151231.0    NaN   \n",
       "                             0000002488-16-000111 2488    20141231.0    NaN   \n",
       "                                                          20151231.0    NaN   \n",
       "                             0000003545-16-000130 3545    20150930.0    NaN   \n",
       "...                                                                     ...   \n",
       "SalesRevenueNet              0001391609-16-000415 1223533 20151231.0    NaN   \n",
       "                             0001437749-16-028714 1322439 20150331.0    NaN   \n",
       "                                                          20150630.0    NaN   \n",
       "                                                          20150930.0    NaN   \n",
       "                                                          20151231.0    NaN   \n",
       "\n",
       "qtrs                                                                  69.0   \\\n",
       "tag                          adsh                 cik     ddate               \n",
       "AccountsReceivableNetCurrent 0000002178-16-000064 2178    20141231.0    NaN   \n",
       "                                                          20151231.0    NaN   \n",
       "                             0000002488-16-000111 2488    20141231.0    NaN   \n",
       "                                                          20151231.0    NaN   \n",
       "                             0000003545-16-000130 3545    20150930.0    NaN   \n",
       "...                                                                     ...   \n",
       "SalesRevenueNet              0001391609-16-000415 1223533 20151231.0    NaN   \n",
       "                             0001437749-16-028714 1322439 20150331.0    NaN   \n",
       "                                                          20150630.0    NaN   \n",
       "                                                          20150930.0    NaN   \n",
       "                                                          20151231.0    NaN   \n",
       "\n",
       "qtrs                                                                  70.0   \\\n",
       "tag                          adsh                 cik     ddate               \n",
       "AccountsReceivableNetCurrent 0000002178-16-000064 2178    20141231.0    NaN   \n",
       "                                                          20151231.0    NaN   \n",
       "                             0000002488-16-000111 2488    20141231.0    NaN   \n",
       "                                                          20151231.0    NaN   \n",
       "                             0000003545-16-000130 3545    20150930.0    NaN   \n",
       "...                                                                     ...   \n",
       "SalesRevenueNet              0001391609-16-000415 1223533 20151231.0    NaN   \n",
       "                             0001437749-16-028714 1322439 20150331.0    NaN   \n",
       "                                                          20150630.0    NaN   \n",
       "                                                          20150930.0    NaN   \n",
       "                                                          20151231.0    NaN   \n",
       "\n",
       "qtrs                                                                  112.0  \\\n",
       "tag                          adsh                 cik     ddate               \n",
       "AccountsReceivableNetCurrent 0000002178-16-000064 2178    20141231.0    NaN   \n",
       "                                                          20151231.0    NaN   \n",
       "                             0000002488-16-000111 2488    20141231.0    NaN   \n",
       "                                                          20151231.0    NaN   \n",
       "                             0000003545-16-000130 3545    20150930.0    NaN   \n",
       "...                                                                     ...   \n",
       "SalesRevenueNet              0001391609-16-000415 1223533 20151231.0    NaN   \n",
       "                             0001437749-16-028714 1322439 20150331.0    NaN   \n",
       "                                                          20150630.0    NaN   \n",
       "                                                          20150930.0    NaN   \n",
       "                                                          20151231.0    NaN   \n",
       "\n",
       "qtrs                                                                  146.0  \\\n",
       "tag                          adsh                 cik     ddate               \n",
       "AccountsReceivableNetCurrent 0000002178-16-000064 2178    20141231.0    NaN   \n",
       "                                                          20151231.0    NaN   \n",
       "                             0000002488-16-000111 2488    20141231.0    NaN   \n",
       "                                                          20151231.0    NaN   \n",
       "                             0000003545-16-000130 3545    20150930.0    NaN   \n",
       "...                                                                     ...   \n",
       "SalesRevenueNet              0001391609-16-000415 1223533 20151231.0    NaN   \n",
       "                             0001437749-16-028714 1322439 20150331.0    NaN   \n",
       "                                                          20150630.0    NaN   \n",
       "                                                          20150930.0    NaN   \n",
       "                                                          20151231.0    NaN   \n",
       "\n",
       "qtrs                                                                  154.0  \n",
       "tag                          adsh                 cik     ddate              \n",
       "AccountsReceivableNetCurrent 0000002178-16-000064 2178    20141231.0    NaN  \n",
       "                                                          20151231.0    NaN  \n",
       "                             0000002488-16-000111 2488    20141231.0    NaN  \n",
       "                                                          20151231.0    NaN  \n",
       "                             0000003545-16-000130 3545    20150930.0    NaN  \n",
       "...                                                                     ...  \n",
       "SalesRevenueNet              0001391609-16-000415 1223533 20151231.0    NaN  \n",
       "                             0001437749-16-028714 1322439 20150331.0    NaN  \n",
       "                                                          20150630.0    NaN  \n",
       "                                                          20150930.0    NaN  \n",
       "                                                          20151231.0    NaN  \n",
       "\n",
       "[77491 rows x 42 columns]"
      ]
     },
     "execution_count": 320,
     "metadata": {},
     "output_type": "execute_result"
    }
   ],
   "source": [
    "Regression_2015.pivot_table(values='value', index=['tag', 'adsh','cik','ddate'], columns=['qtrs'])"
   ]
  },
  {
   "cell_type": "markdown",
   "metadata": {},
   "source": [
    "## Feature Engineering"
   ]
  },
  {
   "cell_type": "markdown",
   "metadata": {},
   "source": [
    "#### Jones Model Modified Equation\n",
    "\n",
    "$$\n",
    "\\begin{eqnarray}\n",
    "Y(Total Net Accruals/ ATA) &=& \\beta_0 + \\beta_1(1/ATA) + \\beta_2((Change in Rev - Change in AR) / ATA))+  \\beta_3(Property Plant Equipment/ ATA) +\\beta_4(NetIncomeLoss/ATA) + \\beta_5(NetCashProvidedByUsedInOperatingActivities/ATA) +\\varepsilon\\\\\n",
    "\\end{eqnarray}\n",
    "$$"
   ]
  },
  {
   "cell_type": "markdown",
   "metadata": {},
   "source": [
    "Create a function to engineer tags in order to fit equation above. We can multiply through average total assets, but its is useful to engineer a lag variable for assets. Total Net Accruals will equal net income - net cash. To find the change of revenue and change in AR we have to use lag variables and the subtract the current from the prior. Once we accomplish that we can create the change in sales- change in accounts rec column for our equation. We dont need to engineer PP&E as the value on the quarterly statement is in the book value"
   ]
  },
  {
   "cell_type": "code",
   "execution_count": 321,
   "metadata": {},
   "outputs": [],
   "source": [
    "def engineer_tags(df, datepresent, dateprior):\n",
    "    data_set = df[(df.ddate == datepresent)\n",
    "                   | (df.ddate == dateprior)]\n",
    "    data_table = pd.pivot_table(data_set,\n",
    "                             values = 'value',\n",
    "                             index = ['cik','ddate'],\n",
    "                             columns = 'tag',\n",
    "                             dropna = True)\n",
    "    data_table['TotalNetAccruals'] =  data_table['NetIncomeLoss'] - data_table['NetCashProvidedByUsedInOperatingActivities']\n",
    "    Q_Regression = data_table.dropna(axis = 0)\n",
    "    Q_Regression['AssetsPrior']=Q_Regression.groupby('cik').Assets.shift()\n",
    "    Q_Regression['RevPrior'] = Q_Regression.groupby('cik').SalesRevenueNet.shift()\n",
    "    Q_Regression['ArPrior'] = Q_Regression.groupby('cik').AccountsReceivableNetCurrent.shift()\n",
    "    Q_Regression['RevChange'] = Q_Regression['SalesRevenueNet'] - Q_Regression['RevPrior']\n",
    "    Q_Regression['ARChange'] = Q_Regression['AccountsReceivableNetCurrent'] - Q_Regression['ArPrior']\n",
    "    Q_Regression['ROA'] = Q_Regression['NetIncomeLoss'] / Q_Regression['Assets']\n",
    "    Q_Regression['ChangeSalesRec'] = Q_Regression['RevChange'] - Q_Regression['ARChange']\n",
    "    Regression_Q = Q_Regression.dropna(axis = 0)\n",
    "    return Regression_Q"
   ]
  },
  {
   "cell_type": "markdown",
   "metadata": {},
   "source": [
    "Call function for all quarters that we want. In this case its Q4,Q3, and Q2. We need to filter out based on date. To note, the engineered function is used only on our modified jones model equation. To generalize a function for all financial statements we can use a tag parameter to be specific"
   ]
  },
  {
   "cell_type": "code",
   "execution_count": 322,
   "metadata": {},
   "outputs": [],
   "source": [
    "Regression_Q42015 = engineer_tags(Regression_2015, 20151231,20141231)"
   ]
  },
  {
   "cell_type": "code",
   "execution_count": 323,
   "metadata": {},
   "outputs": [],
   "source": [
    "Regression_Q32015 = engineer_tags(Regression_2015, 20150930,20140930)"
   ]
  },
  {
   "cell_type": "code",
   "execution_count": 324,
   "metadata": {},
   "outputs": [],
   "source": [
    "Regression_Q22015 = engineer_tags(Regression_2015,20150630, 20140630)"
   ]
  },
  {
   "cell_type": "markdown",
   "metadata": {},
   "source": [
    "Concat all dataframes to make one data frame for the model. Make sure there are no nans and ensure that we have 410 full observations"
   ]
  },
  {
   "cell_type": "code",
   "execution_count": 325,
   "metadata": {},
   "outputs": [
    {
     "data": {
      "text/html": [
       "<div>\n",
       "<style scoped>\n",
       "    .dataframe tbody tr th:only-of-type {\n",
       "        vertical-align: middle;\n",
       "    }\n",
       "\n",
       "    .dataframe tbody tr th {\n",
       "        vertical-align: top;\n",
       "    }\n",
       "\n",
       "    .dataframe thead th {\n",
       "        text-align: right;\n",
       "    }\n",
       "</style>\n",
       "<table border=\"1\" class=\"dataframe\">\n",
       "  <thead>\n",
       "    <tr style=\"text-align: right;\">\n",
       "      <th></th>\n",
       "      <th>tag</th>\n",
       "      <th>AccountsReceivableNetCurrent</th>\n",
       "      <th>Assets</th>\n",
       "      <th>NetCashProvidedByUsedInOperatingActivities</th>\n",
       "      <th>NetIncomeLoss</th>\n",
       "      <th>PropertyPlantAndEquipmentNet</th>\n",
       "      <th>SalesRevenueNet</th>\n",
       "      <th>TotalNetAccruals</th>\n",
       "      <th>AssetsPrior</th>\n",
       "      <th>RevPrior</th>\n",
       "      <th>ArPrior</th>\n",
       "      <th>RevChange</th>\n",
       "      <th>ARChange</th>\n",
       "      <th>ROA</th>\n",
       "      <th>ChangeSalesRec</th>\n",
       "    </tr>\n",
       "    <tr>\n",
       "      <th>cik</th>\n",
       "      <th>ddate</th>\n",
       "      <th></th>\n",
       "      <th></th>\n",
       "      <th></th>\n",
       "      <th></th>\n",
       "      <th></th>\n",
       "      <th></th>\n",
       "      <th></th>\n",
       "      <th></th>\n",
       "      <th></th>\n",
       "      <th></th>\n",
       "      <th></th>\n",
       "      <th></th>\n",
       "      <th></th>\n",
       "      <th></th>\n",
       "    </tr>\n",
       "  </thead>\n",
       "  <tbody>\n",
       "    <tr>\n",
       "      <th>1800</th>\n",
       "      <th>20151231.0</th>\n",
       "      <td>3.418000e+09</td>\n",
       "      <td>4.124700e+10</td>\n",
       "      <td>2.966000e+09</td>\n",
       "      <td>2.595000e+09</td>\n",
       "      <td>5.730000e+09</td>\n",
       "      <td>1.279650e+10</td>\n",
       "      <td>-371000000.0</td>\n",
       "      <td>4.120700e+10</td>\n",
       "      <td>1.280150e+10</td>\n",
       "      <td>3.586000e+09</td>\n",
       "      <td>-5.000000e+06</td>\n",
       "      <td>-168000000.0</td>\n",
       "      <td>0.062914</td>\n",
       "      <td>1.630000e+08</td>\n",
       "    </tr>\n",
       "    <tr>\n",
       "      <th>2488</th>\n",
       "      <th>20151231.0</th>\n",
       "      <td>5.330000e+08</td>\n",
       "      <td>3.109000e+09</td>\n",
       "      <td>-2.260000e+08</td>\n",
       "      <td>-3.810000e+08</td>\n",
       "      <td>1.880000e+08</td>\n",
       "      <td>3.991000e+09</td>\n",
       "      <td>-155000000.0</td>\n",
       "      <td>3.767000e+09</td>\n",
       "      <td>5.506000e+09</td>\n",
       "      <td>8.180000e+08</td>\n",
       "      <td>-1.515000e+09</td>\n",
       "      <td>-285000000.0</td>\n",
       "      <td>-0.122547</td>\n",
       "      <td>-1.230000e+09</td>\n",
       "    </tr>\n",
       "    <tr>\n",
       "      <th>7536</th>\n",
       "      <th>20151231.0</th>\n",
       "      <td>6.161418e+09</td>\n",
       "      <td>1.302193e+10</td>\n",
       "      <td>6.550790e+08</td>\n",
       "      <td>3.281090e+08</td>\n",
       "      <td>7.001780e+08</td>\n",
       "      <td>1.501668e+10</td>\n",
       "      <td>-326970000.0</td>\n",
       "      <td>1.243530e+10</td>\n",
       "      <td>1.458278e+10</td>\n",
       "      <td>6.043850e+09</td>\n",
       "      <td>4.339045e+08</td>\n",
       "      <td>117568000.0</td>\n",
       "      <td>0.025197</td>\n",
       "      <td>3.163365e+08</td>\n",
       "    </tr>\n",
       "    <tr>\n",
       "      <th>9092</th>\n",
       "      <th>20151231.0</th>\n",
       "      <td>5.664300e+07</td>\n",
       "      <td>3.554800e+08</td>\n",
       "      <td>3.583100e+07</td>\n",
       "      <td>1.571050e+07</td>\n",
       "      <td>9.092000e+07</td>\n",
       "      <td>2.367340e+08</td>\n",
       "      <td>-20120500.0</td>\n",
       "      <td>3.411580e+08</td>\n",
       "      <td>2.270535e+08</td>\n",
       "      <td>5.396700e+07</td>\n",
       "      <td>9.680500e+06</td>\n",
       "      <td>2676000.0</td>\n",
       "      <td>0.044195</td>\n",
       "      <td>7.004500e+06</td>\n",
       "    </tr>\n",
       "    <tr>\n",
       "      <th>12208</th>\n",
       "      <th>20151231.0</th>\n",
       "      <td>3.914850e+08</td>\n",
       "      <td>3.711542e+09</td>\n",
       "      <td>1.862100e+08</td>\n",
       "      <td>8.129650e+07</td>\n",
       "      <td>4.376900e+08</td>\n",
       "      <td>1.295020e+09</td>\n",
       "      <td>-104913500.0</td>\n",
       "      <td>3.341278e+09</td>\n",
       "      <td>1.386622e+09</td>\n",
       "      <td>3.776400e+08</td>\n",
       "      <td>-9.160150e+07</td>\n",
       "      <td>13845000.0</td>\n",
       "      <td>0.021904</td>\n",
       "      <td>-1.054465e+08</td>\n",
       "    </tr>\n",
       "  </tbody>\n",
       "</table>\n",
       "</div>"
      ],
      "text/plain": [
       "tag               AccountsReceivableNetCurrent        Assets  \\\n",
       "cik   ddate                                                    \n",
       "1800  20151231.0                  3.418000e+09  4.124700e+10   \n",
       "2488  20151231.0                  5.330000e+08  3.109000e+09   \n",
       "7536  20151231.0                  6.161418e+09  1.302193e+10   \n",
       "9092  20151231.0                  5.664300e+07  3.554800e+08   \n",
       "12208 20151231.0                  3.914850e+08  3.711542e+09   \n",
       "\n",
       "tag               NetCashProvidedByUsedInOperatingActivities  NetIncomeLoss  \\\n",
       "cik   ddate                                                                   \n",
       "1800  20151231.0                                2.966000e+09   2.595000e+09   \n",
       "2488  20151231.0                               -2.260000e+08  -3.810000e+08   \n",
       "7536  20151231.0                                6.550790e+08   3.281090e+08   \n",
       "9092  20151231.0                                3.583100e+07   1.571050e+07   \n",
       "12208 20151231.0                                1.862100e+08   8.129650e+07   \n",
       "\n",
       "tag               PropertyPlantAndEquipmentNet  SalesRevenueNet  \\\n",
       "cik   ddate                                                       \n",
       "1800  20151231.0                  5.730000e+09     1.279650e+10   \n",
       "2488  20151231.0                  1.880000e+08     3.991000e+09   \n",
       "7536  20151231.0                  7.001780e+08     1.501668e+10   \n",
       "9092  20151231.0                  9.092000e+07     2.367340e+08   \n",
       "12208 20151231.0                  4.376900e+08     1.295020e+09   \n",
       "\n",
       "tag               TotalNetAccruals   AssetsPrior      RevPrior       ArPrior  \\\n",
       "cik   ddate                                                                    \n",
       "1800  20151231.0      -371000000.0  4.120700e+10  1.280150e+10  3.586000e+09   \n",
       "2488  20151231.0      -155000000.0  3.767000e+09  5.506000e+09  8.180000e+08   \n",
       "7536  20151231.0      -326970000.0  1.243530e+10  1.458278e+10  6.043850e+09   \n",
       "9092  20151231.0       -20120500.0  3.411580e+08  2.270535e+08  5.396700e+07   \n",
       "12208 20151231.0      -104913500.0  3.341278e+09  1.386622e+09  3.776400e+08   \n",
       "\n",
       "tag                  RevChange     ARChange       ROA  ChangeSalesRec  \n",
       "cik   ddate                                                            \n",
       "1800  20151231.0 -5.000000e+06 -168000000.0  0.062914    1.630000e+08  \n",
       "2488  20151231.0 -1.515000e+09 -285000000.0 -0.122547   -1.230000e+09  \n",
       "7536  20151231.0  4.339045e+08  117568000.0  0.025197    3.163365e+08  \n",
       "9092  20151231.0  9.680500e+06    2676000.0  0.044195    7.004500e+06  \n",
       "12208 20151231.0 -9.160150e+07   13845000.0  0.021904   -1.054465e+08  "
      ]
     },
     "execution_count": 325,
     "metadata": {},
     "output_type": "execute_result"
    }
   ],
   "source": [
    "df = pd.concat([Regression_Q42015,Regression_Q32015,Regression_Q22015])\n",
    "df.head()"
   ]
  },
  {
   "cell_type": "markdown",
   "metadata": {},
   "source": [
    "## EDA"
   ]
  },
  {
   "cell_type": "markdown",
   "metadata": {},
   "source": [
    "Describe each numeric column and its descriptive stats"
   ]
  },
  {
   "cell_type": "code",
   "execution_count": 326,
   "metadata": {},
   "outputs": [
    {
     "data": {
      "text/html": [
       "<div>\n",
       "<style scoped>\n",
       "    .dataframe tbody tr th:only-of-type {\n",
       "        vertical-align: middle;\n",
       "    }\n",
       "\n",
       "    .dataframe tbody tr th {\n",
       "        vertical-align: top;\n",
       "    }\n",
       "\n",
       "    .dataframe thead th {\n",
       "        text-align: right;\n",
       "    }\n",
       "</style>\n",
       "<table border=\"1\" class=\"dataframe\">\n",
       "  <thead>\n",
       "    <tr style=\"text-align: right;\">\n",
       "      <th></th>\n",
       "      <th>count</th>\n",
       "      <th>mean</th>\n",
       "      <th>std</th>\n",
       "      <th>min</th>\n",
       "      <th>25%</th>\n",
       "      <th>50%</th>\n",
       "      <th>75%</th>\n",
       "      <th>max</th>\n",
       "    </tr>\n",
       "    <tr>\n",
       "      <th>tag</th>\n",
       "      <th></th>\n",
       "      <th></th>\n",
       "      <th></th>\n",
       "      <th></th>\n",
       "      <th></th>\n",
       "      <th></th>\n",
       "      <th></th>\n",
       "      <th></th>\n",
       "    </tr>\n",
       "  </thead>\n",
       "  <tbody>\n",
       "    <tr>\n",
       "      <th>AccountsReceivableNetCurrent</th>\n",
       "      <td>410.0</td>\n",
       "      <td>3.505436e+08</td>\n",
       "      <td>8.977213e+08</td>\n",
       "      <td>0.000000e+00</td>\n",
       "      <td>8.937700e+06</td>\n",
       "      <td>6.307350e+07</td>\n",
       "      <td>2.551132e+08</td>\n",
       "      <td>6.423000e+09</td>\n",
       "    </tr>\n",
       "    <tr>\n",
       "      <th>Assets</th>\n",
       "      <td>410.0</td>\n",
       "      <td>4.102572e+09</td>\n",
       "      <td>1.095470e+10</td>\n",
       "      <td>9.263300e+04</td>\n",
       "      <td>1.178199e+08</td>\n",
       "      <td>6.236960e+08</td>\n",
       "      <td>2.518572e+09</td>\n",
       "      <td>8.170300e+10</td>\n",
       "    </tr>\n",
       "    <tr>\n",
       "      <th>NetCashProvidedByUsedInOperatingActivities</th>\n",
       "      <td>410.0</td>\n",
       "      <td>4.151233e+08</td>\n",
       "      <td>1.526400e+09</td>\n",
       "      <td>-7.898840e+08</td>\n",
       "      <td>8.320448e+05</td>\n",
       "      <td>4.118150e+07</td>\n",
       "      <td>2.013768e+08</td>\n",
       "      <td>2.032900e+10</td>\n",
       "    </tr>\n",
       "    <tr>\n",
       "      <th>NetIncomeLoss</th>\n",
       "      <td>410.0</td>\n",
       "      <td>1.302900e+08</td>\n",
       "      <td>9.138933e+08</td>\n",
       "      <td>-7.829000e+09</td>\n",
       "      <td>-7.894000e+06</td>\n",
       "      <td>7.356000e+06</td>\n",
       "      <td>7.773400e+07</td>\n",
       "      <td>1.139550e+10</td>\n",
       "    </tr>\n",
       "    <tr>\n",
       "      <th>PropertyPlantAndEquipmentNet</th>\n",
       "      <td>410.0</td>\n",
       "      <td>1.346942e+09</td>\n",
       "      <td>5.818129e+09</td>\n",
       "      <td>4.530000e+03</td>\n",
       "      <td>8.986007e+06</td>\n",
       "      <td>8.840950e+07</td>\n",
       "      <td>5.383000e+08</td>\n",
       "      <td>5.951000e+10</td>\n",
       "    </tr>\n",
       "    <tr>\n",
       "      <th>SalesRevenueNet</th>\n",
       "      <td>410.0</td>\n",
       "      <td>2.139220e+09</td>\n",
       "      <td>6.448746e+09</td>\n",
       "      <td>2.527700e+04</td>\n",
       "      <td>7.235975e+07</td>\n",
       "      <td>3.747610e+08</td>\n",
       "      <td>1.317214e+09</td>\n",
       "      <td>7.137650e+10</td>\n",
       "    </tr>\n",
       "    <tr>\n",
       "      <th>TotalNetAccruals</th>\n",
       "      <td>410.0</td>\n",
       "      <td>-2.848332e+08</td>\n",
       "      <td>1.111460e+09</td>\n",
       "      <td>-1.138100e+10</td>\n",
       "      <td>-1.428844e+08</td>\n",
       "      <td>-2.803375e+07</td>\n",
       "      <td>-1.905370e+06</td>\n",
       "      <td>1.896800e+09</td>\n",
       "    </tr>\n",
       "    <tr>\n",
       "      <th>AssetsPrior</th>\n",
       "      <td>410.0</td>\n",
       "      <td>3.899279e+09</td>\n",
       "      <td>1.040256e+10</td>\n",
       "      <td>3.890600e+04</td>\n",
       "      <td>1.049255e+08</td>\n",
       "      <td>5.733129e+08</td>\n",
       "      <td>2.276154e+09</td>\n",
       "      <td>7.812700e+10</td>\n",
       "    </tr>\n",
       "    <tr>\n",
       "      <th>RevPrior</th>\n",
       "      <td>410.0</td>\n",
       "      <td>2.206297e+09</td>\n",
       "      <td>6.647287e+09</td>\n",
       "      <td>-1.289950e+05</td>\n",
       "      <td>6.180688e+07</td>\n",
       "      <td>3.603220e+08</td>\n",
       "      <td>1.362438e+09</td>\n",
       "      <td>5.915800e+10</td>\n",
       "    </tr>\n",
       "    <tr>\n",
       "      <th>ArPrior</th>\n",
       "      <td>410.0</td>\n",
       "      <td>3.608187e+08</td>\n",
       "      <td>9.287361e+08</td>\n",
       "      <td>0.000000e+00</td>\n",
       "      <td>8.787170e+06</td>\n",
       "      <td>6.310600e+07</td>\n",
       "      <td>2.383622e+08</td>\n",
       "      <td>6.115328e+09</td>\n",
       "    </tr>\n",
       "    <tr>\n",
       "      <th>RevChange</th>\n",
       "      <td>410.0</td>\n",
       "      <td>-6.707695e+07</td>\n",
       "      <td>1.144372e+09</td>\n",
       "      <td>-9.389000e+09</td>\n",
       "      <td>-2.294750e+07</td>\n",
       "      <td>2.690375e+05</td>\n",
       "      <td>3.245512e+07</td>\n",
       "      <td>1.221850e+10</td>\n",
       "    </tr>\n",
       "    <tr>\n",
       "      <th>ARChange</th>\n",
       "      <td>410.0</td>\n",
       "      <td>-1.027514e+07</td>\n",
       "      <td>1.859963e+08</td>\n",
       "      <td>-2.201000e+09</td>\n",
       "      <td>-4.583000e+06</td>\n",
       "      <td>2.825000e+05</td>\n",
       "      <td>7.480116e+06</td>\n",
       "      <td>1.219000e+09</td>\n",
       "    </tr>\n",
       "    <tr>\n",
       "      <th>ROA</th>\n",
       "      <td>410.0</td>\n",
       "      <td>-1.086193e-01</td>\n",
       "      <td>5.833201e-01</td>\n",
       "      <td>-7.166245e+00</td>\n",
       "      <td>-6.671612e-02</td>\n",
       "      <td>2.043987e-02</td>\n",
       "      <td>5.230088e-02</td>\n",
       "      <td>4.094121e-01</td>\n",
       "    </tr>\n",
       "    <tr>\n",
       "      <th>ChangeSalesRec</th>\n",
       "      <td>410.0</td>\n",
       "      <td>-5.680181e+07</td>\n",
       "      <td>1.012735e+09</td>\n",
       "      <td>-8.782000e+09</td>\n",
       "      <td>-2.301825e+07</td>\n",
       "      <td>6.213375e+05</td>\n",
       "      <td>2.727812e+07</td>\n",
       "      <td>1.140750e+10</td>\n",
       "    </tr>\n",
       "  </tbody>\n",
       "</table>\n",
       "</div>"
      ],
      "text/plain": [
       "                                            count          mean           std  \\\n",
       "tag                                                                             \n",
       "AccountsReceivableNetCurrent                410.0  3.505436e+08  8.977213e+08   \n",
       "Assets                                      410.0  4.102572e+09  1.095470e+10   \n",
       "NetCashProvidedByUsedInOperatingActivities  410.0  4.151233e+08  1.526400e+09   \n",
       "NetIncomeLoss                               410.0  1.302900e+08  9.138933e+08   \n",
       "PropertyPlantAndEquipmentNet                410.0  1.346942e+09  5.818129e+09   \n",
       "SalesRevenueNet                             410.0  2.139220e+09  6.448746e+09   \n",
       "TotalNetAccruals                            410.0 -2.848332e+08  1.111460e+09   \n",
       "AssetsPrior                                 410.0  3.899279e+09  1.040256e+10   \n",
       "RevPrior                                    410.0  2.206297e+09  6.647287e+09   \n",
       "ArPrior                                     410.0  3.608187e+08  9.287361e+08   \n",
       "RevChange                                   410.0 -6.707695e+07  1.144372e+09   \n",
       "ARChange                                    410.0 -1.027514e+07  1.859963e+08   \n",
       "ROA                                         410.0 -1.086193e-01  5.833201e-01   \n",
       "ChangeSalesRec                              410.0 -5.680181e+07  1.012735e+09   \n",
       "\n",
       "                                                     min           25%  \\\n",
       "tag                                                                      \n",
       "AccountsReceivableNetCurrent                0.000000e+00  8.937700e+06   \n",
       "Assets                                      9.263300e+04  1.178199e+08   \n",
       "NetCashProvidedByUsedInOperatingActivities -7.898840e+08  8.320448e+05   \n",
       "NetIncomeLoss                              -7.829000e+09 -7.894000e+06   \n",
       "PropertyPlantAndEquipmentNet                4.530000e+03  8.986007e+06   \n",
       "SalesRevenueNet                             2.527700e+04  7.235975e+07   \n",
       "TotalNetAccruals                           -1.138100e+10 -1.428844e+08   \n",
       "AssetsPrior                                 3.890600e+04  1.049255e+08   \n",
       "RevPrior                                   -1.289950e+05  6.180688e+07   \n",
       "ArPrior                                     0.000000e+00  8.787170e+06   \n",
       "RevChange                                  -9.389000e+09 -2.294750e+07   \n",
       "ARChange                                   -2.201000e+09 -4.583000e+06   \n",
       "ROA                                        -7.166245e+00 -6.671612e-02   \n",
       "ChangeSalesRec                             -8.782000e+09 -2.301825e+07   \n",
       "\n",
       "                                                     50%           75%  \\\n",
       "tag                                                                      \n",
       "AccountsReceivableNetCurrent                6.307350e+07  2.551132e+08   \n",
       "Assets                                      6.236960e+08  2.518572e+09   \n",
       "NetCashProvidedByUsedInOperatingActivities  4.118150e+07  2.013768e+08   \n",
       "NetIncomeLoss                               7.356000e+06  7.773400e+07   \n",
       "PropertyPlantAndEquipmentNet                8.840950e+07  5.383000e+08   \n",
       "SalesRevenueNet                             3.747610e+08  1.317214e+09   \n",
       "TotalNetAccruals                           -2.803375e+07 -1.905370e+06   \n",
       "AssetsPrior                                 5.733129e+08  2.276154e+09   \n",
       "RevPrior                                    3.603220e+08  1.362438e+09   \n",
       "ArPrior                                     6.310600e+07  2.383622e+08   \n",
       "RevChange                                   2.690375e+05  3.245512e+07   \n",
       "ARChange                                    2.825000e+05  7.480116e+06   \n",
       "ROA                                         2.043987e-02  5.230088e-02   \n",
       "ChangeSalesRec                              6.213375e+05  2.727812e+07   \n",
       "\n",
       "                                                     max  \n",
       "tag                                                       \n",
       "AccountsReceivableNetCurrent                6.423000e+09  \n",
       "Assets                                      8.170300e+10  \n",
       "NetCashProvidedByUsedInOperatingActivities  2.032900e+10  \n",
       "NetIncomeLoss                               1.139550e+10  \n",
       "PropertyPlantAndEquipmentNet                5.951000e+10  \n",
       "SalesRevenueNet                             7.137650e+10  \n",
       "TotalNetAccruals                            1.896800e+09  \n",
       "AssetsPrior                                 7.812700e+10  \n",
       "RevPrior                                    5.915800e+10  \n",
       "ArPrior                                     6.115328e+09  \n",
       "RevChange                                   1.221850e+10  \n",
       "ARChange                                    1.219000e+09  \n",
       "ROA                                         4.094121e-01  \n",
       "ChangeSalesRec                              1.140750e+10  "
      ]
     },
     "execution_count": 326,
     "metadata": {},
     "output_type": "execute_result"
    }
   ],
   "source": [
    "df.describe().T"
   ]
  },
  {
   "cell_type": "markdown",
   "metadata": {},
   "source": [
    "#### Analysis of Descriptive Statistics\n",
    "\n",
    "One balance sheet item that stuck out to our audit team, is that the min AR is 0 for a company. This means that the company with $0 has no recievables on its books. For a big public company, to not have any recievables on their book is very unique and must mean that all of their revenue comes in cash. This could be a high inventory company who sells its inventory for cash. "
   ]
  },
  {
   "cell_type": "code",
   "execution_count": 327,
   "metadata": {
    "scrolled": true
   },
   "outputs": [
    {
     "data": {
      "text/plain": [
       "<matplotlib.axes._subplots.AxesSubplot at 0x1a271151d0>"
      ]
     },
     "execution_count": 327,
     "metadata": {},
     "output_type": "execute_result"
    },
    {
     "data": {
      "image/png": "[encoded data removed]",
      "text/plain": [
       "<Figure size 864x864 with 2 Axes>"
      ]
     },
     "metadata": {
      "needs_background": "light"
     },
     "output_type": "display_data"
    }
   ],
   "source": [
    "plt.figure(figsize= (12,12))\n",
    "plt.title(\"Correlation Matrix\")\n",
    "sns.heatmap(df.corr()[['TotalNetAccruals']].sort_values('TotalNetAccruals', ascending = False), \n",
    "            annot = True, cmap = \"coolwarm\", vmax = 1, vmin = -1)"
   ]
  },
  {
   "cell_type": "markdown",
   "metadata": {},
   "source": [
    "#### The correlation heat map shows that most of the financial items only have negative correlations with Accruals.\n",
    "\n",
    "- Net Cash- High negative correlation with Accruals. Makes sense as the amount of cash sales increase then the amount of accruals decrease\n",
    "\n",
    "- Change Sales Rec- Newly Engineered feature. As the differnece of sales and recievables become larger and larger it shows that more sales are in cash. Makes sense a negative correlation with Total Accruals\n",
    "\n",
    "- PPE- As the book value for the equipment increases it makes sense that total accruals decrease because depreciation increases which makes expenses more than income. We capatilize ppe as assets, but once we use the equipment it becomes an expense on the books. \n",
    "\n",
    "These variables are going to be crucial in learning total accruals. We always want to see the relationships prior to fitting the modekl"
   ]
  },
  {
   "cell_type": "markdown",
   "metadata": {},
   "source": [
    "Create a function that takes the histogram of all numeric columns in our data set"
   ]
  },
  {
   "cell_type": "code",
   "execution_count": 417,
   "metadata": {},
   "outputs": [],
   "source": [
    "def inital_hist(df, tag, xlabel,title):\n",
    "    ax = df[tag].plot(kind = 'hist', title = title\n",
    "                           , y = \"Frequency(units)\", bins = 5)\n",
    "    ax.set_xlabel(xlabel)"
   ]
  },
  {
   "cell_type": "markdown",
   "metadata": {},
   "source": [
    "We want to see the distribution of Total Accruals in millions."
   ]
  },
  {
   "cell_type": "code",
   "execution_count": 418,
   "metadata": {},
   "outputs": [
    {
     "data": {
      "image/png": "[encoded data removed]",
      "text/plain": [
       "<Figure size 432x288 with 1 Axes>"
      ]
     },
     "metadata": {},
     "output_type": "display_data"
    }
   ],
   "source": [
    "inital_hist(df, 'TotalNetAccruals', \"Accruals($)\", \"Distribution of Net Accruals\")"
   ]
  },
  {
   "cell_type": "markdown",
   "metadata": {},
   "source": [
    "We can see that the distribution is rather skewed, so we should try logging all numeric columns to normalize the distribution of our y variable\n"
   ]
  },
  {
   "cell_type": "markdown",
   "metadata": {},
   "source": [
    "Create a function that logs all numeric columns and plots them to show normalized distribution"
   ]
  },
  {
   "cell_type": "code",
   "execution_count": 419,
   "metadata": {},
   "outputs": [],
   "source": [
    "def log_numeric_column(df, tag, new_column, title, xlabel):\n",
    "\n",
    "    df[tag] = df[tag].abs()\n",
    "    df[new_column] = df[tag].apply(np.log)\n",
    "    ax= df[new_column].plot(kind = 'hist', title = title ,bins = 5)\n",
    "    ax.set_xlabel(xlabel)"
   ]
  },
  {
   "cell_type": "code",
   "execution_count": 421,
   "metadata": {},
   "outputs": [
    {
     "data": {
      "image/png": "[encoded data removed]",
      "text/plain": [
       "<Figure size 432x288 with 1 Axes>"
      ]
     },
     "metadata": {},
     "output_type": "display_data"
    }
   ],
   "source": [
    "log_numeric_column(df, \"TotalNetAccruals\", 'TotalAccrualslog', \n",
    "                   \"Log Distribution of Total Accruals\", \"Log Accruals($)\")"
   ]
  },
  {
   "cell_type": "markdown",
   "metadata": {},
   "source": [
    "Our distribution normalized and this will be our target variable"
   ]
  },
  {
   "cell_type": "markdown",
   "metadata": {},
   "source": [
    "We want to do the same for all numeric columns(x variables)"
   ]
  },
  {
   "cell_type": "code",
   "execution_count": 422,
   "metadata": {},
   "outputs": [
    {
     "data": {
      "image/png": "[encoded data removed]",
      "text/plain": [
       "<Figure size 432x288 with 1 Axes>"
      ]
     },
     "metadata": {},
     "output_type": "display_data"
    }
   ],
   "source": [
    "inital_hist(df, 'ChangeSalesRec', \"Change in Sales Recievables($)\",\"Distribution of Change in Sales Rec\")"
   ]
  },
  {
   "cell_type": "code",
   "execution_count": 423,
   "metadata": {},
   "outputs": [
    {
     "data": {
      "image/png": "[encoded data removed]",
      "text/plain": [
       "<Figure size 432x288 with 1 Axes>"
      ]
     },
     "metadata": {},
     "output_type": "display_data"
    }
   ],
   "source": [
    "log_numeric_column(df, 'ChangeSalesRec', 'ChangeInSalesRecLog', \n",
    "                   \"Log Distribution of Change in Sales Rec\", \"Log ChangeSalesRec($)\")"
   ]
  },
  {
   "cell_type": "markdown",
   "metadata": {},
   "source": [
    "Our distribution normalized and this will be our target variable"
   ]
  },
  {
   "cell_type": "code",
   "execution_count": 424,
   "metadata": {},
   "outputs": [
    {
     "data": {
      "image/png": "[encoded data removed]",
      "text/plain": [
       "<Figure size 432x288 with 1 Axes>"
      ]
     },
     "metadata": {},
     "output_type": "display_data"
    }
   ],
   "source": [
    "inital_hist(df, 'PropertyPlantAndEquipmentNet', \n",
    "            \"Book Value of PP&E($)\",\"Distribution of PP%E\")"
   ]
  },
  {
   "cell_type": "code",
   "execution_count": 426,
   "metadata": {},
   "outputs": [
    {
     "data": {
      "image/png": "[encoded data removed]",
      "text/plain": [
       "<Figure size 432x288 with 1 Axes>"
      ]
     },
     "metadata": {},
     "output_type": "display_data"
    }
   ],
   "source": [
    "log_numeric_column(df, 'PropertyPlantAndEquipmentNet', 'LogPPE', \n",
    "                   \"Log Distribution of Book Value of PPE\", \"Log PPE($)\")"
   ]
  },
  {
   "cell_type": "markdown",
   "metadata": {},
   "source": [
    "Our distribution normalized and this will be our target variable"
   ]
  },
  {
   "cell_type": "code",
   "execution_count": 427,
   "metadata": {},
   "outputs": [
    {
     "data": {
      "image/png": "[encoded data removed]",
      "text/plain": [
       "<Figure size 432x288 with 1 Axes>"
      ]
     },
     "metadata": {},
     "output_type": "display_data"
    }
   ],
   "source": [
    "inital_hist(df, 'NetIncomeLoss', \n",
    "            \"Book Value of NI($)\",\"Distribution of NI\")"
   ]
  },
  {
   "cell_type": "code",
   "execution_count": 428,
   "metadata": {},
   "outputs": [
    {
     "data": {
      "image/png": "[encoded data removed]",
      "text/plain": [
       "<Figure size 432x288 with 1 Axes>"
      ]
     },
     "metadata": {},
     "output_type": "display_data"
    }
   ],
   "source": [
    "log_numeric_column(df, 'NetIncomeLoss', 'LogNetIncome', \n",
    "                   \"Log Distribution of NetIncome\" , \"Log NetIncome($)\")"
   ]
  },
  {
   "cell_type": "markdown",
   "metadata": {},
   "source": [
    "Our distribution normalized and this will be one of our x variables"
   ]
  },
  {
   "cell_type": "code",
   "execution_count": 430,
   "metadata": {},
   "outputs": [
    {
     "data": {
      "image/png": "[encoded data removed]",
      "text/plain": [
       "<Figure size 432x288 with 1 Axes>"
      ]
     },
     "metadata": {},
     "output_type": "display_data"
    }
   ],
   "source": [
    "inital_hist(df, 'NetCashProvidedByUsedInOperatingActivities', \n",
    "            \"Book Value of NC($)\",\"Distribution of NC\")"
   ]
  },
  {
   "cell_type": "code",
   "execution_count": 431,
   "metadata": {},
   "outputs": [
    {
     "data": {
      "image/png": "[encoded data removed]",
      "text/plain": [
       "<Figure size 432x288 with 1 Axes>"
      ]
     },
     "metadata": {},
     "output_type": "display_data"
    }
   ],
   "source": [
    "log_numeric_column(df, 'NetCashProvidedByUsedInOperatingActivities', 'LogNetCash', \n",
    "                   \"Log Distribution of NetCash\" , \"Log NetCash($)\")"
   ]
  },
  {
   "cell_type": "markdown",
   "metadata": {},
   "source": [
    "Our distribution normalized and this will be one of our x variables"
   ]
  },
  {
   "cell_type": "markdown",
   "metadata": {},
   "source": [
    "Our distribution normalized and this will be our x variable"
   ]
  },
  {
   "cell_type": "markdown",
   "metadata": {},
   "source": [
    "We want to see the relationships with the log of all x variables to the log of the y variables after engineering the features. We hope to see a positive relationship with all varaibles"
   ]
  },
  {
   "cell_type": "code",
   "execution_count": 433,
   "metadata": {},
   "outputs": [],
   "source": [
    "df_feature_model = df[['ChangeInSalesRecLog', 'LogPPE',\n",
    "            \"LogNetIncome\", \"LogNetCash\",\"TotalAccrualslog\"]]\n"
   ]
  },
  {
   "cell_type": "code",
   "execution_count": 436,
   "metadata": {},
   "outputs": [
    {
     "data": {
      "text/plain": [
       "<seaborn.axisgrid.PairGrid at 0x1a4af6bc50>"
      ]
     },
     "execution_count": 436,
     "metadata": {},
     "output_type": "execute_result"
    },
    {
     "data": {
      "image/png": "[encoded data removed]",
      "text/plain": [
       "<Figure size 720x180 with 4 Axes>"
      ]
     },
     "metadata": {},
     "output_type": "display_data"
    }
   ],
   "source": [
    "sns.pairplot(df_feature_model, x_vars =['ChangeInSalesRecLog', 'LogPPE',\n",
    "            \"LogNetIncome\", \"LogNetCash\"], y_vars = ['TotalAccrualslog'] )"
   ]
  },
  {
   "cell_type": "markdown",
   "metadata": {},
   "source": [
    " We can see that all of these variables repersent a linear trend in the relationship with total accruals. These logged variables have positive trends. One thing to note, is that I took the absolute values prior to logging because we cannot take the log of a negative number"
   ]
  },
  {
   "cell_type": "code",
   "execution_count": 358,
   "metadata": {},
   "outputs": [
    {
     "data": {
      "text/plain": [
       "Series([], dtype: int64)"
      ]
     },
     "execution_count": 358,
     "metadata": {},
     "output_type": "execute_result"
    }
   ],
   "source": [
    "all_nan_values = df.isnull().sum()[df.isnull().sum()  > 0].sort_values(ascending = False)\n",
    "all_nan_values"
   ]
  },
  {
   "cell_type": "markdown",
   "metadata": {},
   "source": [
    "Ensure our data has no null values prior to model preparation"
   ]
  },
  {
   "cell_type": "markdown",
   "metadata": {},
   "source": [
    "### Model Preparation\n",
    "\n"
   ]
  },
  {
   "cell_type": "markdown",
   "metadata": {},
   "source": [
    "We are choosing the features based on the equation in the feature engineering section. We chose to generate a new feature matrix consisting of all polynomial combinations of the features with degree less than or equal to the specified degree. Polynomial features provides the best approximation of the relationship between dependent and independent variable. "
   ]
  },
  {
   "cell_type": "code",
   "execution_count": 496,
   "metadata": {},
   "outputs": [],
   "source": [
    "features = ['ChangeInSalesRecLog', 'LogPPE',\n",
    "            \"LogNetIncome\", \"LogNetCash\"]"
   ]
  },
  {
   "cell_type": "code",
   "execution_count": 497,
   "metadata": {},
   "outputs": [],
   "source": [
    "poly = PolynomialFeatures(include_bias=False)"
   ]
  },
  {
   "cell_type": "code",
   "execution_count": 498,
   "metadata": {},
   "outputs": [],
   "source": [
    "X_poly = poly.fit_transform(df[features])"
   ]
  },
  {
   "cell_type": "code",
   "execution_count": 499,
   "metadata": {},
   "outputs": [],
   "source": [
    "df_poly = pd.DataFrame(X_poly, columns=poly.get_feature_names(features))"
   ]
  },
  {
   "cell_type": "markdown",
   "metadata": {},
   "source": [
    "X variables are all the polynomial features and the target is the log of total accruals"
   ]
  },
  {
   "cell_type": "code",
   "execution_count": 500,
   "metadata": {},
   "outputs": [],
   "source": [
    "X = df_poly\n",
    "y = df['TotalAccrualslog']\n",
    "X_train, X_test, y_train, y_test = train_test_split(X, y, test_size = .40,\n",
    "                                                    random_state = 35)\n",
    "\n",
    "\n"
   ]
  },
  {
   "cell_type": "markdown",
   "metadata": {},
   "source": [
    "### Modeling"
   ]
  },
  {
   "cell_type": "markdown",
   "metadata": {},
   "source": [
    "#### Baseline Model"
   ]
  },
  {
   "cell_type": "code",
   "execution_count": 619,
   "metadata": {},
   "outputs": [
    {
     "data": {
      "text/plain": [
       "17.31673454580702"
      ]
     },
     "execution_count": 619,
     "metadata": {},
     "output_type": "execute_result"
    }
   ],
   "source": [
    "baseline = y_train.mean()\n",
    "baseline"
   ]
  },
  {
   "cell_type": "code",
   "execution_count": 623,
   "metadata": {},
   "outputs": [
    {
     "data": {
      "text/plain": [
       "-0.0002413525560120977"
      ]
     },
     "execution_count": 623,
     "metadata": {},
     "output_type": "execute_result"
    }
   ],
   "source": [
    "\n",
    "dummy = DummyRegressor(strategy = \"mean\")\n",
    "dummy.fit(X_train, y_train)\n",
    "dummy.predict(X)\n",
    "\n",
    "dummy.score(X, y)"
   ]
  },
  {
   "cell_type": "markdown",
   "metadata": {},
   "source": [
    "#### Linear  Model 1\n",
    "\n"
   ]
  },
  {
   "cell_type": "code",
   "execution_count": 502,
   "metadata": {},
   "outputs": [
    {
     "data": {
      "text/plain": [
       "LinearRegression(copy_X=True, fit_intercept=True, n_jobs=None, normalize=False)"
      ]
     },
     "execution_count": 502,
     "metadata": {},
     "output_type": "execute_result"
    }
   ],
   "source": [
    "lr = LinearRegression()\n",
    "lr.fit(X_train, y_train)"
   ]
  },
  {
   "cell_type": "code",
   "execution_count": 503,
   "metadata": {},
   "outputs": [
    {
     "name": "stdout",
     "output_type": "stream",
     "text": [
      "Training Set R^2 Score is: 0.886\n",
      "Testing Set R^2 Score is: 0.762\n"
     ]
    }
   ],
   "source": [
    "pred_train = lr.predict(X_train) \n",
    "                                      \n",
    "pred_test = lr.predict(X_test)   \n",
    "\n",
    "# Score it and round to 3 dp\n",
    "print(\"Training Set R^2 Score is:\", np.round(lr.score(X_train, y_train),3))\n",
    "print(\"Testing Set R^2 Score is:\", np.round(lr.score(X_test, y_test),3))"
   ]
  },
  {
   "cell_type": "code",
   "execution_count": 577,
   "metadata": {},
   "outputs": [
    {
     "data": {
      "text/plain": [
       "0.8307179277462021"
      ]
     },
     "execution_count": 577,
     "metadata": {},
     "output_type": "execute_result"
    }
   ],
   "source": [
    "cross_val_score(lr, X, y, cv= 5).mean()"
   ]
  },
  {
   "cell_type": "markdown",
   "metadata": {},
   "source": [
    "##### Analysis of Model 1.\n",
    "\n",
    "\n",
    "It seems that 88,6% of the varaince of the data can be explained by the training model. And 76% of the variance of the data can be explained by the testing set. The limitation of this model is that it repersents slight overfitting. This could be due to the train test split and how the model is being trained. In addition the cross val score is quite high with .83"
   ]
  },
  {
   "cell_type": "markdown",
   "metadata": {},
   "source": [
    "#### Model 2: Ridge Model"
   ]
  },
  {
   "cell_type": "code",
   "execution_count": 505,
   "metadata": {},
   "outputs": [],
   "source": [
    "r_alphas = np.logspace(0, 5, 100)\n",
    "# Generates 100 values equally between 0 and 5,\n",
    "# then converts them to alphas between 10^0 and 10^5.\n",
    "\n",
    "# Cross-validate over our list of ridge alphas.\n",
    "ridge_model = RidgeCV(alphas=r_alphas, scoring='r2', cv=5)\n",
    "\n",
    "# Fit model using best ridge alpha!\n",
    "ridge_model = ridge_model.fit(X_train, y_train)"
   ]
  },
  {
   "cell_type": "code",
   "execution_count": 506,
   "metadata": {},
   "outputs": [
    {
     "data": {
      "text/plain": [
       "46.4158883361278"
      ]
     },
     "execution_count": 506,
     "metadata": {},
     "output_type": "execute_result"
    }
   ],
   "source": [
    "ridge_model.alpha_"
   ]
  },
  {
   "cell_type": "code",
   "execution_count": 507,
   "metadata": {},
   "outputs": [
    {
     "name": "stdout",
     "output_type": "stream",
     "text": [
      "Train Set R^2 Score is: 0.882935497948887\n",
      "Testing Set R^2 Score is: 0.756620119462555\n"
     ]
    }
   ],
   "source": [
    "print(\"Train Set R^2 Score is:\", ridge_model.score(X_train, y_train))\n",
    "print(\"Testing Set R^2 Score is:\", ridge_model.score(X_test, y_test))"
   ]
  },
  {
   "cell_type": "code",
   "execution_count": 578,
   "metadata": {},
   "outputs": [
    {
     "data": {
      "text/plain": [
       "0.8274131117506759"
      ]
     },
     "execution_count": 578,
     "metadata": {},
     "output_type": "execute_result"
    }
   ],
   "source": [
    "cross_val_score(ridge_model, X, y, cv= 5).mean()"
   ]
  },
  {
   "cell_type": "code",
   "execution_count": 508,
   "metadata": {},
   "outputs": [
    {
     "data": {
      "text/plain": [
       "array([ 0.03486379,  0.07605535,  0.09314471,  0.08438578, -0.01486648,\n",
       "       -0.01991914, -0.00672046,  0.05897702,  0.01427041,  0.00451262,\n",
       "       -0.01076405,  0.17138982, -0.32400182,  0.14822946])"
      ]
     },
     "execution_count": 508,
     "metadata": {},
     "output_type": "execute_result"
    }
   ],
   "source": [
    "ridge_model.coef_"
   ]
  },
  {
   "cell_type": "code",
   "execution_count": 509,
   "metadata": {},
   "outputs": [
    {
     "data": {
      "text/plain": [
       "[(-0.3240018191516166, 'LogNetIncome LogNetCash'),\n",
       " (-0.019919141205141096, 'ChangeInSalesRecLog LogPPE'),\n",
       " (-0.01486647549865728, 'ChangeInSalesRecLog^2'),\n",
       " (-0.010764051970863366, 'LogPPE LogNetCash'),\n",
       " (-0.0067204601093581, 'ChangeInSalesRecLog LogNetIncome'),\n",
       " (0.004512615763382641, 'LogPPE LogNetIncome'),\n",
       " (0.014270407254266874, 'LogPPE^2'),\n",
       " (0.03486379111149145, 'ChangeInSalesRecLog'),\n",
       " (0.05897701661999129, 'ChangeInSalesRecLog LogNetCash'),\n",
       " (0.07605535435701667, 'LogPPE'),\n",
       " (0.0843857783350362, 'LogNetCash'),\n",
       " (0.0931447052351607, 'LogNetIncome'),\n",
       " (0.14822946213073365, 'LogNetCash^2'),\n",
       " (0.1713898199110625, 'LogNetIncome^2')]"
      ]
     },
     "execution_count": 509,
     "metadata": {},
     "output_type": "execute_result"
    }
   ],
   "source": [
    "best_features = [tup for tup in list(zip(ridge_model.coef_,X_test.columns)) if tup[0] != 0]\n",
    "best_features.sort(reverse=False) #descending order\n",
    "best_features"
   ]
  },
  {
   "cell_type": "markdown",
   "metadata": {},
   "source": [
    "##### Analysis of Model 2.\n",
    "\n",
    "\n",
    "It seems that 88.29% of the varaince of the data can be explained by the training model. And 76% of the variance of the data can be explained by the testing set. The limitation of this model is that it repersents slight overfitting. The ridge model reperesents not zero out coeficients but it shows that some of the polynomial features are not zero. This could be due to the train test split and how the model is being trained. In addition the cross val score is quite high with .83"
   ]
  },
  {
   "cell_type": "code",
   "execution_count": 579,
   "metadata": {},
   "outputs": [],
   "source": [
    "def plot_predictions(model_name, y_train_pred ,y_train_actual):\n",
    "    plt.scatter(y_train_actual, y_train_pred, c = \"blue\", marker = \"s\", label = \"Training data\")\n",
    "    plt.title(\"Regression Sales Price\")\n",
    "    plt.xlabel(\"$\\hat{y}$ = Actual SalePrice($)\")\n",
    "    plt.ylabel(\"$y$ = Predicted SalePrice($)\")\n",
    "    plt.legend(loc = \"upper left\")\n",
    "    plt.plot([y_train_actual.min(), y_train_actual.max()], [y_train_actual.min(), y_train_actual.max()], c='red')\n",
    "    plt.tight_layout()"
   ]
  },
  {
   "cell_type": "markdown",
   "metadata": {},
   "source": [
    "#### Model 3: KNN Regressor"
   ]
  },
  {
   "cell_type": "code",
   "execution_count": 510,
   "metadata": {},
   "outputs": [],
   "source": [
    "pipe_knn = Pipeline([\n",
    "    ('sc', StandardScaler(with_mean = False)),\n",
    "    ('model', KNeighborsRegressor())\n",
    "])\n",
    "\n",
    "knn_params = {\n",
    "    'model__n_neighbors': range(1,10),\n",
    "    'model__metric': ['minkowski', 'Euclidean', 'DistanceMetric']\n",
    "}"
   ]
  },
  {
   "cell_type": "code",
   "execution_count": 511,
   "metadata": {},
   "outputs": [],
   "source": [
    "pipe_knn_gridsearch = GridSearchCV(pipe_knn,\n",
    "                                knn_params ,\n",
    "                                cv = 5,\n",
    "                                scoring='r2',\n",
    "                                verbose=1)"
   ]
  },
  {
   "cell_type": "code",
   "execution_count": 512,
   "metadata": {},
   "outputs": [
    {
     "name": "stdout",
     "output_type": "stream",
     "text": [
      "Fitting 5 folds for each of 27 candidates, totalling 135 fits\n"
     ]
    },
    {
     "name": "stderr",
     "output_type": "stream",
     "text": [
      "[Parallel(n_jobs=1)]: Using backend SequentialBackend with 1 concurrent workers.\n",
      "[Parallel(n_jobs=1)]: Done 135 out of 135 | elapsed:    0.4s finished\n"
     ]
    }
   ],
   "source": [
    "results_knn = pipe_knn_gridsearch.fit(X_train, y_train);"
   ]
  },
  {
   "cell_type": "code",
   "execution_count": 513,
   "metadata": {},
   "outputs": [
    {
     "data": {
      "text/plain": [
       "{'model__metric': 'minkowski', 'model__n_neighbors': 6}"
      ]
     },
     "execution_count": 513,
     "metadata": {},
     "output_type": "execute_result"
    }
   ],
   "source": [
    "pipe_knn_gridsearch.best_params_"
   ]
  },
  {
   "cell_type": "code",
   "execution_count": 514,
   "metadata": {},
   "outputs": [
    {
     "name": "stdout",
     "output_type": "stream",
     "text": [
      "Best TRAIN set accuracy: 0.8164\n",
      "Best TEST set accuracy: 0.7123\n"
     ]
    }
   ],
   "source": [
    "train_score = pipe_knn_gridsearch.best_score_\n",
    "print('Best TRAIN set accuracy: {:.4f}'.format(train_score))\n",
    "test_score = pipe_knn_gridsearch.score(X_test, y_test)\n",
    "print('Best TEST set accuracy: {:.4f}'.format(test_score))"
   ]
  },
  {
   "cell_type": "code",
   "execution_count": 570,
   "metadata": {},
   "outputs": [
    {
     "data": {
      "text/plain": [
       "0.7823450935669071"
      ]
     },
     "execution_count": 570,
     "metadata": {},
     "output_type": "execute_result"
    }
   ],
   "source": [
    "cross_val_score(pipe_knn_gridsearch.best_estimator_, X, y, cv= 5).mean()"
   ]
  },
  {
   "cell_type": "markdown",
   "metadata": {},
   "source": [
    "##### Analysis of Model 3.\n",
    "\n",
    "\n",
    "A simple implementation of KNN regression is to calculate the average of the numerical target of the K nearest neighbors.  Another approach uses an inverse distance weighted average of the K nearest neighbors. KNN regression uses the same distance functions as KNN classification. It seems that 81.64% of the varaince of the data can be explained by the training model. And 71% of the variance of the data can be explained by the testing set. The limitation of this model is that it repersents slight overfitting. The ridge model reperesents not zero out coeficients but it shows that some of the polynomial features are not zero. This could be due to the train test split and how the model is being trained. In addition the cross val score is quite high with .78."
   ]
  },
  {
   "cell_type": "markdown",
   "metadata": {},
   "source": [
    "#### Model 4:  Decision Tree"
   ]
  },
  {
   "cell_type": "code",
   "execution_count": 515,
   "metadata": {},
   "outputs": [],
   "source": [
    "pipe_dt = Pipeline([\n",
    "    ('sc', StandardScaler(with_mean = False)),\n",
    "    ('model', DecisionTreeRegressor())\n",
    "])\n",
    "\n",
    "dt_params = {\n",
    "   'model__max_depth': [1,3,10,20],\n",
    "   'model__max_features' :[1,3,5,6,7,8,9,10.15,15,20]\n",
    "}"
   ]
  },
  {
   "cell_type": "code",
   "execution_count": 516,
   "metadata": {},
   "outputs": [],
   "source": [
    "pipe_dt_gridsearch = GridSearchCV(pipe_dt,\n",
    "                                dt_params ,\n",
    "                                cv = 5,\n",
    "                                scoring='r2',\n",
    "                                verbose=1)"
   ]
  },
  {
   "cell_type": "code",
   "execution_count": 517,
   "metadata": {},
   "outputs": [
    {
     "name": "stdout",
     "output_type": "stream",
     "text": [
      "Fitting 5 folds for each of 40 candidates, totalling 200 fits\n"
     ]
    },
    {
     "name": "stderr",
     "output_type": "stream",
     "text": [
      "[Parallel(n_jobs=1)]: Using backend SequentialBackend with 1 concurrent workers.\n",
      "[Parallel(n_jobs=1)]: Done 200 out of 200 | elapsed:    0.8s finished\n"
     ]
    }
   ],
   "source": [
    "results_decision = pipe_dt_gridsearch.fit(X_train, y_train)"
   ]
  },
  {
   "cell_type": "code",
   "execution_count": 518,
   "metadata": {},
   "outputs": [
    {
     "name": "stdout",
     "output_type": "stream",
     "text": [
      "Best TRAIN accuracy: 0.7716\n",
      "Best TEST set accuracy: 0.6770\n"
     ]
    }
   ],
   "source": [
    "train_score_dec = results_decision.best_score_\n",
    "print('Best TRAIN accuracy: {:.4f}'.format(train_score_dec))\n",
    "test_score_dec = results_decision.score(X_test, y_test)\n",
    "print('Best TEST set accuracy: {:.4f}'.format(test_score_dec))"
   ]
  },
  {
   "cell_type": "code",
   "execution_count": 571,
   "metadata": {},
   "outputs": [
    {
     "data": {
      "text/plain": [
       "0.6654852341747685"
      ]
     },
     "execution_count": 571,
     "metadata": {},
     "output_type": "execute_result"
    }
   ],
   "source": [
    "cross_val_score(pipe_dt_gridsearch.best_estimator_, X, y, cv= 5).mean()"
   ]
  },
  {
   "cell_type": "markdown",
   "metadata": {},
   "source": [
    "##### Analysis of Model 4\n",
    "\n",
    "\n",
    "Our decision tree model does a worse job in determining total accruals based on depth of our trees. As seen in the model the r2 of this model tremendously decreased compared to that of the linear regression and the knn. The model does a worse job on determining the split off points for important features and does not do too well on the testing set. The model does not perform well on the full dataset, looking at our cross val score, and its easily interpretable. We will test further trees to determine if we can achieve a better cross val score."
   ]
  },
  {
   "cell_type": "markdown",
   "metadata": {},
   "source": [
    "#### Model 5:  Bagged Decision Tree¶"
   ]
  },
  {
   "cell_type": "code",
   "execution_count": 519,
   "metadata": {},
   "outputs": [],
   "source": [
    "pipe_bg = Pipeline([\n",
    "    ('sc', StandardScaler(with_mean = False)),\n",
    "    ('model', BaggingRegressor())\n",
    "])\n",
    "\n",
    "bg_params = {\n",
    "   'model__n_estimators': range(10, 100, 10),\n",
    "}\n",
    "\n",
    "pipe_bg_gridsearch = GridSearchCV(pipe_bg,\n",
    "                                bg_params ,\n",
    "                                cv = 5,\n",
    "                                scoring='r2',\n",
    "                                verbose=1)"
   ]
  },
  {
   "cell_type": "code",
   "execution_count": 520,
   "metadata": {},
   "outputs": [
    {
     "name": "stderr",
     "output_type": "stream",
     "text": [
      "[Parallel(n_jobs=1)]: Using backend SequentialBackend with 1 concurrent workers.\n"
     ]
    },
    {
     "name": "stdout",
     "output_type": "stream",
     "text": [
      "Fitting 5 folds for each of 9 candidates, totalling 45 fits\n"
     ]
    },
    {
     "name": "stderr",
     "output_type": "stream",
     "text": [
      "[Parallel(n_jobs=1)]: Done  45 out of  45 | elapsed:    3.9s finished\n"
     ]
    }
   ],
   "source": [
    "results_bagging = pipe_bg_gridsearch.fit(X_train, y_train)"
   ]
  },
  {
   "cell_type": "code",
   "execution_count": 521,
   "metadata": {},
   "outputs": [
    {
     "name": "stdout",
     "output_type": "stream",
     "text": [
      "Best TRAIN accuracy: 0.8160\n",
      "Best TEST set accuracy: 0.7080\n"
     ]
    }
   ],
   "source": [
    "train_score_bag = results_bagging.best_score_\n",
    "print('Best TRAIN accuracy: {:.4f}'.format(train_score_bag))\n",
    "test_score_bag = results_bagging.score(X_test, y_test)\n",
    "print('Best TEST set accuracy: {:.4f}'.format(test_score_bag))"
   ]
  },
  {
   "cell_type": "code",
   "execution_count": 573,
   "metadata": {},
   "outputs": [
    {
     "data": {
      "text/plain": [
       "0.7889448621085877"
      ]
     },
     "execution_count": 573,
     "metadata": {},
     "output_type": "execute_result"
    }
   ],
   "source": [
    "cross_val_score(pipe_bg_gridsearch.best_estimator_, X, y, cv= 5).mean()"
   ]
  },
  {
   "cell_type": "markdown",
   "metadata": {},
   "source": [
    "##### Analysis of Model 5\n",
    "\n",
    "\n",
    "Our bagging model does a better job in determining total accruals based on depth of our trees. As seen in the model the r2 of this model slightly decreased compared to that of the linear regression and the knn, but increased against decision trees. The model performs better on the full dataset than decision trees,looking at our cross val score,the model explains 78% of the variance of the data on the full dataset. We will test further trees to determine if we can achieve a better cross val score."
   ]
  },
  {
   "cell_type": "markdown",
   "metadata": {},
   "source": [
    "#### Model 6: Random Forests¶"
   ]
  },
  {
   "cell_type": "code",
   "execution_count": 522,
   "metadata": {},
   "outputs": [],
   "source": [
    "pipe_rf = Pipeline(steps = [ ('sc', StandardScaler()),\n",
    "                          ('rf', RandomForestRegressor())\n",
    "                         \n",
    "                        ])    \n",
    "\n",
    "# Construct Grid Parameters\n",
    "hyperparams = {\n",
    "               \n",
    "               \n",
    "                                                        # use a single value that isn't built into\n",
    "                                                        # the defaults (otw: stopwords left in\n",
    "               'rf__n_estimators': [100, 150, 200],\n",
    "               'rf__max_depth': [None, 1, 2, 3, 4, 5],\n",
    "}\n",
    "                \n",
    "              \n",
    "\n",
    " # Perform Grid Search\n",
    "gs_rf = GridSearchCV(pipe_rf, # pipeline object replaces what we usually had as empty model class\n",
    "                 param_grid=hyperparams,\n",
    "                 cv = 5,\n",
    "                 scoring = 'r2')\n"
   ]
  },
  {
   "cell_type": "code",
   "execution_count": 523,
   "metadata": {},
   "outputs": [],
   "source": [
    "results_rf= gs_rf.fit(X_train, y_train)"
   ]
  },
  {
   "cell_type": "code",
   "execution_count": 524,
   "metadata": {},
   "outputs": [
    {
     "name": "stdout",
     "output_type": "stream",
     "text": [
      "Best TRAIN accuracy: 0.8122\n",
      "Best TEST set accuracy: 0.7192\n"
     ]
    }
   ],
   "source": [
    "train_score_rf = results_rf.best_score_\n",
    "print('Best TRAIN accuracy: {:.4f}'.format(train_score_rf))\n",
    "test_score_rf = results_rf.score(X_test, y_test)\n",
    "print('Best TEST set accuracy: {:.4f}'.format(test_score_rf))"
   ]
  },
  {
   "cell_type": "code",
   "execution_count": 574,
   "metadata": {},
   "outputs": [
    {
     "data": {
      "text/plain": [
       "0.7932043249487001"
      ]
     },
     "execution_count": 574,
     "metadata": {},
     "output_type": "execute_result"
    }
   ],
   "source": [
    "cross_val_score(gs_rf.best_estimator_, X, y, cv= 5).mean()"
   ]
  },
  {
   "cell_type": "markdown",
   "metadata": {},
   "source": [
    "##### Analysis of Model 6\n",
    "\n",
    "We decided to test random forest. As the r2 score was slightly higher than bagging and decision trees, the model also did better on the full data set. This model does not compare to linear regression and we will not be using the random forest"
   ]
  },
  {
   "cell_type": "markdown",
   "metadata": {},
   "source": [
    "#### Model 7: Ada Boost Model"
   ]
  },
  {
   "cell_type": "code",
   "execution_count": 525,
   "metadata": {},
   "outputs": [],
   "source": [
    "pipe_ab = Pipeline(steps = [ ('sc', StandardScaler()),\n",
    "                         ('ab',AdaBoostRegressor(base_estimator=DecisionTreeRegressor()))\n",
    "                         \n",
    "                        ])    \n",
    "\n",
    "# Construct Grid Parameters\n",
    "hyperparams = {\n",
    "               \n",
    "               \n",
    "                                                        # use a single value that isn't built into\n",
    "                                                        # the defaults (otw: stopwords left in\n",
    "               'ab__n_estimators': [50,100],\n",
    "               'ab__base_estimator__max_depth': [1,2],\n",
    "               'ab__learning_rate': [.9, 1.]\n",
    "}\n",
    "                \n",
    "              \n",
    "\n",
    " # Perform Grid Search\n",
    "gs_ab = GridSearchCV(pipe_ab, # pipeline object replaces what we usually had as empty model class\n",
    "                 param_grid=hyperparams,\n",
    "                 cv = 3,\n",
    "                 scoring = 'r2')\n"
   ]
  },
  {
   "cell_type": "code",
   "execution_count": 526,
   "metadata": {},
   "outputs": [
    {
     "name": "stdout",
     "output_type": "stream",
     "text": [
      "Best TRAIN accuracy: 0.7342\n",
      "Best TEST set accuracy: 0.5878\n"
     ]
    }
   ],
   "source": [
    "results_ab = gs_ab.fit(X_train, y_train)\n",
    "train_score_ab = results_ab.best_score_\n",
    "print('Best TRAIN accuracy: {:.4f}'.format(train_score_ab))\n",
    "test_score_ab = results_ab.score(X_test, y_test)\n",
    "print('Best TEST set accuracy: {:.4f}'.format(test_score_ab))\n"
   ]
  },
  {
   "cell_type": "code",
   "execution_count": 575,
   "metadata": {},
   "outputs": [
    {
     "data": {
      "text/plain": [
       "0.6644870318504912"
      ]
     },
     "execution_count": 575,
     "metadata": {},
     "output_type": "execute_result"
    }
   ],
   "source": [
    "cross_val_score(gs_ab.best_estimator_, X, y, cv= 5).mean()"
   ]
  },
  {
   "cell_type": "markdown",
   "metadata": {},
   "source": [
    "##### Analysis of Model 7\n",
    "\n",
    "We decided to test ada boost. The r2 score was the worst performing and we will decide to test svr"
   ]
  },
  {
   "cell_type": "markdown",
   "metadata": {},
   "source": [
    "#### Model 8: Support Vector Machine¶"
   ]
  },
  {
   "cell_type": "code",
   "execution_count": 527,
   "metadata": {},
   "outputs": [
    {
     "data": {
      "text/plain": [
       "SVR(C=1.0, cache_size=200, coef0=0.0, degree=3, epsilon=0.1, gamma='scale',\n",
       "    kernel='rbf', max_iter=-1, shrinking=True, tol=0.001, verbose=False)"
      ]
     },
     "execution_count": 527,
     "metadata": {},
     "output_type": "execute_result"
    }
   ],
   "source": [
    "svr = svm.SVR()\n",
    "svr.fit(X_train, y_train)\n"
   ]
  },
  {
   "cell_type": "code",
   "execution_count": 528,
   "metadata": {},
   "outputs": [],
   "source": [
    "pipe_svm = Pipeline([\n",
    "    ('sc', StandardScaler(with_mean = False)),\n",
    "    ('model', svm.SVR())\n",
    "])\n",
    "\n",
    "svm_params = {\n",
    "   'model__C': [1,3,10,100],\n",
    "   'model__epsilon' : range(0,1)\n",
    "}\n",
    "\n",
    "gs_svm = GridSearchCV(pipe_svm, # pipeline object replaces what we usually had as empty model class\n",
    "                 param_grid=svm_params,\n",
    "                 cv = 3,\n",
    "                 scoring = 'r2')"
   ]
  },
  {
   "cell_type": "code",
   "execution_count": 529,
   "metadata": {},
   "outputs": [
    {
     "name": "stdout",
     "output_type": "stream",
     "text": [
      "Best TRAIN accuracy: 0.8251\n",
      "Best TEST set accuracy: 0.5878\n"
     ]
    }
   ],
   "source": [
    "results_svm = gs_svm.fit(X, y)\n",
    "train_score_svm = results_svm.best_score_\n",
    "print('Best TRAIN accuracy: {:.4f}'.format(train_score_svm))\n",
    "test_score_svm = results_ab.score(X_test, y_test)\n",
    "print('Best TEST set accuracy: {:.4f}'.format(test_score_svm))"
   ]
  },
  {
   "cell_type": "code",
   "execution_count": 624,
   "metadata": {},
   "outputs": [
    {
     "data": {
      "text/plain": [
       "0.8201693631773195"
      ]
     },
     "execution_count": 624,
     "metadata": {},
     "output_type": "execute_result"
    }
   ],
   "source": [
    "cross_val_score(gs_svm.best_estimator_, X, y, cv= 5).mean()"
   ]
  },
  {
   "cell_type": "markdown",
   "metadata": {},
   "source": [
    "##### Analysis of Model 8\n",
    "\n",
    "We decided to test ada svr. The r2 score performed really well on the train set, but it did not on the test set. This model shows high overfitting. The model's cross val score does the best on the whole data set compared to all the models. The Linear Model is much easier to interpret as the SVR is a black box model."
   ]
  },
  {
   "cell_type": "markdown",
   "metadata": {},
   "source": [
    "## Model Selection\n",
    "\n",
    "|Model|Type|Train R2|Testing R2|\n",
    "|---|---|---|---|\n",
    "|**Model 1**|*Linear*|0.886|0.762| \n",
    "|**Model 2**|*Ridge*|.883|0.757|\n",
    "|**Model 4**|*KNN Regressor*|.0.816|.712|\n",
    "|**Model 5**|*Decision Trees*|.0.772|.677|\n",
    "|**Model 6**|*Bagged Decision Trees*|.816|.708|\n",
    "|**Model 7**|*Random Forrest Trees*|.812|.719|\n",
    "|**Model 8**|*SVM*|.8251|.5878|\n",
    "\n",
    "\n",
    "\n",
    "\n",
    "\n",
    "Based on R2 scores listed above, We have decided to choose model 1 to deliver to our audit team in predicting total net accruals. This model will be best suited for our auditors to prepare for year end audit planning in the for the 2016 audit during election time. Model 1 does the best in predicting total accrual prices, and more of the variance in the data can be explained by our model. We want to deliver high level tax solutions to our clients with the least amount of residuals."
   ]
  },
  {
   "cell_type": "markdown",
   "metadata": {},
   "source": [
    "## Model Evaluation"
   ]
  },
  {
   "cell_type": "markdown",
   "metadata": {},
   "source": [
    "### Linear Stats Model: Interpetation of Pvalues and Coeficients"
   ]
  },
  {
   "cell_type": "code",
   "execution_count": 607,
   "metadata": {
    "scrolled": true
   },
   "outputs": [
    {
     "data": {
      "text/html": [
       "<table class=\"simpletable\">\n",
       "<caption>OLS Regression Results</caption>\n",
       "<tr>\n",
       "  <th>Dep. Variable:</th>    <td>TotalAccrualslog</td> <th>  R-squared:         </th> <td>   0.804</td> \n",
       "</tr>\n",
       "<tr>\n",
       "  <th>Model:</th>                   <td>OLS</td>       <th>  Adj. R-squared:    </th> <td>   0.802</td> \n",
       "</tr>\n",
       "<tr>\n",
       "  <th>Method:</th>             <td>Least Squares</td>  <th>  F-statistic:       </th> <td>   414.8</td> \n",
       "</tr>\n",
       "<tr>\n",
       "  <th>Date:</th>             <td>Mon, 09 Mar 2020</td> <th>  Prob (F-statistic):</th> <td>9.76e-142</td>\n",
       "</tr>\n",
       "<tr>\n",
       "  <th>Time:</th>                 <td>14:31:41</td>     <th>  Log-Likelihood:    </th> <td> -595.47</td> \n",
       "</tr>\n",
       "<tr>\n",
       "  <th>No. Observations:</th>      <td>   410</td>      <th>  AIC:               </th> <td>   1201.</td> \n",
       "</tr>\n",
       "<tr>\n",
       "  <th>Df Residuals:</th>          <td>   405</td>      <th>  BIC:               </th> <td>   1221.</td> \n",
       "</tr>\n",
       "<tr>\n",
       "  <th>Df Model:</th>              <td>     4</td>      <th>                     </th>     <td> </td>    \n",
       "</tr>\n",
       "<tr>\n",
       "  <th>Covariance Type:</th>      <td>nonrobust</td>    <th>                     </th>     <td> </td>    \n",
       "</tr>\n",
       "</table>\n",
       "<table class=\"simpletable\">\n",
       "<tr>\n",
       "           <td></td>              <th>coef</th>     <th>std err</th>      <th>t</th>      <th>P>|t|</th>  <th>[0.025</th>    <th>0.975]</th>  \n",
       "</tr>\n",
       "<tr>\n",
       "  <th>const</th>               <td>    1.0731</td> <td>    0.430</td> <td>    2.496</td> <td> 0.013</td> <td>    0.228</td> <td>    1.918</td>\n",
       "</tr>\n",
       "<tr>\n",
       "  <th>ChangeInSalesRecLog</th> <td>    0.1169</td> <td>    0.037</td> <td>    3.140</td> <td> 0.002</td> <td>    0.044</td> <td>    0.190</td>\n",
       "</tr>\n",
       "<tr>\n",
       "  <th>LogPPE</th>              <td>    0.1630</td> <td>    0.032</td> <td>    5.101</td> <td> 0.000</td> <td>    0.100</td> <td>    0.226</td>\n",
       "</tr>\n",
       "<tr>\n",
       "  <th>LogNetIncome</th>        <td>    0.2102</td> <td>    0.047</td> <td>    4.451</td> <td> 0.000</td> <td>    0.117</td> <td>    0.303</td>\n",
       "</tr>\n",
       "<tr>\n",
       "  <th>LogNetCash</th>          <td>    0.4379</td> <td>    0.050</td> <td>    8.797</td> <td> 0.000</td> <td>    0.340</td> <td>    0.536</td>\n",
       "</tr>\n",
       "</table>\n",
       "<table class=\"simpletable\">\n",
       "<tr>\n",
       "  <th>Omnibus:</th>       <td>124.737</td> <th>  Durbin-Watson:     </th> <td>   2.094</td>\n",
       "</tr>\n",
       "<tr>\n",
       "  <th>Prob(Omnibus):</th> <td> 0.000</td>  <th>  Jarque-Bera (JB):  </th> <td> 369.566</td>\n",
       "</tr>\n",
       "<tr>\n",
       "  <th>Skew:</th>          <td>-1.418</td>  <th>  Prob(JB):          </th> <td>5.62e-81</td>\n",
       "</tr>\n",
       "<tr>\n",
       "  <th>Kurtosis:</th>      <td> 6.686</td>  <th>  Cond. No.          </th> <td>    294.</td>\n",
       "</tr>\n",
       "</table><br/><br/>Warnings:<br/>[1] Standard Errors assume that the covariance matrix of the errors is correctly specified."
      ],
      "text/plain": [
       "<class 'statsmodels.iolib.summary.Summary'>\n",
       "\"\"\"\n",
       "                            OLS Regression Results                            \n",
       "==============================================================================\n",
       "Dep. Variable:       TotalAccrualslog   R-squared:                       0.804\n",
       "Model:                            OLS   Adj. R-squared:                  0.802\n",
       "Method:                 Least Squares   F-statistic:                     414.8\n",
       "Date:                Mon, 09 Mar 2020   Prob (F-statistic):          9.76e-142\n",
       "Time:                        14:31:41   Log-Likelihood:                -595.47\n",
       "No. Observations:                 410   AIC:                             1201.\n",
       "Df Residuals:                     405   BIC:                             1221.\n",
       "Df Model:                           4                                         \n",
       "Covariance Type:            nonrobust                                         \n",
       "=======================================================================================\n",
       "                          coef    std err          t      P>|t|      [0.025      0.975]\n",
       "---------------------------------------------------------------------------------------\n",
       "const                   1.0731      0.430      2.496      0.013       0.228       1.918\n",
       "ChangeInSalesRecLog     0.1169      0.037      3.140      0.002       0.044       0.190\n",
       "LogPPE                  0.1630      0.032      5.101      0.000       0.100       0.226\n",
       "LogNetIncome            0.2102      0.047      4.451      0.000       0.117       0.303\n",
       "LogNetCash              0.4379      0.050      8.797      0.000       0.340       0.536\n",
       "==============================================================================\n",
       "Omnibus:                      124.737   Durbin-Watson:                   2.094\n",
       "Prob(Omnibus):                  0.000   Jarque-Bera (JB):              369.566\n",
       "Skew:                          -1.418   Prob(JB):                     5.62e-81\n",
       "Kurtosis:                       6.686   Cond. No.                         294.\n",
       "==============================================================================\n",
       "\n",
       "Warnings:\n",
       "[1] Standard Errors assume that the covariance matrix of the errors is correctly specified.\n",
       "\"\"\""
      ]
     },
     "execution_count": 607,
     "metadata": {},
     "output_type": "execute_result"
    }
   ],
   "source": [
    "model_accruals = linear_model.LinearRegression(fit_intercept = True)\n",
    "TotalNetAccruals = df['TotalAccrualslog']\n",
    "x = df[features]\n",
    "x_constant = sm.add_constant(x)\n",
    "model_accruals = sm.OLS(TotalNetAccruals, x_constant).fit()\n",
    "model_accruals.summary()"
   ]
  },
  {
   "cell_type": "markdown",
   "metadata": {},
   "source": [
    "### Results\n",
    "I created the regression model based off the 2016 We trained this model to find a goodness of fit and coefficients to show the relationships between total accruals to the 5 variables used in both models. \n",
    "\n",
    "2016 actual model analysis: We use a Regression Analysis to see how closley related independent variables are to dependent variables. \"The result of pulling discretionary accrual amounts from the total accrual amount is a metric that reflects accruals that are due to management's choices alone; in other words, there appears to be no business reason for these accruals. So, discretionary accruals are a better proxy for earnings quality.\" We want to predict total net accruals(non discretionary) for companies based off certain independent variables. To estimate non discretionary accrual amounts, we use a time series analysis. We look at data over a period of time. This model is created based off the 2016 period and the lagged variables are the prior period. An error term is a variable that shows a misrepresentation in the relationship between the independent and dependent variable. An error term in this case is represeneted by discretionary accruals. The higher the discretionary accruals the lower the quality of earnings. Inputs Variables: Dependent Variables: Total NET ACCRUALS The Dependent variable is the variable that is being tested. We are creating our model based of 410 observations in 2016 Independent Variables: ChangeinSalesRecLog, LogPPE, LogNetIncome, LogNetCash\n",
    "\n",
    "As you can see from above we use lag variables to find the prior year assets\n",
    "\n",
    "Created a regression model to test total net accruals, based off 4 variables; ChangeinSalesRecLog, LogPPE, LogNetIncome, LogNetCash. We want to use this model to predict total net accruals for firms and check the error rate to see managements decisions on accruals. The adjusted R squared value in this model is .802. R squared is the fraction of variation in your predicted variable in relation to your independent variable. That means that the closer the model is to 100%, explains that all the variablity is around the average. Based off these 410 observations, the model shows that 80.2 percent of the variance data is explained by this model . As you see from, the predictions based off the model shows that the predicted total net accruals are closley related to the actual net accruals. Regression coefficients represents the mean change in the response variable for one unit of change in the independent variable. LogNetCash has a coefficient of .44, which indicates that for every additional net cash operating you can expect Total Net Accruals log to increase by an average of .437 dollars.\n"
   ]
  },
  {
   "cell_type": "markdown",
   "metadata": {},
   "source": [
    "### Goodness of Fit:\n",
    "\n",
    "As you can see from the r squared, of .802, that the explained variation/total variation is approx 80.02 percent. The actual model had 410 observations, which could be an explanation behind the 80.02 r squared value. The closer to 100%, the less variation in the model. As you can see from the predicted observations from above, I compared the first 4 of the predicted observations to the actual observations to see the realibility of the model. The first 4 predicted net accrual amount are:\n",
    "\n",
    "You can see there are variations between the predicted observations and actual observations, but thats due to the fact that the model only explains 80.02% of the variations.\n",
    "\n",
    "The first observation that I found is the return on assets coefficient value. To get a better r squared value, I did different variations of the jones model and I dropped the ones with the lowest coeficients. Return on assets is a f/s ratio that I used in the model that I dropped due to the lack of predictive power.\n",
    "\n",
    "The second observation that I found is the signifcance of the p values in both models. The higher the p value, represents the changes in the predictor is not responsive. The common alpha value is .05 and if it is greater than .05 indicates that the variable is not statistically significant. A predictor that has a low p value represents greater responsivness between changes in the tested variable. All variables showed perfect responsivness to total accruals and should be used predict the model. If given more time I would love to test depreciation expense, and lagging cash flow items to find differences in cf from operations. \n",
    "\n",
    "Based off the p values and the change in r squared I decided to not make any changes to the model for further testing. I will test total net accruals based off the variables that have low p values. If given more time, I would test depreciation and inventory to see its affect on Total Net Accruals.The model is going to be used to test future net accruals in the 2017 quarter 3 periods. We are going to look at if the predicted values are too high, too low, or equal to the actual observations."
   ]
  },
  {
   "cell_type": "code",
   "execution_count": 610,
   "metadata": {},
   "outputs": [],
   "source": [
    "def plot_predictions(model_name, y_train_pred ,y_train_actual):\n",
    "    plt.figure(figsize= (12,12))\n",
    "    plt.scatter(y_train_actual, y_train_pred, c = \"blue\", marker = \"s\", label = \"Testing Data\")\n",
    "    plt.title(\"Predicted vs Actual Accruals\", fontsize = 24)\n",
    "    plt.xlabel(\"$\\hat{y}$ = Actual Total Accruals($)\", fontsize = 20)\n",
    "    plt.ylabel(\"$y$ = Predicted Accruals($)\", fontsize = 20)\n",
    "    plt.legend(loc = \"upper left\")\n",
    "    plt.gcf().axes[0].yaxis.get_major_formatter().set_scientific(False)\n",
    "    plt.gcf().axes[0].xaxis.get_major_formatter().set_scientific(False)\n",
    "    plt.plot([y_train_actual.min(), y_train_actual.max()], [y_train_actual.min(), y_train_actual.max()], c='red')\n",
    "    plt.tight_layout()"
   ]
  },
  {
   "cell_type": "code",
   "execution_count": 611,
   "metadata": {},
   "outputs": [
    {
     "data": {
      "image/png": "[encoded data removed]",
      "text/plain": [
       "<Figure size 864x864 with 1 Axes>"
      ]
     },
     "metadata": {},
     "output_type": "display_data"
    }
   ],
   "source": [
    "plot_predictions(lr,np.exp(pred_test), np.exp(y_test))"
   ]
  },
  {
   "cell_type": "code",
   "execution_count": 601,
   "metadata": {},
   "outputs": [],
   "source": [
    "residuals_1 = np.exp(y_test)- np.exp(pred_test)"
   ]
  },
  {
   "cell_type": "code",
   "execution_count": 603,
   "metadata": {},
   "outputs": [
    {
     "data": {
      "text/plain": [
       "Text(0.5, 1.0, 'Model 1 Residuals by Total Accruals')"
      ]
     },
     "execution_count": 603,
     "metadata": {},
     "output_type": "execute_result"
    },
    {
     "data": {
      "image/png": "[encoded data removed]",
      "text/plain": [
       "<Figure size 432x288 with 1 Axes>"
      ]
     },
     "metadata": {},
     "output_type": "display_data"
    }
   ],
   "source": [
    "plt.scatter(range(len(residuals_1)), residuals_1)\n",
    "plt.axhline(0,color = 'red')\n",
    "plt.xlabel(\"Index of Residuals\", fontsize = 20)\n",
    "plt.ylabel(\"Residuals($): $y$\", fontsize = 20)\n",
    "plt.gcf().axes[0].yaxis.get_major_formatter().set_scientific(False)\n",
    "plt.title('Model 1 Residuals by Total Accruals', fontsize = 24)"
   ]
  },
  {
   "cell_type": "markdown",
   "metadata": {},
   "source": [
    "### Validate Predictions on 2017 Q3 DataSet\n"
   ]
  },
  {
   "cell_type": "markdown",
   "metadata": {},
   "source": [
    "Do the same as the training set to validation set"
   ]
  },
  {
   "cell_type": "code",
   "execution_count": 530,
   "metadata": {},
   "outputs": [],
   "source": [
    "num4 =  pd.read_csv('./data/2017q3/num.txt', sep = '\\t', encoding=\"latin-1\")\n",
    "tag4 =  pd.read_csv('./data/2017q3/tag.txt', sep = '\\t', encoding=\"latin-1\")\n",
    "pre4 =  pd.read_csv('./data/2017q3/pre.txt', sep = '\\t', encoding=\"latin-1\")\n",
    "sub4 =  pd.read_csv('./data/2017q3/sub.txt', sep = '\\t', encoding=\"latin-1\")"
   ]
  },
  {
   "cell_type": "markdown",
   "metadata": {},
   "source": [
    "Merge on same unique identifiers"
   ]
  },
  {
   "cell_type": "code",
   "execution_count": 531,
   "metadata": {},
   "outputs": [
    {
     "data": {
      "text/html": [
       "<div>\n",
       "<style scoped>\n",
       "    .dataframe tbody tr th:only-of-type {\n",
       "        vertical-align: middle;\n",
       "    }\n",
       "\n",
       "    .dataframe tbody tr th {\n",
       "        vertical-align: top;\n",
       "    }\n",
       "\n",
       "    .dataframe thead th {\n",
       "        text-align: right;\n",
       "    }\n",
       "</style>\n",
       "<table border=\"1\" class=\"dataframe\">\n",
       "  <thead>\n",
       "    <tr style=\"text-align: right;\">\n",
       "      <th></th>\n",
       "      <th>cik</th>\n",
       "      <th>adsh</th>\n",
       "      <th>afs</th>\n",
       "      <th>qtrs</th>\n",
       "      <th>fy</th>\n",
       "      <th>fp</th>\n",
       "      <th>tag</th>\n",
       "      <th>version</th>\n",
       "      <th>value</th>\n",
       "      <th>ddate</th>\n",
       "    </tr>\n",
       "  </thead>\n",
       "  <tbody>\n",
       "    <tr>\n",
       "      <th>158530</th>\n",
       "      <td>1750</td>\n",
       "      <td>0001047469-17-004528</td>\n",
       "      <td>1-LAF</td>\n",
       "      <td>0</td>\n",
       "      <td>2017.0</td>\n",
       "      <td>FY</td>\n",
       "      <td>DeferredTaxLiabilitiesNoncurrent</td>\n",
       "      <td>us-gaap/2016</td>\n",
       "      <td>3.720000e+07</td>\n",
       "      <td>20170531</td>\n",
       "    </tr>\n",
       "    <tr>\n",
       "      <th>73518</th>\n",
       "      <td>1750</td>\n",
       "      <td>0001104659-17-058003</td>\n",
       "      <td>1-LAF</td>\n",
       "      <td>0</td>\n",
       "      <td>2018.0</td>\n",
       "      <td>Q1</td>\n",
       "      <td>CashAndCashEquivalentsAtCarryingValue</td>\n",
       "      <td>us-gaap/2016</td>\n",
       "      <td>7.900000e+06</td>\n",
       "      <td>20160831</td>\n",
       "    </tr>\n",
       "    <tr>\n",
       "      <th>73517</th>\n",
       "      <td>1750</td>\n",
       "      <td>0001104659-17-058003</td>\n",
       "      <td>1-LAF</td>\n",
       "      <td>0</td>\n",
       "      <td>2018.0</td>\n",
       "      <td>Q1</td>\n",
       "      <td>CashAndCashEquivalentsAtCarryingValue</td>\n",
       "      <td>us-gaap/2016</td>\n",
       "      <td>3.120000e+07</td>\n",
       "      <td>20160531</td>\n",
       "    </tr>\n",
       "    <tr>\n",
       "      <th>73516</th>\n",
       "      <td>1750</td>\n",
       "      <td>0001104659-17-058003</td>\n",
       "      <td>1-LAF</td>\n",
       "      <td>0</td>\n",
       "      <td>2018.0</td>\n",
       "      <td>Q1</td>\n",
       "      <td>CashAndCashEquivalentsAtCarryingValue</td>\n",
       "      <td>us-gaap/2016</td>\n",
       "      <td>1.510000e+07</td>\n",
       "      <td>20170831</td>\n",
       "    </tr>\n",
       "    <tr>\n",
       "      <th>73515</th>\n",
       "      <td>1750</td>\n",
       "      <td>0001104659-17-058003</td>\n",
       "      <td>1-LAF</td>\n",
       "      <td>0</td>\n",
       "      <td>2018.0</td>\n",
       "      <td>Q1</td>\n",
       "      <td>CashAndCashEquivalentsAtCarryingValue</td>\n",
       "      <td>us-gaap/2016</td>\n",
       "      <td>1.030000e+07</td>\n",
       "      <td>20170531</td>\n",
       "    </tr>\n",
       "    <tr>\n",
       "      <th>...</th>\n",
       "      <td>...</td>\n",
       "      <td>...</td>\n",
       "      <td>...</td>\n",
       "      <td>...</td>\n",
       "      <td>...</td>\n",
       "      <td>...</td>\n",
       "      <td>...</td>\n",
       "      <td>...</td>\n",
       "      <td>...</td>\n",
       "      <td>...</td>\n",
       "    </tr>\n",
       "    <tr>\n",
       "      <th>1504508</th>\n",
       "      <td>1712041</td>\n",
       "      <td>0001615774-17-004906</td>\n",
       "      <td>5-SML</td>\n",
       "      <td>2</td>\n",
       "      <td>2017.0</td>\n",
       "      <td>Q2</td>\n",
       "      <td>RepaymentsOfNotesPayable</td>\n",
       "      <td>us-gaap/2017</td>\n",
       "      <td>2.544000e+03</td>\n",
       "      <td>20170630</td>\n",
       "    </tr>\n",
       "    <tr>\n",
       "      <th>1504509</th>\n",
       "      <td>1712041</td>\n",
       "      <td>0001615774-17-004906</td>\n",
       "      <td>5-SML</td>\n",
       "      <td>4</td>\n",
       "      <td>2017.0</td>\n",
       "      <td>Q2</td>\n",
       "      <td>RepaymentsOfNotesPayable</td>\n",
       "      <td>us-gaap/2017</td>\n",
       "      <td>5.477200e+04</td>\n",
       "      <td>20161231</td>\n",
       "    </tr>\n",
       "    <tr>\n",
       "      <th>1504510</th>\n",
       "      <td>1712041</td>\n",
       "      <td>0001615774-17-004906</td>\n",
       "      <td>5-SML</td>\n",
       "      <td>4</td>\n",
       "      <td>2017.0</td>\n",
       "      <td>Q2</td>\n",
       "      <td>RepaymentsOfNotesPayable</td>\n",
       "      <td>us-gaap/2017</td>\n",
       "      <td>NaN</td>\n",
       "      <td>20151231</td>\n",
       "    </tr>\n",
       "    <tr>\n",
       "      <th>982100</th>\n",
       "      <td>1712041</td>\n",
       "      <td>0001615774-17-004906</td>\n",
       "      <td>5-SML</td>\n",
       "      <td>2</td>\n",
       "      <td>2017.0</td>\n",
       "      <td>Q2</td>\n",
       "      <td>GeneralAndAdministrativeExpense</td>\n",
       "      <td>us-gaap/2017</td>\n",
       "      <td>4.706800e+04</td>\n",
       "      <td>20160630</td>\n",
       "    </tr>\n",
       "    <tr>\n",
       "      <th>811192</th>\n",
       "      <td>1712041</td>\n",
       "      <td>0001615774-17-004906</td>\n",
       "      <td>5-SML</td>\n",
       "      <td>0</td>\n",
       "      <td>2017.0</td>\n",
       "      <td>Q2</td>\n",
       "      <td>CommonStockParOrStatedValuePerShare</td>\n",
       "      <td>us-gaap/2017</td>\n",
       "      <td>1.000000e-04</td>\n",
       "      <td>20150731</td>\n",
       "    </tr>\n",
       "  </tbody>\n",
       "</table>\n",
       "<p>1753413 rows × 10 columns</p>\n",
       "</div>"
      ],
      "text/plain": [
       "             cik                  adsh    afs  qtrs      fy  fp  \\\n",
       "158530      1750  0001047469-17-004528  1-LAF     0  2017.0  FY   \n",
       "73518       1750  0001104659-17-058003  1-LAF     0  2018.0  Q1   \n",
       "73517       1750  0001104659-17-058003  1-LAF     0  2018.0  Q1   \n",
       "73516       1750  0001104659-17-058003  1-LAF     0  2018.0  Q1   \n",
       "73515       1750  0001104659-17-058003  1-LAF     0  2018.0  Q1   \n",
       "...          ...                   ...    ...   ...     ...  ..   \n",
       "1504508  1712041  0001615774-17-004906  5-SML     2  2017.0  Q2   \n",
       "1504509  1712041  0001615774-17-004906  5-SML     4  2017.0  Q2   \n",
       "1504510  1712041  0001615774-17-004906  5-SML     4  2017.0  Q2   \n",
       "982100   1712041  0001615774-17-004906  5-SML     2  2017.0  Q2   \n",
       "811192   1712041  0001615774-17-004906  5-SML     0  2017.0  Q2   \n",
       "\n",
       "                                           tag       version         value  \\\n",
       "158530        DeferredTaxLiabilitiesNoncurrent  us-gaap/2016  3.720000e+07   \n",
       "73518    CashAndCashEquivalentsAtCarryingValue  us-gaap/2016  7.900000e+06   \n",
       "73517    CashAndCashEquivalentsAtCarryingValue  us-gaap/2016  3.120000e+07   \n",
       "73516    CashAndCashEquivalentsAtCarryingValue  us-gaap/2016  1.510000e+07   \n",
       "73515    CashAndCashEquivalentsAtCarryingValue  us-gaap/2016  1.030000e+07   \n",
       "...                                        ...           ...           ...   \n",
       "1504508               RepaymentsOfNotesPayable  us-gaap/2017  2.544000e+03   \n",
       "1504509               RepaymentsOfNotesPayable  us-gaap/2017  5.477200e+04   \n",
       "1504510               RepaymentsOfNotesPayable  us-gaap/2017           NaN   \n",
       "982100         GeneralAndAdministrativeExpense  us-gaap/2017  4.706800e+04   \n",
       "811192     CommonStockParOrStatedValuePerShare  us-gaap/2017  1.000000e-04   \n",
       "\n",
       "            ddate  \n",
       "158530   20170531  \n",
       "73518    20160831  \n",
       "73517    20160531  \n",
       "73516    20170831  \n",
       "73515    20170531  \n",
       "...           ...  \n",
       "1504508  20170630  \n",
       "1504509  20161231  \n",
       "1504510  20151231  \n",
       "982100   20160630  \n",
       "811192   20150731  \n",
       "\n",
       "[1753413 rows x 10 columns]"
      ]
     },
     "execution_count": 531,
     "metadata": {},
     "output_type": "execute_result"
    }
   ],
   "source": [
    "firstmerge4 = pd.merge(pre4, sub4, how = \"left\", on=['adsh'])   #left merge\n",
    "secondmerge4 = pd.merge(firstmerge4, tag4, how= \"inner\", on =['tag', 'version'])\n",
    "thirdmerge4 = pd.merge(secondmerge4, num4, how = \"inner\", on =['adsh', 'tag', 'version'])\n",
    "sec_data2017 = thirdmerge4[['cik','adsh' , 'afs' , 'qtrs' , 'fy' , 'fp', 'tag', 'version', 'value' , 'ddate']].sort_values(['cik'])"
   ]
  },
  {
   "cell_type": "markdown",
   "metadata": {},
   "source": [
    "Call get tags function created earlier. Great function for generalization"
   ]
  },
  {
   "cell_type": "code",
   "execution_count": 532,
   "metadata": {},
   "outputs": [],
   "source": [
    "Regression_2017 = get_tags(sec_data2017,'NetIncomeLoss','NetCashProvidedByUsedInOperatingActivities','SalesRevenueNet','Assets',\n",
    "'AccountsReceivableNetCurrent','PropertyPlantAndEquipmentNet')"
   ]
  },
  {
   "cell_type": "markdown",
   "metadata": {},
   "source": [
    "Call Engineer Function to filter out by 3q"
   ]
  },
  {
   "cell_type": "code",
   "execution_count": 533,
   "metadata": {},
   "outputs": [],
   "source": [
    "Regression_Q317 = engineer_tags(Regression_2017, 20170630, 20160630)"
   ]
  },
  {
   "cell_type": "markdown",
   "metadata": {},
   "source": [
    "Make sure to log all features like training set"
   ]
  },
  {
   "cell_type": "code",
   "execution_count": 535,
   "metadata": {},
   "outputs": [
    {
     "data": {
      "image/png": "[encoded data removed]",
      "text/plain": [
       "<Figure size 432x288 with 1 Axes>"
      ]
     },
     "metadata": {},
     "output_type": "display_data"
    }
   ],
   "source": [
    "log_numeric_column(Regression_Q317, \"TotalNetAccruals\", 'TotalAccrualslog', \n",
    "                   \"Log Distribution of Total Accruals\", \"Log Accruals($)\")"
   ]
  },
  {
   "cell_type": "code",
   "execution_count": 536,
   "metadata": {},
   "outputs": [
    {
     "data": {
      "image/png": "[encoded data removed]",
      "text/plain": [
       "<Figure size 432x288 with 1 Axes>"
      ]
     },
     "metadata": {},
     "output_type": "display_data"
    }
   ],
   "source": [
    "log_numeric_column(Regression_Q317, 'ChangeSalesRec', 'ChangeInSalesRecLog', \n",
    "                   \"Log Distribution of Change in Sales Rec\", \"Log ChangeSalesRec($)\")"
   ]
  },
  {
   "cell_type": "code",
   "execution_count": 537,
   "metadata": {},
   "outputs": [
    {
     "data": {
      "image/png": "[encoded data removed]",
      "text/plain": [
       "<Figure size 432x288 with 1 Axes>"
      ]
     },
     "metadata": {},
     "output_type": "display_data"
    }
   ],
   "source": [
    "log_numeric_column(Regression_Q317, 'PropertyPlantAndEquipmentNet', 'LogPPE', \n",
    "                   \"Log Distribution of Book Value of PPE\", \"Log PPE($)\")"
   ]
  },
  {
   "cell_type": "code",
   "execution_count": 539,
   "metadata": {},
   "outputs": [
    {
     "data": {
      "image/png": "[encoded data removed]",
      "text/plain": [
       "<Figure size 432x288 with 1 Axes>"
      ]
     },
     "metadata": {},
     "output_type": "display_data"
    }
   ],
   "source": [
    "log_numeric_column(Regression_Q317, 'NetIncomeLoss', 'LogNetIncome', \n",
    "                   \"Log Distribution of NetIncome\" , \"Log NetIncome($)\")"
   ]
  },
  {
   "cell_type": "code",
   "execution_count": 540,
   "metadata": {},
   "outputs": [
    {
     "data": {
      "image/png": "[encoded data removed]",
      "text/plain": [
       "<Figure size 432x288 with 1 Axes>"
      ]
     },
     "metadata": {},
     "output_type": "display_data"
    }
   ],
   "source": [
    "log_numeric_column(Regression_Q317, 'NetCashProvidedByUsedInOperatingActivities', 'LogNetCash', \n",
    "                   \"Log Distribution of NetCash\" , \"Log NetCash($)\")"
   ]
  },
  {
   "cell_type": "markdown",
   "metadata": {},
   "source": [
    "Make sure to create poly features just like training set."
   ]
  },
  {
   "cell_type": "code",
   "execution_count": 541,
   "metadata": {},
   "outputs": [],
   "source": [
    "features = ['ChangeInSalesRecLog', 'LogPPE',\n",
    "            \"LogNetIncome\", \"LogNetCash\"]"
   ]
  },
  {
   "cell_type": "code",
   "execution_count": 542,
   "metadata": {},
   "outputs": [],
   "source": [
    "poly = PolynomialFeatures(include_bias=False)"
   ]
  },
  {
   "cell_type": "code",
   "execution_count": 543,
   "metadata": {},
   "outputs": [],
   "source": [
    "X_poly = poly.fit_transform(Regression_Q317[features])"
   ]
  },
  {
   "cell_type": "code",
   "execution_count": 544,
   "metadata": {},
   "outputs": [],
   "source": [
    "df_poly_17 = pd.DataFrame(X_poly, columns=poly.get_feature_names(features))"
   ]
  },
  {
   "cell_type": "markdown",
   "metadata": {},
   "source": [
    "Use the linear model to predict total accruals on validation set"
   ]
  },
  {
   "cell_type": "code",
   "execution_count": 551,
   "metadata": {},
   "outputs": [],
   "source": [
    "linear_val= lr.predict((df_poly_17))"
   ]
  },
  {
   "cell_type": "markdown",
   "metadata": {},
   "source": [
    "Create Data frame of variance, expected average, and predicted accruals vs actual accruals"
   ]
  },
  {
   "cell_type": "code",
   "execution_count": 568,
   "metadata": {},
   "outputs": [],
   "source": [
    "df_linear_bag = pd.DataFrame(np.exp(linear_val), columns = ['Predicted2017Q3Accruals'])\n",
    "df_linear_bag['TotalAccruals'] = list(Regression_Q317['TotalNetAccruals'])\n",
    "df_linear_bag['Variance'] = df_linear_bag['Predicted2017Q3Accruals'] - df_linear_bag['TotalAccruals']\n",
    "df_linear_bag['ExpectedAverage(%)'] = df_linear_bag['Variance']/ df_linear_bag['Predicted2017Q3Accruals']  * 100\n",
    "df_linear_bag = df_linear_bag.sort_values(by = 'Variance', ascending = True)"
   ]
  },
  {
   "cell_type": "code",
   "execution_count": 560,
   "metadata": {},
   "outputs": [
    {
     "name": "stdout",
     "output_type": "stream",
     "text": [
      "Percentages lower than -40% of the data 19\n"
     ]
    }
   ],
   "source": [
    "high_variance = df_linear_bag[(df_linear_bag['ExpectedAverage(%)'] < -40)]\n",
    "print('Percentages lower than -40% of the data' , len(high_variance))"
   ]
  },
  {
   "cell_type": "markdown",
   "metadata": {},
   "source": [
    "See which values were greater than the actual"
   ]
  },
  {
   "cell_type": "code",
   "execution_count": 562,
   "metadata": {},
   "outputs": [
    {
     "data": {
      "text/html": [
       "<div>\n",
       "<style scoped>\n",
       "    .dataframe tbody tr th:only-of-type {\n",
       "        vertical-align: middle;\n",
       "    }\n",
       "\n",
       "    .dataframe tbody tr th {\n",
       "        vertical-align: top;\n",
       "    }\n",
       "\n",
       "    .dataframe thead th {\n",
       "        text-align: right;\n",
       "    }\n",
       "</style>\n",
       "<table border=\"1\" class=\"dataframe\">\n",
       "  <thead>\n",
       "    <tr style=\"text-align: right;\">\n",
       "      <th></th>\n",
       "      <th>Predicted2017Q3Accruals</th>\n",
       "      <th>TotalAccruals</th>\n",
       "      <th>Variance</th>\n",
       "      <th>ExpectedAverage(%)</th>\n",
       "    </tr>\n",
       "  </thead>\n",
       "  <tbody>\n",
       "    <tr>\n",
       "      <th>19</th>\n",
       "      <td>2.008940e+06</td>\n",
       "      <td>1849000.0</td>\n",
       "      <td>159939.865277</td>\n",
       "      <td>7.961406</td>\n",
       "    </tr>\n",
       "    <tr>\n",
       "      <th>29</th>\n",
       "      <td>3.771017e+05</td>\n",
       "      <td>216000.0</td>\n",
       "      <td>161101.678501</td>\n",
       "      <td>42.721019</td>\n",
       "    </tr>\n",
       "    <tr>\n",
       "      <th>3</th>\n",
       "      <td>1.784655e+06</td>\n",
       "      <td>1520394.0</td>\n",
       "      <td>264260.712476</td>\n",
       "      <td>14.807386</td>\n",
       "    </tr>\n",
       "    <tr>\n",
       "      <th>41</th>\n",
       "      <td>3.527719e+06</td>\n",
       "      <td>3124964.0</td>\n",
       "      <td>402754.738414</td>\n",
       "      <td>11.416861</td>\n",
       "    </tr>\n",
       "    <tr>\n",
       "      <th>7</th>\n",
       "      <td>3.046247e+07</td>\n",
       "      <td>29966000.0</td>\n",
       "      <td>496468.139226</td>\n",
       "      <td>1.629770</td>\n",
       "    </tr>\n",
       "  </tbody>\n",
       "</table>\n",
       "</div>"
      ],
      "text/plain": [
       "    Predicted2017Q3Accruals  TotalAccruals       Variance  ExpectedAverage(%)\n",
       "19             2.008940e+06      1849000.0  159939.865277            7.961406\n",
       "29             3.771017e+05       216000.0  161101.678501           42.721019\n",
       "3              1.784655e+06      1520394.0  264260.712476           14.807386\n",
       "41             3.527719e+06      3124964.0  402754.738414           11.416861\n",
       "7              3.046247e+07     29966000.0  496468.139226            1.629770"
      ]
     },
     "execution_count": 562,
     "metadata": {},
     "output_type": "execute_result"
    }
   ],
   "source": [
    "high_amount = df_linear_bag[(df_linear_bag['Variance'] > 0)]\n",
    "high_amount.head()"
   ]
  },
  {
   "cell_type": "markdown",
   "metadata": {},
   "source": [
    "See which values are lower than the actual"
   ]
  },
  {
   "cell_type": "code",
   "execution_count": 567,
   "metadata": {},
   "outputs": [
    {
     "data": {
      "text/html": [
       "<div>\n",
       "<style scoped>\n",
       "    .dataframe tbody tr th:only-of-type {\n",
       "        vertical-align: middle;\n",
       "    }\n",
       "\n",
       "    .dataframe tbody tr th {\n",
       "        vertical-align: top;\n",
       "    }\n",
       "\n",
       "    .dataframe thead th {\n",
       "        text-align: right;\n",
       "    }\n",
       "</style>\n",
       "<table border=\"1\" class=\"dataframe\">\n",
       "  <thead>\n",
       "    <tr style=\"text-align: right;\">\n",
       "      <th></th>\n",
       "      <th>Predicted2017Q3Accruals</th>\n",
       "      <th>TotalAccruals</th>\n",
       "      <th>Variance</th>\n",
       "      <th>ExpectedAverage(%)</th>\n",
       "    </tr>\n",
       "  </thead>\n",
       "  <tbody>\n",
       "    <tr>\n",
       "      <th>48</th>\n",
       "      <td>4.006263e+08</td>\n",
       "      <td>1.077500e+09</td>\n",
       "      <td>-6.768737e+08</td>\n",
       "      <td>-168.953913</td>\n",
       "    </tr>\n",
       "    <tr>\n",
       "      <th>40</th>\n",
       "      <td>9.447602e+08</td>\n",
       "      <td>1.144000e+09</td>\n",
       "      <td>-1.992398e+08</td>\n",
       "      <td>-21.088934</td>\n",
       "    </tr>\n",
       "    <tr>\n",
       "      <th>0</th>\n",
       "      <td>9.349504e+08</td>\n",
       "      <td>1.126300e+09</td>\n",
       "      <td>-1.913496e+08</td>\n",
       "      <td>-20.466280</td>\n",
       "    </tr>\n",
       "    <tr>\n",
       "      <th>42</th>\n",
       "      <td>9.900072e+07</td>\n",
       "      <td>2.099425e+08</td>\n",
       "      <td>-1.109418e+08</td>\n",
       "      <td>-112.061597</td>\n",
       "    </tr>\n",
       "    <tr>\n",
       "      <th>51</th>\n",
       "      <td>5.912525e+07</td>\n",
       "      <td>1.637000e+08</td>\n",
       "      <td>-1.045748e+08</td>\n",
       "      <td>-176.869868</td>\n",
       "    </tr>\n",
       "  </tbody>\n",
       "</table>\n",
       "</div>"
      ],
      "text/plain": [
       "    Predicted2017Q3Accruals  TotalAccruals      Variance  ExpectedAverage(%)\n",
       "48             4.006263e+08   1.077500e+09 -6.768737e+08         -168.953913\n",
       "40             9.447602e+08   1.144000e+09 -1.992398e+08          -21.088934\n",
       "0              9.349504e+08   1.126300e+09 -1.913496e+08          -20.466280\n",
       "42             9.900072e+07   2.099425e+08 -1.109418e+08         -112.061597\n",
       "51             5.912525e+07   1.637000e+08 -1.045748e+08         -176.869868"
      ]
     },
     "execution_count": 567,
     "metadata": {},
     "output_type": "execute_result"
    }
   ],
   "source": [
    "low_amount = df_linear_bag[(df_linear_bag['Variance'] < 0)]\n",
    "low_amount.head()"
   ]
  },
  {
   "cell_type": "code",
   "execution_count": 566,
   "metadata": {},
   "outputs": [],
   "source": [
    "exact_amount = df_linear_bag[(df_linear_bag['Variance'] == 0)]"
   ]
  },
  {
   "cell_type": "markdown",
   "metadata": {},
   "source": [
    "We did not predict one company correctly. We are in the ballpark for some companies. The purpose of audits is to provide reasonable assurance that companies are stating its accruals with the fair representation of its financial statements."
   ]
  },
  {
   "cell_type": "markdown",
   "metadata": {},
   "source": [
    "We took the percentage of the varaince over the actual amounts to compare and see how close the percentage change is to 0. I took -40% as a threshold to see how many percentages fall below 40%. We found that 19 of the 54 of the observations fell below this threshold, which shows that over 65% of the data shows a high amount of variance. When there is a high level of variance in a model in the model, it shows that new variables should be implemented to better test total accruals. The validation set is great for explicitly showing the deployment of our model in the audit process. The fact that most values are within 6 figures shows that we can deploy our model for certain companies. I want to examine the 3 averages closer to 0 and the 3 averages farthest from 0 to see which types of companies are throwing off our model."
   ]
  },
  {
   "cell_type": "markdown",
   "metadata": {},
   "source": [
    "## Conclusion\n",
    "In conclusion, the jones model is a way for companies to predict non discretionary accruals across firms using time series data. Being able to extract industry wide financial data, and predict future companys amounts based off multiple regression. We want to be able to find relationships between relationships, and create models to help conclude on hypothesis and test variables that are in interest of management. If we were to audit big companies, we could use financial data for individual customers to predict certain financial information based off prior data. Although, our model has a lot of variance, that comes to show that we have to continue to find new variables to test to find the least amount of variance. We can look at p values that are lower than .05 which will show the level of responsivness for certain variables. We saw, on average, that the change in revenues and change in accounts recievables have the biggest effect on the change in accruals. We see in many fraud cases, that trends in recievables and sales can be examined to see any overstatements in receivables and revenue. If given more time as our busy season is starting, we want to add non cash financing activites, like depreciation, as variables into the model to see if there is any relationship to accruals. Many companies have different ways to identify tags in the database, so it is useful to extract data from the sec taxonomy to see the most frequent tags used in the industry. This will allow us analysts to find more relationships in accruals across the industry"
   ]
  },
  {
   "cell_type": "markdown",
   "metadata": {},
   "source": [
    "## Recommendations\n",
    "\n",
    "The Recommendations to improve the model is to add more non cash financing activities such as depreciation, ammortization, and ppe gains and losses. When fitting the model, we are using X features without taking into account GAAP laws and other factors that affect earnings managmenet. Predicting Accruals is a great way to get a nice understanding of what we can expect in the following year. Our audit team will use professional skepticsm in determining high volume accounts. We want to highlight what affects accruals, and how we can predict accruals in order to give a proper scope to our audit team. "
   ]
  }
 ],
 "metadata": {
  "kernelspec": {
   "display_name": "Python 3",
   "language": "python",
   "name": "python3"
  },
  "language_info": {
   "codemirror_mode": {
    "name": "ipython",
    "version": 3
   },
   "file_extension": ".py",
   "mimetype": "text/x-python",
   "name": "python",
   "nbconvert_exporter": "python",
   "pygments_lexer": "ipython3",
   "version": "3.7.6"
  }
 },
 "nbformat": 4,
 "nbformat_minor": 2
}
