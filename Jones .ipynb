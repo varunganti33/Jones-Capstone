{
 "cells": [
  {
   "cell_type": "markdown",
   "metadata": {},
   "source": [
    "# Financial Statement Audit: \n",
    "## Predicting Discretionary Total Accruals\n",
    "\n",
    "###### Author: \n",
    "\n",
    "[Varun Ganti](https://github.com/varunganti33)"
   ]
  },
  {
   "cell_type": "markdown",
   "metadata": {},
   "source": [
    "## Table of Contents\n",
    "\n",
    "- [Problem Statement](#Problem-Statemet)\n",
    "- [Executive Summary](#Executive-Summary)\n",
    "- [Data Dictionary](#Data-Dictionary)\n",
    "- [Loading Data](#Loading-Data)\n",
    "- [Data Cleaning](#Data-Cleaning)\n",
    "- [Feature Engineering](#Feature-Engineering)\n",
    "- [EDA](#EDA)\n",
    "- [Model Preparation](#Model-Preparation)\n",
    "- [Model Selection](#Model-Selection)\n",
    "- [Model Evaluation](#Model-Selection)\n",
    "- [Conclusion](#Model-Selection)\n",
    "- [Recommendations](#Reccomendations)\n",
    "- [Resources](#Resources)\n",
    "\n"
   ]
  },
  {
   "cell_type": "markdown",
   "metadata": {},
   "source": [
    "## Problem Statement"
   ]
  },
  {
   "cell_type": "markdown",
   "metadata": {},
   "source": [
    "During election time, we see the amount of restatements on accruals go up for company, Accrual accounting is required by GAAP and companies have to spend loads of money to adapt to these standards. Our team wants to create various predictive models, such as linear regression, ridge, knn, decision trees, bagging, boosting, and random forests to predict the amount of discretionary accruals for a company, so we can plan the audit process accordingly. The metric to determine which model we deploy during our audit is R2, which will show how much our models explain the variance in the data. We chose to mirror the Jones Model is in order to predict the total net accruals for a company. This model is going to input variables from 2016 Q1-Q4 data into the regression model. After We create the model, we are going to train the model on a prior period data. After choosing the model with the highest r2, we are going to use the model to validate the model on the next period(2017 Q3).\n"
   ]
  },
  {
   "cell_type": "markdown",
   "metadata": {},
   "source": [
    "# Executive Summary\n",
    "\n",
    "Our team found that the data is readily avaliable on the SEC website with published quarterly financial statments. From our previous audit process, we hypothesized that the difference between the change in revenue and the change in recievables, and the book value of property plant and equipment variables would have the most influence over predicting total accruals. The difference of revenue and recievables will show the amount of income recieved by a company that is not based on recievables(cash). The abundance of variables, forced me to dive deeper into the data in order to find the most optimal combinations in order to find the highest scoring model. We want a high majority of the data to be explained by our model. \n",
    "\n",
    "\n",
    "EDA helped our team drastically not only set up a preprocessing plan for our model, but helped us understand the health of the data One example was that “NetCashOperating” showed up high on the correlation heat map, meaning that this variable will be useful in predicting total net accruals. For preprocessing, we chose to drop all null values with na, assuming that those values actually reperesented none of that type. Most of our eda consisted of examining the financial statmenets, and engineer features accordingly to fit our model. We decided to log all numeric columns to normalize the distributions. Furthermore, we had to create lagged variables in order to find the differences of sales and recievables from the prior quarter. On top of that, we needed to engineer our target variable based on the difference between net income and net cash from operating activities. The way companies transition from cash to accrual basis is to find the differences between assets and liabilities and either add that to cash income or subtract from accruals.  \n",
    "\n",
    "|Model|Type|Train R2|Testing R2|\n",
    "|---|---|---|---|\n",
    "|**Model 1**|*Linear*|0.947|0.547| \n",
    "\n",
    "\n",
    "Our approach to picking the best model, is by assessing the R2 Score and the cross validation score on the whole data set. We decided to deploy our linear model into the the audit process because of the ability to examine coeficients and continously improve our model. Once given more time, we can examine non cash activites such as depreciation to see how that can affect accruals"
   ]
  },
  {
   "cell_type": "markdown",
   "metadata": {},
   "source": [
    "## Data Dictionary\n",
    "\n",
    "Refer to Sec for Data Description\n",
    "\n",
    "- [Description of SEC Data](file:///Users/varunganti/Downloads/2017q1/readme.htm)"
   ]
  },
  {
   "cell_type": "markdown",
   "metadata": {},
   "source": [
    "## Loading Data"
   ]
  },
  {
   "cell_type": "code",
   "execution_count": 97,
   "metadata": {},
   "outputs": [],
   "source": [
    "import pandas as pd\n",
    "from sklearn import linear_model\n",
    "import numpy as np\n",
    "import matplotlib.pyplot as plt\n",
    "import statsmodels.api as sm\n",
    "import warnings\n",
    "warnings.filterwarnings(\"ignore\") # Shhhh\n",
    "from sklearn.linear_model import LinearRegression, Ridge, Lasso\n",
    "from sklearn.model_selection import train_test_split, cross_val_score, GridSearchCV\n",
    "from sklearn.metrics import mean_squared_error\n",
    "import seaborn as sns\n",
    "from sklearn.metrics import r2_score, mean_squared_error\n",
    "from sklearn.preprocessing import StandardScaler, PolynomialFeatures\n",
    "from math import sqrt\n",
    "from sklearn.linear_model import LinearRegression\n",
    "from sklearn.neighbors import KNeighborsRegressor\n",
    "from sklearn.tree import DecisionTreeRegressor\n",
    "from sklearn.preprocessing import StandardScaler\n",
    "from sklearn.ensemble import BaggingRegressor, RandomForestRegressor, AdaBoostRegressor\n",
    "from sklearn.metrics import mean_squared_error, f1_score\n",
    "from sklearn import svm\n",
    "from sklearn.linear_model import RidgeCV\n",
    "from sklearn.linear_model import LassoCV\n",
    "from sklearn.pipeline import Pipeline\n",
    "from sklearn.dummy import DummyRegressor\n",
    "from sklearn.preprocessing import MinMaxScaler\n",
    "%matplotlib inline"
   ]
  },
  {
   "cell_type": "markdown",
   "metadata": {},
   "source": [
    "#### SEC given Data          \n",
    "          \n",
    "          SUB – Submission data set; this includes one record for each XBRL submission. The set includes fields of information pertinent to the submission and the filing entity. Information is extracted from the SEC’s EDGAR system and the filings submitted to the SEC by registrants.\n",
    "\n",
    "    ·     NUM – Number data set; this includes one row for each distinct amount from each submission included in the SUB data set. The Number data set includes, for every submission, for each primary financial statement as it is rendered by the SEC Viewer/Previewer, all line item values.\n",
    "\n",
    "    ·     TAG – Tag data set; includes defining information about each tag.  Information includes tag descriptions (documentation labels), taxonomy version information and other tag attributes.\n",
    "\n",
    "    ·     PRE – Presentation data set; this provides information about how the tags and numbers were presented in the primary financial statements."
   ]
  },
  {
   "cell_type": "code",
   "execution_count": 98,
   "metadata": {},
   "outputs": [],
   "source": [
    "##read csv function\n",
    "\n",
    "num1 =  pd.read_csv('./data/2016q1/num.txt', sep = '\\t', encoding=\"latin-1\")\n",
    "tag1 =  pd.read_csv('./data/2016q1/tag.txt', sep = '\\t', encoding=\"latin-1\")\n",
    "pre1 =  pd.read_csv('./data/2016q1/pre.txt', sep = '\\t', encoding=\"latin-1\")\n",
    "sub1 =  pd.read_csv('./data/2016q1/sub.txt', sep = '\\t', encoding=\"latin-1\")"
   ]
  },
  {
   "cell_type": "markdown",
   "metadata": {},
   "source": [
    "## Data Cleaning"
   ]
  },
  {
   "cell_type": "markdown",
   "metadata": {},
   "source": [
    "#### Understanding our data. Part of Audit Planning\n",
    "\n",
    "\n",
    "1.SUB is identifies all the EDGAR submissions in the data set, with each row having the unique (primary) key adsh,  a 20 character EDGAR Accession Number with dashes in positions 11 and 14.\n",
    "\n",
    "2.TAG is a data set of all tags used in the submissions, both standard and custom.  A unique key of each row is a combination of these fields:\n",
    "\n",
    "     1)    tag – tag used by the filer\n",
    "\n",
    "     2)    version – if a standard tag, the taxonomy of origin, otherwise equal to adsh.\n",
    "\n",
    "\n",
    "3.NUM is a data set of all numeric XBRL facts presented on the primary financial statements. A unique key of each row is a combination of the following fields:\n",
    "\n",
    "     1)    adsh- EDGAR accession number\n",
    "\n",
    "     2)    tag – tag used by the filer\n",
    "    \n",
    "     3)    version – if a standard tag, the taxonomy of origin, otherwise equal to adsh.\n",
    "\n",
    "     4)    ddate - period end date\n",
    "\n",
    "     5)    qtrs - duration in number of quarters\n",
    "\n",
    "     6)    uom - unit of measure\n",
    "    \n",
    "     7)    coreg - coregistrant of the parent company registrant (if applicable)\n",
    "\n",
    "\n",
    "4.PRE is a data set that provides the text assigned by the filer to each line item in the primary financial statements, the order in which the line item appeared, and the tag assigned to it.  A unique key of each row is a combination of the following fields:\n",
    "\n",
    "      1)    adsh – EDGAR accession number\n",
    "\n",
    "      2)    report – sequential number of report within the statements\n",
    "\n",
    "      3)    line – sequential number of line within a report.\n",
    "      \n",
    "We will merge based on the unique identifiers listed above"
   ]
  },
  {
   "cell_type": "code",
   "execution_count": 99,
   "metadata": {},
   "outputs": [],
   "source": [
    "##merge dataframes with pandas\n",
    "firstmerge1 = pd.merge(pre1, sub1, how = \"left\", on=['adsh'])   #left merge\n",
    "secondmerge1 = pd.merge(firstmerge1, tag1, how= \"left\", on =['tag', 'version'])\n",
    "thirdmerge1 = pd.merge(secondmerge1, num1, how = \"left\", on =['adsh', 'tag', 'version'])\n",
    "sec_table2015 = thirdmerge1[['cik','adsh' , 'afs' , 'qtrs' , 'fy' , 'fp', 'tag', 'version', 'value' , 'ddate']].sort_values(['cik'])"
   ]
  },
  {
   "cell_type": "markdown",
   "metadata": {},
   "source": [
    "Create a function that can extract all the tags that are unique and want for our analysis. In this case we want net income, net cash, sales revenue, assets, accounts rec, and property plant eq. These financial tags will help us set up our equation to fit the model"
   ]
  },
  {
   "cell_type": "code",
   "execution_count": 100,
   "metadata": {},
   "outputs": [],
   "source": [
    "def get_tags(df,tag1,tag2,tag3,tag4,tag5,tag6):\n",
    "    '''\n",
    "    This function can takes in a data frame and filters out by tags. \n",
    "    This function can be modified to fit any amount of tags. For the purposes of this project we have 6 defined tags\n",
    "    for simplicity purposes\n",
    "\n",
    "    '''\n",
    "    Regression_2015 = df[(df.tag == tag1)\n",
    "                        | (df.tag == tag2)\n",
    "                        | (df.tag == tag3)\n",
    "                        | (df.tag == tag4)\n",
    "                        | (df.tag == tag5)\n",
    "                        | (df.tag == tag6)]\n",
    "    return Regression_2015"
   ]
  },
  {
   "cell_type": "code",
   "execution_count": 101,
   "metadata": {},
   "outputs": [],
   "source": [
    "##calls function get tags\n",
    "Regression_2015 = get_tags(sec_table2015,'NetIncomeLoss','NetCashProvidedByUsedInOperatingActivities','SalesRevenueNet','Assets',\n",
    "'AccountsReceivableNetCurrent','PropertyPlantAndEquipmentNet')"
   ]
  },
  {
   "cell_type": "markdown",
   "metadata": {},
   "source": [
    "Create a pivot table based on the amount of quarters to see where the values are listed"
   ]
  },
  {
   "cell_type": "code",
   "execution_count": 102,
   "metadata": {},
   "outputs": [
    {
     "data": {
      "text/html": [
       "<div>\n",
       "<style scoped>\n",
       "    .dataframe tbody tr th:only-of-type {\n",
       "        vertical-align: middle;\n",
       "    }\n",
       "\n",
       "    .dataframe tbody tr th {\n",
       "        vertical-align: top;\n",
       "    }\n",
       "\n",
       "    .dataframe thead th {\n",
       "        text-align: right;\n",
       "    }\n",
       "</style>\n",
       "<table border=\"1\" class=\"dataframe\">\n",
       "  <thead>\n",
       "    <tr style=\"text-align: right;\">\n",
       "      <th></th>\n",
       "      <th></th>\n",
       "      <th></th>\n",
       "      <th>qtrs</th>\n",
       "      <th>0.000</th>\n",
       "      <th>1.000</th>\n",
       "      <th>2.000</th>\n",
       "      <th>3.000</th>\n",
       "      <th>4.000</th>\n",
       "      <th>5.000</th>\n",
       "      <th>6.000</th>\n",
       "      <th>8.000</th>\n",
       "      <th>9.000</th>\n",
       "      <th>10.000</th>\n",
       "      <th>...</th>\n",
       "      <th>46.000</th>\n",
       "      <th>47.000</th>\n",
       "      <th>48.000</th>\n",
       "      <th>53.000</th>\n",
       "      <th>60.000</th>\n",
       "      <th>69.000</th>\n",
       "      <th>70.000</th>\n",
       "      <th>112.000</th>\n",
       "      <th>146.000</th>\n",
       "      <th>154.000</th>\n",
       "    </tr>\n",
       "    <tr>\n",
       "      <th>tag</th>\n",
       "      <th>adsh</th>\n",
       "      <th>cik</th>\n",
       "      <th>ddate</th>\n",
       "      <th></th>\n",
       "      <th></th>\n",
       "      <th></th>\n",
       "      <th></th>\n",
       "      <th></th>\n",
       "      <th></th>\n",
       "      <th></th>\n",
       "      <th></th>\n",
       "      <th></th>\n",
       "      <th></th>\n",
       "      <th></th>\n",
       "      <th></th>\n",
       "      <th></th>\n",
       "      <th></th>\n",
       "      <th></th>\n",
       "      <th></th>\n",
       "      <th></th>\n",
       "      <th></th>\n",
       "      <th></th>\n",
       "      <th></th>\n",
       "      <th></th>\n",
       "    </tr>\n",
       "  </thead>\n",
       "  <tbody>\n",
       "    <tr>\n",
       "      <th rowspan=\"5\" valign=\"top\">AccountsReceivableNetCurrent</th>\n",
       "      <th rowspan=\"2\" valign=\"top\">0000002178-16-000064</th>\n",
       "      <th rowspan=\"2\" valign=\"top\">2178</th>\n",
       "      <th>20141231.000</th>\n",
       "      <td>144434000.000</td>\n",
       "      <td>nan</td>\n",
       "      <td>nan</td>\n",
       "      <td>nan</td>\n",
       "      <td>nan</td>\n",
       "      <td>nan</td>\n",
       "      <td>nan</td>\n",
       "      <td>nan</td>\n",
       "      <td>nan</td>\n",
       "      <td>nan</td>\n",
       "      <td>...</td>\n",
       "      <td>nan</td>\n",
       "      <td>nan</td>\n",
       "      <td>nan</td>\n",
       "      <td>nan</td>\n",
       "      <td>nan</td>\n",
       "      <td>nan</td>\n",
       "      <td>nan</td>\n",
       "      <td>nan</td>\n",
       "      <td>nan</td>\n",
       "      <td>nan</td>\n",
       "    </tr>\n",
       "    <tr>\n",
       "      <th>20151231.000</th>\n",
       "      <td>71813000.000</td>\n",
       "      <td>nan</td>\n",
       "      <td>nan</td>\n",
       "      <td>nan</td>\n",
       "      <td>nan</td>\n",
       "      <td>nan</td>\n",
       "      <td>nan</td>\n",
       "      <td>nan</td>\n",
       "      <td>nan</td>\n",
       "      <td>nan</td>\n",
       "      <td>...</td>\n",
       "      <td>nan</td>\n",
       "      <td>nan</td>\n",
       "      <td>nan</td>\n",
       "      <td>nan</td>\n",
       "      <td>nan</td>\n",
       "      <td>nan</td>\n",
       "      <td>nan</td>\n",
       "      <td>nan</td>\n",
       "      <td>nan</td>\n",
       "      <td>nan</td>\n",
       "    </tr>\n",
       "    <tr>\n",
       "      <th rowspan=\"2\" valign=\"top\">0000002488-16-000111</th>\n",
       "      <th rowspan=\"2\" valign=\"top\">2488</th>\n",
       "      <th>20141231.000</th>\n",
       "      <td>818000000.000</td>\n",
       "      <td>nan</td>\n",
       "      <td>nan</td>\n",
       "      <td>nan</td>\n",
       "      <td>nan</td>\n",
       "      <td>nan</td>\n",
       "      <td>nan</td>\n",
       "      <td>nan</td>\n",
       "      <td>nan</td>\n",
       "      <td>nan</td>\n",
       "      <td>...</td>\n",
       "      <td>nan</td>\n",
       "      <td>nan</td>\n",
       "      <td>nan</td>\n",
       "      <td>nan</td>\n",
       "      <td>nan</td>\n",
       "      <td>nan</td>\n",
       "      <td>nan</td>\n",
       "      <td>nan</td>\n",
       "      <td>nan</td>\n",
       "      <td>nan</td>\n",
       "    </tr>\n",
       "    <tr>\n",
       "      <th>20151231.000</th>\n",
       "      <td>533000000.000</td>\n",
       "      <td>nan</td>\n",
       "      <td>nan</td>\n",
       "      <td>nan</td>\n",
       "      <td>nan</td>\n",
       "      <td>nan</td>\n",
       "      <td>nan</td>\n",
       "      <td>nan</td>\n",
       "      <td>nan</td>\n",
       "      <td>nan</td>\n",
       "      <td>...</td>\n",
       "      <td>nan</td>\n",
       "      <td>nan</td>\n",
       "      <td>nan</td>\n",
       "      <td>nan</td>\n",
       "      <td>nan</td>\n",
       "      <td>nan</td>\n",
       "      <td>nan</td>\n",
       "      <td>nan</td>\n",
       "      <td>nan</td>\n",
       "      <td>nan</td>\n",
       "    </tr>\n",
       "    <tr>\n",
       "      <th>0000003545-16-000130</th>\n",
       "      <th>3545</th>\n",
       "      <th>20150930.000</th>\n",
       "      <td>3137000.000</td>\n",
       "      <td>nan</td>\n",
       "      <td>nan</td>\n",
       "      <td>nan</td>\n",
       "      <td>nan</td>\n",
       "      <td>nan</td>\n",
       "      <td>nan</td>\n",
       "      <td>nan</td>\n",
       "      <td>nan</td>\n",
       "      <td>nan</td>\n",
       "      <td>...</td>\n",
       "      <td>nan</td>\n",
       "      <td>nan</td>\n",
       "      <td>nan</td>\n",
       "      <td>nan</td>\n",
       "      <td>nan</td>\n",
       "      <td>nan</td>\n",
       "      <td>nan</td>\n",
       "      <td>nan</td>\n",
       "      <td>nan</td>\n",
       "      <td>nan</td>\n",
       "    </tr>\n",
       "    <tr>\n",
       "      <th>...</th>\n",
       "      <th>...</th>\n",
       "      <th>...</th>\n",
       "      <th>...</th>\n",
       "      <td>...</td>\n",
       "      <td>...</td>\n",
       "      <td>...</td>\n",
       "      <td>...</td>\n",
       "      <td>...</td>\n",
       "      <td>...</td>\n",
       "      <td>...</td>\n",
       "      <td>...</td>\n",
       "      <td>...</td>\n",
       "      <td>...</td>\n",
       "      <td>...</td>\n",
       "      <td>...</td>\n",
       "      <td>...</td>\n",
       "      <td>...</td>\n",
       "      <td>...</td>\n",
       "      <td>...</td>\n",
       "      <td>...</td>\n",
       "      <td>...</td>\n",
       "      <td>...</td>\n",
       "      <td>...</td>\n",
       "      <td>...</td>\n",
       "    </tr>\n",
       "    <tr>\n",
       "      <th rowspan=\"5\" valign=\"top\">SalesRevenueNet</th>\n",
       "      <th>0001391609-16-000415</th>\n",
       "      <th>1223533</th>\n",
       "      <th>20151231.000</th>\n",
       "      <td>nan</td>\n",
       "      <td>nan</td>\n",
       "      <td>nan</td>\n",
       "      <td>nan</td>\n",
       "      <td>0.000</td>\n",
       "      <td>nan</td>\n",
       "      <td>nan</td>\n",
       "      <td>nan</td>\n",
       "      <td>nan</td>\n",
       "      <td>nan</td>\n",
       "      <td>...</td>\n",
       "      <td>nan</td>\n",
       "      <td>nan</td>\n",
       "      <td>nan</td>\n",
       "      <td>nan</td>\n",
       "      <td>nan</td>\n",
       "      <td>nan</td>\n",
       "      <td>nan</td>\n",
       "      <td>nan</td>\n",
       "      <td>nan</td>\n",
       "      <td>nan</td>\n",
       "    </tr>\n",
       "    <tr>\n",
       "      <th rowspan=\"4\" valign=\"top\">0001437749-16-028714</th>\n",
       "      <th rowspan=\"4\" valign=\"top\">1322439</th>\n",
       "      <th>20150331.000</th>\n",
       "      <td>nan</td>\n",
       "      <td>26331166.000</td>\n",
       "      <td>nan</td>\n",
       "      <td>nan</td>\n",
       "      <td>nan</td>\n",
       "      <td>nan</td>\n",
       "      <td>nan</td>\n",
       "      <td>nan</td>\n",
       "      <td>nan</td>\n",
       "      <td>nan</td>\n",
       "      <td>...</td>\n",
       "      <td>nan</td>\n",
       "      <td>nan</td>\n",
       "      <td>nan</td>\n",
       "      <td>nan</td>\n",
       "      <td>nan</td>\n",
       "      <td>nan</td>\n",
       "      <td>nan</td>\n",
       "      <td>nan</td>\n",
       "      <td>nan</td>\n",
       "      <td>nan</td>\n",
       "    </tr>\n",
       "    <tr>\n",
       "      <th>20150630.000</th>\n",
       "      <td>nan</td>\n",
       "      <td>22657372.000</td>\n",
       "      <td>nan</td>\n",
       "      <td>nan</td>\n",
       "      <td>nan</td>\n",
       "      <td>nan</td>\n",
       "      <td>nan</td>\n",
       "      <td>nan</td>\n",
       "      <td>nan</td>\n",
       "      <td>nan</td>\n",
       "      <td>...</td>\n",
       "      <td>nan</td>\n",
       "      <td>nan</td>\n",
       "      <td>nan</td>\n",
       "      <td>nan</td>\n",
       "      <td>nan</td>\n",
       "      <td>nan</td>\n",
       "      <td>nan</td>\n",
       "      <td>nan</td>\n",
       "      <td>nan</td>\n",
       "      <td>nan</td>\n",
       "    </tr>\n",
       "    <tr>\n",
       "      <th>20150930.000</th>\n",
       "      <td>nan</td>\n",
       "      <td>29127482.000</td>\n",
       "      <td>nan</td>\n",
       "      <td>nan</td>\n",
       "      <td>nan</td>\n",
       "      <td>nan</td>\n",
       "      <td>nan</td>\n",
       "      <td>nan</td>\n",
       "      <td>nan</td>\n",
       "      <td>nan</td>\n",
       "      <td>...</td>\n",
       "      <td>nan</td>\n",
       "      <td>nan</td>\n",
       "      <td>nan</td>\n",
       "      <td>nan</td>\n",
       "      <td>nan</td>\n",
       "      <td>nan</td>\n",
       "      <td>nan</td>\n",
       "      <td>nan</td>\n",
       "      <td>nan</td>\n",
       "      <td>nan</td>\n",
       "    </tr>\n",
       "    <tr>\n",
       "      <th>20151231.000</th>\n",
       "      <td>nan</td>\n",
       "      <td>25740856.000</td>\n",
       "      <td>nan</td>\n",
       "      <td>nan</td>\n",
       "      <td>nan</td>\n",
       "      <td>nan</td>\n",
       "      <td>nan</td>\n",
       "      <td>nan</td>\n",
       "      <td>nan</td>\n",
       "      <td>nan</td>\n",
       "      <td>...</td>\n",
       "      <td>nan</td>\n",
       "      <td>nan</td>\n",
       "      <td>nan</td>\n",
       "      <td>nan</td>\n",
       "      <td>nan</td>\n",
       "      <td>nan</td>\n",
       "      <td>nan</td>\n",
       "      <td>nan</td>\n",
       "      <td>nan</td>\n",
       "      <td>nan</td>\n",
       "    </tr>\n",
       "  </tbody>\n",
       "</table>\n",
       "<p>77491 rows × 42 columns</p>\n",
       "</div>"
      ],
      "text/plain": [
       "qtrs                                                                         0.000    \\\n",
       "tag                          adsh                 cik     ddate                        \n",
       "AccountsReceivableNetCurrent 0000002178-16-000064 2178    20141231.000 144434000.000   \n",
       "                                                          20151231.000  71813000.000   \n",
       "                             0000002488-16-000111 2488    20141231.000 818000000.000   \n",
       "                                                          20151231.000 533000000.000   \n",
       "                             0000003545-16-000130 3545    20150930.000   3137000.000   \n",
       "...                                                                              ...   \n",
       "SalesRevenueNet              0001391609-16-000415 1223533 20151231.000           nan   \n",
       "                             0001437749-16-028714 1322439 20150331.000           nan   \n",
       "                                                          20150630.000           nan   \n",
       "                                                          20150930.000           nan   \n",
       "                                                          20151231.000           nan   \n",
       "\n",
       "qtrs                                                                        1.000    \\\n",
       "tag                          adsh                 cik     ddate                       \n",
       "AccountsReceivableNetCurrent 0000002178-16-000064 2178    20141231.000          nan   \n",
       "                                                          20151231.000          nan   \n",
       "                             0000002488-16-000111 2488    20141231.000          nan   \n",
       "                                                          20151231.000          nan   \n",
       "                             0000003545-16-000130 3545    20150930.000          nan   \n",
       "...                                                                             ...   \n",
       "SalesRevenueNet              0001391609-16-000415 1223533 20151231.000          nan   \n",
       "                             0001437749-16-028714 1322439 20150331.000 26331166.000   \n",
       "                                                          20150630.000 22657372.000   \n",
       "                                                          20150930.000 29127482.000   \n",
       "                                                          20151231.000 25740856.000   \n",
       "\n",
       "qtrs                                                                    2.000    \\\n",
       "tag                          adsh                 cik     ddate                   \n",
       "AccountsReceivableNetCurrent 0000002178-16-000064 2178    20141231.000      nan   \n",
       "                                                          20151231.000      nan   \n",
       "                             0000002488-16-000111 2488    20141231.000      nan   \n",
       "                                                          20151231.000      nan   \n",
       "                             0000003545-16-000130 3545    20150930.000      nan   \n",
       "...                                                                         ...   \n",
       "SalesRevenueNet              0001391609-16-000415 1223533 20151231.000      nan   \n",
       "                             0001437749-16-028714 1322439 20150331.000      nan   \n",
       "                                                          20150630.000      nan   \n",
       "                                                          20150930.000      nan   \n",
       "                                                          20151231.000      nan   \n",
       "\n",
       "qtrs                                                                    3.000    \\\n",
       "tag                          adsh                 cik     ddate                   \n",
       "AccountsReceivableNetCurrent 0000002178-16-000064 2178    20141231.000      nan   \n",
       "                                                          20151231.000      nan   \n",
       "                             0000002488-16-000111 2488    20141231.000      nan   \n",
       "                                                          20151231.000      nan   \n",
       "                             0000003545-16-000130 3545    20150930.000      nan   \n",
       "...                                                                         ...   \n",
       "SalesRevenueNet              0001391609-16-000415 1223533 20151231.000      nan   \n",
       "                             0001437749-16-028714 1322439 20150331.000      nan   \n",
       "                                                          20150630.000      nan   \n",
       "                                                          20150930.000      nan   \n",
       "                                                          20151231.000      nan   \n",
       "\n",
       "qtrs                                                                    4.000    \\\n",
       "tag                          adsh                 cik     ddate                   \n",
       "AccountsReceivableNetCurrent 0000002178-16-000064 2178    20141231.000      nan   \n",
       "                                                          20151231.000      nan   \n",
       "                             0000002488-16-000111 2488    20141231.000      nan   \n",
       "                                                          20151231.000      nan   \n",
       "                             0000003545-16-000130 3545    20150930.000      nan   \n",
       "...                                                                         ...   \n",
       "SalesRevenueNet              0001391609-16-000415 1223533 20151231.000    0.000   \n",
       "                             0001437749-16-028714 1322439 20150331.000      nan   \n",
       "                                                          20150630.000      nan   \n",
       "                                                          20150930.000      nan   \n",
       "                                                          20151231.000      nan   \n",
       "\n",
       "qtrs                                                                    5.000    \\\n",
       "tag                          adsh                 cik     ddate                   \n",
       "AccountsReceivableNetCurrent 0000002178-16-000064 2178    20141231.000      nan   \n",
       "                                                          20151231.000      nan   \n",
       "                             0000002488-16-000111 2488    20141231.000      nan   \n",
       "                                                          20151231.000      nan   \n",
       "                             0000003545-16-000130 3545    20150930.000      nan   \n",
       "...                                                                         ...   \n",
       "SalesRevenueNet              0001391609-16-000415 1223533 20151231.000      nan   \n",
       "                             0001437749-16-028714 1322439 20150331.000      nan   \n",
       "                                                          20150630.000      nan   \n",
       "                                                          20150930.000      nan   \n",
       "                                                          20151231.000      nan   \n",
       "\n",
       "qtrs                                                                    6.000    \\\n",
       "tag                          adsh                 cik     ddate                   \n",
       "AccountsReceivableNetCurrent 0000002178-16-000064 2178    20141231.000      nan   \n",
       "                                                          20151231.000      nan   \n",
       "                             0000002488-16-000111 2488    20141231.000      nan   \n",
       "                                                          20151231.000      nan   \n",
       "                             0000003545-16-000130 3545    20150930.000      nan   \n",
       "...                                                                         ...   \n",
       "SalesRevenueNet              0001391609-16-000415 1223533 20151231.000      nan   \n",
       "                             0001437749-16-028714 1322439 20150331.000      nan   \n",
       "                                                          20150630.000      nan   \n",
       "                                                          20150930.000      nan   \n",
       "                                                          20151231.000      nan   \n",
       "\n",
       "qtrs                                                                    8.000    \\\n",
       "tag                          adsh                 cik     ddate                   \n",
       "AccountsReceivableNetCurrent 0000002178-16-000064 2178    20141231.000      nan   \n",
       "                                                          20151231.000      nan   \n",
       "                             0000002488-16-000111 2488    20141231.000      nan   \n",
       "                                                          20151231.000      nan   \n",
       "                             0000003545-16-000130 3545    20150930.000      nan   \n",
       "...                                                                         ...   \n",
       "SalesRevenueNet              0001391609-16-000415 1223533 20151231.000      nan   \n",
       "                             0001437749-16-028714 1322439 20150331.000      nan   \n",
       "                                                          20150630.000      nan   \n",
       "                                                          20150930.000      nan   \n",
       "                                                          20151231.000      nan   \n",
       "\n",
       "qtrs                                                                    9.000    \\\n",
       "tag                          adsh                 cik     ddate                   \n",
       "AccountsReceivableNetCurrent 0000002178-16-000064 2178    20141231.000      nan   \n",
       "                                                          20151231.000      nan   \n",
       "                             0000002488-16-000111 2488    20141231.000      nan   \n",
       "                                                          20151231.000      nan   \n",
       "                             0000003545-16-000130 3545    20150930.000      nan   \n",
       "...                                                                         ...   \n",
       "SalesRevenueNet              0001391609-16-000415 1223533 20151231.000      nan   \n",
       "                             0001437749-16-028714 1322439 20150331.000      nan   \n",
       "                                                          20150630.000      nan   \n",
       "                                                          20150930.000      nan   \n",
       "                                                          20151231.000      nan   \n",
       "\n",
       "qtrs                                                                    10.000   \\\n",
       "tag                          adsh                 cik     ddate                   \n",
       "AccountsReceivableNetCurrent 0000002178-16-000064 2178    20141231.000      nan   \n",
       "                                                          20151231.000      nan   \n",
       "                             0000002488-16-000111 2488    20141231.000      nan   \n",
       "                                                          20151231.000      nan   \n",
       "                             0000003545-16-000130 3545    20150930.000      nan   \n",
       "...                                                                         ...   \n",
       "SalesRevenueNet              0001391609-16-000415 1223533 20151231.000      nan   \n",
       "                             0001437749-16-028714 1322439 20150331.000      nan   \n",
       "                                                          20150630.000      nan   \n",
       "                                                          20150930.000      nan   \n",
       "                                                          20151231.000      nan   \n",
       "\n",
       "qtrs                                                                    ...  \\\n",
       "tag                          adsh                 cik     ddate         ...   \n",
       "AccountsReceivableNetCurrent 0000002178-16-000064 2178    20141231.000  ...   \n",
       "                                                          20151231.000  ...   \n",
       "                             0000002488-16-000111 2488    20141231.000  ...   \n",
       "                                                          20151231.000  ...   \n",
       "                             0000003545-16-000130 3545    20150930.000  ...   \n",
       "...                                                                     ...   \n",
       "SalesRevenueNet              0001391609-16-000415 1223533 20151231.000  ...   \n",
       "                             0001437749-16-028714 1322439 20150331.000  ...   \n",
       "                                                          20150630.000  ...   \n",
       "                                                          20150930.000  ...   \n",
       "                                                          20151231.000  ...   \n",
       "\n",
       "qtrs                                                                    46.000   \\\n",
       "tag                          adsh                 cik     ddate                   \n",
       "AccountsReceivableNetCurrent 0000002178-16-000064 2178    20141231.000      nan   \n",
       "                                                          20151231.000      nan   \n",
       "                             0000002488-16-000111 2488    20141231.000      nan   \n",
       "                                                          20151231.000      nan   \n",
       "                             0000003545-16-000130 3545    20150930.000      nan   \n",
       "...                                                                         ...   \n",
       "SalesRevenueNet              0001391609-16-000415 1223533 20151231.000      nan   \n",
       "                             0001437749-16-028714 1322439 20150331.000      nan   \n",
       "                                                          20150630.000      nan   \n",
       "                                                          20150930.000      nan   \n",
       "                                                          20151231.000      nan   \n",
       "\n",
       "qtrs                                                                    47.000   \\\n",
       "tag                          adsh                 cik     ddate                   \n",
       "AccountsReceivableNetCurrent 0000002178-16-000064 2178    20141231.000      nan   \n",
       "                                                          20151231.000      nan   \n",
       "                             0000002488-16-000111 2488    20141231.000      nan   \n",
       "                                                          20151231.000      nan   \n",
       "                             0000003545-16-000130 3545    20150930.000      nan   \n",
       "...                                                                         ...   \n",
       "SalesRevenueNet              0001391609-16-000415 1223533 20151231.000      nan   \n",
       "                             0001437749-16-028714 1322439 20150331.000      nan   \n",
       "                                                          20150630.000      nan   \n",
       "                                                          20150930.000      nan   \n",
       "                                                          20151231.000      nan   \n",
       "\n",
       "qtrs                                                                    48.000   \\\n",
       "tag                          adsh                 cik     ddate                   \n",
       "AccountsReceivableNetCurrent 0000002178-16-000064 2178    20141231.000      nan   \n",
       "                                                          20151231.000      nan   \n",
       "                             0000002488-16-000111 2488    20141231.000      nan   \n",
       "                                                          20151231.000      nan   \n",
       "                             0000003545-16-000130 3545    20150930.000      nan   \n",
       "...                                                                         ...   \n",
       "SalesRevenueNet              0001391609-16-000415 1223533 20151231.000      nan   \n",
       "                             0001437749-16-028714 1322439 20150331.000      nan   \n",
       "                                                          20150630.000      nan   \n",
       "                                                          20150930.000      nan   \n",
       "                                                          20151231.000      nan   \n",
       "\n",
       "qtrs                                                                    53.000   \\\n",
       "tag                          adsh                 cik     ddate                   \n",
       "AccountsReceivableNetCurrent 0000002178-16-000064 2178    20141231.000      nan   \n",
       "                                                          20151231.000      nan   \n",
       "                             0000002488-16-000111 2488    20141231.000      nan   \n",
       "                                                          20151231.000      nan   \n",
       "                             0000003545-16-000130 3545    20150930.000      nan   \n",
       "...                                                                         ...   \n",
       "SalesRevenueNet              0001391609-16-000415 1223533 20151231.000      nan   \n",
       "                             0001437749-16-028714 1322439 20150331.000      nan   \n",
       "                                                          20150630.000      nan   \n",
       "                                                          20150930.000      nan   \n",
       "                                                          20151231.000      nan   \n",
       "\n",
       "qtrs                                                                    60.000   \\\n",
       "tag                          adsh                 cik     ddate                   \n",
       "AccountsReceivableNetCurrent 0000002178-16-000064 2178    20141231.000      nan   \n",
       "                                                          20151231.000      nan   \n",
       "                             0000002488-16-000111 2488    20141231.000      nan   \n",
       "                                                          20151231.000      nan   \n",
       "                             0000003545-16-000130 3545    20150930.000      nan   \n",
       "...                                                                         ...   \n",
       "SalesRevenueNet              0001391609-16-000415 1223533 20151231.000      nan   \n",
       "                             0001437749-16-028714 1322439 20150331.000      nan   \n",
       "                                                          20150630.000      nan   \n",
       "                                                          20150930.000      nan   \n",
       "                                                          20151231.000      nan   \n",
       "\n",
       "qtrs                                                                    69.000   \\\n",
       "tag                          adsh                 cik     ddate                   \n",
       "AccountsReceivableNetCurrent 0000002178-16-000064 2178    20141231.000      nan   \n",
       "                                                          20151231.000      nan   \n",
       "                             0000002488-16-000111 2488    20141231.000      nan   \n",
       "                                                          20151231.000      nan   \n",
       "                             0000003545-16-000130 3545    20150930.000      nan   \n",
       "...                                                                         ...   \n",
       "SalesRevenueNet              0001391609-16-000415 1223533 20151231.000      nan   \n",
       "                             0001437749-16-028714 1322439 20150331.000      nan   \n",
       "                                                          20150630.000      nan   \n",
       "                                                          20150930.000      nan   \n",
       "                                                          20151231.000      nan   \n",
       "\n",
       "qtrs                                                                    70.000   \\\n",
       "tag                          adsh                 cik     ddate                   \n",
       "AccountsReceivableNetCurrent 0000002178-16-000064 2178    20141231.000      nan   \n",
       "                                                          20151231.000      nan   \n",
       "                             0000002488-16-000111 2488    20141231.000      nan   \n",
       "                                                          20151231.000      nan   \n",
       "                             0000003545-16-000130 3545    20150930.000      nan   \n",
       "...                                                                         ...   \n",
       "SalesRevenueNet              0001391609-16-000415 1223533 20151231.000      nan   \n",
       "                             0001437749-16-028714 1322439 20150331.000      nan   \n",
       "                                                          20150630.000      nan   \n",
       "                                                          20150930.000      nan   \n",
       "                                                          20151231.000      nan   \n",
       "\n",
       "qtrs                                                                    112.000  \\\n",
       "tag                          adsh                 cik     ddate                   \n",
       "AccountsReceivableNetCurrent 0000002178-16-000064 2178    20141231.000      nan   \n",
       "                                                          20151231.000      nan   \n",
       "                             0000002488-16-000111 2488    20141231.000      nan   \n",
       "                                                          20151231.000      nan   \n",
       "                             0000003545-16-000130 3545    20150930.000      nan   \n",
       "...                                                                         ...   \n",
       "SalesRevenueNet              0001391609-16-000415 1223533 20151231.000      nan   \n",
       "                             0001437749-16-028714 1322439 20150331.000      nan   \n",
       "                                                          20150630.000      nan   \n",
       "                                                          20150930.000      nan   \n",
       "                                                          20151231.000      nan   \n",
       "\n",
       "qtrs                                                                    146.000  \\\n",
       "tag                          adsh                 cik     ddate                   \n",
       "AccountsReceivableNetCurrent 0000002178-16-000064 2178    20141231.000      nan   \n",
       "                                                          20151231.000      nan   \n",
       "                             0000002488-16-000111 2488    20141231.000      nan   \n",
       "                                                          20151231.000      nan   \n",
       "                             0000003545-16-000130 3545    20150930.000      nan   \n",
       "...                                                                         ...   \n",
       "SalesRevenueNet              0001391609-16-000415 1223533 20151231.000      nan   \n",
       "                             0001437749-16-028714 1322439 20150331.000      nan   \n",
       "                                                          20150630.000      nan   \n",
       "                                                          20150930.000      nan   \n",
       "                                                          20151231.000      nan   \n",
       "\n",
       "qtrs                                                                    154.000  \n",
       "tag                          adsh                 cik     ddate                  \n",
       "AccountsReceivableNetCurrent 0000002178-16-000064 2178    20141231.000      nan  \n",
       "                                                          20151231.000      nan  \n",
       "                             0000002488-16-000111 2488    20141231.000      nan  \n",
       "                                                          20151231.000      nan  \n",
       "                             0000003545-16-000130 3545    20150930.000      nan  \n",
       "...                                                                         ...  \n",
       "SalesRevenueNet              0001391609-16-000415 1223533 20151231.000      nan  \n",
       "                             0001437749-16-028714 1322439 20150331.000      nan  \n",
       "                                                          20150630.000      nan  \n",
       "                                                          20150930.000      nan  \n",
       "                                                          20151231.000      nan  \n",
       "\n",
       "[77491 rows x 42 columns]"
      ]
     },
     "execution_count": 102,
     "metadata": {},
     "output_type": "execute_result"
    }
   ],
   "source": [
    "##convert dataframe into pivot table\n",
    "Regression_2015.pivot_table(values='value', index=['tag', 'adsh','cik','ddate'], columns=['qtrs'])"
   ]
  },
  {
   "cell_type": "markdown",
   "metadata": {},
   "source": [
    "## Feature Engineering"
   ]
  },
  {
   "cell_type": "markdown",
   "metadata": {},
   "source": [
    "#### Jones Model Modified Equation\n",
    "\n",
    "$$\n",
    "\\begin{eqnarray}\n",
    "Y(Total Net Accruals) &=& \\beta_0 + \n",
    "\\beta_1(1) + \n",
    "\\beta_2((Change in Rev - Change in AR))+  \n",
    "\\beta_3(Property Plant Equipment) +\n",
    "\\beta_4(Assets) + \\beta_4(Revenue) +\n",
    "\\beta_5(NetCashProvidedByUsedInOperatingActivitiesPresent) +\\varepsilon\\\\\n",
    "\\end{eqnarray}\n",
    "$$"
   ]
  },
  {
   "cell_type": "markdown",
   "metadata": {},
   "source": [
    "Create a function to engineer tags in order to fit equation above. We can multiply through average total assets, but its is useful to engineer a lag variable for assets. Total Net Accruals will equal net income - net cash. Net Cash present will be used in the model as a modification. The original jones model is just the first two items up until property plant eq. I decided to modify it slightly and add assets and revenue as I believed this is a huge part of determining Accruals. To find the change of revenue and change in AR we have to use lag variables and the subtract the current from the prior. Once we accomplish that we can create the change in sales- change in accounts rec column for our equation. We dont need to engineer PP&E as the value on the quarterly statement is in the book value"
   ]
  },
  {
   "cell_type": "code",
   "execution_count": 103,
   "metadata": {},
   "outputs": [],
   "source": [
    "def engineer_tags(df, datepresent, dateprior):\n",
    "    '''\n",
    "    This function takes in the parameters dataframe object, data present and date prior variables from the data frame\n",
    "    This function is designed to extract specific dates and engineer features for the given model. This can be used\n",
    "    and will be used on the validation set\n",
    "\n",
    "    '''\n",
    "    data_set = df[(df.ddate == datepresent)\n",
    "                   | (df.ddate == dateprior)]\n",
    "    data_table = pd.pivot_table(data_set,\n",
    "                             values = 'value',\n",
    "                             index = ['cik','ddate'],\n",
    "                             columns = 'tag',\n",
    "                             dropna = True)\n",
    "    data_table['TotalNetAccruals'] =  data_table['NetIncomeLoss'] - data_table['NetCashProvidedByUsedInOperatingActivities']\n",
    "    Q_Regression = data_table.dropna(axis = 0)\n",
    "    Q_Regression['AssetsPrior']=Q_Regression.groupby('cik').Assets.shift()\n",
    "    Q_Regression['RevPrior'] = Q_Regression.groupby('cik').SalesRevenueNet.shift()\n",
    "    Q_Regression['ArPrior'] = Q_Regression.groupby('cik').AccountsReceivableNetCurrent.shift()\n",
    "    Q_Regression['RevChange'] = Q_Regression['SalesRevenueNet'] - Q_Regression['RevPrior']\n",
    "    Q_Regression['ARChange'] = Q_Regression['AccountsReceivableNetCurrent'] - Q_Regression['ArPrior']\n",
    "    Q_Regression['ROA'] = Q_Regression['NetIncomeLoss'] / Q_Regression['Assets']\n",
    "    Q_Regression['ChangeSalesRec'] = Q_Regression['RevChange'] - Q_Regression['ARChange']\n",
    "    Regression_Q = Q_Regression.dropna(axis = 0)\n",
    "    return Regression_Q"
   ]
  },
  {
   "cell_type": "markdown",
   "metadata": {},
   "source": [
    "Call function for all quarters that we want. In this case its Q4,Q3, and Q2. We need to filter out based on date. To note, the engineered function is used only on our modified jones model equation. To generalize a function for all financial statements we can use a tag parameter to be specific"
   ]
  },
  {
   "cell_type": "code",
   "execution_count": 104,
   "metadata": {},
   "outputs": [],
   "source": [
    "##calls engineer tags function\n",
    "Regression_Q42015 = engineer_tags(Regression_2015, 20151231,20141231)"
   ]
  },
  {
   "cell_type": "code",
   "execution_count": 105,
   "metadata": {},
   "outputs": [],
   "source": [
    "Regression_Q32015 = engineer_tags(Regression_2015, 20150930,20140930)"
   ]
  },
  {
   "cell_type": "code",
   "execution_count": 106,
   "metadata": {},
   "outputs": [],
   "source": [
    "Regression_Q22015 = engineer_tags(Regression_2015,20150630, 20140630)"
   ]
  },
  {
   "cell_type": "markdown",
   "metadata": {},
   "source": [
    "Concat all dataframes to make one data frame for the model. Make sure there are no nans and ensure that we have 410 full observations"
   ]
  },
  {
   "cell_type": "code",
   "execution_count": 107,
   "metadata": {},
   "outputs": [
    {
     "data": {
      "text/html": [
       "<div>\n",
       "<style scoped>\n",
       "    .dataframe tbody tr th:only-of-type {\n",
       "        vertical-align: middle;\n",
       "    }\n",
       "\n",
       "    .dataframe tbody tr th {\n",
       "        vertical-align: top;\n",
       "    }\n",
       "\n",
       "    .dataframe thead th {\n",
       "        text-align: right;\n",
       "    }\n",
       "</style>\n",
       "<table border=\"1\" class=\"dataframe\">\n",
       "  <thead>\n",
       "    <tr style=\"text-align: right;\">\n",
       "      <th></th>\n",
       "      <th>tag</th>\n",
       "      <th>AccountsReceivableNetCurrent</th>\n",
       "      <th>Assets</th>\n",
       "      <th>NetCashProvidedByUsedInOperatingActivities</th>\n",
       "      <th>NetIncomeLoss</th>\n",
       "      <th>PropertyPlantAndEquipmentNet</th>\n",
       "      <th>SalesRevenueNet</th>\n",
       "      <th>TotalNetAccruals</th>\n",
       "      <th>AssetsPrior</th>\n",
       "      <th>RevPrior</th>\n",
       "      <th>ArPrior</th>\n",
       "      <th>RevChange</th>\n",
       "      <th>ARChange</th>\n",
       "      <th>ROA</th>\n",
       "      <th>ChangeSalesRec</th>\n",
       "    </tr>\n",
       "    <tr>\n",
       "      <th>cik</th>\n",
       "      <th>ddate</th>\n",
       "      <th></th>\n",
       "      <th></th>\n",
       "      <th></th>\n",
       "      <th></th>\n",
       "      <th></th>\n",
       "      <th></th>\n",
       "      <th></th>\n",
       "      <th></th>\n",
       "      <th></th>\n",
       "      <th></th>\n",
       "      <th></th>\n",
       "      <th></th>\n",
       "      <th></th>\n",
       "      <th></th>\n",
       "    </tr>\n",
       "  </thead>\n",
       "  <tbody>\n",
       "    <tr>\n",
       "      <th>1800</th>\n",
       "      <th>20151231.000</th>\n",
       "      <td>3418000000.000</td>\n",
       "      <td>41247000000.000</td>\n",
       "      <td>2966000000.000</td>\n",
       "      <td>2595000000.000</td>\n",
       "      <td>5730000000.000</td>\n",
       "      <td>12796500000.000</td>\n",
       "      <td>-371000000.000</td>\n",
       "      <td>41207000000.000</td>\n",
       "      <td>12801500000.000</td>\n",
       "      <td>3586000000.000</td>\n",
       "      <td>-5000000.000</td>\n",
       "      <td>-168000000.000</td>\n",
       "      <td>0.063</td>\n",
       "      <td>163000000.000</td>\n",
       "    </tr>\n",
       "    <tr>\n",
       "      <th>2488</th>\n",
       "      <th>20151231.000</th>\n",
       "      <td>533000000.000</td>\n",
       "      <td>3109000000.000</td>\n",
       "      <td>-226000000.000</td>\n",
       "      <td>-381000000.000</td>\n",
       "      <td>188000000.000</td>\n",
       "      <td>3991000000.000</td>\n",
       "      <td>-155000000.000</td>\n",
       "      <td>3767000000.000</td>\n",
       "      <td>5506000000.000</td>\n",
       "      <td>818000000.000</td>\n",
       "      <td>-1515000000.000</td>\n",
       "      <td>-285000000.000</td>\n",
       "      <td>-0.123</td>\n",
       "      <td>-1230000000.000</td>\n",
       "    </tr>\n",
       "    <tr>\n",
       "      <th>7536</th>\n",
       "      <th>20151231.000</th>\n",
       "      <td>6161418000.000</td>\n",
       "      <td>13021930000.000</td>\n",
       "      <td>655079000.000</td>\n",
       "      <td>328109000.000</td>\n",
       "      <td>700178000.000</td>\n",
       "      <td>15016681000.000</td>\n",
       "      <td>-326970000.000</td>\n",
       "      <td>12435301000.000</td>\n",
       "      <td>14582776500.000</td>\n",
       "      <td>6043850000.000</td>\n",
       "      <td>433904500.000</td>\n",
       "      <td>117568000.000</td>\n",
       "      <td>0.025</td>\n",
       "      <td>316336500.000</td>\n",
       "    </tr>\n",
       "    <tr>\n",
       "      <th>9092</th>\n",
       "      <th>20151231.000</th>\n",
       "      <td>56643000.000</td>\n",
       "      <td>355480000.000</td>\n",
       "      <td>35831000.000</td>\n",
       "      <td>15710500.000</td>\n",
       "      <td>90920000.000</td>\n",
       "      <td>236734000.000</td>\n",
       "      <td>-20120500.000</td>\n",
       "      <td>341158000.000</td>\n",
       "      <td>227053500.000</td>\n",
       "      <td>53967000.000</td>\n",
       "      <td>9680500.000</td>\n",
       "      <td>2676000.000</td>\n",
       "      <td>0.044</td>\n",
       "      <td>7004500.000</td>\n",
       "    </tr>\n",
       "    <tr>\n",
       "      <th>12208</th>\n",
       "      <th>20151231.000</th>\n",
       "      <td>391485000.000</td>\n",
       "      <td>3711542000.000</td>\n",
       "      <td>186210000.000</td>\n",
       "      <td>81296500.000</td>\n",
       "      <td>437690000.000</td>\n",
       "      <td>1295020500.000</td>\n",
       "      <td>-104913500.000</td>\n",
       "      <td>3341278000.000</td>\n",
       "      <td>1386622000.000</td>\n",
       "      <td>377640000.000</td>\n",
       "      <td>-91601500.000</td>\n",
       "      <td>13845000.000</td>\n",
       "      <td>0.022</td>\n",
       "      <td>-105446500.000</td>\n",
       "    </tr>\n",
       "    <tr>\n",
       "      <th>...</th>\n",
       "      <th>...</th>\n",
       "      <td>...</td>\n",
       "      <td>...</td>\n",
       "      <td>...</td>\n",
       "      <td>...</td>\n",
       "      <td>...</td>\n",
       "      <td>...</td>\n",
       "      <td>...</td>\n",
       "      <td>...</td>\n",
       "      <td>...</td>\n",
       "      <td>...</td>\n",
       "      <td>...</td>\n",
       "      <td>...</td>\n",
       "      <td>...</td>\n",
       "      <td>...</td>\n",
       "    </tr>\n",
       "    <tr>\n",
       "      <th>47307</th>\n",
       "      <th>20150930.000</th>\n",
       "      <td>1101554.000</td>\n",
       "      <td>3866575.000</td>\n",
       "      <td>19972.000</td>\n",
       "      <td>96467.000</td>\n",
       "      <td>375234.000</td>\n",
       "      <td>3823917.000</td>\n",
       "      <td>76495.000</td>\n",
       "      <td>3699657.000</td>\n",
       "      <td>4157275.500</td>\n",
       "      <td>1172268.000</td>\n",
       "      <td>-333358.500</td>\n",
       "      <td>-70714.000</td>\n",
       "      <td>0.025</td>\n",
       "      <td>-262644.500</td>\n",
       "    </tr>\n",
       "    <tr>\n",
       "      <th>53669</th>\n",
       "      <th>20150930.000</th>\n",
       "      <td>5751000000.000</td>\n",
       "      <td>29595000000.000</td>\n",
       "      <td>1600000000.000</td>\n",
       "      <td>1563000000.000</td>\n",
       "      <td>5870000000.000</td>\n",
       "      <td>37179000000.000</td>\n",
       "      <td>-37000000.000</td>\n",
       "      <td>32785000000.000</td>\n",
       "      <td>38749000000.000</td>\n",
       "      <td>5871000000.000</td>\n",
       "      <td>-1570000000.000</td>\n",
       "      <td>-120000000.000</td>\n",
       "      <td>0.053</td>\n",
       "      <td>-1450000000.000</td>\n",
       "    </tr>\n",
       "    <tr>\n",
       "      <th>1117171</th>\n",
       "      <th>20150930.000</th>\n",
       "      <td>4771958.000</td>\n",
       "      <td>63367232.000</td>\n",
       "      <td>-2037122.000</td>\n",
       "      <td>15873926.000</td>\n",
       "      <td>22274820.000</td>\n",
       "      <td>13904414.000</td>\n",
       "      <td>17911048.000</td>\n",
       "      <td>43968181.000</td>\n",
       "      <td>123014080.000</td>\n",
       "      <td>1013641.000</td>\n",
       "      <td>-109109666.000</td>\n",
       "      <td>3758317.000</td>\n",
       "      <td>0.251</td>\n",
       "      <td>-112867983.000</td>\n",
       "    </tr>\n",
       "    <tr>\n",
       "      <th>1124941</th>\n",
       "      <th>20150930.000</th>\n",
       "      <td>181696363.636</td>\n",
       "      <td>700789545.455</td>\n",
       "      <td>43736000.000</td>\n",
       "      <td>24910800.000</td>\n",
       "      <td>41093181.818</td>\n",
       "      <td>1006067600.000</td>\n",
       "      <td>-18825200.000</td>\n",
       "      <td>572560800.000</td>\n",
       "      <td>930762000.000</td>\n",
       "      <td>144320800.000</td>\n",
       "      <td>75305600.000</td>\n",
       "      <td>37375563.636</td>\n",
       "      <td>0.036</td>\n",
       "      <td>37930036.364</td>\n",
       "    </tr>\n",
       "    <tr>\n",
       "      <th>1205181</th>\n",
       "      <th>20150630.000</th>\n",
       "      <td>1250.000</td>\n",
       "      <td>92633.000</td>\n",
       "      <td>-226481.000</td>\n",
       "      <td>-553932.000</td>\n",
       "      <td>25473.000</td>\n",
       "      <td>91129.500</td>\n",
       "      <td>-327451.000</td>\n",
       "      <td>38906.000</td>\n",
       "      <td>228005.000</td>\n",
       "      <td>22040.000</td>\n",
       "      <td>-136875.500</td>\n",
       "      <td>-20790.000</td>\n",
       "      <td>-5.980</td>\n",
       "      <td>-116085.500</td>\n",
       "    </tr>\n",
       "  </tbody>\n",
       "</table>\n",
       "<p>410 rows × 14 columns</p>\n",
       "</div>"
      ],
      "text/plain": [
       "tag                   AccountsReceivableNetCurrent          Assets  \\\n",
       "cik     ddate                                                        \n",
       "1800    20151231.000                3418000000.000 41247000000.000   \n",
       "2488    20151231.000                 533000000.000  3109000000.000   \n",
       "7536    20151231.000                6161418000.000 13021930000.000   \n",
       "9092    20151231.000                  56643000.000   355480000.000   \n",
       "12208   20151231.000                 391485000.000  3711542000.000   \n",
       "...                                            ...             ...   \n",
       "47307   20150930.000                   1101554.000     3866575.000   \n",
       "53669   20150930.000                5751000000.000 29595000000.000   \n",
       "1117171 20150930.000                   4771958.000    63367232.000   \n",
       "1124941 20150930.000                 181696363.636   700789545.455   \n",
       "1205181 20150630.000                      1250.000       92633.000   \n",
       "\n",
       "tag                   NetCashProvidedByUsedInOperatingActivities  \\\n",
       "cik     ddate                                                      \n",
       "1800    20151231.000                              2966000000.000   \n",
       "2488    20151231.000                              -226000000.000   \n",
       "7536    20151231.000                               655079000.000   \n",
       "9092    20151231.000                                35831000.000   \n",
       "12208   20151231.000                               186210000.000   \n",
       "...                                                          ...   \n",
       "47307   20150930.000                                   19972.000   \n",
       "53669   20150930.000                              1600000000.000   \n",
       "1117171 20150930.000                                -2037122.000   \n",
       "1124941 20150930.000                                43736000.000   \n",
       "1205181 20150630.000                                 -226481.000   \n",
       "\n",
       "tag                   NetIncomeLoss  PropertyPlantAndEquipmentNet  \\\n",
       "cik     ddate                                                       \n",
       "1800    20151231.000 2595000000.000                5730000000.000   \n",
       "2488    20151231.000 -381000000.000                 188000000.000   \n",
       "7536    20151231.000  328109000.000                 700178000.000   \n",
       "9092    20151231.000   15710500.000                  90920000.000   \n",
       "12208   20151231.000   81296500.000                 437690000.000   \n",
       "...                             ...                           ...   \n",
       "47307   20150930.000      96467.000                    375234.000   \n",
       "53669   20150930.000 1563000000.000                5870000000.000   \n",
       "1117171 20150930.000   15873926.000                  22274820.000   \n",
       "1124941 20150930.000   24910800.000                  41093181.818   \n",
       "1205181 20150630.000    -553932.000                     25473.000   \n",
       "\n",
       "tag                   SalesRevenueNet  TotalNetAccruals     AssetsPrior  \\\n",
       "cik     ddate                                                             \n",
       "1800    20151231.000  12796500000.000    -371000000.000 41207000000.000   \n",
       "2488    20151231.000   3991000000.000    -155000000.000  3767000000.000   \n",
       "7536    20151231.000  15016681000.000    -326970000.000 12435301000.000   \n",
       "9092    20151231.000    236734000.000     -20120500.000   341158000.000   \n",
       "12208   20151231.000   1295020500.000    -104913500.000  3341278000.000   \n",
       "...                               ...               ...             ...   \n",
       "47307   20150930.000      3823917.000         76495.000     3699657.000   \n",
       "53669   20150930.000  37179000000.000     -37000000.000 32785000000.000   \n",
       "1117171 20150930.000     13904414.000      17911048.000    43968181.000   \n",
       "1124941 20150930.000   1006067600.000     -18825200.000   572560800.000   \n",
       "1205181 20150630.000        91129.500       -327451.000       38906.000   \n",
       "\n",
       "tag                         RevPrior        ArPrior       RevChange  \\\n",
       "cik     ddate                                                         \n",
       "1800    20151231.000 12801500000.000 3586000000.000    -5000000.000   \n",
       "2488    20151231.000  5506000000.000  818000000.000 -1515000000.000   \n",
       "7536    20151231.000 14582776500.000 6043850000.000   433904500.000   \n",
       "9092    20151231.000   227053500.000   53967000.000     9680500.000   \n",
       "12208   20151231.000  1386622000.000  377640000.000   -91601500.000   \n",
       "...                              ...            ...             ...   \n",
       "47307   20150930.000     4157275.500    1172268.000     -333358.500   \n",
       "53669   20150930.000 38749000000.000 5871000000.000 -1570000000.000   \n",
       "1117171 20150930.000   123014080.000    1013641.000  -109109666.000   \n",
       "1124941 20150930.000   930762000.000  144320800.000    75305600.000   \n",
       "1205181 20150630.000      228005.000      22040.000     -136875.500   \n",
       "\n",
       "tag                        ARChange    ROA  ChangeSalesRec  \n",
       "cik     ddate                                               \n",
       "1800    20151231.000 -168000000.000  0.063   163000000.000  \n",
       "2488    20151231.000 -285000000.000 -0.123 -1230000000.000  \n",
       "7536    20151231.000  117568000.000  0.025   316336500.000  \n",
       "9092    20151231.000    2676000.000  0.044     7004500.000  \n",
       "12208   20151231.000   13845000.000  0.022  -105446500.000  \n",
       "...                             ...    ...             ...  \n",
       "47307   20150930.000     -70714.000  0.025     -262644.500  \n",
       "53669   20150930.000 -120000000.000  0.053 -1450000000.000  \n",
       "1117171 20150930.000    3758317.000  0.251  -112867983.000  \n",
       "1124941 20150930.000   37375563.636  0.036    37930036.364  \n",
       "1205181 20150630.000     -20790.000 -5.980     -116085.500  \n",
       "\n",
       "[410 rows x 14 columns]"
      ]
     },
     "execution_count": 107,
     "metadata": {},
     "output_type": "execute_result"
    }
   ],
   "source": [
    "##concat with pandas to put all dataframes together\n",
    "df = pd.concat([Regression_Q42015,Regression_Q32015,Regression_Q22015])\n",
    "df"
   ]
  },
  {
   "cell_type": "markdown",
   "metadata": {},
   "source": [
    "## EDA"
   ]
  },
  {
   "cell_type": "markdown",
   "metadata": {},
   "source": [
    "Describe each numeric column and its descriptive stats"
   ]
  },
  {
   "cell_type": "code",
   "execution_count": 108,
   "metadata": {},
   "outputs": [
    {
     "data": {
      "text/html": [
       "<div>\n",
       "<style scoped>\n",
       "    .dataframe tbody tr th:only-of-type {\n",
       "        vertical-align: middle;\n",
       "    }\n",
       "\n",
       "    .dataframe tbody tr th {\n",
       "        vertical-align: top;\n",
       "    }\n",
       "\n",
       "    .dataframe thead th {\n",
       "        text-align: right;\n",
       "    }\n",
       "</style>\n",
       "<table border=\"1\" class=\"dataframe\">\n",
       "  <thead>\n",
       "    <tr style=\"text-align: right;\">\n",
       "      <th></th>\n",
       "      <th>count</th>\n",
       "      <th>mean</th>\n",
       "      <th>std</th>\n",
       "      <th>min</th>\n",
       "      <th>25%</th>\n",
       "      <th>50%</th>\n",
       "      <th>75%</th>\n",
       "      <th>max</th>\n",
       "    </tr>\n",
       "    <tr>\n",
       "      <th>tag</th>\n",
       "      <th></th>\n",
       "      <th></th>\n",
       "      <th></th>\n",
       "      <th></th>\n",
       "      <th></th>\n",
       "      <th></th>\n",
       "      <th></th>\n",
       "      <th></th>\n",
       "    </tr>\n",
       "  </thead>\n",
       "  <tbody>\n",
       "    <tr>\n",
       "      <th>AccountsReceivableNetCurrent</th>\n",
       "      <td>410.000</td>\n",
       "      <td>350543551.027</td>\n",
       "      <td>897721345.006</td>\n",
       "      <td>0.000</td>\n",
       "      <td>8937699.750</td>\n",
       "      <td>63073500.000</td>\n",
       "      <td>255113250.000</td>\n",
       "      <td>6423000000.000</td>\n",
       "    </tr>\n",
       "    <tr>\n",
       "      <th>Assets</th>\n",
       "      <td>410.000</td>\n",
       "      <td>4102572469.697</td>\n",
       "      <td>10954698948.291</td>\n",
       "      <td>92633.000</td>\n",
       "      <td>117819902.000</td>\n",
       "      <td>623696000.000</td>\n",
       "      <td>2518571500.000</td>\n",
       "      <td>81703000000.000</td>\n",
       "    </tr>\n",
       "    <tr>\n",
       "      <th>NetCashProvidedByUsedInOperatingActivities</th>\n",
       "      <td>410.000</td>\n",
       "      <td>415123278.916</td>\n",
       "      <td>1526400378.981</td>\n",
       "      <td>-789884000.000</td>\n",
       "      <td>832044.750</td>\n",
       "      <td>41181500.000</td>\n",
       "      <td>201376750.000</td>\n",
       "      <td>20329000000.000</td>\n",
       "    </tr>\n",
       "    <tr>\n",
       "      <th>NetIncomeLoss</th>\n",
       "      <td>410.000</td>\n",
       "      <td>130290043.944</td>\n",
       "      <td>913893291.376</td>\n",
       "      <td>-7829000000.000</td>\n",
       "      <td>-7894000.000</td>\n",
       "      <td>7356000.000</td>\n",
       "      <td>77734000.000</td>\n",
       "      <td>11395500000.000</td>\n",
       "    </tr>\n",
       "    <tr>\n",
       "      <th>PropertyPlantAndEquipmentNet</th>\n",
       "      <td>410.000</td>\n",
       "      <td>1346941871.446</td>\n",
       "      <td>5818129114.244</td>\n",
       "      <td>4530.000</td>\n",
       "      <td>8986007.000</td>\n",
       "      <td>88409500.000</td>\n",
       "      <td>538300000.000</td>\n",
       "      <td>59510000000.000</td>\n",
       "    </tr>\n",
       "    <tr>\n",
       "      <th>SalesRevenueNet</th>\n",
       "      <td>410.000</td>\n",
       "      <td>2139220451.535</td>\n",
       "      <td>6448746196.813</td>\n",
       "      <td>25277.000</td>\n",
       "      <td>72359750.000</td>\n",
       "      <td>374761000.000</td>\n",
       "      <td>1317214125.000</td>\n",
       "      <td>71376500000.000</td>\n",
       "    </tr>\n",
       "    <tr>\n",
       "      <th>TotalNetAccruals</th>\n",
       "      <td>410.000</td>\n",
       "      <td>-284833234.973</td>\n",
       "      <td>1111460139.025</td>\n",
       "      <td>-11381000000.000</td>\n",
       "      <td>-142884375.000</td>\n",
       "      <td>-28033750.000</td>\n",
       "      <td>-1905370.375</td>\n",
       "      <td>1896800000.000</td>\n",
       "    </tr>\n",
       "    <tr>\n",
       "      <th>AssetsPrior</th>\n",
       "      <td>410.000</td>\n",
       "      <td>3899278587.957</td>\n",
       "      <td>10402560311.380</td>\n",
       "      <td>38906.000</td>\n",
       "      <td>104925500.000</td>\n",
       "      <td>573312900.000</td>\n",
       "      <td>2276153625.000</td>\n",
       "      <td>78127000000.000</td>\n",
       "    </tr>\n",
       "    <tr>\n",
       "      <th>RevPrior</th>\n",
       "      <td>410.000</td>\n",
       "      <td>2206297400.121</td>\n",
       "      <td>6647287326.689</td>\n",
       "      <td>-128995.000</td>\n",
       "      <td>61806875.000</td>\n",
       "      <td>360322000.000</td>\n",
       "      <td>1362438500.000</td>\n",
       "      <td>59158000000.000</td>\n",
       "    </tr>\n",
       "    <tr>\n",
       "      <th>ArPrior</th>\n",
       "      <td>410.000</td>\n",
       "      <td>360818687.069</td>\n",
       "      <td>928736099.831</td>\n",
       "      <td>0.000</td>\n",
       "      <td>8787170.000</td>\n",
       "      <td>63106000.000</td>\n",
       "      <td>238362250.000</td>\n",
       "      <td>6115328000.000</td>\n",
       "    </tr>\n",
       "    <tr>\n",
       "      <th>RevChange</th>\n",
       "      <td>410.000</td>\n",
       "      <td>-67076948.586</td>\n",
       "      <td>1144372122.080</td>\n",
       "      <td>-9389000000.000</td>\n",
       "      <td>-22947500.000</td>\n",
       "      <td>269037.500</td>\n",
       "      <td>32455125.000</td>\n",
       "      <td>12218500000.000</td>\n",
       "    </tr>\n",
       "    <tr>\n",
       "      <th>ARChange</th>\n",
       "      <td>410.000</td>\n",
       "      <td>-10275136.042</td>\n",
       "      <td>185996266.041</td>\n",
       "      <td>-2201000000.000</td>\n",
       "      <td>-4583000.000</td>\n",
       "      <td>282500.000</td>\n",
       "      <td>7480116.250</td>\n",
       "      <td>1219000000.000</td>\n",
       "    </tr>\n",
       "    <tr>\n",
       "      <th>ROA</th>\n",
       "      <td>410.000</td>\n",
       "      <td>-0.109</td>\n",
       "      <td>0.583</td>\n",
       "      <td>-7.166</td>\n",
       "      <td>-0.067</td>\n",
       "      <td>0.020</td>\n",
       "      <td>0.052</td>\n",
       "      <td>0.409</td>\n",
       "    </tr>\n",
       "    <tr>\n",
       "      <th>ChangeSalesRec</th>\n",
       "      <td>410.000</td>\n",
       "      <td>-56801812.544</td>\n",
       "      <td>1012735035.054</td>\n",
       "      <td>-8782000000.000</td>\n",
       "      <td>-23018250.000</td>\n",
       "      <td>621337.500</td>\n",
       "      <td>27278125.000</td>\n",
       "      <td>11407500000.000</td>\n",
       "    </tr>\n",
       "  </tbody>\n",
       "</table>\n",
       "</div>"
      ],
      "text/plain": [
       "                                             count           mean  \\\n",
       "tag                                                                 \n",
       "AccountsReceivableNetCurrent               410.000  350543551.027   \n",
       "Assets                                     410.000 4102572469.697   \n",
       "NetCashProvidedByUsedInOperatingActivities 410.000  415123278.916   \n",
       "NetIncomeLoss                              410.000  130290043.944   \n",
       "PropertyPlantAndEquipmentNet               410.000 1346941871.446   \n",
       "SalesRevenueNet                            410.000 2139220451.535   \n",
       "TotalNetAccruals                           410.000 -284833234.973   \n",
       "AssetsPrior                                410.000 3899278587.957   \n",
       "RevPrior                                   410.000 2206297400.121   \n",
       "ArPrior                                    410.000  360818687.069   \n",
       "RevChange                                  410.000  -67076948.586   \n",
       "ARChange                                   410.000  -10275136.042   \n",
       "ROA                                        410.000         -0.109   \n",
       "ChangeSalesRec                             410.000  -56801812.544   \n",
       "\n",
       "                                                       std              min  \\\n",
       "tag                                                                           \n",
       "AccountsReceivableNetCurrent                 897721345.006            0.000   \n",
       "Assets                                     10954698948.291        92633.000   \n",
       "NetCashProvidedByUsedInOperatingActivities  1526400378.981   -789884000.000   \n",
       "NetIncomeLoss                                913893291.376  -7829000000.000   \n",
       "PropertyPlantAndEquipmentNet                5818129114.244         4530.000   \n",
       "SalesRevenueNet                             6448746196.813        25277.000   \n",
       "TotalNetAccruals                            1111460139.025 -11381000000.000   \n",
       "AssetsPrior                                10402560311.380        38906.000   \n",
       "RevPrior                                    6647287326.689      -128995.000   \n",
       "ArPrior                                      928736099.831            0.000   \n",
       "RevChange                                   1144372122.080  -9389000000.000   \n",
       "ARChange                                     185996266.041  -2201000000.000   \n",
       "ROA                                                  0.583           -7.166   \n",
       "ChangeSalesRec                              1012735035.054  -8782000000.000   \n",
       "\n",
       "                                                      25%           50%  \\\n",
       "tag                                                                       \n",
       "AccountsReceivableNetCurrent                  8937699.750  63073500.000   \n",
       "Assets                                      117819902.000 623696000.000   \n",
       "NetCashProvidedByUsedInOperatingActivities     832044.750  41181500.000   \n",
       "NetIncomeLoss                                -7894000.000   7356000.000   \n",
       "PropertyPlantAndEquipmentNet                  8986007.000  88409500.000   \n",
       "SalesRevenueNet                              72359750.000 374761000.000   \n",
       "TotalNetAccruals                           -142884375.000 -28033750.000   \n",
       "AssetsPrior                                 104925500.000 573312900.000   \n",
       "RevPrior                                     61806875.000 360322000.000   \n",
       "ArPrior                                       8787170.000  63106000.000   \n",
       "RevChange                                   -22947500.000    269037.500   \n",
       "ARChange                                     -4583000.000    282500.000   \n",
       "ROA                                                -0.067         0.020   \n",
       "ChangeSalesRec                              -23018250.000    621337.500   \n",
       "\n",
       "                                                      75%             max  \n",
       "tag                                                                        \n",
       "AccountsReceivableNetCurrent                255113250.000  6423000000.000  \n",
       "Assets                                     2518571500.000 81703000000.000  \n",
       "NetCashProvidedByUsedInOperatingActivities  201376750.000 20329000000.000  \n",
       "NetIncomeLoss                                77734000.000 11395500000.000  \n",
       "PropertyPlantAndEquipmentNet                538300000.000 59510000000.000  \n",
       "SalesRevenueNet                            1317214125.000 71376500000.000  \n",
       "TotalNetAccruals                             -1905370.375  1896800000.000  \n",
       "AssetsPrior                                2276153625.000 78127000000.000  \n",
       "RevPrior                                   1362438500.000 59158000000.000  \n",
       "ArPrior                                     238362250.000  6115328000.000  \n",
       "RevChange                                    32455125.000 12218500000.000  \n",
       "ARChange                                      7480116.250  1219000000.000  \n",
       "ROA                                                 0.052           0.409  \n",
       "ChangeSalesRec                               27278125.000 11407500000.000  "
      ]
     },
     "execution_count": 108,
     "metadata": {},
     "output_type": "execute_result"
    }
   ],
   "source": [
    "##.describe data frame to show descriptive statistics\n",
    "df.describe().T"
   ]
  },
  {
   "cell_type": "markdown",
   "metadata": {},
   "source": [
    "#### Analysis of Descriptive Statistics\n",
    "\n",
    "One balance sheet item that stuck out to our audit team, is that the min AR is 0 for a company. This means that the company with $0 has no recievables on its books. For a big public company, to not have any recievables on their book is very unique and must mean that all of their revenue comes in cash. This could be a high inventory company who sells its inventory for cash. "
   ]
  },
  {
   "cell_type": "code",
   "execution_count": 109,
   "metadata": {
    "scrolled": true
   },
   "outputs": [
    {
     "data": {
      "text/plain": [
       "<matplotlib.axes._subplots.AxesSubplot at 0x1a367ee250>"
      ]
     },
     "execution_count": 109,
     "metadata": {},
     "output_type": "execute_result"
    },
    {
     "data": {
      "image/png": "[encoded data removed]",
      "text/plain": [
       "<Figure size 864x864 with 2 Axes>"
      ]
     },
     "metadata": {
      "needs_background": "light"
     },
     "output_type": "display_data"
    }
   ],
   "source": [
    "##sns package for correlation heat map\n",
    "plt.figure(figsize= (12,12))\n",
    "plt.title(\"Correlation Matrix\")\n",
    "sns.heatmap(df.corr()[['TotalNetAccruals']].sort_values('TotalNetAccruals', ascending = False), \n",
    "            annot = True, cmap = \"coolwarm\", vmax = 1, vmin = -1)"
   ]
  },
  {
   "cell_type": "markdown",
   "metadata": {},
   "source": [
    "#### The correlation heat map shows that most of the financial items only have negative correlations with Accruals.\n",
    "\n",
    "- Net Cash- High negative correlation with Accruals. Makes sense as the amount of cash sales increase then the amount of accruals decrease\n",
    "\n",
    "- Change Sales Rec- Newly Engineered feature. As the differnece of sales and recievables become larger and larger it shows that more sales are in cash. Makes sense a negative correlation with Total Accruals\n",
    "\n",
    "- PPE- As the book value for the equipment increases it makes sense that total accruals decrease because depreciation increases which makes expenses more than income. We capatilize ppe as assets, but once we use the equipment it becomes an expense on the books. \n",
    "\n",
    "These variables are going to be crucial in learning total accruals. We always want to see the relationships prior to fitting the modekl"
   ]
  },
  {
   "cell_type": "markdown",
   "metadata": {},
   "source": [
    "Create a function that takes the histogram of all numeric columns in our data set"
   ]
  },
  {
   "cell_type": "code",
   "execution_count": 110,
   "metadata": {},
   "outputs": [
    {
     "data": {
      "text/html": [
       "<div>\n",
       "<style scoped>\n",
       "    .dataframe tbody tr th:only-of-type {\n",
       "        vertical-align: middle;\n",
       "    }\n",
       "\n",
       "    .dataframe tbody tr th {\n",
       "        vertical-align: top;\n",
       "    }\n",
       "\n",
       "    .dataframe thead th {\n",
       "        text-align: right;\n",
       "    }\n",
       "</style>\n",
       "<table border=\"1\" class=\"dataframe\">\n",
       "  <thead>\n",
       "    <tr style=\"text-align: right;\">\n",
       "      <th>tag</th>\n",
       "      <th>AccountsReceivableNetCurrent</th>\n",
       "      <th>Assets</th>\n",
       "      <th>NetCashProvidedByUsedInOperatingActivities</th>\n",
       "      <th>NetIncomeLoss</th>\n",
       "      <th>PropertyPlantAndEquipmentNet</th>\n",
       "      <th>SalesRevenueNet</th>\n",
       "      <th>TotalNetAccruals</th>\n",
       "      <th>AssetsPrior</th>\n",
       "      <th>RevPrior</th>\n",
       "      <th>ArPrior</th>\n",
       "      <th>RevChange</th>\n",
       "      <th>ARChange</th>\n",
       "      <th>ROA</th>\n",
       "      <th>ChangeSalesRec</th>\n",
       "    </tr>\n",
       "  </thead>\n",
       "  <tbody>\n",
       "    <tr>\n",
       "      <th>count</th>\n",
       "      <td>410.000</td>\n",
       "      <td>410.000</td>\n",
       "      <td>410.000</td>\n",
       "      <td>410.000</td>\n",
       "      <td>410.000</td>\n",
       "      <td>410.000</td>\n",
       "      <td>410.000</td>\n",
       "      <td>410.000</td>\n",
       "      <td>410.000</td>\n",
       "      <td>410.000</td>\n",
       "      <td>410.000</td>\n",
       "      <td>410.000</td>\n",
       "      <td>410.000</td>\n",
       "      <td>410.000</td>\n",
       "    </tr>\n",
       "    <tr>\n",
       "      <th>mean</th>\n",
       "      <td>350543551.027</td>\n",
       "      <td>4102572469.697</td>\n",
       "      <td>415123278.916</td>\n",
       "      <td>130290043.944</td>\n",
       "      <td>1346941871.446</td>\n",
       "      <td>2139220451.535</td>\n",
       "      <td>-284833234.973</td>\n",
       "      <td>3899278587.957</td>\n",
       "      <td>2206297400.121</td>\n",
       "      <td>360818687.069</td>\n",
       "      <td>-67076948.586</td>\n",
       "      <td>-10275136.042</td>\n",
       "      <td>-0.109</td>\n",
       "      <td>-56801812.544</td>\n",
       "    </tr>\n",
       "    <tr>\n",
       "      <th>std</th>\n",
       "      <td>897721345.006</td>\n",
       "      <td>10954698948.291</td>\n",
       "      <td>1526400378.981</td>\n",
       "      <td>913893291.376</td>\n",
       "      <td>5818129114.244</td>\n",
       "      <td>6448746196.813</td>\n",
       "      <td>1111460139.025</td>\n",
       "      <td>10402560311.380</td>\n",
       "      <td>6647287326.689</td>\n",
       "      <td>928736099.831</td>\n",
       "      <td>1144372122.080</td>\n",
       "      <td>185996266.041</td>\n",
       "      <td>0.583</td>\n",
       "      <td>1012735035.054</td>\n",
       "    </tr>\n",
       "    <tr>\n",
       "      <th>min</th>\n",
       "      <td>0.000</td>\n",
       "      <td>92633.000</td>\n",
       "      <td>-789884000.000</td>\n",
       "      <td>-7829000000.000</td>\n",
       "      <td>4530.000</td>\n",
       "      <td>25277.000</td>\n",
       "      <td>-11381000000.000</td>\n",
       "      <td>38906.000</td>\n",
       "      <td>-128995.000</td>\n",
       "      <td>0.000</td>\n",
       "      <td>-9389000000.000</td>\n",
       "      <td>-2201000000.000</td>\n",
       "      <td>-7.166</td>\n",
       "      <td>-8782000000.000</td>\n",
       "    </tr>\n",
       "    <tr>\n",
       "      <th>25%</th>\n",
       "      <td>8937699.750</td>\n",
       "      <td>117819902.000</td>\n",
       "      <td>832044.750</td>\n",
       "      <td>-7894000.000</td>\n",
       "      <td>8986007.000</td>\n",
       "      <td>72359750.000</td>\n",
       "      <td>-142884375.000</td>\n",
       "      <td>104925500.000</td>\n",
       "      <td>61806875.000</td>\n",
       "      <td>8787170.000</td>\n",
       "      <td>-22947500.000</td>\n",
       "      <td>-4583000.000</td>\n",
       "      <td>-0.067</td>\n",
       "      <td>-23018250.000</td>\n",
       "    </tr>\n",
       "    <tr>\n",
       "      <th>50%</th>\n",
       "      <td>63073500.000</td>\n",
       "      <td>623696000.000</td>\n",
       "      <td>41181500.000</td>\n",
       "      <td>7356000.000</td>\n",
       "      <td>88409500.000</td>\n",
       "      <td>374761000.000</td>\n",
       "      <td>-28033750.000</td>\n",
       "      <td>573312900.000</td>\n",
       "      <td>360322000.000</td>\n",
       "      <td>63106000.000</td>\n",
       "      <td>269037.500</td>\n",
       "      <td>282500.000</td>\n",
       "      <td>0.020</td>\n",
       "      <td>621337.500</td>\n",
       "    </tr>\n",
       "    <tr>\n",
       "      <th>75%</th>\n",
       "      <td>255113250.000</td>\n",
       "      <td>2518571500.000</td>\n",
       "      <td>201376750.000</td>\n",
       "      <td>77734000.000</td>\n",
       "      <td>538300000.000</td>\n",
       "      <td>1317214125.000</td>\n",
       "      <td>-1905370.375</td>\n",
       "      <td>2276153625.000</td>\n",
       "      <td>1362438500.000</td>\n",
       "      <td>238362250.000</td>\n",
       "      <td>32455125.000</td>\n",
       "      <td>7480116.250</td>\n",
       "      <td>0.052</td>\n",
       "      <td>27278125.000</td>\n",
       "    </tr>\n",
       "    <tr>\n",
       "      <th>max</th>\n",
       "      <td>6423000000.000</td>\n",
       "      <td>81703000000.000</td>\n",
       "      <td>20329000000.000</td>\n",
       "      <td>11395500000.000</td>\n",
       "      <td>59510000000.000</td>\n",
       "      <td>71376500000.000</td>\n",
       "      <td>1896800000.000</td>\n",
       "      <td>78127000000.000</td>\n",
       "      <td>59158000000.000</td>\n",
       "      <td>6115328000.000</td>\n",
       "      <td>12218500000.000</td>\n",
       "      <td>1219000000.000</td>\n",
       "      <td>0.409</td>\n",
       "      <td>11407500000.000</td>\n",
       "    </tr>\n",
       "  </tbody>\n",
       "</table>\n",
       "</div>"
      ],
      "text/plain": [
       "tag    AccountsReceivableNetCurrent          Assets  \\\n",
       "count                       410.000         410.000   \n",
       "mean                  350543551.027  4102572469.697   \n",
       "std                   897721345.006 10954698948.291   \n",
       "min                           0.000       92633.000   \n",
       "25%                     8937699.750   117819902.000   \n",
       "50%                    63073500.000   623696000.000   \n",
       "75%                   255113250.000  2518571500.000   \n",
       "max                  6423000000.000 81703000000.000   \n",
       "\n",
       "tag    NetCashProvidedByUsedInOperatingActivities   NetIncomeLoss  \\\n",
       "count                                     410.000         410.000   \n",
       "mean                                415123278.916   130290043.944   \n",
       "std                                1526400378.981   913893291.376   \n",
       "min                                -789884000.000 -7829000000.000   \n",
       "25%                                    832044.750    -7894000.000   \n",
       "50%                                  41181500.000     7356000.000   \n",
       "75%                                 201376750.000    77734000.000   \n",
       "max                               20329000000.000 11395500000.000   \n",
       "\n",
       "tag    PropertyPlantAndEquipmentNet  SalesRevenueNet  TotalNetAccruals  \\\n",
       "count                       410.000          410.000           410.000   \n",
       "mean                 1346941871.446   2139220451.535    -284833234.973   \n",
       "std                  5818129114.244   6448746196.813    1111460139.025   \n",
       "min                        4530.000        25277.000  -11381000000.000   \n",
       "25%                     8986007.000     72359750.000    -142884375.000   \n",
       "50%                    88409500.000    374761000.000     -28033750.000   \n",
       "75%                   538300000.000   1317214125.000      -1905370.375   \n",
       "max                 59510000000.000  71376500000.000    1896800000.000   \n",
       "\n",
       "tag       AssetsPrior        RevPrior        ArPrior       RevChange  \\\n",
       "count         410.000         410.000        410.000         410.000   \n",
       "mean   3899278587.957  2206297400.121  360818687.069   -67076948.586   \n",
       "std   10402560311.380  6647287326.689  928736099.831  1144372122.080   \n",
       "min         38906.000     -128995.000          0.000 -9389000000.000   \n",
       "25%     104925500.000    61806875.000    8787170.000   -22947500.000   \n",
       "50%     573312900.000   360322000.000   63106000.000      269037.500   \n",
       "75%    2276153625.000  1362438500.000  238362250.000    32455125.000   \n",
       "max   78127000000.000 59158000000.000 6115328000.000 12218500000.000   \n",
       "\n",
       "tag          ARChange     ROA  ChangeSalesRec  \n",
       "count         410.000 410.000         410.000  \n",
       "mean    -10275136.042  -0.109   -56801812.544  \n",
       "std     185996266.041   0.583  1012735035.054  \n",
       "min   -2201000000.000  -7.166 -8782000000.000  \n",
       "25%      -4583000.000  -0.067   -23018250.000  \n",
       "50%        282500.000   0.020      621337.500  \n",
       "75%       7480116.250   0.052    27278125.000  \n",
       "max    1219000000.000   0.409 11407500000.000  "
      ]
     },
     "execution_count": 110,
     "metadata": {},
     "output_type": "execute_result"
    }
   ],
   "source": [
    "df.describe()"
   ]
  },
  {
   "cell_type": "code",
   "execution_count": 111,
   "metadata": {},
   "outputs": [],
   "source": [
    "def inital_hist(df, tag, xlabel,title):\n",
    "    \n",
    "    '''\n",
    "    This function is designed to take in a data frame object and return a histogram. Will use histogram on all \n",
    "    numeric columns\n",
    "    '''\n",
    "    ax = df[tag].plot(kind = 'hist', title = title\n",
    "                           , y = \"Frequency(units)\", bins = 5)\n",
    "    ax.set_xlabel(xlabel)"
   ]
  },
  {
   "cell_type": "markdown",
   "metadata": {},
   "source": [
    "We want to see the distribution of Total Accruals in millions."
   ]
  },
  {
   "cell_type": "code",
   "execution_count": 112,
   "metadata": {},
   "outputs": [
    {
     "data": {
      "image/png": "[encoded data removed]",
      "text/plain": [
       "<Figure size 432x288 with 1 Axes>"
      ]
     },
     "metadata": {
      "needs_background": "light"
     },
     "output_type": "display_data"
    }
   ],
   "source": [
    "##calls function histogram\n",
    "inital_hist(df, 'TotalNetAccruals', \"Accruals($)\", \"Distribution of Net Accruals\")"
   ]
  },
  {
   "cell_type": "markdown",
   "metadata": {},
   "source": [
    "We can see that the distribution is rather skewed, so we should try logging all numeric columns to normalize the distribution of our y variable\n"
   ]
  },
  {
   "cell_type": "markdown",
   "metadata": {},
   "source": [
    "Create a function that logs all numeric columns and plots them to show normalized distribution"
   ]
  },
  {
   "cell_type": "code",
   "execution_count": 128,
   "metadata": {},
   "outputs": [],
   "source": [
    "def take_log(x):\n",
    "    \n",
    "    log = np.log(x + abs(min(x)) + 1)\n",
    "    \n",
    "    return log\n",
    "    "
   ]
  },
  {
   "cell_type": "code",
   "execution_count": 138,
   "metadata": {},
   "outputs": [],
   "source": [
    "def log_numeric_column(df, tag, new_column, title, xlabel):\n",
    "    '''\n",
    "    This function is defined to log all numeric columns and plot the histogram related to that function\n",
    "    '''\n",
    "    df[new_column] = take_log(df[tag])\n",
    "    ax= df[new_column].plot(kind = 'hist', title = title ,bins = 5)\n",
    "    ax.set_xlabel(xlabel)"
   ]
  },
  {
   "cell_type": "code",
   "execution_count": 139,
   "metadata": {},
   "outputs": [
    {
     "data": {
      "image/png": "[encoded data removed]",
      "text/plain": [
       "<Figure size 432x288 with 1 Axes>"
      ]
     },
     "metadata": {
      "needs_background": "light"
     },
     "output_type": "display_data"
    }
   ],
   "source": [
    "##call log function\n",
    "log_numeric_column(df, \"TotalNetAccruals\", 'TotalAccrualslog', \n",
    "                   \"Log Distribution of Total Accruals\", \"Log Accruals($)\")"
   ]
  },
  {
   "cell_type": "markdown",
   "metadata": {},
   "source": [
    "Our distribution did not normalize so we will be ignoring the log."
   ]
  },
  {
   "cell_type": "markdown",
   "metadata": {},
   "source": [
    "We want to do the same for all numeric columns(x variables)"
   ]
  },
  {
   "cell_type": "code",
   "execution_count": 141,
   "metadata": {},
   "outputs": [
    {
     "data": {
      "image/png": "[encoded data removed]",
      "text/plain": [
       "<Figure size 432x288 with 1 Axes>"
      ]
     },
     "metadata": {
      "needs_background": "light"
     },
     "output_type": "display_data"
    }
   ],
   "source": [
    "##calls inital hist function\n",
    "inital_hist(df, 'ChangeSalesRec', \"Change in Sales Recievables($)\",\"Distribution of Change in Sales Rec\")"
   ]
  },
  {
   "cell_type": "code",
   "execution_count": 142,
   "metadata": {},
   "outputs": [
    {
     "data": {
      "image/png": "[encoded data removed]",
      "text/plain": [
       "<Figure size 432x288 with 1 Axes>"
      ]
     },
     "metadata": {
      "needs_background": "light"
     },
     "output_type": "display_data"
    }
   ],
   "source": [
    "##calls log features\n",
    "log_numeric_column(df, 'ChangeSalesRec', 'ChangeInSalesRecLog', \n",
    "                   \"Log Distribution of Change in Sales Rec\", \"Log ChangeSalesRec($)\")"
   ]
  },
  {
   "cell_type": "markdown",
   "metadata": {},
   "source": [
    "Our distribution did not normalize and we will be using the original."
   ]
  },
  {
   "cell_type": "code",
   "execution_count": 143,
   "metadata": {},
   "outputs": [
    {
     "data": {
      "image/png": "[encoded data removed]",
      "text/plain": [
       "<Figure size 432x288 with 1 Axes>"
      ]
     },
     "metadata": {
      "needs_background": "light"
     },
     "output_type": "display_data"
    }
   ],
   "source": [
    "inital_hist(df, 'PropertyPlantAndEquipmentNet', \n",
    "            \"Book Value of PP&E($)\",\"Distribution of PP%E\")"
   ]
  },
  {
   "cell_type": "code",
   "execution_count": 144,
   "metadata": {},
   "outputs": [
    {
     "data": {
      "image/png": "[encoded data removed]",
      "text/plain": [
       "<Figure size 432x288 with 1 Axes>"
      ]
     },
     "metadata": {
      "needs_background": "light"
     },
     "output_type": "display_data"
    }
   ],
   "source": [
    "log_numeric_column(df, 'PropertyPlantAndEquipmentNet', 'LogPPE', \n",
    "                   \"Log Distribution of Book Value of PPE\", \"Log PPE($)\")"
   ]
  },
  {
   "cell_type": "markdown",
   "metadata": {},
   "source": [
    "Our distribution normalized and this will be our x variable"
   ]
  },
  {
   "cell_type": "code",
   "execution_count": 145,
   "metadata": {},
   "outputs": [
    {
     "data": {
      "image/png": "[encoded data removed]",
      "text/plain": [
       "<Figure size 432x288 with 1 Axes>"
      ]
     },
     "metadata": {
      "needs_background": "light"
     },
     "output_type": "display_data"
    }
   ],
   "source": [
    "inital_hist(df, 'NetIncomeLoss', \n",
    "            \"Book Value of NI($)\",\"Distribution of NI\")"
   ]
  },
  {
   "cell_type": "code",
   "execution_count": 146,
   "metadata": {},
   "outputs": [
    {
     "data": {
      "image/png": "[encoded data removed]",
      "text/plain": [
       "<Figure size 432x288 with 1 Axes>"
      ]
     },
     "metadata": {
      "needs_background": "light"
     },
     "output_type": "display_data"
    }
   ],
   "source": [
    "log_numeric_column(df, 'NetIncomeLoss', 'LogNetIncome', \n",
    "                   \"Log Distribution of NetIncome\" , \"Log NetIncome($)\")"
   ]
  },
  {
   "cell_type": "markdown",
   "metadata": {},
   "source": [
    "Our distribution became skewed and we will be using the orginial"
   ]
  },
  {
   "cell_type": "code",
   "execution_count": 147,
   "metadata": {},
   "outputs": [
    {
     "data": {
      "image/png": "[encoded data removed]",
      "text/plain": [
       "<Figure size 432x288 with 1 Axes>"
      ]
     },
     "metadata": {
      "needs_background": "light"
     },
     "output_type": "display_data"
    }
   ],
   "source": [
    "inital_hist(df, 'NetCashProvidedByUsedInOperatingActivities', \n",
    "            \"Book Value of NC($)\",\"Distribution of NC\")"
   ]
  },
  {
   "cell_type": "code",
   "execution_count": 148,
   "metadata": {},
   "outputs": [
    {
     "data": {
      "image/png": "[encoded data removed]",
      "text/plain": [
       "<Figure size 432x288 with 1 Axes>"
      ]
     },
     "metadata": {
      "needs_background": "light"
     },
     "output_type": "display_data"
    }
   ],
   "source": [
    "log_numeric_column(df, 'NetCashProvidedByUsedInOperatingActivities', 'LogNetCash', \n",
    "                   \"Log Distribution of NetCash\" , \"Log NetCash($)\")"
   ]
  },
  {
   "cell_type": "markdown",
   "metadata": {},
   "source": [
    "After logging net cash the distribution skew just went opposite. We will be keeping original"
   ]
  },
  {
   "cell_type": "code",
   "execution_count": 150,
   "metadata": {},
   "outputs": [
    {
     "data": {
      "image/png": "[encoded data removed]",
      "text/plain": [
       "<Figure size 432x288 with 1 Axes>"
      ]
     },
     "metadata": {
      "needs_background": "light"
     },
     "output_type": "display_data"
    }
   ],
   "source": [
    "inital_hist(df, 'SalesRevenueNet', \n",
    "            \"Book Value of Rev($)\",\"Distribution of Rev\")"
   ]
  },
  {
   "cell_type": "code",
   "execution_count": 151,
   "metadata": {},
   "outputs": [
    {
     "data": {
      "image/png": "[encoded data removed]",
      "text/plain": [
       "<Figure size 432x288 with 1 Axes>"
      ]
     },
     "metadata": {
      "needs_background": "light"
     },
     "output_type": "display_data"
    }
   ],
   "source": [
    "log_numeric_column(df, 'SalesRevenueNet', 'LogRev', \n",
    "                   \"Log Distribution of NetRev\" , \"Log NetRev($)\")"
   ]
  },
  {
   "cell_type": "markdown",
   "metadata": {},
   "source": [
    "Our distribution normalized and this will be our x variable"
   ]
  },
  {
   "cell_type": "code",
   "execution_count": 477,
   "metadata": {},
   "outputs": [
    {
     "data": {
      "image/png": "[encoded data removed]",
      "text/plain": [
       "<Figure size 432x288 with 1 Axes>"
      ]
     },
     "metadata": {
      "needs_background": "light"
     },
     "output_type": "display_data"
    }
   ],
   "source": [
    "inital_hist(df, 'Assets', \n",
    "            \"Book Value of Assets($)\",\"Distribution of Assets\")"
   ]
  },
  {
   "cell_type": "code",
   "execution_count": 478,
   "metadata": {},
   "outputs": [
    {
     "data": {
      "image/png": "[encoded data removed]",
      "text/plain": [
       "<Figure size 432x288 with 1 Axes>"
      ]
     },
     "metadata": {
      "needs_background": "light"
     },
     "output_type": "display_data"
    }
   ],
   "source": [
    "log_numeric_column(df, 'Assets', 'LogAssets', \n",
    "                   \"Log Distribution of Assets\" , \"Log Assets($)\")"
   ]
  },
  {
   "cell_type": "markdown",
   "metadata": {},
   "source": [
    "Our distribution normalized and this will be our x variable"
   ]
  },
  {
   "cell_type": "code",
   "execution_count": 488,
   "metadata": {},
   "outputs": [
    {
     "data": {
      "image/png": "[encoded data removed]",
      "text/plain": [
       "<Figure size 432x288 with 1 Axes>"
      ]
     },
     "metadata": {
      "needs_background": "light"
     },
     "output_type": "display_data"
    }
   ],
   "source": [
    "inital_hist(df, 'AssetsPrior', \n",
    "            \"Book Value of AssetsPrior($)\",\"Distribution of AssetsPrior\")"
   ]
  },
  {
   "cell_type": "code",
   "execution_count": 490,
   "metadata": {},
   "outputs": [
    {
     "data": {
      "image/png": "[encoded data removed]",
      "text/plain": [
       "<Figure size 432x288 with 1 Axes>"
      ]
     },
     "metadata": {
      "needs_background": "light"
     },
     "output_type": "display_data"
    }
   ],
   "source": [
    "log_numeric_column(df, 'AssetsPrior', 'LogAssetsPrior', \n",
    "                   \"Log Distribution of AssetsPrior\" , \"Log Assets($)\")"
   ]
  },
  {
   "cell_type": "markdown",
   "metadata": {},
   "source": [
    "Our distribution normalized and this will be one of our x variables"
   ]
  },
  {
   "cell_type": "markdown",
   "metadata": {},
   "source": [
    "We want to see the relationships with the log of all x variables to the log of the y variables after engineering the features. We hope to see a positive relationship with all varaibles"
   ]
  },
  {
   "cell_type": "code",
   "execution_count": 399,
   "metadata": {},
   "outputs": [],
   "source": [
    "##create a data frame with all the features we want for the model\n",
    "df_feature_model = df[['ChangeSalesRec', 'LogPPE',\n",
    "            \"NetIncomeLoss\", \"NetCashProvidedByUsedInOperatingActivities\"\n",
    "            ,\"TotalNetAccruals\"]]\n"
   ]
  },
  {
   "cell_type": "code",
   "execution_count": 400,
   "metadata": {},
   "outputs": [
    {
     "data": {
      "text/plain": [
       "<seaborn.axisgrid.PairGrid at 0x1a25f40b50>"
      ]
     },
     "execution_count": 400,
     "metadata": {},
     "output_type": "execute_result"
    },
    {
     "data": {
      "image/png": "[encoded data removed]",
      "text/plain": [
       "<Figure size 720x180 with 4 Axes>"
      ]
     },
     "metadata": {
      "needs_background": "light"
     },
     "output_type": "display_data"
    }
   ],
   "source": [
    "##sns pairplot\n",
    "sns.pairplot(df_feature_model, x_vars =['ChangeSalesRec', 'LogPPE',\n",
    "            \"NetIncomeLoss\", \"NetCashProvidedByUsedInOperatingActivities\"], \n",
    "             y_vars = ['TotalNetAccruals'] )"
   ]
  },
  {
   "cell_type": "markdown",
   "metadata": {},
   "source": [
    " We can see that change in sales and net cash of these variables repersent a negative linear trend in the relationship with total accruals. PPE and net income show a slight negative relationship with accruals. We want to test depreciation and see the relationship with accruals"
   ]
  },
  {
   "cell_type": "code",
   "execution_count": 159,
   "metadata": {},
   "outputs": [
    {
     "data": {
      "text/plain": [
       "Series([], dtype: int64)"
      ]
     },
     "execution_count": 159,
     "metadata": {},
     "output_type": "execute_result"
    }
   ],
   "source": [
    "##check for all nan values\n",
    "all_nan_values = df.isnull().sum()[df.isnull().sum()  > 0].sort_values(ascending = False)\n",
    "all_nan_values"
   ]
  },
  {
   "cell_type": "markdown",
   "metadata": {},
   "source": [
    "Ensure our data has no null values prior to model preparation"
   ]
  },
  {
   "cell_type": "markdown",
   "metadata": {},
   "source": [
    "### Model Preparation\n",
    "\n"
   ]
  },
  {
   "cell_type": "markdown",
   "metadata": {},
   "source": [
    "#### Jones Theory:\n",
    "\n",
    "$$\n",
    "\\begin{eqnarray}\n",
    "Y(Total Net Accruals) &=& \\beta_0 + \n",
    "\\beta_1(1) + \n",
    "\\beta_2((Change in Rev - Change in AR))+  \n",
    "\\beta_3(Property Plant Equipment)\n",
    "+\\varepsilon\\\\\n",
    "\\end{eqnarray}\n",
    "$$\n",
    "\n",
    "\n",
    "#### Varun's Modified Jones Equation\n",
    "$$\n",
    "\\begin{eqnarray}\n",
    "Y(Total Net Accruals) &=& \\beta_0 + \n",
    "\\beta_1(1) + \n",
    "\\beta_2((Change in Rev - Change in AR))+  \n",
    "\\beta_3(Property Plant Equipment) +\n",
    "\\beta_4(Assets) + \\beta_4(Revenue) +\n",
    "\\beta_5(NetCashProvidedByUsedInOperatingActivitiesPresent) +\\varepsilon\\\\\n",
    "\\end{eqnarray}\n",
    "$$\n",
    "\n",
    "\n",
    "We are choosing the features based on the equation in the feature engineering section. We chose to generate a new feature matrix consisting of all polynomial combinations of the features with degree less than or equal to the specified degree. Polynomial features provides the best approximation of the relationship between dependent and independent variable. The error term indicates potential earnings management by companies\n",
    "\n",
    "Polynomial Features in finance data is further captures extreme data."
   ]
  },
  {
   "cell_type": "code",
   "execution_count": 791,
   "metadata": {},
   "outputs": [],
   "source": [
    "##list for features\n",
    "features = ['ChangeSalesRec', 'LogPPE', \"LogRev\", 'NetCashProvidedByUsedInOperatingActivities', \n",
    "            'LogAssets']"
   ]
  },
  {
   "cell_type": "code",
   "execution_count": 792,
   "metadata": {},
   "outputs": [],
   "source": [
    "##polynomial features for df\n",
    "poly = PolynomialFeatures(include_bias=False)"
   ]
  },
  {
   "cell_type": "code",
   "execution_count": 793,
   "metadata": {},
   "outputs": [],
   "source": [
    "##fit transform\n",
    "X_poly = poly.fit_transform(df[features])"
   ]
  },
  {
   "cell_type": "code",
   "execution_count": 794,
   "metadata": {},
   "outputs": [],
   "source": [
    "df_poly = pd.DataFrame(X_poly, columns=poly.get_feature_names(features))"
   ]
  },
  {
   "cell_type": "markdown",
   "metadata": {},
   "source": [
    "X variables are all the polynomial features and the target is the log of total accruals"
   ]
  },
  {
   "cell_type": "code",
   "execution_count": 795,
   "metadata": {},
   "outputs": [],
   "source": [
    "##train test split\n",
    "X = df_poly\n",
    "y = df['TotalNetAccruals']\n",
    "X_train, X_test, y_train, y_test = train_test_split(X, y, test_size = .40,\n",
    "                                                    random_state = 410 )"
   ]
  },
  {
   "cell_type": "markdown",
   "metadata": {},
   "source": [
    "### Modeling"
   ]
  },
  {
   "cell_type": "markdown",
   "metadata": {},
   "source": [
    "#### Baseline Model"
   ]
  },
  {
   "cell_type": "code",
   "execution_count": 796,
   "metadata": {},
   "outputs": [
    {
     "data": {
      "text/plain": [
       "-0.00253903599011096"
      ]
     },
     "execution_count": 796,
     "metadata": {},
     "output_type": "execute_result"
    }
   ],
   "source": [
    "##dummy regressor method\n",
    "dummy = DummyRegressor(strategy = \"mean\")\n",
    "dummy.fit(X_train, y_train)\n",
    "dummy.predict(X)\n",
    "\n",
    "dummy.score(X, y)"
   ]
  },
  {
   "cell_type": "markdown",
   "metadata": {},
   "source": [
    "#### Linear  Model 1\n",
    "\n"
   ]
  },
  {
   "cell_type": "code",
   "execution_count": 797,
   "metadata": {},
   "outputs": [
    {
     "data": {
      "text/plain": [
       "LinearRegression(copy_X=True, fit_intercept=True, n_jobs=None, normalize=False)"
      ]
     },
     "execution_count": 797,
     "metadata": {},
     "output_type": "execute_result"
    }
   ],
   "source": [
    "##fit linear method\n",
    "lr = LinearRegression()\n",
    "lr.fit(X_train, y_train)"
   ]
  },
  {
   "cell_type": "code",
   "execution_count": 798,
   "metadata": {},
   "outputs": [
    {
     "name": "stdout",
     "output_type": "stream",
     "text": [
      "Training Set R^2 Score is: 0.947\n",
      "Testing Set R^2 Score is: 0.547\n"
     ]
    }
   ],
   "source": [
    "##lr.predict\n",
    "pred_train = lr.predict(X_train) \n",
    "                                      \n",
    "pred_test = lr.predict(X_test)   \n",
    "\n",
    "# Score it and round to 3 dp\n",
    "print(\"Training Set R^2 Score is:\", np.round(lr.score(X_train, y_train),3))\n",
    "print(\"Testing Set R^2 Score is:\", np.round(lr.score(X_test, y_test),3))"
   ]
  },
  {
   "cell_type": "code",
   "execution_count": 799,
   "metadata": {},
   "outputs": [
    {
     "data": {
      "text/plain": [
       "-0.3803344390995922"
      ]
     },
     "execution_count": 799,
     "metadata": {},
     "output_type": "execute_result"
    }
   ],
   "source": [
    "##crosval score\n",
    "cross_val_score(lr, X, y, cv= 5).mean()"
   ]
  },
  {
   "cell_type": "markdown",
   "metadata": {},
   "source": [
    "##### Analysis of Model 1.\n",
    "\n",
    "\n",
    "It seems that 94.7% of the varaince of the data can be explained by the training model. And 54.7% of the variance of the data can be explained by the testing set. The limitation of this model is that it repersents slight overfitting. This could be due to the train test split and how the model is being trained. The cross validation score is extremely off with the -.38. Due to the inherent limitations of the model, this is the basic jones model. If given more time, I would add gains/losses, retirement expense, and depreciation. These are all non financing activities that affect accruals. The census around the basic jones model in the accounting space is that it does not do a great job at predicting accruals and modifications must be made for non financing activities. Lets see if we can run some ensemble models to get better scores "
   ]
  },
  {
   "cell_type": "markdown",
   "metadata": {},
   "source": [
    "#### Model 2: Ridge Model"
   ]
  },
  {
   "cell_type": "code",
   "execution_count": 800,
   "metadata": {},
   "outputs": [],
   "source": [
    "r_alphas = np.logspace(0, 5, 100)\n",
    "# Generates 100 values equally between 0 and 5,\n",
    "# then converts them to alphas between 10^0 and 10^5.\n",
    "\n",
    "# Cross-validate over our list of ridge alphas.\n",
    "ridge_model = RidgeCV(alphas=r_alphas, scoring='r2', cv=5)\n",
    "\n",
    "# Fit model using best ridge alpha!\n",
    "ridge_model = ridge_model.fit(X_train, y_train)"
   ]
  },
  {
   "cell_type": "code",
   "execution_count": 801,
   "metadata": {},
   "outputs": [
    {
     "data": {
      "text/plain": [
       "6.42807311728432"
      ]
     },
     "execution_count": 801,
     "metadata": {},
     "output_type": "execute_result"
    }
   ],
   "source": [
    "##check alphas\n",
    "ridge_model.alpha_"
   ]
  },
  {
   "cell_type": "code",
   "execution_count": 802,
   "metadata": {},
   "outputs": [
    {
     "name": "stdout",
     "output_type": "stream",
     "text": [
      "Train Set R^2 Score is: 0.9494287787430947\n",
      "Testing Set R^2 Score is: 0.5130463531454112\n"
     ]
    }
   ],
   "source": [
    "##print test and train score\n",
    "print(\"Train Set R^2 Score is:\", ridge_model.score(X_train, y_train))\n",
    "print(\"Testing Set R^2 Score is:\", ridge_model.score(X_test, y_test))"
   ]
  },
  {
   "cell_type": "code",
   "execution_count": 803,
   "metadata": {},
   "outputs": [
    {
     "data": {
      "text/plain": [
       "-0.4693823884966727"
      ]
     },
     "execution_count": 803,
     "metadata": {},
     "output_type": "execute_result"
    }
   ],
   "source": [
    "##cross val score\n",
    "cross_val_score(ridge_model, X, y, cv= 5).mean()"
   ]
  },
  {
   "cell_type": "code",
   "execution_count": 804,
   "metadata": {},
   "outputs": [
    {
     "data": {
      "text/plain": [
       "array([ 3.80921665e+00, -6.91022402e+07, -3.08603289e+07, -7.17397470e-01,\n",
       "       -3.16976406e+07,  3.98853584e-12, -2.09603478e-02,  6.37864877e-02,\n",
       "       -5.74655906e-11, -2.04238926e-01,  4.58229676e+05,  2.19223809e+07,\n",
       "       -8.95909275e-02, -1.76044624e+07, -1.67001875e+07,  2.14777990e-02,\n",
       "        1.56231691e+07,  2.33574949e-11,  5.79292878e-02,  4.36250702e+05])"
      ]
     },
     "execution_count": 804,
     "metadata": {},
     "output_type": "execute_result"
    }
   ],
   "source": [
    "##check coeficients\n",
    "ridge_model.coef_"
   ]
  },
  {
   "cell_type": "code",
   "execution_count": 805,
   "metadata": {},
   "outputs": [
    {
     "data": {
      "text/plain": [
       "[(-69102240.15601324, 'LogPPE'),\n",
       " (-31697640.642201588, 'LogAssets'),\n",
       " (-30860328.861050084, 'LogRev'),\n",
       " (-17604462.41886933, 'LogPPE LogAssets'),\n",
       " (-16700187.478790108, 'LogRev^2'),\n",
       " (-0.7173974699032918, 'NetCashProvidedByUsedInOperatingActivities'),\n",
       " (-0.2042389258345649, 'ChangeSalesRec LogAssets'),\n",
       " (-0.08959092750220922, 'LogPPE NetCashProvidedByUsedInOperatingActivities'),\n",
       " (-0.0209603477968693, 'ChangeSalesRec LogPPE'),\n",
       " (-5.7465590592707534e-11,\n",
       "  'ChangeSalesRec NetCashProvidedByUsedInOperatingActivities'),\n",
       " (3.988535843968619e-12, 'ChangeSalesRec^2'),\n",
       " (2.335749493129157e-11, 'NetCashProvidedByUsedInOperatingActivities^2'),\n",
       " (0.021477799018975303, 'LogRev NetCashProvidedByUsedInOperatingActivities'),\n",
       " (0.057929287761978365,\n",
       "  'NetCashProvidedByUsedInOperatingActivities LogAssets'),\n",
       " (0.06378648770800184, 'ChangeSalesRec LogRev'),\n",
       " (3.809216649472612, 'ChangeSalesRec'),\n",
       " (436250.7022383218, 'LogAssets^2'),\n",
       " (458229.6757658269, 'LogPPE^2'),\n",
       " (15623169.118976573, 'LogRev LogAssets'),\n",
       " (21922380.869061556, 'LogPPE LogRev')]"
      ]
     },
     "execution_count": 805,
     "metadata": {},
     "output_type": "execute_result"
    }
   ],
   "source": [
    "##check best_features\n",
    "best_features = [tup for tup in list(zip(ridge_model.coef_,X_test.columns)) if tup[0] != 0]\n",
    "best_features.sort(reverse=False) #descending order\n",
    "best_features"
   ]
  },
  {
   "cell_type": "markdown",
   "metadata": {},
   "source": [
    "##### Analysis of Model 2.\n",
    "\n",
    "\n",
    "It seems that 94.5% of the varaince of the data can be explained by the training model. And 51.3% of the variance of the data can be explained by the testing set. The limitation of this model is that it repersents slight overfitting. The ridge model reperesents not zero out coeficients but it shows that some of the polynomial features are not zero. This could be due to the train test split and how the model is being trained. In addition the cross val score is quite low with -46. Then again, like linear regression the limitations of the data is causing the scores to be out of whack. If I had more time, I would add additional features that affect accruals"
   ]
  },
  {
   "cell_type": "markdown",
   "metadata": {},
   "source": [
    "#### Model 3: KNN Regressor"
   ]
  },
  {
   "cell_type": "code",
   "execution_count": 806,
   "metadata": {},
   "outputs": [],
   "source": [
    "##set up gridsearch\n",
    "pipe_knn = Pipeline([\n",
    "    ('sc', StandardScaler(with_mean = False)),\n",
    "    ('model', KNeighborsRegressor())\n",
    "])\n",
    "\n",
    "knn_params = {\n",
    "    'model__n_neighbors': range(1,10),\n",
    "    'model__metric': ['minkowski', 'Euclidean', 'DistanceMetric']\n",
    "}"
   ]
  },
  {
   "cell_type": "code",
   "execution_count": 807,
   "metadata": {},
   "outputs": [],
   "source": [
    "##set up pipeline\n",
    "pipe_knn_gridsearch = GridSearchCV(pipe_knn,\n",
    "                                knn_params ,\n",
    "                                cv = 5,\n",
    "                                scoring='r2',\n",
    "                                verbose=1)"
   ]
  },
  {
   "cell_type": "code",
   "execution_count": 808,
   "metadata": {},
   "outputs": [
    {
     "name": "stdout",
     "output_type": "stream",
     "text": [
      "Fitting 5 folds for each of 27 candidates, totalling 135 fits\n"
     ]
    },
    {
     "name": "stderr",
     "output_type": "stream",
     "text": [
      "[Parallel(n_jobs=1)]: Using backend SequentialBackend with 1 concurrent workers.\n",
      "[Parallel(n_jobs=1)]: Done 135 out of 135 | elapsed:    0.5s finished\n"
     ]
    }
   ],
   "source": [
    "##fit model\n",
    "results_knn = pipe_knn_gridsearch.fit(X_train, y_train);"
   ]
  },
  {
   "cell_type": "code",
   "execution_count": 809,
   "metadata": {},
   "outputs": [
    {
     "data": {
      "text/plain": [
       "{'model__metric': 'minkowski', 'model__n_neighbors': 2}"
      ]
     },
     "execution_count": 809,
     "metadata": {},
     "output_type": "execute_result"
    }
   ],
   "source": [
    "##best params\n",
    "pipe_knn_gridsearch.best_params_"
   ]
  },
  {
   "cell_type": "code",
   "execution_count": 810,
   "metadata": {},
   "outputs": [
    {
     "name": "stdout",
     "output_type": "stream",
     "text": [
      "Best TRAIN set accuracy: 0.5465\n",
      "Best TEST set accuracy: 0.4800\n"
     ]
    }
   ],
   "source": [
    "##check best score method\n",
    "train_score = pipe_knn_gridsearch.best_score_\n",
    "print('Best TRAIN set R^2: {:.4f}'.format(train_score))\n",
    "test_score = pipe_knn_gridsearch.score(X_test, y_test)\n",
    "print('Best TEST set R^2: {:.4f}'.format(test_score))"
   ]
  },
  {
   "cell_type": "code",
   "execution_count": 811,
   "metadata": {},
   "outputs": [
    {
     "data": {
      "text/plain": [
       "0.3462070952959847"
      ]
     },
     "execution_count": 811,
     "metadata": {},
     "output_type": "execute_result"
    }
   ],
   "source": [
    "##cross val score\n",
    "cross_val_score(pipe_knn_gridsearch.best_estimator_, X, y, cv= 5).mean()"
   ]
  },
  {
   "cell_type": "markdown",
   "metadata": {},
   "source": [
    "##### Analysis of Model 3.\n",
    "\n",
    "\n",
    "A simple implementation of KNN regression is to calculate the average of the numerical target of the K nearest neighbors.  Another approach uses an inverse distance weighted average of the K nearest neighbors. KNN regression uses the same distance functions as KNN classification. It seems that 54.65% of the varaince of the data can be explained by the training model. And 71% of the variance of the data can be explained by the testing set. The limitation of this model is that it repersents slight overfitting. The ridge model reperesents not zero out coeficients but it shows that some of the polynomial features are not zero. This could be due to the train test split and how the model is being trained. In addition the cross val score is quite low with .346."
   ]
  },
  {
   "cell_type": "markdown",
   "metadata": {},
   "source": [
    "#### Model 4:  Decision Tree"
   ]
  },
  {
   "cell_type": "code",
   "execution_count": 812,
   "metadata": {},
   "outputs": [],
   "source": [
    "##set up pipeline\n",
    "pipe_dt = Pipeline([\n",
    "    ('sc', StandardScaler(with_mean = False)),\n",
    "    ('model', DecisionTreeRegressor())\n",
    "])\n",
    "\n",
    "dt_params = {\n",
    "   'model__max_depth': [1,3,10,20],\n",
    "   'model__max_features' :[1,3,5,6,7,8,9,10.15,15,20]\n",
    "}"
   ]
  },
  {
   "cell_type": "code",
   "execution_count": 813,
   "metadata": {},
   "outputs": [],
   "source": [
    "##set up gridsearch\n",
    "pipe_dt_gridsearch = GridSearchCV(pipe_dt,\n",
    "                                dt_params ,\n",
    "                                cv = 5,\n",
    "                                scoring='r2',\n",
    "                                verbose=1)"
   ]
  },
  {
   "cell_type": "code",
   "execution_count": 814,
   "metadata": {},
   "outputs": [
    {
     "name": "stderr",
     "output_type": "stream",
     "text": [
      "[Parallel(n_jobs=1)]: Using backend SequentialBackend with 1 concurrent workers.\n"
     ]
    },
    {
     "name": "stdout",
     "output_type": "stream",
     "text": [
      "Fitting 5 folds for each of 40 candidates, totalling 200 fits\n"
     ]
    },
    {
     "name": "stderr",
     "output_type": "stream",
     "text": [
      "[Parallel(n_jobs=1)]: Done 200 out of 200 | elapsed:    0.9s finished\n"
     ]
    }
   ],
   "source": [
    "##fit model\n",
    "results_decision = pipe_dt_gridsearch.fit(X_train, y_train)"
   ]
  },
  {
   "cell_type": "code",
   "execution_count": 815,
   "metadata": {},
   "outputs": [
    {
     "name": "stdout",
     "output_type": "stream",
     "text": [
      "Best TRAIN accuracy: 0.5295\n",
      "Best TEST set accuracy: 0.3782\n"
     ]
    }
   ],
   "source": [
    "##set up best score\n",
    "train_score_dec = results_decision.best_score_\n",
    "print('Best TRAIN R^2: {:.4f}'.format(train_score_dec))\n",
    "test_score_dec = results_decision.score(X_test, y_test)\n",
    "print('Best TEST R^2: {:.4f}'.format(test_score_dec))"
   ]
  },
  {
   "cell_type": "code",
   "execution_count": 816,
   "metadata": {},
   "outputs": [
    {
     "data": {
      "text/plain": [
       "0.16413163158300864"
      ]
     },
     "execution_count": 816,
     "metadata": {},
     "output_type": "execute_result"
    }
   ],
   "source": [
    "##set up cross val score\n",
    "cross_val_score(pipe_dt_gridsearch.best_estimator_, X, y, cv= 5).mean()"
   ]
  },
  {
   "cell_type": "markdown",
   "metadata": {},
   "source": [
    "##### Analysis of Model 4\n",
    "\n",
    "\n",
    "Our decision tree model does a worse job in determining total accruals based on depth of our trees. As seen in the model the r2 of this model tremendously decreased compared to that of the linear regression and the knn. The cross validation scores are not good and the testing scores on the full dataset cannot be trusted. The model does a worse job on determining the split off points for important features and does not do too well on the testing set. The model does not perform well on the full dataset, looking at our cross val score, and its easily interpretable. We will test further trees to determine if we can achieve a better cross val score."
   ]
  },
  {
   "cell_type": "markdown",
   "metadata": {},
   "source": [
    "#### Model 5:  Bagged Decision Tree¶"
   ]
  },
  {
   "cell_type": "code",
   "execution_count": 817,
   "metadata": {},
   "outputs": [],
   "source": [
    "##set up pipeline\n",
    "pipe_bg = Pipeline([\n",
    "    ('sc', StandardScaler(with_mean = False)),\n",
    "    ('model', BaggingRegressor())\n",
    "])\n",
    "\n",
    "bg_params = {\n",
    "   'model__n_estimators': range(10, 100, 10),\n",
    "}\n",
    "\n",
    "pipe_bg_gridsearch = GridSearchCV(pipe_bg,\n",
    "                                bg_params ,\n",
    "                                cv = 5,\n",
    "                                scoring='r2',\n",
    "                                verbose=1)"
   ]
  },
  {
   "cell_type": "code",
   "execution_count": 818,
   "metadata": {},
   "outputs": [
    {
     "name": "stderr",
     "output_type": "stream",
     "text": [
      "[Parallel(n_jobs=1)]: Using backend SequentialBackend with 1 concurrent workers.\n"
     ]
    },
    {
     "name": "stdout",
     "output_type": "stream",
     "text": [
      "Fitting 5 folds for each of 9 candidates, totalling 45 fits\n"
     ]
    },
    {
     "name": "stderr",
     "output_type": "stream",
     "text": [
      "[Parallel(n_jobs=1)]: Done  45 out of  45 | elapsed:    5.7s finished\n"
     ]
    }
   ],
   "source": [
    "##set up fit model\n",
    "results_bagging = pipe_bg_gridsearch.fit(X_train, y_train)"
   ]
  },
  {
   "cell_type": "code",
   "execution_count": 819,
   "metadata": {},
   "outputs": [
    {
     "name": "stdout",
     "output_type": "stream",
     "text": [
      "Best TRAIN accuracy: 0.6203\n",
      "Best TEST set accuracy: 0.5034\n"
     ]
    }
   ],
   "source": [
    "##best score\n",
    "train_score_bag = results_bagging.best_score_\n",
    "print('Best TRAIN R^2: {:.4f}'.format(train_score_bag))\n",
    "test_score_bag = results_bagging.score(X_test, y_test)\n",
    "print('Best TEST set R^2: {:.4f}'.format(test_score_bag))"
   ]
  },
  {
   "cell_type": "code",
   "execution_count": 820,
   "metadata": {},
   "outputs": [
    {
     "data": {
      "text/plain": [
       "0.4539858946568822"
      ]
     },
     "execution_count": 820,
     "metadata": {},
     "output_type": "execute_result"
    }
   ],
   "source": [
    "cross_val_score(pipe_bg_gridsearch.best_estimator_, X, y, cv= 5).mean()"
   ]
  },
  {
   "cell_type": "markdown",
   "metadata": {},
   "source": [
    "##### Analysis of Model 5\n",
    "\n",
    "\n",
    "Our bagging model does a better job in determining total accruals based on depth of our trees. As seen in the model the r2 of this model slightly decreased compared to that of the linear regression and the knn, but increased against decision trees. The model performs better on the full dataset than decision trees,looking at our cross val score,the model explains 45% of the variance of the data on the full dataset. The cross val score for bagging is closest to the testing score compared to lr and knn. This might be the model we use for our validation set. We will test further trees to determine if we can achieve a better cross val score. "
   ]
  },
  {
   "cell_type": "markdown",
   "metadata": {},
   "source": [
    "#### Model 6: Random Forests¶"
   ]
  },
  {
   "cell_type": "code",
   "execution_count": 821,
   "metadata": {},
   "outputs": [],
   "source": [
    "##set up pipeline with scaled data\n",
    "pipe_rf = Pipeline(steps = [ ('sc', StandardScaler()),\n",
    "                          ('rf', RandomForestRegressor())\n",
    "                         \n",
    "                        ])    \n",
    "\n",
    "# Construct Grid Parameters\n",
    "hyperparams = {\n",
    "               \n",
    "               \n",
    "                                                        # use a single value that isn't built into\n",
    "                                                       \n",
    "               'rf__n_estimators': [100, 150, 200],\n",
    "               'rf__max_depth': [None, 1, 2, 3, 4, 5],\n",
    "}\n",
    "                \n",
    "              \n",
    "\n",
    " # Perform Grid Search\n",
    "gs_rf = GridSearchCV(pipe_rf, # pipeline object replaces what we usually had as empty model class\n",
    "                 param_grid=hyperparams,\n",
    "                 cv = 5,\n",
    "                 scoring = 'r2')\n"
   ]
  },
  {
   "cell_type": "code",
   "execution_count": 822,
   "metadata": {},
   "outputs": [],
   "source": [
    "##fit data\n",
    "results_rf= gs_rf.fit(X_train, y_train)"
   ]
  },
  {
   "cell_type": "code",
   "execution_count": 823,
   "metadata": {},
   "outputs": [
    {
     "name": "stdout",
     "output_type": "stream",
     "text": [
      "Best TRAIN accuracy: 0.5491\n",
      "Best TEST set accuracy: 0.5026\n"
     ]
    }
   ],
   "source": [
    "##best score\n",
    "train_score_rf = results_rf.best_score_\n",
    "print('Best TRAIN R^2: {:.4f}'.format(train_score_rf))\n",
    "test_score_rf = results_rf.score(X_test, y_test)\n",
    "print('Best TEST set R^2: {:.4f}'.format(test_score_rf))"
   ]
  },
  {
   "cell_type": "code",
   "execution_count": 824,
   "metadata": {},
   "outputs": [
    {
     "data": {
      "text/plain": [
       "0.40307880981991834"
      ]
     },
     "execution_count": 824,
     "metadata": {},
     "output_type": "execute_result"
    }
   ],
   "source": [
    "cross_val_score(gs_rf.best_estimator_, X, y, cv= 5).mean()"
   ]
  },
  {
   "cell_type": "markdown",
   "metadata": {},
   "source": [
    "##### Analysis of Model 6\n",
    "\n",
    "We decided to test random forest. As the r2 score was slightly higher than bagging and decision trees, the model also did better on the full data set. This model does not compare to linear regression and we will not be using the random forest. The cross vals score seem to do better compared to the linear regression, so we can use this as a predictive model. "
   ]
  },
  {
   "cell_type": "markdown",
   "metadata": {},
   "source": [
    "#### Model 7: Ada Boost Model"
   ]
  },
  {
   "cell_type": "code",
   "execution_count": 825,
   "metadata": {},
   "outputs": [],
   "source": [
    "##set up pipeline\n",
    "pipe_ab = Pipeline(steps = [ ('sc', StandardScaler()),\n",
    "                         ('ab',AdaBoostRegressor(base_estimator=DecisionTreeRegressor()))\n",
    "                         \n",
    "                        ])    \n",
    "\n",
    "# Construct Grid Parameters\n",
    "hyperparams = {\n",
    "               \n",
    "               \n",
    "                                                        # use a single value that isn't built into\n",
    "                                                       \n",
    "               'ab__n_estimators': [50,100],\n",
    "               'ab__base_estimator__max_depth': [1,2],\n",
    "               'ab__learning_rate': [.9, 1.]\n",
    "}\n",
    "                \n",
    "              \n",
    "\n",
    " # Perform Grid Search\n",
    "gs_ab = GridSearchCV(pipe_ab, # pipeline object replaces what we usually had as empty model class\n",
    "                 param_grid=hyperparams,\n",
    "                 cv = 3,\n",
    "                 scoring = 'r2')\n"
   ]
  },
  {
   "cell_type": "code",
   "execution_count": 826,
   "metadata": {},
   "outputs": [
    {
     "name": "stdout",
     "output_type": "stream",
     "text": [
      "Best TRAIN accuracy: 0.6307\n",
      "Best TEST set accuracy: 0.4517\n"
     ]
    }
   ],
   "source": [
    "results_ab = gs_ab.fit(X_train, y_train)\n",
    "train_score_ab = results_ab.best_score_\n",
    "print('Best TRAIN R^2: {:.4f}'.format(train_score_ab))\n",
    "test_score_ab = results_ab.score(X_test, y_test)\n",
    "print('Best TEST set R^2: {:.4f}'.format(test_score_ab))\n"
   ]
  },
  {
   "cell_type": "code",
   "execution_count": 827,
   "metadata": {},
   "outputs": [
    {
     "data": {
      "text/plain": [
       "0.2560937099600026"
      ]
     },
     "execution_count": 827,
     "metadata": {},
     "output_type": "execute_result"
    }
   ],
   "source": [
    "cross_val_score(gs_ab.best_estimator_, X, y, cv= 5).mean()"
   ]
  },
  {
   "cell_type": "markdown",
   "metadata": {},
   "source": [
    "##### Analysis of Model 7\n",
    "\n",
    "We decided to test ada boost. The r2 score was the worst performing and we will decide to test svr"
   ]
  },
  {
   "cell_type": "markdown",
   "metadata": {},
   "source": [
    "#### Model 8: Support Vector Machine¶"
   ]
  },
  {
   "cell_type": "code",
   "execution_count": 828,
   "metadata": {},
   "outputs": [],
   "source": [
    "##set up pipeline for svr\n",
    "pipe_svm = Pipeline([\n",
    "    ('sc', StandardScaler(with_mean = False)),\n",
    "    ('model', svm.SVR())\n",
    "])\n",
    "\n",
    "svm_params = {\n",
    "   'model__C': [1,3,10,100],\n",
    "   'model__epsilon' : range(0,1)\n",
    "}\n",
    "\n",
    "gs_svm = GridSearchCV(pipe_svm, # pipeline object replaces what we usually had as empty model class\n",
    "                 param_grid=svm_params,\n",
    "                 cv = 3,\n",
    "                 scoring = 'r2')"
   ]
  },
  {
   "cell_type": "code",
   "execution_count": 829,
   "metadata": {},
   "outputs": [
    {
     "name": "stdout",
     "output_type": "stream",
     "text": [
      "Best TRAIN accuracy: -0.0615\n",
      "Best TEST set accuracy: 0.4517\n"
     ]
    }
   ],
   "source": [
    "results_svm = gs_svm.fit(X, y)\n",
    "train_score_svm = results_svm.best_score_\n",
    "print('Best TRAIN R^2: {:.4f}'.format(train_score_svm))\n",
    "test_score_svm = results_ab.score(X_test, y_test)\n",
    "print('Best TEST set R^2: {:.4f}'.format(test_score_svm))"
   ]
  },
  {
   "cell_type": "code",
   "execution_count": 830,
   "metadata": {},
   "outputs": [
    {
     "data": {
      "text/plain": [
       "-0.06854541921138088"
      ]
     },
     "execution_count": 830,
     "metadata": {},
     "output_type": "execute_result"
    }
   ],
   "source": [
    "cross_val_score(gs_svm.best_estimator_, X, y, cv= 5).mean()"
   ]
  },
  {
   "cell_type": "markdown",
   "metadata": {},
   "source": [
    "##### Analysis of Model 8\n",
    "\n",
    "We decided to test ada svr. The r2 score performed really well on the train set, but it did not on the test set. This model shows too. much variation with train and test. The model's cross val score does the best on the whole data set compared to all the models. The Linear Model is much easier to interpret as the SVR is a black box model."
   ]
  },
  {
   "cell_type": "markdown",
   "metadata": {},
   "source": [
    "## Model Selection\n",
    "\n",
    "|Model|Type|Train R2|Testing R2|\n",
    "|---|---|---|---|\n",
    "|**Model 1**|*Linear*|0.947|0.547| \n",
    "|**Model 2**|*Ridge*|0.949|0.513|\n",
    "|**Model 4**|*KNN Regressor*|0.5465|0.4800|\n",
    "|**Model 5**|*Decision Trees*|0.5295|0.3782|\n",
    "|**Model 6**|*Bagged Decision Trees*|0.5491|0.5026|\n",
    "|**Model 7**|*Random Forrest Trees*|0.6307|0.4517|\n",
    "|**Model 8**|*SVM*|-0.0615|0.4517|\n",
    "\n",
    "\n",
    "\n",
    "\n",
    "\n",
    "Based on R2 scores listed above, We have decided to choose model 1 to deliver to our audit team in predicting total net accruals. This model will be best suited for our auditors to prepare for year end audit planning in the for the 2016 audit during election time. Model 1 does the best in predicting total accrual prices, and more of the variance in the data can be explained by our model. We want to deliver high level tax solutions to our clients with the least amount of residuals."
   ]
  },
  {
   "cell_type": "markdown",
   "metadata": {},
   "source": [
    "## Model Evaluation"
   ]
  },
  {
   "cell_type": "markdown",
   "metadata": {},
   "source": [
    "### Linear Stats Model: Interpetation of Pvalues and Coeficients"
   ]
  },
  {
   "cell_type": "code",
   "execution_count": 878,
   "metadata": {
    "scrolled": true
   },
   "outputs": [
    {
     "data": {
      "text/html": [
       "<table class=\"simpletable\">\n",
       "<caption>OLS Regression Results</caption>\n",
       "<tr>\n",
       "  <th>Dep. Variable:</th>    <td>TotalNetAccruals</td> <th>  R-squared:         </th> <td>   0.665</td> \n",
       "</tr>\n",
       "<tr>\n",
       "  <th>Model:</th>                   <td>OLS</td>       <th>  Adj. R-squared:    </th> <td>   0.661</td> \n",
       "</tr>\n",
       "<tr>\n",
       "  <th>Method:</th>             <td>Least Squares</td>  <th>  F-statistic:       </th> <td>   160.5</td> \n",
       "</tr>\n",
       "<tr>\n",
       "  <th>Date:</th>             <td>Wed, 11 Mar 2020</td> <th>  Prob (F-statistic):</th> <td>1.28e-93</td> \n",
       "</tr>\n",
       "<tr>\n",
       "  <th>Time:</th>                 <td>11:06:12</td>     <th>  Log-Likelihood:    </th> <td> -8896.9</td> \n",
       "</tr>\n",
       "<tr>\n",
       "  <th>No. Observations:</th>      <td>   410</td>      <th>  AIC:               </th> <td>1.781e+04</td>\n",
       "</tr>\n",
       "<tr>\n",
       "  <th>Df Residuals:</th>          <td>   404</td>      <th>  BIC:               </th> <td>1.783e+04</td>\n",
       "</tr>\n",
       "<tr>\n",
       "  <th>Df Model:</th>              <td>     5</td>      <th>                     </th>     <td> </td>    \n",
       "</tr>\n",
       "<tr>\n",
       "  <th>Covariance Type:</th>      <td>nonrobust</td>    <th>                     </th>     <td> </td>    \n",
       "</tr>\n",
       "</table>\n",
       "<table class=\"simpletable\">\n",
       "<tr>\n",
       "                       <td></td>                         <th>coef</th>     <th>std err</th>      <th>t</th>      <th>P>|t|</th>  <th>[0.025</th>    <th>0.975]</th>  \n",
       "</tr>\n",
       "<tr>\n",
       "  <th>const</th>                                      <td> 2.001e+08</td> <td> 3.22e+08</td> <td>    0.621</td> <td> 0.535</td> <td>-4.34e+08</td> <td> 8.34e+08</td>\n",
       "</tr>\n",
       "<tr>\n",
       "  <th>ChangeSalesRec</th>                             <td>   -0.1056</td> <td>    0.032</td> <td>   -3.297</td> <td> 0.001</td> <td>   -0.169</td> <td>   -0.043</td>\n",
       "</tr>\n",
       "<tr>\n",
       "  <th>LogPPE</th>                                     <td>-7.118e+07</td> <td> 2.67e+07</td> <td>   -2.663</td> <td> 0.008</td> <td>-1.24e+08</td> <td>-1.86e+07</td>\n",
       "</tr>\n",
       "<tr>\n",
       "  <th>LogRev</th>                                     <td> 5.242e+07</td> <td> 3.74e+07</td> <td>    1.403</td> <td> 0.161</td> <td> -2.1e+07</td> <td> 1.26e+08</td>\n",
       "</tr>\n",
       "<tr>\n",
       "  <th>NetCashProvidedByUsedInOperatingActivities</th> <td>   -0.5595</td> <td>    0.023</td> <td>  -23.931</td> <td> 0.000</td> <td>   -0.605</td> <td>   -0.514</td>\n",
       "</tr>\n",
       "<tr>\n",
       "  <th>LogAssets</th>                                  <td>-5.447e+04</td> <td> 4.36e+07</td> <td>   -0.001</td> <td> 0.999</td> <td>-8.59e+07</td> <td> 8.58e+07</td>\n",
       "</tr>\n",
       "</table>\n",
       "<table class=\"simpletable\">\n",
       "<tr>\n",
       "  <th>Omnibus:</th>       <td>636.454</td> <th>  Durbin-Watson:     </th>  <td>   1.728</td> \n",
       "</tr>\n",
       "<tr>\n",
       "  <th>Prob(Omnibus):</th> <td> 0.000</td>  <th>  Jarque-Bera (JB):  </th> <td>274762.673</td>\n",
       "</tr>\n",
       "<tr>\n",
       "  <th>Skew:</th>          <td>-8.123</td>  <th>  Prob(JB):          </th>  <td>    0.00</td> \n",
       "</tr>\n",
       "<tr>\n",
       "  <th>Kurtosis:</th>      <td>128.776</td> <th>  Cond. No.          </th>  <td>1.60e+10</td> \n",
       "</tr>\n",
       "</table><br/><br/>Warnings:<br/>[1] Standard Errors assume that the covariance matrix of the errors is correctly specified.<br/>[2] The condition number is large, 1.6e+10. This might indicate that there are<br/>strong multicollinearity or other numerical problems."
      ],
      "text/plain": [
       "<class 'statsmodels.iolib.summary.Summary'>\n",
       "\"\"\"\n",
       "                            OLS Regression Results                            \n",
       "==============================================================================\n",
       "Dep. Variable:       TotalNetAccruals   R-squared:                       0.665\n",
       "Model:                            OLS   Adj. R-squared:                  0.661\n",
       "Method:                 Least Squares   F-statistic:                     160.5\n",
       "Date:                Wed, 11 Mar 2020   Prob (F-statistic):           1.28e-93\n",
       "Time:                        11:06:12   Log-Likelihood:                -8896.9\n",
       "No. Observations:                 410   AIC:                         1.781e+04\n",
       "Df Residuals:                     404   BIC:                         1.783e+04\n",
       "Df Model:                           5                                         \n",
       "Covariance Type:            nonrobust                                         \n",
       "==============================================================================================================\n",
       "                                                 coef    std err          t      P>|t|      [0.025      0.975]\n",
       "--------------------------------------------------------------------------------------------------------------\n",
       "const                                       2.001e+08   3.22e+08      0.621      0.535   -4.34e+08    8.34e+08\n",
       "ChangeSalesRec                                -0.1056      0.032     -3.297      0.001      -0.169      -0.043\n",
       "LogPPE                                     -7.118e+07   2.67e+07     -2.663      0.008   -1.24e+08   -1.86e+07\n",
       "LogRev                                      5.242e+07   3.74e+07      1.403      0.161    -2.1e+07    1.26e+08\n",
       "NetCashProvidedByUsedInOperatingActivities    -0.5595      0.023    -23.931      0.000      -0.605      -0.514\n",
       "LogAssets                                  -5.447e+04   4.36e+07     -0.001      0.999   -8.59e+07    8.58e+07\n",
       "==============================================================================\n",
       "Omnibus:                      636.454   Durbin-Watson:                   1.728\n",
       "Prob(Omnibus):                  0.000   Jarque-Bera (JB):           274762.673\n",
       "Skew:                          -8.123   Prob(JB):                         0.00\n",
       "Kurtosis:                     128.776   Cond. No.                     1.60e+10\n",
       "==============================================================================\n",
       "\n",
       "Warnings:\n",
       "[1] Standard Errors assume that the covariance matrix of the errors is correctly specified.\n",
       "[2] The condition number is large, 1.6e+10. This might indicate that there are\n",
       "strong multicollinearity or other numerical problems.\n",
       "\"\"\""
      ]
     },
     "execution_count": 878,
     "metadata": {},
     "output_type": "execute_result"
    }
   ],
   "source": [
    "##stats model for linear interpretation\n",
    "model_accruals = linear_model.LinearRegression(fit_intercept = True)\n",
    "TotalNetAccruals = df['TotalNetAccruals']\n",
    "x = df[features]\n",
    "x_constant = sm.add_constant(x)\n",
    "model_accruals = sm.OLS(TotalNetAccruals, x_constant).fit()\n",
    "model_accruals.summary()"
   ]
  },
  {
   "cell_type": "markdown",
   "metadata": {},
   "source": [
    "### Results\n",
    "I created the regression model based off the 2016 We trained this model to find a goodness of fit and coefficients to show the relationships between total accruals to the 5 variables used in both models. \n",
    "\n",
    "2016 actual model analysis: We use a Regression Analysis to see how closley related independent variables are to dependent variables. \"The result of pulling discretionary accrual amounts from the total accrual amount is a metric that reflects accruals that are due to management's choices alone; in other words, there appears to be no business reason for these accruals. So, discretionary accruals are a better proxy for earnings quality.\" We want to predict total net accruals(non discretionary) for companies based off certain independent variables. To estimate non discretionary accrual amounts, we use a time series analysis. We look at data over a period of time. This model is created based off the 2016 period and the lagged variables are the prior period. An error term is a variable that shows a misrepresentation in the relationship between the independent and dependent variable. An error term in this case is represeneted by discretionary accruals. The higher the discretionary accruals the lower the quality of earnings. Inputs Variables: Dependent Variables: Total NET ACCRUALS The Dependent variable is the variable that is being tested. We are creating our model based of 410 observations in 2016 Independent Variables: ChangeinSalesRecLog, LogPPE, LogRev, NetCashPresent, LogAssets\n",
    "\n",
    "As you can see from above we use lag variables to find the prior year assets\n",
    "\n",
    "Created a regression model to test total net accruals, based off 4 variables; ChangeinSalesRecLog, LogPPE, LogRev,  NetCashPresent, LogAssets. We want to use this model to predict total net accruals for firms and check the error rate to see managements decisions on accruals. The adjusted R squared value in this model is .665. R squared is the fraction of variation in your predicted variable in relation to your independent variable. That means that the closer the model is to 100%, explains that all the variablity is around the average. Based off these 410 observations, the model shows that 66.5 percent of the variance data is explained by this model . As you see from, the predictions based off the model shows that the predicted total net accruals are closley related to the actual net accruals. Regression coefficients represents the mean change in the response variable for one unit of change in the independent variable. Net Cash has a coefficient of -0.5595, which indicates that for every additional net cash operating you can expect Total Net Accruals log to decrease by an average of .56 dollars.\n"
   ]
  },
  {
   "cell_type": "markdown",
   "metadata": {},
   "source": [
    "### Goodness of Fit:\n",
    "\n",
    "As you can see from the r squared, of .665, that the explained variation/total variation is approx 66.50 percent. The actual model had 410 observations, which could be an explanation behind the 66.50 r squared value. The closer to 100%, the less variation in the model. As you can see from the predicted observations from above, I compared the first 4 of the predicted observations to the actual observations to see the realibility of the model. The first 4 predicted net accrual amount are:\n",
    "\n",
    "You can see there are variations between the predicted observations and actual observations, but thats due to the fact that the model only explains 66.50% of the variations.\n",
    "\n",
    "The first observation that I found is the return on assets coefficient value. To get a better r squared value, I did different variations of the jones model and I dropped the ones with the lowest coeficients. Return on assets is a f/s ratio that I used in the model that I dropped due to the lack of predictive power. I initially added ROA as a component of the modified jones model but I ended up dropping this. \n",
    "\n",
    "The second observation that I found is the signifcance of the p values in both models. The higher the p value, represents the changes in the predictor is not responsive. The common alpha value is .05 and if it is greater than .05 indicates that the variable is not statistically significant. A predictor that has a low p value represents greater responsivness between changes in the tested variable. All variables, but LogRev and Log Assets showed perfect responsivness to total accruals and should be used predict the model. If given more time I would love to test depreciation expense, gains and losses from disp of assets, and retirement expense\n",
    "\n",
    "Based off the p values and the change in r squared I decided to not make any changes to the model for further testing, due to time constraints. Assets and Revenue could be dropped, but I want keep them as they are part of the modifications to the basic jones model. I will test total net accruals based off the variables that have low p values. If given more time, I would test depreciation and gains and losses to see its affect on Total Net Accruals.The model is going to be used to test future net accruals in the 2017 quarter 3 periods. We are going to look at if the predicted values are too high, too low, or equal to the actual observations."
   ]
  },
  {
   "cell_type": "code",
   "execution_count": 879,
   "metadata": {},
   "outputs": [],
   "source": [
    "\n",
    "def plot_predictions(model_name, y_train_pred ,y_train_actual):\n",
    "    '''\n",
    "    This function plots the model of choirce trained predictions vs actual. This is a good way to see the line of\n",
    "    best fit. Also takes the axises and makes them in non scientific form. Paramets y_train predictions and y _train\n",
    "    actual and the model object\n",
    "    '''\n",
    "    plt.figure(figsize= (12,12))\n",
    "    plt.scatter(y_train_actual, y_train_pred, c = \"blue\", marker = \"s\", label = \"Testing Data\")\n",
    "    plt.title(\"Predicted vs Actual Accruals\", fontsize = 24)\n",
    "    plt.xlabel(\"$\\hat{y}$ = Actual Total Accruals($)\", fontsize = 20)\n",
    "    plt.ylabel(\"$y$ = Predicted Accruals($)\", fontsize = 20)\n",
    "    plt.legend(loc = \"upper left\")\n",
    "    plt.gcf().axes[0].yaxis.get_major_formatter().set_scientific(False)\n",
    "    plt.gcf().axes[0].xaxis.get_major_formatter().set_scientific(False)\n",
    "    plt.plot([y_train_actual.min(), y_train_actual.max()], [y_train_actual.min(), y_train_actual.max()], c='red')\n",
    "    plt.tight_layout()"
   ]
  },
  {
   "cell_type": "code",
   "execution_count": 880,
   "metadata": {},
   "outputs": [
    {
     "data": {
      "image/png": "[encoded data removed]",
      "text/plain": [
       "<Figure size 864x864 with 1 Axes>"
      ]
     },
     "metadata": {
      "needs_background": "light"
     },
     "output_type": "display_data"
    }
   ],
   "source": [
    "##call plot predictions\n",
    "plot_predictions(lr,pred_test, y_test)"
   ]
  },
  {
   "cell_type": "markdown",
   "metadata": {},
   "source": [
    "#### Analysis of Actual vs Predicted\n",
    "\n",
    "The graph shows that many of the values are represented by the line of best fit(actual = predicted). One observation we made from this graph is that the model is unable to predict at higher accrual values. This could be due to the fact that we dont have a good sense of non cash activites and doesnt take into account changing GAAP laws. Those high earning companies could also be taking part into aggressive earnings management and our model is only capturing those smaller companies who are not. Our audit team does not want to remove outliers as we want to keep the full score of the data"
   ]
  },
  {
   "cell_type": "code",
   "execution_count": 883,
   "metadata": {},
   "outputs": [],
   "source": [
    "##calculate residuals\n",
    "residuals_1 = (y_test)- (pred_test)"
   ]
  },
  {
   "cell_type": "code",
   "execution_count": 884,
   "metadata": {},
   "outputs": [
    {
     "data": {
      "text/plain": [
       "Text(0.5, 1.0, 'Model 1 Residuals by Total Accruals')"
      ]
     },
     "execution_count": 884,
     "metadata": {},
     "output_type": "execute_result"
    },
    {
     "data": {
      "image/png": "[encoded data removed]",
      "text/plain": [
       "<Figure size 432x288 with 1 Axes>"
      ]
     },
     "metadata": {
      "needs_background": "light"
     },
     "output_type": "display_data"
    }
   ],
   "source": [
    "##create residual plot\n",
    "plt.scatter(range(len(residuals_1)), residuals_1)\n",
    "plt.axhline(0,color = 'red')\n",
    "plt.xlabel(\"Index of Residuals\", fontsize = 20)\n",
    "plt.ylabel(\"Residuals($): $y$\", fontsize = 20)\n",
    "plt.gcf().axes[0].yaxis.get_major_formatter().set_scientific(False)\n",
    "plt.title('Model 1 Residuals by Total Accruals', fontsize = 24)"
   ]
  },
  {
   "cell_type": "markdown",
   "metadata": {},
   "source": [
    "#### Residual Plot\n",
    "\n",
    "In this plot each point is predicted accruals where the prediction made by the model is on the x-axis, and the accuracy of the prediction is on the y-axis. The distance from the line at 0 is how bad the prediction was for that value. Residuals is derived by taking the observed minus predicted. This confirms that there is more variability at super low and high accrual values. This model could be better at predicting extremes with more non cash activities. If we had more time, we would extract each company by industry and see how well the model performs on each industry"
   ]
  },
  {
   "cell_type": "markdown",
   "metadata": {},
   "source": [
    "### Linear Model: Validate Predictions on 2017 Q3 DataSet\n"
   ]
  },
  {
   "cell_type": "markdown",
   "metadata": {},
   "source": [
    "Do the same as the training set to validation set"
   ]
  },
  {
   "cell_type": "code",
   "execution_count": 885,
   "metadata": {},
   "outputs": [],
   "source": [
    "##pandas read function\n",
    "num4 =  pd.read_csv('./data/2017q3/num.txt', sep = '\\t', encoding=\"latin-1\")\n",
    "tag4 =  pd.read_csv('./data/2017q3/tag.txt', sep = '\\t', encoding=\"latin-1\")\n",
    "pre4 =  pd.read_csv('./data/2017q3/pre.txt', sep = '\\t', encoding=\"latin-1\")\n",
    "sub4 =  pd.read_csv('./data/2017q3/sub.txt', sep = '\\t', encoding=\"latin-1\")"
   ]
  },
  {
   "cell_type": "markdown",
   "metadata": {},
   "source": [
    "Merge on same unique identifiers"
   ]
  },
  {
   "cell_type": "code",
   "execution_count": 886,
   "metadata": {},
   "outputs": [],
   "source": [
    "##pandas merge function\n",
    "firstmerge4 = pd.merge(pre4, sub4, how = \"left\", on=['adsh'])   #left merge\n",
    "secondmerge4 = pd.merge(firstmerge4, tag4, how= \"inner\", on =['tag', 'version'])\n",
    "thirdmerge4 = pd.merge(secondmerge4, num4, how = \"inner\", on =['adsh', 'tag', 'version'])\n",
    "sec_data2017 = thirdmerge4[['cik','adsh' , 'afs' , 'qtrs' , 'fy' , 'fp', 'tag', 'version', 'value' , 'ddate']].sort_values(['cik'])"
   ]
  },
  {
   "cell_type": "markdown",
   "metadata": {},
   "source": [
    "Call get tags function created earlier. Great function for generalization"
   ]
  },
  {
   "cell_type": "code",
   "execution_count": 887,
   "metadata": {},
   "outputs": [],
   "source": [
    "##call get_tags function\n",
    "Regression_2017 = get_tags(sec_data2017,'NetIncomeLoss','NetCashProvidedByUsedInOperatingActivities','SalesRevenueNet','Assets',\n",
    "'AccountsReceivableNetCurrent','PropertyPlantAndEquipmentNet')"
   ]
  },
  {
   "cell_type": "markdown",
   "metadata": {},
   "source": [
    "Call Engineer Function to filter out by 3q"
   ]
  },
  {
   "cell_type": "code",
   "execution_count": 888,
   "metadata": {},
   "outputs": [],
   "source": [
    "##calls engineer tags\n",
    "Regression_Q317 = engineer_tags(Regression_2017, 20170630, 20160630)"
   ]
  },
  {
   "cell_type": "markdown",
   "metadata": {},
   "source": [
    "Make sure to log all features like training set"
   ]
  },
  {
   "cell_type": "code",
   "execution_count": 889,
   "metadata": {},
   "outputs": [
    {
     "data": {
      "image/png": "[encoded data removed]",
      "text/plain": [
       "<Figure size 432x288 with 1 Axes>"
      ]
     },
     "metadata": {
      "needs_background": "light"
     },
     "output_type": "display_data"
    }
   ],
   "source": [
    "##calls log numeric column\n",
    "log_numeric_column(Regression_Q317, \"TotalNetAccruals\", 'TotalAccrualslog', \n",
    "                   \"Log Distribution of Total Accruals\", \"Log Accruals($)\")"
   ]
  },
  {
   "cell_type": "markdown",
   "metadata": {},
   "source": [
    "Logging Accruals did not do anything to validation set"
   ]
  },
  {
   "cell_type": "code",
   "execution_count": 890,
   "metadata": {},
   "outputs": [
    {
     "data": {
      "image/png": "[encoded data removed]",
      "text/plain": [
       "<Figure size 432x288 with 1 Axes>"
      ]
     },
     "metadata": {
      "needs_background": "light"
     },
     "output_type": "display_data"
    }
   ],
   "source": [
    "##calls log numeric column\n",
    "log_numeric_column(Regression_Q317, 'ChangeSalesRec', 'ChangeInSalesRecLog', \n",
    "                   \"Log Distribution of Change in Sales Rec\", \"Log ChangeSalesRec($)\")"
   ]
  },
  {
   "cell_type": "markdown",
   "metadata": {},
   "source": [
    "Logging change in Sales to recievables did not do anything to validation set"
   ]
  },
  {
   "cell_type": "code",
   "execution_count": 891,
   "metadata": {},
   "outputs": [
    {
     "data": {
      "image/png": "[encoded data removed]",
      "text/plain": [
       "<Figure size 432x288 with 1 Axes>"
      ]
     },
     "metadata": {
      "needs_background": "light"
     },
     "output_type": "display_data"
    }
   ],
   "source": [
    "##calls log numeric column\n",
    "log_numeric_column(Regression_Q317, 'PropertyPlantAndEquipmentNet', 'LogPPE', \n",
    "                   \"Log Distribution of Book Value of PPE\", \"Log PPE($)\")"
   ]
  },
  {
   "cell_type": "code",
   "execution_count": 892,
   "metadata": {},
   "outputs": [
    {
     "data": {
      "image/png": "[encoded data removed]",
      "text/plain": [
       "<Figure size 432x288 with 1 Axes>"
      ]
     },
     "metadata": {
      "needs_background": "light"
     },
     "output_type": "display_data"
    }
   ],
   "source": [
    "##calls log numeric column\n",
    "log_numeric_column(Regression_Q317, 'NetIncomeLoss', 'LogNetIncome', \n",
    "                   \"Log Distribution of NetIncome\" , \"Log NetIncome($)\")"
   ]
  },
  {
   "cell_type": "markdown",
   "metadata": {},
   "source": [
    "Logging change in Net Income did not do anything to validation set"
   ]
  },
  {
   "cell_type": "code",
   "execution_count": 893,
   "metadata": {},
   "outputs": [
    {
     "data": {
      "image/png": "[encoded data removed]",
      "text/plain": [
       "<Figure size 432x288 with 1 Axes>"
      ]
     },
     "metadata": {
      "needs_background": "light"
     },
     "output_type": "display_data"
    }
   ],
   "source": [
    "##calls log numeric column\n",
    "log_numeric_column(Regression_Q317, 'NetCashProvidedByUsedInOperatingActivities', 'LogNetCash', \n",
    "                   \"Log Distribution of NetCash\" , \"Log NetCash($)\")"
   ]
  },
  {
   "cell_type": "code",
   "execution_count": 894,
   "metadata": {},
   "outputs": [
    {
     "data": {
      "image/png": "[encoded data removed]",
      "text/plain": [
       "<Figure size 432x288 with 1 Axes>"
      ]
     },
     "metadata": {
      "needs_background": "light"
     },
     "output_type": "display_data"
    }
   ],
   "source": [
    "log_numeric_column(Regression_Q317, 'Assets', 'LogAssets', \n",
    "                   \"Log Distribution of Assets\" , \"Log Assets($)\")"
   ]
  },
  {
   "cell_type": "code",
   "execution_count": 895,
   "metadata": {},
   "outputs": [
    {
     "data": {
      "image/png": "[encoded data removed]",
      "text/plain": [
       "<Figure size 432x288 with 1 Axes>"
      ]
     },
     "metadata": {
      "needs_background": "light"
     },
     "output_type": "display_data"
    }
   ],
   "source": [
    "log_numeric_column(Regression_Q317, 'SalesRevenueNet', 'LogRev', \n",
    "                   \"Log Distribution of NetRev\" , \"Log NetRev($)\")"
   ]
  },
  {
   "cell_type": "markdown",
   "metadata": {},
   "source": [
    "Normalize Distribution of X Variables"
   ]
  },
  {
   "cell_type": "markdown",
   "metadata": {},
   "source": [
    "Make sure to create poly features just like training set."
   ]
  },
  {
   "cell_type": "code",
   "execution_count": 896,
   "metadata": {},
   "outputs": [],
   "source": [
    "##features list\n",
    "features = ['ChangeSalesRec', 'LogPPE', \"LogRev\", 'NetCashProvidedByUsedInOperatingActivities', \n",
    "            'LogAssets']"
   ]
  },
  {
   "cell_type": "code",
   "execution_count": 897,
   "metadata": {},
   "outputs": [],
   "source": [
    "##call polynomial features\n",
    "poly = PolynomialFeatures(include_bias=False)"
   ]
  },
  {
   "cell_type": "code",
   "execution_count": 898,
   "metadata": {},
   "outputs": [],
   "source": [
    "##fit transform\n",
    "X_poly = poly.fit_transform(Regression_Q317[features])"
   ]
  },
  {
   "cell_type": "code",
   "execution_count": 899,
   "metadata": {},
   "outputs": [],
   "source": [
    "##call pandas df\n",
    "df_poly_17 = pd.DataFrame(X_poly, columns=poly.get_feature_names(features))"
   ]
  },
  {
   "cell_type": "markdown",
   "metadata": {},
   "source": [
    "Use the linear model to predict total accruals on validation set"
   ]
  },
  {
   "cell_type": "code",
   "execution_count": 900,
   "metadata": {},
   "outputs": [],
   "source": [
    "##call model.predict\n",
    "linear_val= lr.predict((df_poly_17))\n",
    "\n"
   ]
  },
  {
   "cell_type": "markdown",
   "metadata": {},
   "source": [
    "Create Data frame of variance, expected average, and predicted accruals vs actual accruals"
   ]
  },
  {
   "cell_type": "code",
   "execution_count": 906,
   "metadata": {},
   "outputs": [
    {
     "data": {
      "text/html": [
       "<div>\n",
       "<style scoped>\n",
       "    .dataframe tbody tr th:only-of-type {\n",
       "        vertical-align: middle;\n",
       "    }\n",
       "\n",
       "    .dataframe tbody tr th {\n",
       "        vertical-align: top;\n",
       "    }\n",
       "\n",
       "    .dataframe thead th {\n",
       "        text-align: right;\n",
       "    }\n",
       "</style>\n",
       "<table border=\"1\" class=\"dataframe\">\n",
       "  <thead>\n",
       "    <tr style=\"text-align: right;\">\n",
       "      <th></th>\n",
       "      <th>Predicted2017Q3Accruals</th>\n",
       "      <th>TotalAccruals</th>\n",
       "      <th>Variance</th>\n",
       "      <th>ExpectedAverage(%)</th>\n",
       "    </tr>\n",
       "  </thead>\n",
       "  <tbody>\n",
       "    <tr>\n",
       "      <th>5</th>\n",
       "      <td>-6661052835.724</td>\n",
       "      <td>-3982500000.000</td>\n",
       "      <td>-2678552835.724</td>\n",
       "      <td>40.212</td>\n",
       "    </tr>\n",
       "    <tr>\n",
       "      <th>6</th>\n",
       "      <td>-401833321.048</td>\n",
       "      <td>-147446000.000</td>\n",
       "      <td>-254387321.048</td>\n",
       "      <td>63.307</td>\n",
       "    </tr>\n",
       "    <tr>\n",
       "      <th>10</th>\n",
       "      <td>-6556715.466</td>\n",
       "      <td>219016500.000</td>\n",
       "      <td>-225573215.466</td>\n",
       "      <td>3440.339</td>\n",
       "    </tr>\n",
       "    <tr>\n",
       "      <th>22</th>\n",
       "      <td>-68519279.373</td>\n",
       "      <td>119450000.000</td>\n",
       "      <td>-187969279.373</td>\n",
       "      <td>274.330</td>\n",
       "    </tr>\n",
       "    <tr>\n",
       "      <th>0</th>\n",
       "      <td>-1291937162.651</td>\n",
       "      <td>-1126300000.000</td>\n",
       "      <td>-165637162.651</td>\n",
       "      <td>12.821</td>\n",
       "    </tr>\n",
       "  </tbody>\n",
       "</table>\n",
       "</div>"
      ],
      "text/plain": [
       "    Predicted2017Q3Accruals   TotalAccruals        Variance  \\\n",
       "5           -6661052835.724 -3982500000.000 -2678552835.724   \n",
       "6            -401833321.048  -147446000.000  -254387321.048   \n",
       "10             -6556715.466   219016500.000  -225573215.466   \n",
       "22            -68519279.373   119450000.000  -187969279.373   \n",
       "0           -1291937162.651 -1126300000.000  -165637162.651   \n",
       "\n",
       "    ExpectedAverage(%)  \n",
       "5               40.212  \n",
       "6               63.307  \n",
       "10            3440.339  \n",
       "22             274.330  \n",
       "0               12.821  "
      ]
     },
     "execution_count": 906,
     "metadata": {},
     "output_type": "execute_result"
    }
   ],
   "source": [
    "##create data frame for accruals\n",
    "df_linear_bag = pd.DataFrame(linear_val, columns = ['Predicted2017Q3Accruals'])\n",
    "df_linear_bag['TotalAccruals'] = list(Regression_Q317['TotalNetAccruals'])\n",
    "df_linear_bag['Variance'] = df_linear_bag['Predicted2017Q3Accruals'] - df_linear_bag['TotalAccruals']\n",
    "df_linear_bag['ExpectedAverage(%)'] = df_linear_bag['Variance']/ df_linear_bag['Predicted2017Q3Accruals']  * 100\n",
    "df_linear_bag = df_linear_bag.sort_values(by = 'Variance', ascending = True)\n",
    "df_liner_bag = pd.set_option('display.float_format', lambda x: '%.3f' % x)\n",
    "df_linear_bag.head()"
   ]
  },
  {
   "cell_type": "code",
   "execution_count": 907,
   "metadata": {},
   "outputs": [
    {
     "name": "stdout",
     "output_type": "stream",
     "text": [
      "Percentages lower than -40% of the data 10\n"
     ]
    }
   ],
   "source": [
    "##find high variance\n",
    "high_variance = df_linear_bag[(df_linear_bag['ExpectedAverage(%)'] < -40)]\n",
    "print('Percentages lower than -40% of the data' , len(high_variance))"
   ]
  },
  {
   "cell_type": "markdown",
   "metadata": {},
   "source": [
    "See which values were greater than the actual"
   ]
  },
  {
   "cell_type": "code",
   "execution_count": 908,
   "metadata": {},
   "outputs": [
    {
     "data": {
      "text/html": [
       "<div>\n",
       "<style scoped>\n",
       "    .dataframe tbody tr th:only-of-type {\n",
       "        vertical-align: middle;\n",
       "    }\n",
       "\n",
       "    .dataframe tbody tr th {\n",
       "        vertical-align: top;\n",
       "    }\n",
       "\n",
       "    .dataframe thead th {\n",
       "        text-align: right;\n",
       "    }\n",
       "</style>\n",
       "<table border=\"1\" class=\"dataframe\">\n",
       "  <thead>\n",
       "    <tr style=\"text-align: right;\">\n",
       "      <th></th>\n",
       "      <th>Predicted2017Q3Accruals</th>\n",
       "      <th>TotalAccruals</th>\n",
       "      <th>Variance</th>\n",
       "      <th>ExpectedAverage(%)</th>\n",
       "    </tr>\n",
       "  </thead>\n",
       "  <tbody>\n",
       "    <tr>\n",
       "      <th>38</th>\n",
       "      <td>-6448664.674</td>\n",
       "      <td>-7408000.000</td>\n",
       "      <td>959335.326</td>\n",
       "      <td>-14.876</td>\n",
       "    </tr>\n",
       "    <tr>\n",
       "      <th>44</th>\n",
       "      <td>-9359850.107</td>\n",
       "      <td>-10553000.000</td>\n",
       "      <td>1193149.893</td>\n",
       "      <td>-12.748</td>\n",
       "    </tr>\n",
       "    <tr>\n",
       "      <th>41</th>\n",
       "      <td>7545318.390</td>\n",
       "      <td>3124964.000</td>\n",
       "      <td>4420354.390</td>\n",
       "      <td>58.584</td>\n",
       "    </tr>\n",
       "    <tr>\n",
       "      <th>28</th>\n",
       "      <td>11488008.327</td>\n",
       "      <td>5966500.000</td>\n",
       "      <td>5521508.327</td>\n",
       "      <td>48.063</td>\n",
       "    </tr>\n",
       "    <tr>\n",
       "      <th>34</th>\n",
       "      <td>-214254646.323</td>\n",
       "      <td>-221719000.000</td>\n",
       "      <td>7464353.677</td>\n",
       "      <td>-3.484</td>\n",
       "    </tr>\n",
       "  </tbody>\n",
       "</table>\n",
       "</div>"
      ],
      "text/plain": [
       "    Predicted2017Q3Accruals  TotalAccruals    Variance  ExpectedAverage(%)\n",
       "38             -6448664.674   -7408000.000  959335.326             -14.876\n",
       "44             -9359850.107  -10553000.000 1193149.893             -12.748\n",
       "41              7545318.390    3124964.000 4420354.390              58.584\n",
       "28             11488008.327    5966500.000 5521508.327              48.063\n",
       "34           -214254646.323 -221719000.000 7464353.677              -3.484"
      ]
     },
     "execution_count": 908,
     "metadata": {},
     "output_type": "execute_result"
    }
   ],
   "source": [
    "##filter high amount\n",
    "high_amount = df_linear_bag[(df_linear_bag['Variance'] > 0)]\n",
    "high_amount.head()"
   ]
  },
  {
   "cell_type": "markdown",
   "metadata": {},
   "source": [
    "See which values are lower than the actual"
   ]
  },
  {
   "cell_type": "code",
   "execution_count": 909,
   "metadata": {},
   "outputs": [
    {
     "data": {
      "text/html": [
       "<div>\n",
       "<style scoped>\n",
       "    .dataframe tbody tr th:only-of-type {\n",
       "        vertical-align: middle;\n",
       "    }\n",
       "\n",
       "    .dataframe tbody tr th {\n",
       "        vertical-align: top;\n",
       "    }\n",
       "\n",
       "    .dataframe thead th {\n",
       "        text-align: right;\n",
       "    }\n",
       "</style>\n",
       "<table border=\"1\" class=\"dataframe\">\n",
       "  <thead>\n",
       "    <tr style=\"text-align: right;\">\n",
       "      <th></th>\n",
       "      <th>Predicted2017Q3Accruals</th>\n",
       "      <th>TotalAccruals</th>\n",
       "      <th>Variance</th>\n",
       "      <th>ExpectedAverage(%)</th>\n",
       "    </tr>\n",
       "  </thead>\n",
       "  <tbody>\n",
       "    <tr>\n",
       "      <th>5</th>\n",
       "      <td>-6661052835.724</td>\n",
       "      <td>-3982500000.000</td>\n",
       "      <td>-2678552835.724</td>\n",
       "      <td>40.212</td>\n",
       "    </tr>\n",
       "    <tr>\n",
       "      <th>6</th>\n",
       "      <td>-401833321.048</td>\n",
       "      <td>-147446000.000</td>\n",
       "      <td>-254387321.048</td>\n",
       "      <td>63.307</td>\n",
       "    </tr>\n",
       "    <tr>\n",
       "      <th>10</th>\n",
       "      <td>-6556715.466</td>\n",
       "      <td>219016500.000</td>\n",
       "      <td>-225573215.466</td>\n",
       "      <td>3440.339</td>\n",
       "    </tr>\n",
       "    <tr>\n",
       "      <th>22</th>\n",
       "      <td>-68519279.373</td>\n",
       "      <td>119450000.000</td>\n",
       "      <td>-187969279.373</td>\n",
       "      <td>274.330</td>\n",
       "    </tr>\n",
       "    <tr>\n",
       "      <th>0</th>\n",
       "      <td>-1291937162.651</td>\n",
       "      <td>-1126300000.000</td>\n",
       "      <td>-165637162.651</td>\n",
       "      <td>12.821</td>\n",
       "    </tr>\n",
       "  </tbody>\n",
       "</table>\n",
       "</div>"
      ],
      "text/plain": [
       "    Predicted2017Q3Accruals   TotalAccruals        Variance  \\\n",
       "5           -6661052835.724 -3982500000.000 -2678552835.724   \n",
       "6            -401833321.048  -147446000.000  -254387321.048   \n",
       "10             -6556715.466   219016500.000  -225573215.466   \n",
       "22            -68519279.373   119450000.000  -187969279.373   \n",
       "0           -1291937162.651 -1126300000.000  -165637162.651   \n",
       "\n",
       "    ExpectedAverage(%)  \n",
       "5               40.212  \n",
       "6               63.307  \n",
       "10            3440.339  \n",
       "22             274.330  \n",
       "0               12.821  "
      ]
     },
     "execution_count": 909,
     "metadata": {},
     "output_type": "execute_result"
    }
   ],
   "source": [
    "##filter low amount\n",
    "low_amount = df_linear_bag[(df_linear_bag['Variance'] < 0)]\n",
    "low_amount.head()"
   ]
  },
  {
   "cell_type": "code",
   "execution_count": 910,
   "metadata": {},
   "outputs": [],
   "source": [
    "##filter by exact amount\n",
    "exact_amount = df_linear_bag[(df_linear_bag['Variance'] == 0)]"
   ]
  },
  {
   "cell_type": "markdown",
   "metadata": {},
   "source": [
    "We did not predict one company correctly. We are in the ballpark for some companies. The purpose of audits is to provide reasonable assurance that companies are stating its accruals with the fair representation of its financial statements."
   ]
  },
  {
   "cell_type": "markdown",
   "metadata": {},
   "source": [
    "We took the percentage of the varaince over the actual amounts to compare and see how close the percentage change is to 0. I took -40% as a threshold to see how many percentages fall below 40%. We found that 10 of the 54 of the observations fell below this threshold, which shows that over 85% of the data shows a high amount of variance. When there is a high level of variance in a model in the model, it shows that new variables should be implemented to better test total accruals. The validation set is great for explicitly showing the deployment of our model in the audit process. The fact that most values are within 6 figures shows that we can deploy our model for certain companies. I want to examine the 3 averages closer to 0 and the 3 averages farthest from 0 to see which types of companies are throwing off our model. "
   ]
  },
  {
   "cell_type": "markdown",
   "metadata": {},
   "source": [
    "## Conclusion\n",
    "In conclusion, the jones model is a way for companies to predict non discretionary accruals across firms using time series data. The basic theory of jones model(Change in sales + PPE) to predict accruals gave me such a low r2 that adding revenue, assets and present cash flow increased the explained variance of the data. The basic jones model does not cover certain non financing activites that have an huge impact on total accruals. To further my outside research, \"The inclusion of few factors such as revenue, depreciation expenses, retirement benefit expenses, asset disposal gains/losses with the modified model was very effective in detecting earning management\" . Due to time constraints, I made simple modifications by adding assets and revenue to the model but adding non cash activities would help improve the model drastically. Now that we have created generalized functions and complex models, we can make simple modifications to the cleaning and engineering of the data to deploy the modifications of the jones model. Being able to extract industry wide financial data, and predict future companys amounts based off multiple regression. We want to be able to find relationships between relationships, and create models to help conclude on hypothesis and test variables that are in interest of management. If we were to audit big companies, we could use financial data for individual customers to predict certain financial information based off prior data. Although, our model has a lot of variance, that comes to show that we have to continue to find new variables to test to find the least amount of variance. We can look at p values that are lower than .05 which will show the level of responsivness for certain variables. We saw, on average, that the change in revenues and change in accounts recievables have the biggest effect on the change in accruals. We see in many fraud cases, that trends in recievables and sales can be examined to see any overstatements in receivables and revenue. If given more time as our busy season is starting, we want to add non cash financing activites, like depreciation, as variables into the model to see if there is any relationship to accruals. Many companies have different ways to identify tags in the database, so it is useful to extract data from the sec taxonomy to see the most frequent tags used in the industry. This will allow us analysts to find more relationships in accruals across the industry. "
   ]
  },
  {
   "cell_type": "markdown",
   "metadata": {},
   "source": [
    "## Recommendations\n",
    "\n",
    "The Recommendations to improve the model is to add more non cash financing activities such as depreciation, ammortization, and ppe gains and losses. When fitting the model, we are using X features without taking into account GAAP laws and other factors that effect earnings managmenet. Predicting Accruals is a great way to get a deep understanding of what we can expect in the following year. Our audit team will use professional skepticsm in determining high volume accounts. We want to highlight what affects accruals, and how we can predict accruals in order to give a proper scope to our audit team. \"The inclusion of few factors such as revenue, depreciation expenses, retirement benefit expenses, asset disposal gains/losses with the modified model was very effective in detecting earning management in the context of Bangladesh.\" If our team had more time, we can substantially improve the model by adding non cash activities. The additional steps needed for this is to extract the custom tags and map them to the standard tags, to generalize the tagging process and then extract those tags to engineer features for the modified model. Change in Revenue to Recievables and PPE does not explain Total Accruals as much as non cash activites do in the context of earnings management."
   ]
  },
  {
   "cell_type": "markdown",
   "metadata": {},
   "source": [
    "## Refrences"
   ]
  },
  {
   "cell_type": "markdown",
   "metadata": {},
   "source": [
    "[Jones Formula](http://www.studyland.nl/materials/Pdf/EN%20Formulas%20Modified%20Jones%20Model.pdf)\n",
    "\n",
    "[Modification](https://www.researchgate.net/publication/228429634_Is_Modified_Jones_Model_Effective_in_Detecting_Earnings_Management_Evidence_from_A_Developing_Economy)\n",
    "\n",
    "[Accounting Reporting Association on Jones Model](http://lib.cufe.edu.cn/upload_files/other/4_20140516025030_9.pdf)"
   ]
  }
 ],
 "metadata": {
  "kernelspec": {
   "display_name": "Python 3",
   "language": "python",
   "name": "python3"
  },
  "language_info": {
   "codemirror_mode": {
    "name": "ipython",
    "version": 3
   },
   "file_extension": ".py",
   "mimetype": "text/x-python",
   "name": "python",
   "nbconvert_exporter": "python",
   "pygments_lexer": "ipython3",
   "version": "3.7.4"
  }
 },
 "nbformat": 4,
 "nbformat_minor": 2
}
